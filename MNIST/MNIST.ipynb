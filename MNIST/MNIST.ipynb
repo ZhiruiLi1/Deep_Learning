{
 "cells": [
  {
   "cell_type": "code",
   "execution_count": 1,
   "id": "fe300d5a",
   "metadata": {},
   "outputs": [],
   "source": [
    "from __future__ import absolute_import\n",
    "from matplotlib import pyplot as plt\n",
    "import numpy as np\n",
    "from preprocess import get_data"
   ]
  },
  {
   "cell_type": "code",
   "execution_count": 2,
   "id": "773b4242",
   "metadata": {},
   "outputs": [],
   "source": [
    "import gzip\n",
    "import numpy as np"
   ]
  },
  {
   "cell_type": "code",
   "execution_count": 3,
   "id": "d3959401",
   "metadata": {},
   "outputs": [],
   "source": [
    "def get_data(inputs_file_path, labels_file_path, num_examples):\n",
    "    \"\"\"\n",
    "    Takes in an inputs file path and labels file path, unzips both files, \n",
    "    normalizes the inputs, and returns (NumPy array of inputs, NumPy array of labels). \n",
    "    \n",
    "    Read the data of the file into a buffer and use \n",
    "    np.frombuffer to turn the data into a NumPy array. Keep in mind that \n",
    "    each file has a header of a certain size. This method should be called\n",
    "    within the main function of the model.py file to get BOTH the train and\n",
    "    test data. \n",
    "    \n",
    "    If you change this method and/or write up separate methods for \n",
    "    both train and test data, we will deduct points.\n",
    "    \n",
    "    :param inputs_file_path: file path for inputs, e.g. 'MNIST_data/t10k-images-idx3-ubyte.gz'\n",
    "    :param labels_file_path: file path for labels, e.g. 'MNIST_data/t10k-labels-idx1-ubyte.gz'\n",
    "    :param num_examples: used to read from the bytestream into a buffer. Rather \n",
    "    than hardcoding a number to read from the bytestream, keep in mind that each image\n",
    "    (example) is 28 * 28, with a header of a certain number.\n",
    "    :return: NumPy array of inputs (float32) and labels (uint8)\n",
    "    \"\"\"\n",
    "          \n",
    "    # TODO: Load inputs and labels\n",
    "    with gzip.GzipFile(filename = inputs_file_path) as b_inputs:\n",
    "        buffer = b_inputs.read(16) # ignore first 16 bits \n",
    "        inputs = np.frombuffer(b_inputs.read(num_examples * 28 * 28), dtype=np.uint8)\n",
    "        # inputs here is a huge row vector \n",
    "        inputs = inputs.reshape((num_examples, 28 * 28)) # reshape inputs to shape (num_examples, 28*28)\n",
    "         \n",
    "    \n",
    "    with gzip.GzipFile(filename = labels_file_path) as b_labels:\n",
    "        buffer = b_labels.read(8) # ignore first 8 bits \n",
    "        outputs = np.frombuffer(b_labels.read(num_examples), dtype=np.uint8)\n",
    "\n",
    "\n",
    "\n",
    "    # TODO: Normalize inputs\n",
    "    inputs = inputs / 255.\n",
    "    inputs = inputs.astype(np.float32)\n",
    "    \n",
    "    \n",
    "    return inputs, outputs"
   ]
  },
  {
   "cell_type": "code",
   "execution_count": 4,
   "id": "9c2fae60",
   "metadata": {},
   "outputs": [
    {
     "data": {
      "text/plain": [
       "5"
      ]
     },
     "execution_count": 4,
     "metadata": {},
     "output_type": "execute_result"
    }
   ],
   "source": [
    "a, b = get_data(\"/Users/justinli/Desktop/CSCI2470/homework1/hw1/code/data/train-images-idx3-ubyte.gz\", \n",
    "                \"/Users/justinli/Desktop/CSCI2470/homework1/hw1/code/data/train-labels-idx1-ubyte.gz\",\n",
    "                 10)\n",
    "b[0]"
   ]
  },
  {
   "cell_type": "code",
   "execution_count": 5,
   "id": "97c557b3",
   "metadata": {},
   "outputs": [],
   "source": [
    "class Model:\n",
    "    \"\"\"\n",
    "    This model class will contain the architecture for\n",
    "    your single layer Neural Network for classifying MNIST with \n",
    "    batched learning. Please implement the TODOs for the entire \n",
    "    model but do not change the method and constructor arguments. \n",
    "    Make sure that your Model class works with multiple batch \n",
    "    sizes. Additionally, please exclusively use NumPy and \n",
    "    Python built-in functions for your implementation.\n",
    "    \"\"\"\n",
    "\n",
    "    def __init__(self):\n",
    "        # TODO: Initialize all hyperparametrs\n",
    "        self.input_size = 784 # Size of image vectors\n",
    "        self.num_classes = 10 # Number of classes/possible labels\n",
    "        self.batch_size = 100\n",
    "        self.learning_rate = 0.5\n",
    "\n",
    "        # TODO: Initialize weights and biases\n",
    "        self.W = np.zeros((self.input_size, self.num_classes)) # size 784*10\n",
    "        self.b = np.zeros((1, self.num_classes)) # size 1 * 10\n",
    "    \n",
    "    def call(self, inputs):\n",
    "        \"\"\"\n",
    "        Does the forward pass on an batch of input images.\n",
    "        \n",
    "        :param inputs: normalized (0.0 to 1.0) batch of images,\n",
    "                       (batch_size x 784) (2D), where batch can be any number.\n",
    "        :return: probabilities for each class per image # (batch_size x 10)\n",
    "        \"\"\"\n",
    "        # TODO: Write the forward pass logic for your model\n",
    "        # TODO: Calculate, then return, the probability for each class per image using the Softmax equation\n",
    "\n",
    "        linear_layer = np.dot(inputs, self.W) + self.b # (100, 784) * (784, 10) + (1, 10); add bias to each row\n",
    "                                                       # final answer: (100,10)\n",
    "        \n",
    "        e_logit = np.exp(linear_layer) # numerator of softmax function # (100,10)\n",
    "        sum_e_logit = np.sum(e_logit, axis = 1, keepdims = True) # row sum; (1, 10)\n",
    "        probabilities = e_logit / sum_e_logit  # the final answer is a matrix (100,10)\n",
    "        # each input in the e_logit(which is wi * xi + bi) is divided by the row sum \n",
    "        # the calculation is between matrix (100, 10) and matrix (1, 10)\n",
    "        return probabilities # softmax probability (100, 10)\n",
    "    \n",
    "    def loss(self, probabilities, labels): \n",
    "        \"\"\"\n",
    "        Calculates the model cross-entropy loss after one forward pass.\n",
    "        Loss should be decreasing with every training loop (step). \n",
    "        NOTE: This function is not actually used for gradient descent \n",
    "        in this assignment, but is a sanity check to make sure model \n",
    "        is learning.\n",
    "\n",
    "        :param probabilities: matrix that contains the probabilities \n",
    "        of each class for each image\n",
    "        :param labels: the true batch labels\n",
    "        :return: average loss per batch element (float)\n",
    "        \"\"\"\n",
    "        # TODO: Calculate average cross-entropy loss for a batch\n",
    "        \n",
    "\n",
    "        # l = np.eye(10)[labels] # like one-hot encoding \n",
    "        \n",
    "        \n",
    "        # labels: array([5, 0, 4, 1, 9, 2, 1, 3, 1, 4], dtype=uint8)\n",
    "        # labels[0] = 5\n",
    "        \n",
    "        l = np.zeros((labels.shape[0], self.num_classes)) # dimension (100, 10)\n",
    "\n",
    "        for i in range(labels.shape[0]):\n",
    "            l[i, labels[i]] = 1 \n",
    "        \n",
    "        \n",
    "        entropy_loss = np.multiply(-np.log(probabilities), l)\n",
    "        final = np.sum(entropy_loss)\n",
    "        return final\n",
    "\n",
    "        '''\n",
    "        loss = -np.log(probabilities[range(self.batch_size), labels]) \n",
    "        # probabilities[range(self.batch_size), labels] returns a row vector contains the probability of that label\n",
    "        # of 100 batch samples;  (1, 100)\n",
    "        entropy_loss = np.sum(loss) / self.batch_size \n",
    "        # sum across all 100 losses and take average \n",
    "        \n",
    "        return entropy_loss \n",
    "        '''\n",
    "        \n",
    "    def back_propagation(self, inputs, probabilities, labels):\n",
    "        \"\"\"\n",
    "        Returns the gradients for model's weights and biases \n",
    "        after one forward pass and loss calculation. The learning \n",
    "        algorithm for updating weights and biases mentioned in \n",
    "        class works for one image, but because we are looking at \n",
    "        batch_size number of images at each step, you should take the\n",
    "        average of the gradients across all images in the batch.\n",
    "\n",
    "        :param inputs: batch inputs (a batch of images)\n",
    "        :param probabilities: matrix that contains the probabilities of each \n",
    "        class for each image\n",
    "        :param labels: true labels\n",
    "        :return: gradient for weights, and gradient for biases\n",
    "        \"\"\"\n",
    "        # TODO: Calculate the gradients for the weights and the gradients for the bias with respect to average loss\n",
    "    \n",
    "        \n",
    "        # Y = np.eye(self.batch_size)[labels, 0:self.num_classes]  # like one-hot encoding\n",
    "        #print(f'Y.shape is: {Y.shape}') # dimension: (100,10)\n",
    "        \n",
    "        \n",
    "        Y = np.zeros((labels.shape[0], self.num_classes)) # labels.shape[0] = 100; dimension (100, 10)\n",
    "        for i in range(labels.shape[0]):\n",
    "            Y[i, labels[i]] = 1 \n",
    "\n",
    "            \n",
    "        gradW =  self.learning_rate * np.dot(np.transpose(inputs), (probabilities - Y)) / self.batch_size  # gradient formula for weight\n",
    "        # np.transepose(inputs): dimension changes to (784, 100)\n",
    "        # (probabilities - Y): (100, 10)\n",
    "        # final result is (784, 10): the gradient for every weight in the weight matrix \n",
    "        gradB =  self.learning_rate * np.sum((probabilities - Y), axis = 0) / self.batch_size # gradient formula for bias \n",
    "        # (probabilities - Y): (100, 10)\n",
    "        # final answer: (1, 10)\n",
    "        # the reason we sum across the column is becuase we add every effect for that label together and take average for that label\n",
    "        \n",
    "        return gradW, gradB\n",
    "    \n",
    "    def accuracy(self, probabilities, labels):\n",
    "        \"\"\"\n",
    "        Calculates the model's accuracy by comparing the number \n",
    "        of correct predictions with the correct answers.\n",
    "        \n",
    "        :param probabilities: result of running model.call() on test inputs\n",
    "        :param labels: test set labels\n",
    "        :return: batch accuracy (float [0,1])\n",
    "        \"\"\"\n",
    "        # TODO: Calculate the batch accuracy\n",
    "        \n",
    "        output = np.argmax(probabilities, axis = 1) \n",
    "        # return a row vector containing the index of the biggest number of each row \n",
    "        total_true = sum(output == labels)\n",
    "        \n",
    "        score = total_true / labels.shape[0] # calculate the accuracy score \n",
    "        \n",
    "        return score\n",
    "\n",
    "    def gradient_descent(self, gradW, gradB):\n",
    "        '''\n",
    "        Given the gradients for weights and biases, does gradient \n",
    "        descent on the Model's parameters.\n",
    "        \n",
    "        :param gradW: gradient for weights\n",
    "        :param gradB: gradient for biases\n",
    "        :return: None\n",
    "        '''\n",
    "        # TODO:= Change the weights and biases of the model to descend the gradient\n",
    "        self.W -= gradW  \n",
    "        self.b -= gradB\n",
    "        \n",
    "    "
   ]
  },
  {
   "cell_type": "code",
   "execution_count": 6,
   "id": "c14689ed",
   "metadata": {},
   "outputs": [
    {
     "data": {
      "image/png": "[encoded data removed]",
      "text/plain": [
       "<Figure size 432x288 with 1 Axes>"
      ]
     },
     "metadata": {
      "needs_background": "light"
     },
     "output_type": "display_data"
    },
    {
     "name": "stdout",
     "output_type": "stream",
     "text": [
      "0.9053\n"
     ]
    },
    {
     "data": {
      "image/png": "[encoded data removed]",
      "text/plain": [
       "<Figure size 432x288 with 10 Axes>"
      ]
     },
     "metadata": {},
     "output_type": "display_data"
    }
   ],
   "source": [
    "  \n",
    "def train(model, train_inputs, train_labels):\n",
    "    '''\n",
    "    Trains the model on all of the inputs and labels.\n",
    "    :param model: the initialized model to use for the forward \n",
    "    pass and backward pass\n",
    "    \n",
    "    :param train_inputs: train inputs (all inputs to use for training)\n",
    "    :param train_inputs: train labels (all labels to use for training)\n",
    "    :return: None\n",
    "    '''\n",
    "    # TODO: Iterate over the training inputs and labels, in model.batch_size increments and do forward pass\n",
    "    # TODO: For every batch, compute and then descend the gradients for the model's weights\n",
    "    # Optional TODO: Call visualize_loss and observe the loss per batch as the model trains\n",
    "    \n",
    "    number = train_inputs.shape[0] // model.batch_size # number of iteration to go over \n",
    "    l = [] # initiate loss array \n",
    "    for i in range(number):\n",
    "        inputs = train_inputs[model.batch_size * i : model.batch_size * (i+1), :]  # create input batch from train_inputs\n",
    "        labels = train_labels[model.batch_size * i : model.batch_size * (i+1)] # create labels batch from train_labels\n",
    "        probabilities = model.call(inputs) # calculate soft max probabilities\n",
    "        l.append(model.loss(probabilities, labels)) # calculate loss function \n",
    "        gradW, gradB = model.back_propagation(inputs, probabilities, labels) # get gradient values \n",
    "        model.gradient_descent(gradW, gradB)\n",
    "    visualize_loss(l)\n",
    "    \n",
    "\n",
    "\n",
    "def test(model, test_inputs, test_labels):\n",
    "    \"\"\"\n",
    "    Tests the model on the test inputs and labels. For this assignment, \n",
    "    the inputs should be the entire test set, but in the future we will\n",
    "    ask you to batch it instead.\n",
    "    \n",
    "    :param test_inputs: MNIST test data (all images to be tested)\n",
    "    :param test_labels: MNIST test labels (all corresponding labels)\n",
    "    :return: accuracy (float [0,1])\n",
    "    \"\"\"\n",
    "    # TODO: Iterate over the testing inputs and labels\n",
    "    # TODO: Return accuracy across testing set\n",
    "    probabilities = model.call(test_inputs)\n",
    "    score = model.accuracy(probabilities, test_labels) # using accuracy function defined above to calculate accuracy for test inputs and labels\n",
    "    return score \n",
    "    \n",
    "\n",
    "def visualize_loss(losses):\n",
    "    \"\"\"\n",
    "    NOTE: DO NOT EDIT\n",
    "\n",
    "    Uses Matplotlib to visualize loss per batch. Call this in train().\n",
    "    When you observe the plot that's displayed, think about:\n",
    "    1. What does the plot demonstrate or show?\n",
    "    2. How long does your model need to train to reach roughly its best accuracy so far, \n",
    "    and how do you know that?\n",
    "    Optionally, add your answers to README!\n",
    "    \n",
    "    :param losses: an array of loss value from each batch of train\n",
    "    :return: does not return anything, a plot should pop-up\n",
    "    \"\"\"\n",
    "    x = np.arange(1, len(losses)+1)\n",
    "    plt.xlabel('i\\'th Batch')\n",
    "    plt.ylabel('Loss Value')\n",
    "    plt.title('Loss per Batch')\n",
    "    plt.plot(x, losses)\n",
    "    plt.show()\n",
    "\n",
    "    \n",
    "def visualize_results(image_inputs, probabilities, image_labels):\n",
    "    \"\"\"\n",
    "    NOTE: DO NOT EDIT\n",
    "\n",
    "    Uses Matplotlib to visualize the results of our model.\n",
    "    \n",
    "    :param image_inputs: image data from get_data()\n",
    "    :param probabilities: the output of model.call()\n",
    "    :param image_labels: the labels from get_data()\n",
    "    :return: does not return anything, a plot should pop-up \n",
    "    \"\"\"\n",
    "    images = np.reshape(image_inputs, (-1, 28, 28))\n",
    "    predicted_labels = np.argmax(probabilities, axis=1)\n",
    "    num_images = images.shape[0]\n",
    "\n",
    "    fig, axs = plt.subplots(ncols=num_images)\n",
    "    fig.suptitle(\"PL = Predicted Label\\nAL = Actual Label\")\n",
    "    for ind, ax in enumerate(axs):\n",
    "        ax.imshow(images[ind], cmap=\"Greys\")\n",
    "        ax.set(title=\"PL: {}\\nAL: {}\".format(predicted_labels[ind], image_labels[ind]))\n",
    "        plt.setp(ax.get_xticklabels(), visible=False)\n",
    "        plt.setp(ax.get_yticklabels(), visible=False)\n",
    "        ax.tick_params(axis='both', which='both', length=0)\n",
    "    plt.show()\n",
    "\n",
    "def main():\n",
    "    '''\n",
    "    Read in MNIST data, initialize your model, and train and test your model \n",
    "    for one epoch. The number of training steps should be your the number of \n",
    "    batches you run through in a single epoch. You should receive a final accuracy on the testing examples of > 80%.\n",
    "    \n",
    "    :return: None\n",
    "    '''\n",
    "\n",
    "    # TODO: load MNIST train and test examples into train_inputs, train_labels, test_inputs, test_labels\n",
    "    train_inputs, train_labels = get_data('/Users/justinli/Desktop/CSCI2470/homework1/hw1/code/data/train-images-idx3-ubyte.gz', '/Users/justinli/Desktop/CSCI2470/homework1/hw1/code/data/train-labels-idx1-ubyte.gz', 60000)\n",
    "    test_inputs, test_labels = get_data('/Users/justinli/Desktop/CSCI2470/homework1/hw1/code/data/t10k-images-idx3-ubyte.gz', '/Users/justinli/Desktop/CSCI2470/homework1/hw1/code/data/t10k-labels-idx1-ubyte.gz', 10000)\n",
    "    \n",
    "    # TODO: Create Model\n",
    "    model = Model() # initiate model as class Model \n",
    "    \n",
    "    # TODO: Train model by calling train() ONCE on all data\n",
    "    train(model, train_inputs, train_labels)\n",
    "\n",
    "    # TODO: Test the accuracy by calling test() after running train()\n",
    "    accuracy = test(model, test_inputs, test_labels)\n",
    "    print(accuracy)\n",
    "    \n",
    "    # TODO: Visualize the data by using visualize_results()\n",
    "    image_inputs = test_inputs[0:10, :] # visualize the first 10 test images \n",
    "    probabilities = model.call(image_inputs)\n",
    "    image_labels = test_labels[0:10]\n",
    "    visualize_results(image_inputs, probabilities, image_labels)\n",
    "\n",
    "    \n",
    "if __name__ == '__main__':\n",
    "    main()"
   ]
  },
  {
   "cell_type": "code",
   "execution_count": 7,
   "id": "61ec68bc",
   "metadata": {},
   "outputs": [],
   "source": [
    "x = np.array([[1,2],[3,4]])\n",
    "y = np.array([[5,6],[7,8]])\n",
    "c = np.array([[1],[2]])"
   ]
  },
  {
   "cell_type": "code",
   "execution_count": 8,
   "id": "8e70dfc1",
   "metadata": {},
   "outputs": [
    {
     "name": "stdout",
     "output_type": "stream",
     "text": [
      "[[1 2]\n",
      " [3 4]]\n",
      "[3 7]\n"
     ]
    },
    {
     "data": {
      "text/plain": [
       "array([[3],\n",
       "       [7]])"
      ]
     },
     "execution_count": 8,
     "metadata": {},
     "output_type": "execute_result"
    }
   ],
   "source": [
    "print(x)\n",
    "b = np.sum(x, axis = 1)\n",
    "print(b)\n",
    "np.expand_dims(b,axis = 1) "
   ]
  },
  {
   "cell_type": "code",
   "execution_count": 9,
   "id": "2b8d84df",
   "metadata": {},
   "outputs": [
    {
     "name": "stdout",
     "output_type": "stream",
     "text": [
      "[[1 2]\n",
      " [3 4]]\n",
      "[[1]\n",
      " [2]]\n"
     ]
    },
    {
     "data": {
      "text/plain": [
       "array([[1. , 2. ],\n",
       "       [1.5, 2. ]])"
      ]
     },
     "execution_count": 9,
     "metadata": {},
     "output_type": "execute_result"
    }
   ],
   "source": [
    "print(x)\n",
    "print(c)\n",
    "x / c"
   ]
  },
  {
   "cell_type": "code",
   "execution_count": 10,
   "id": "17366376",
   "metadata": {},
   "outputs": [
    {
     "data": {
      "text/plain": [
       "array([[ 1,  2,  3,  4,  5],\n",
       "       [ 6,  7,  8,  9, 10]])"
      ]
     },
     "execution_count": 10,
     "metadata": {},
     "output_type": "execute_result"
    }
   ],
   "source": [
    "a = np.array([[1,2,3,4,5],[6,7,8,9,10]])\n",
    "a"
   ]
  },
  {
   "cell_type": "code",
   "execution_count": 11,
   "id": "7625b8ec",
   "metadata": {},
   "outputs": [
    {
     "data": {
      "text/plain": [
       "array([4, 9])"
      ]
     },
     "execution_count": 11,
     "metadata": {},
     "output_type": "execute_result"
    }
   ],
   "source": [
    "a[range(2),3]"
   ]
  },
  {
   "cell_type": "code",
   "execution_count": 12,
   "id": "a2ecbdc5",
   "metadata": {},
   "outputs": [
    {
     "data": {
      "text/plain": [
       "array([1.38629436, 2.19722458])"
      ]
     },
     "execution_count": 12,
     "metadata": {},
     "output_type": "execute_result"
    }
   ],
   "source": [
    "np.log(a[range(2),3])"
   ]
  },
  {
   "cell_type": "code",
   "execution_count": 13,
   "id": "83d5c88c",
   "metadata": {},
   "outputs": [
    {
     "data": {
      "text/plain": [
       "array([[1, 2, 3],\n",
       "       [4, 5, 6]])"
      ]
     },
     "execution_count": 13,
     "metadata": {},
     "output_type": "execute_result"
    }
   ],
   "source": [
    "a = np.array([[1,2,3], [4,5,6]])\n",
    "a"
   ]
  },
  {
   "cell_type": "code",
   "execution_count": 14,
   "id": "aa39c078",
   "metadata": {},
   "outputs": [
    {
     "name": "stdout",
     "output_type": "stream",
     "text": [
      "[[1 4]\n",
      " [2 5]\n",
      " [3 6]]\n"
     ]
    },
    {
     "data": {
      "text/plain": [
       "array([1, 1, 1])"
      ]
     },
     "execution_count": 14,
     "metadata": {},
     "output_type": "execute_result"
    }
   ],
   "source": [
    "b = np.transpose(a)\n",
    "print(b)\n",
    "np.argmax(b, axis = 1)"
   ]
  },
  {
   "cell_type": "code",
   "execution_count": 15,
   "id": "df041d25",
   "metadata": {},
   "outputs": [
    {
     "name": "stdout",
     "output_type": "stream",
     "text": [
      "[[1 3]\n",
      " [2 4]\n",
      " [3 5]]\n"
     ]
    },
    {
     "data": {
      "text/plain": [
       "3"
      ]
     },
     "execution_count": 15,
     "metadata": {},
     "output_type": "execute_result"
    }
   ],
   "source": [
    "a = np.array([[1,3],[2,4],[3,5]])\n",
    "print(a)\n",
    "a[2,0]\n"
   ]
  },
  {
   "cell_type": "code",
   "execution_count": 16,
   "id": "d5619d73",
   "metadata": {},
   "outputs": [
    {
     "name": "stdout",
     "output_type": "stream",
     "text": [
      "[[0. 0. 0. 0.]\n",
      " [0. 0. 0. 0.]\n",
      " [0. 0. 0. 0.]]\n"
     ]
    }
   ],
   "source": [
    "l = np.zeros((3,4))\n",
    "l.shape[0]\n",
    "print(l)"
   ]
  },
  {
   "cell_type": "code",
   "execution_count": 17,
   "id": "bee43148",
   "metadata": {},
   "outputs": [
    {
     "data": {
      "text/plain": [
       "0.0"
      ]
     },
     "execution_count": 17,
     "metadata": {},
     "output_type": "execute_result"
    }
   ],
   "source": [
    "l[0][0]"
   ]
  },
  {
   "cell_type": "code",
   "execution_count": 22,
   "id": "e3b72a33",
   "metadata": {},
   "outputs": [
    {
     "name": "stdout",
     "output_type": "stream",
     "text": [
      "[[1 2 3]\n",
      " [4 5 6]\n",
      " [7 8 9]]\n",
      "[ 6 15 24]\n",
      "[[ 6]\n",
      " [15]\n",
      " [24]]\n"
     ]
    }
   ],
   "source": [
    "a = np.array([[1,2,3],[4,5,6],[7,8,9]])\n",
    "print(a)\n",
    "print(np.sum(a, axis = 1))\n",
    "print(np.sum(a, axis = 1, keepdims = True)) # keep the final answer as a column vector "
   ]
  },
  {
   "cell_type": "code",
   "execution_count": null,
   "id": "a23a837a",
   "metadata": {},
   "outputs": [],
   "source": []
  }
 ],
 "metadata": {
  "kernelspec": {
   "display_name": "Python 3 (ipykernel)",
   "language": "python",
   "name": "python3"
  },
  "language_info": {
   "codemirror_mode": {
    "name": "ipython",
    "version": 3
   },
   "file_extension": ".py",
   "mimetype": "text/x-python",
   "name": "python",
   "nbconvert_exporter": "python",
   "pygments_lexer": "ipython3",
   "version": "3.9.7"
  }
 },
 "nbformat": 4,
 "nbformat_minor": 5
}
