{
 "cells": [
  {
   "cell_type": "markdown",
   "metadata": {
    "id": "giqpVs8xaBcB"
   },
   "source": [
    "# CSCI 1470 Lab 03: Introduction to TensorFlow #\n",
    "***Important***: Before starting the lab please copy this notebook into your own google drive by clicking on \"File\" and \"Save a copy in drive\"\n",
    "\n",
    "***NOTICE***: Please run this lab in Chrome or FireFox! Edge probably works fine too, idk. All I know is that Safari doesn't like Tensorboard (-_-')\n",
    "\n",
    "----\n",
    "\n",
    "In this lab, we will be introducing [TensorFlow](http://tensorflow.org/), a cutting-edge library for developing, and evaluating deep neural network models. As a quick motivator, let's at organize what we're going to talk about: \n",
    "\n",
    "### Here are some of the things **Tensorflow** offers:\n",
    "- Object classes with build-in auto-diff tracking and associated workflows.\n",
    "- Lots of already-implemented math modules (i.e. `tf.nn`, `tf.math`). \n",
    "- Nice built-in datasets and some other things...\n",
    "\n",
    "### Here are some of the things **Keras** offers:\n",
    "- Pre-built network components and structures to make life easier!\n",
    "  - Pre-build and customizable network modules like entire layers/networks.\n",
    "  - Modularized implementations of loss, accuracy, optimizers, etc.\n",
    "  - Workflows to facilitate all of these!!\n",
    "\n",
    "### Here are some nice benefits of knowing these:\n",
    "- Extremely easy to prototype entire neural networks.\n",
    "- LARGE amount of existing implementations and tutorials for getting to the cutting edge. \n",
    "\n",
    "---\n",
    "\n",
    "> **NOTE:** PyTorch (and PyTorch/FastAI) is a popular alternative to TensorFlow/Keras. You'll probably have to use it eventually and should feel free to use it for your Final Project! With that said, please don't use it for the labs/homeworks! **Assume all labs and projects will utilize TensorFlow Version 2.5.0 or similar**. \n",
    "\n",
    "\n",
    "**Make sure to get all questions checked off by your TA to get credit for this lab!**"
   ]
  },
  {
   "cell_type": "markdown",
   "metadata": {
    "id": "cKtgyYQEaBcC"
   },
   "source": [
    "### Import Tensorflow\n",
    "\n",
    "Run the following python code to make sure tensorflow is installed correctly and you're ready to go for running tensorflow."
   ]
  },
  {
   "cell_type": "code",
   "execution_count": 3,
   "metadata": {
    "colab": {
     "base_uri": "https://localhost:8080/"
    },
    "id": "B0vzZefVaBcD",
    "outputId": "96c8de47-c8af-469a-c087-f0f5ff8011d4"
   },
   "outputs": [
    {
     "name": "stdout",
     "output_type": "stream",
     "text": [
      "2.8.0\n"
     ]
    }
   ],
   "source": [
    "import tensorflow as tf\n",
    "import numpy as np\n",
    "\n",
    "print(tf.__version__)"
   ]
  },
  {
   "cell_type": "markdown",
   "metadata": {
    "id": "CQP2CdcGlfoH"
   },
   "source": [
    "# TensorFlow 101 - The Basics ##\n",
    "\n",
    "Writing code in TensorFlow 2 is similar to writing code in Python. With eager execution (enabled in TensorFlow 2 by default), operations are evaluated immediately in an imperative programming environment. This makes operations return concrete values and makes things easier to debug, essentially what Python is doing. Also note that TensorFlow concepts correspond directly to Brunoflow concepts from class and the Autodiff Lab.\n",
    "\n"
   ]
  },
  {
   "cell_type": "markdown",
   "metadata": {
    "id": "QnfH9LhWoaYa"
   },
   "source": [
    "### Here are some of the things **Tensorflow** offers:\n",
    "- Object classes with build-in auto-diff tracking and associated workflows.\n",
    "- Lots of already-implemented math modules (i.e. `tf.nn`, `tf.math`). \n",
    "- Nice built-in datasets and some other things..."
   ]
  },
  {
   "cell_type": "markdown",
   "metadata": {
    "id": "J6Cgs0--m0ND"
   },
   "source": [
    "###Tensors###\n",
    "A `Tensor` in TensorFlow is an object that represent a vector or matrix. They are effectively represented as a n-dimensional array and they have two properties: a shape and a data type (float32, int32, or string, for example). They are (kind of) like `np.arrays` but are immutable - you cannot update the contents of an existing tensor. A `Tensor` is analogous to a `Node` in Brunoflow. Both represent a node in the computation graph generated during runtime.\n",
    "\n",
    "Consider the following example:"
   ]
  },
  {
   "cell_type": "code",
   "execution_count": 4,
   "metadata": {
    "colab": {
     "base_uri": "https://localhost:8080/"
    },
    "id": "y-gzMX9SmcF1",
    "outputId": "b692b9f2-00b4-4092-9fa9-48e657274197"
   },
   "outputs": [
    {
     "name": "stdout",
     "output_type": "stream",
     "text": [
      "x = [[2.0]], m = [[4.]]\n",
      "tf.Tensor([[4.]], shape=(1, 1), dtype=float32)\n"
     ]
    }
   ],
   "source": [
    "x = [[2.]]\n",
    "m = tf.matmul(x,x)  # matrix multiplication \n",
    "print(f\"x = {x}, m = {m}\")\n",
    "print(m)"
   ]
  },
  {
   "cell_type": "markdown",
   "metadata": {
    "id": "MPdfc5HNnNS3"
   },
   "source": [
    "Here, `m` is a `Tensor`. We can easily inspect the result of the multiplication with a print() statement because tensors are treated as concrete values in Tensorflow 2. Doing so doesn't interfere with training a network either!\n",
    "\n",
    "A `Tensor` contains the data, the shape, and the data type. As shown below\n",
    "\n",
    "> `tf.Tensor([2. 3. 4.], shape=(3,), dtype=float32)`\n",
    "\n",
    "\n",
    "This `Tensor` has the data `[2., 3., 4.]` with a shape of `(3, )` and the data is of type `float32`. Tensors can have more axes and can be indexed in the same way as you would index a NumPy array. For more detailed information on TensorFlow tensors, visit [this page](https://www.tensorflow.org/guide/tensor).\n",
    "\n",
    "As for actually setting up a model, we need to introduce a few important Tensorflow constructs:"
   ]
  },
  {
   "cell_type": "markdown",
   "metadata": {
    "id": "-o9lIsgDtGVl"
   },
   "source": [
    "###Variables:### \n",
    "\n",
    "A big draw of Tensorflow is its ability to train various components during an optimization routine. This is largely facilitated by the `tf.Variable` class. On the surface, these are extremely similar to numpy arrays. However, their values can be automatically updated throughout optimization routines to progress towards a desirable configuration. \n",
    "\n",
    "`Variable` objects are a convenient way to represent trainable weights in your model. When using a variable, it must be initialized with starting values. The following are all valid ways of doing this:"
   ]
  },
  {
   "cell_type": "code",
   "execution_count": 5,
   "metadata": {
    "colab": {
     "base_uri": "https://localhost:8080/"
    },
    "id": "NSfEACuzwZ0a",
    "outputId": "f28557f7-bc28-4573-e480-632083fa04a6"
   },
   "outputs": [
    {
     "name": "stdout",
     "output_type": "stream",
     "text": [
      "Python List Initialization\n",
      " <tf.Variable 'Variable:0' shape=(2,) dtype=int32, numpy=array([0, 1], dtype=int32)>\n",
      "\n",
      "Numpy-Based Initialization:\n",
      " <tf.Variable 'Variable:0' shape=(3, 3) dtype=float64, numpy=\n",
      "array([[0., 0., 0.],\n",
      "       [0., 0., 0.],\n",
      "       [0., 0., 0.]])>\n",
      "\n",
      "Gaussian Normal Initialization:\n",
      " <tf.Variable 'Variable:0' shape=(3, 3) dtype=float32, numpy=\n",
      "array([[ 0.02078905, -0.02273036,  0.07632606],\n",
      "       [ 0.03164865,  0.01945226, -0.21302257],\n",
      "       [-0.14524363,  0.20738934, -0.01653197]], dtype=float32)>\n",
      "\n",
      "Tensorflow To Numpy Array:\n",
      " [[1. 2. 5.]]\n"
     ]
    }
   ],
   "source": [
    "# Using a python list\n",
    "print(\"Python List Initialization\\n\", \n",
    "      tf.Variable([0,1]))\n",
    "\n",
    "# Initializing variables with a NumPy array\n",
    "print(\"\\nNumpy-Based Initialization:\\n\", \n",
    "      tf.Variable(np.zeros((3,3))))\n",
    "\n",
    "# You can also use some tensorflow built in variables\n",
    "print(\"\\nGaussian Normal Initialization:\\n\", \n",
    "      tf.Variable(tf.random.normal(shape=[3,3], stddev=.1)))\n",
    "\n",
    "# To convert a variable from a tensor to a NumPy array, use the numpy() function\n",
    "print(\"\\nTensorflow To Numpy Array:\\n\", \n",
    "      tf.Variable([[1., 2., 5.]]).numpy())"
   ]
  },
  {
   "cell_type": "code",
   "execution_count": 6,
   "metadata": {
    "colab": {
     "base_uri": "https://localhost:8080/"
    },
    "id": "EdhqobYU7Fyy",
    "outputId": "875fc162-a5e2-4725-e7ef-45cbd437b482"
   },
   "outputs": [
    {
     "data": {
      "text/plain": [
       "<tf.Variable 'Variable:0' shape=(5, 3) dtype=float32, numpy=\n",
       "array([[ 0.011853  ,  0.01914714, -0.04044585],\n",
       "       [ 0.00560139,  0.01019231,  0.07833377],\n",
       "       [ 0.03897398,  0.0487245 , -0.0246457 ],\n",
       "       [-0.05296586,  0.07736994,  0.06278355],\n",
       "       [-0.14855048,  0.12077284, -0.0124524 ]], dtype=float32)>"
      ]
     },
     "execution_count": 6,
     "metadata": {},
     "output_type": "execute_result"
    }
   ],
   "source": [
    "tf.Variable(tf.random.normal(shape=[5,3], stddev=.1))"
   ]
  },
  {
   "cell_type": "code",
   "execution_count": 7,
   "metadata": {
    "colab": {
     "base_uri": "https://localhost:8080/"
    },
    "id": "PA50Q_19cV5g",
    "outputId": "08607f85-df67-4725-eeef-e58d5987ca4a"
   },
   "outputs": [
    {
     "data": {
      "text/plain": [
       "array([[1., 2., 5.]], dtype=float32)"
      ]
     },
     "execution_count": 7,
     "metadata": {},
     "output_type": "execute_result"
    }
   ],
   "source": [
    "a = tf.Variable([[1., 2., 5.]]).numpy()\n",
    "a"
   ]
  },
  {
   "cell_type": "markdown",
   "metadata": {
    "id": "cSUfD745wgOK"
   },
   "source": [
    "By default, TensorFlow variables are trainable. This means they will be watched and accounted for during automatic differentiation and backpropagation. For more information on tensorflow variables, check out the documentation: \n",
    "https://www.tensorflow.org/versions/r2.0/api_docs/python/tf/Variable?hl=en "
   ]
  },
  {
   "cell_type": "markdown",
   "metadata": {
    "id": "ZcCN0b7NrlzY"
   },
   "source": [
    "###Gradient Tape:###\n",
    "\n",
    "To compute the gradients with respect to the loss in our model, we need to make use of `tf.GradientTape()`. The purpose of this is to replace the need to specify all of the back-prop functionality like how you did it in Assignment 1. \n",
    "\n",
    "Any tensor computations inside the tape are recorded for use later, and can be used in routines that optimize their values during differentiation/backpropagation."
   ]
  },
  {
   "cell_type": "code",
   "execution_count": 8,
   "metadata": {
    "colab": {
     "base_uri": "https://localhost:8080/"
    },
    "id": "cn8qDilKfvmq",
    "outputId": "b059618a-55af-4d6d-8072-d3923309157e"
   },
   "outputs": [
    {
     "name": "stdout",
     "output_type": "stream",
     "text": [
      "<tf.Variable 'Variable:0' shape=(1, 1) dtype=float32, numpy=array([[10.]], dtype=float32)>\n",
      "loss is [[120.]]\n",
      "tf.Tensor([[12.]], shape=(1, 1), dtype=float32)\n"
     ]
    }
   ],
   "source": [
    "w = tf.Variable([[10.0]])\n",
    "print(w)\n",
    "with tf.GradientTape() as tape:\n",
    "  loss = 2*w + 10*w \n",
    "  print(f\"loss is {loss}\")\n",
    "  \n",
    "grad = tape.gradient(loss, w) \n",
    "print(grad)"
   ]
  },
  {
   "cell_type": "code",
   "execution_count": 9,
   "metadata": {
    "colab": {
     "base_uri": "https://localhost:8080/"
    },
    "id": "HVf-kCUcf2EX",
    "outputId": "40c5eb58-4d9a-4d63-c48d-6910d093780e"
   },
   "outputs": [
    {
     "name": "stdout",
     "output_type": "stream",
     "text": [
      "<tf.Variable 'Variable:0' shape=(1, 1) dtype=float32, numpy=array([[1.]], dtype=float32)>\n",
      "loss is [[2.]]\n",
      "tf.Tensor([[2.]], shape=(1, 1), dtype=float32)\n"
     ]
    }
   ],
   "source": [
    "w = tf.Variable([[1.0]])\n",
    "print(w)\n",
    "with tf.GradientTape() as tape:\n",
    "  loss = w + w # loss = 1 + 1 = 2\n",
    "  print(f\"loss is {loss}\")\n",
    "  \n",
    "grad = tape.gradient(loss, w) # grad is the gradient for function loss, which is 1 + 1 = 2\n",
    "print(grad)"
   ]
  },
  {
   "cell_type": "markdown",
   "metadata": {
    "id": "gBxu_HuizQk9"
   },
   "source": [
    "Here the loss is calculated as `w + w` within the scope of `tf.GradientTape()`, so we are able to differentiate the loss with respect to the variable, `w`. This gradient is calculated in the call to `tape.gradient()`. `GradientTape()` can also compute gradients for non-trainable variables/tensors by using the `watch()` function:"
   ]
  },
  {
   "cell_type": "code",
   "execution_count": 10,
   "metadata": {
    "colab": {
     "base_uri": "https://localhost:8080/"
    },
    "id": "i52hWLpg2z5N",
    "outputId": "e52d986a-a760-4214-b40e-e96568b076d9"
   },
   "outputs": [
    {
     "name": "stdout",
     "output_type": "stream",
     "text": [
      "tf.Tensor(\n",
      "[[1. 1.]\n",
      " [1. 1.]], shape=(2, 2), dtype=float32)\n",
      "tf.Tensor(\n",
      "[[30. 30.]\n",
      " [30. 30.]], shape=(2, 2), dtype=float32)\n",
      "tf.Tensor(\n",
      "[[30. 30.]\n",
      " [30. 30.]], shape=(2, 2), dtype=float32)\n"
     ]
    }
   ],
   "source": [
    "x = tf.ones((2,2)) #Not a trainable variable!\n",
    "print(x)\n",
    "with tf.GradientTape() as tape:\n",
    "  tape.watch(x)\n",
    "  loss = 10*x + 20*x\n",
    "  print(loss)\n",
    "  \n",
    "grad = tape.gradient(loss, x)\n",
    "print(grad)"
   ]
  },
  {
   "cell_type": "code",
   "execution_count": 11,
   "metadata": {
    "colab": {
     "base_uri": "https://localhost:8080/"
    },
    "id": "tIN0xmN4gpbU",
    "outputId": "e6bf681b-97e0-4421-c185-014a9d12f3cf"
   },
   "outputs": [
    {
     "data": {
      "text/plain": [
       "<tf.Tensor: shape=(1, 1, 1), dtype=float32, numpy=array([[[1.]]], dtype=float32)>"
      ]
     },
     "execution_count": 11,
     "metadata": {},
     "output_type": "execute_result"
    }
   ],
   "source": [
    "x = tf.ones((1, 1, 1))\n",
    "x"
   ]
  },
  {
   "cell_type": "markdown",
   "metadata": {
    "id": "7cTgoGmUWgP8"
   },
   "source": [
    "For tips and tricks on automatic differentiation, check out the documentation: https://www.tensorflow.org/guide/autodiff\n"
   ]
  },
  {
   "cell_type": "markdown",
   "metadata": {
    "id": "IEcBnFPSqB5b"
   },
   "source": [
    "#### Purpose of AutoDiff\n",
    "\n",
    "The GradientTape in TensorFlow keeps track of the Tensor computations that occur inside the tape and allow you to access gradients of individual Tensors with respect to computed values.\n",
    "\n",
    "In order to perform automatic differentiation, TensorFlow uses the `GradientTape` to compute the gradient of computation during the forward pass with respect to a set of inputs and records this information onto the \"tape\". \n",
    "\n",
    "Calling `GradientTape.gradient(target, sources)` runs a backward pass along the tape and computes the gradient components of each differentiable unit along the path from `target` to `source`. These are accumulated and, per an optimization relying on the chain rule, combined into the resulting overall gradient. "
   ]
  },
  {
   "cell_type": "markdown",
   "metadata": {
    "id": "dBtc66ayAJ0T"
   },
   "source": [
    "### Optimizers:###\n",
    "Once we have the gradient computed with the GradientTape, we must update our weights for our model to train. For this we need to use an optimizer. In this class, you can use the Adam Optimizer. This optimizer is pretty standard, but examples of different types of optimizers are as follows:\n",
    "\n",
    "\n",
    "```\n",
    "adam_optimizer     = tf.keras.optimizers.Adam(learning_rate=0.001)\n",
    "sgd_optimizer      = tf.keras.optimizers.SGD(learning_rate=0.01) #Stochastic Gradient Descent\n",
    "adagrad_optimizer  = tf.keras.optimizers.Adagrad(learning_rate=0.001)\n",
    "rms_prop_optimizer = tf.keras.optimizers.RMSprop(learning_rate=0.001)\n",
    "```"
   ]
  },
  {
   "cell_type": "markdown",
   "metadata": {
    "id": "nG12L6wIWr6v"
   },
   "source": [
    "For now, don't worry about the details of how they work. You'll see soon in a future lab!"
   ]
  },
  {
   "cell_type": "markdown",
   "metadata": {
    "id": "UjilAbLe3KKp"
   },
   "source": [
    "\n",
    "\n",
    "## Task: Putting it all Together\n",
    "Now let's use everything we've learned to create our first TensorFlow 2 neural network."
   ]
  },
  {
   "cell_type": "markdown",
   "metadata": {
    "id": "KNi_a9F6uxKb"
   },
   "source": [
    "![MNIST_w_hidden_layer.png](data:image/png;base64,iVBORw0KGgoAAAANSUhEUgAAAwkAAAHlCAYAAAC+grBcAAABYWlDQ1BrQ0dDb2xvclNwYWNlRGlzcGxheVAzAAAokWNgYFJJLCjIYWFgYMjNKykKcndSiIiMUmB/yMAOhLwMYgwKicnFBY4BAT5AJQwwGhV8u8bACKIv64LMOiU1tUm1XsDXYqbw1YuvRJsw1aMArpTU4mQg/QeIU5MLikoYGBhTgGzl8pICELsDyBYpAjoKyJ4DYqdD2BtA7CQI+whYTUiQM5B9A8hWSM5IBJrB+API1klCEk9HYkPtBQFul8zigpzESoUAYwKuJQOUpFaUgGjn/ILKosz0jBIFR2AopSp45iXr6SgYGRiaMzCAwhyi+nMgOCwZxc4gxJrvMzDY7v////9uhJjXfgaGjUCdXDsRYhoWDAyC3AwMJ3YWJBYlgoWYgZgpLY2B4dNyBgbeSAYG4QtAPdHFacZGYHlGHicGBtZ7//9/VmNgYJ/MwPB3wv//vxf9//93MVDzHQaGA3kAFSFl7jXH0fsAAACWZVhJZk1NACoAAAAIAAUBEgADAAAAAQABAAABGgAFAAAAAQAAAEoBGwAFAAAAAQAAAFIBKAADAAAAAQACAACHaQAEAAAAAQAAAFoAAAAAAAAAkAAAAAEAAACQAAAAAQADkoYABwAAABIAAACEoAIABAAAAAEAAAMJoAMABAAAAAEAAAHlAAAAAEFTQ0lJAAAAU2NyZWVuc2hvdBzTxGkAAAAJcEhZcwAAFiUAABYlAUlSJPAAAALZaVRYdFhNTDpjb20uYWRvYmUueG1wAAAAAAA8eDp4bXBtZXRhIHhtbG5zOng9ImFkb2JlOm5zOm1ldGEvIiB4OnhtcHRrPSJYTVAgQ29yZSA2LjAuMCI+CiAgIDxyZGY6UkRGIHhtbG5zOnJkZj0iaHR0cDovL3d3dy53My5vcmcvMTk5OS8wMi8yMi1yZGYtc3ludGF4LW5zIyI+CiAgICAgIDxyZGY6RGVzY3JpcHRpb24gcmRmOmFib3V0PSIiCiAgICAgICAgICAgIHhtbG5zOmV4aWY9Imh0dHA6Ly9ucy5hZG9iZS5jb20vZXhpZi8xLjAvIgogICAgICAgICAgICB4bWxuczp0aWZmPSJodHRwOi8vbnMuYWRvYmUuY29tL3RpZmYvMS4wLyI+CiAgICAgICAgIDxleGlmOlBpeGVsWERpbWVuc2lvbj4xNzc4PC9leGlmOlBpeGVsWERpbWVuc2lvbj4KICAgICAgICAgPGV4aWY6VXNlckNvbW1lbnQ+U2NyZWVuc2hvdDwvZXhpZjpVc2VyQ29tbWVudD4KICAgICAgICAgPGV4aWY6UGl4ZWxZRGltZW5zaW9uPjEwNzg8L2V4aWY6UGl4ZWxZRGltZW5zaW9uPgogICAgICAgICA8dGlmZjpSZXNvbHV0aW9uVW5pdD4yPC90aWZmOlJlc29sdXRpb25Vbml0PgogICAgICAgICA8dGlmZjpZUmVzb2x1dGlvbj4xNDQ8L3RpZmY6WVJlc29sdXRpb24+CiAgICAgICAgIDx0aWZmOlhSZXNvbHV0aW9uPjE0NDwvdGlmZjpYUmVzb2x1dGlvbj4KICAgICAgICAgPHRpZmY6T3JpZW50YXRpb24+MTwvdGlmZjpPcmllbnRhdGlvbj4KICAgICAgPC9yZGY6RGVzY3JpcHRpb24+CiAgIDwvcmRmOlJERj4KPC94OnhtcG1ldGE+CiSUfBwAAEAASURBVHgB7J0HnFXF9cdn6b2IdMRdiiii2LAXbETsGkvsxpJYY4l/Y4vdxF4SNbFjicaOBcUSRVDsCApKFaSI0nvb8v7ne947d+fdfW8bsLssc/az7947d+7Mub9778xpM5OTEHKBAgIBgYBAQCAgEBAICAQEAgIBgYBACoE6AYmAQEAgIBAQCAgEBAICAYGAQEAgIOAjEJQEH42wHxAICAQEAgIBgYBAQCAgEBAICLigJISXICAQEAgIBAQCAgGBgEBAICAQEEhDICgJaXCEg4BAQCAgEBAICAQEAgIBgYBAQCAoCeEdCAgEBAICAYGAQEAgIBAQCAgEBNIQCEpCGhzhICAQEAgIBAQCAgGBgEBAICAQEAhKQngHAgIBgYBAQCAgEBAICAQEAgIBgTQEgpKQBkc4CAgEBAICAYGAQEAgIBAQCAgEBIKSEN6BgEBAICAQEAgIBAQCAgGBgEBAIA2BoCSkwREOAgIBgYBAQCAgEBAICAQEAgIBgaAkhHcgIBAQCAgEBAICAYGAQEAgIBAQSEMgKAlpcISDgEBAICAQEAgIBAQCAgGBgEBAoF6AICAQEAgIBAQ2HAQSiUTEbE5OTrTPTvxcUVFRlFanTh0Xz28X+/nIQ95M5OcrrbxM11Y0LX4vFb0+5A8IBAQCAgGBtUMgKAlrh1+4OiAQEAgI1DgEEPQRsuPCPmlxRaG8+bjJ8pRX48AIDAUEAgIBgYBApRDIkQ6i2CxVqSLCRQGBgEBAICBQExFYvXq1+/jjj13Lli3djjvuqAqCryjY/vTp093EiRNdvXr1XI8ePVyXLl1UyYgrFFOmTHE//vija9Cggdtyyy1d+/btM+ariVgEngICAYGAQECgYggET0LF8Aq5AwIBgYBAlSNgwvznn3/unn32Wde8eXPXpk0bd95557mGDRsqP4MHD1aFgLy77babO+aYY9yLL77oTjnlFD3/7rvvugMPPDBNqLdyUSROOukkzffGG2+okkBoke85QGF477333Lnnnqv5PvrooxJKAuVBceWCNKvL9tlCfl7Ls3DhQvePf/zD5efnu8LCQnf66ae7Xr16uThPyRJKhllZOlsr00/Lll5e/uNlheOAQEAgIFAbEQhKQm18quGeAgIBgVqFgAm6v/zyiwrP3NzWW2/t/vCHP0RKwrhx49xdd92l933dddepkrB48eIIB9s3QZgTpgTUrVs3yufv+wI8GfA0GFk+yjP+/PyWZvn9c/5+PB/58YBcf/31dqk78sgjdZ+8Ptm1fnmct3T24+dIgyzdyuTY0jjvl+HnZz9QQCAgEBDYGBAobvE3hrsN9xgQCAgEBDZgBOrXrx9xT1iQCfkkNmvWLDrXtGlT3T/55JM1NKhx48Zu4MCBmmbC/bJly1xBQYFr1apVpGiQwQRly7d06VIVmFu0aFFqvjVr1jj+Ieq3chC2qce8ANzDqlWr9L9JkybKn17k/XBtbm6umzZtmqYaL1amZeWY8rkXCDysburECwGh3FgZ5MdDwZb8hilpKCeQlaEH8sM5n3/KJa1Ro0aWJWwDAgGBgECtQyDzFBa17jbDDQUEAgIBgdqFAEKrCb7xO0MAhkaPHu2+++473f7www+ahkfhoYcecgMGDHCtW7d2Dz/8sMNDYWSC9bx589Qz0b9/f5eXl+eefPJJRxiQkeVDsCaU6ZxzztEwqO7du7tbbrnFTZgwQbNS30033aThTPfcc4+GRJ111llaN9vx48drPuPZyl++fLntltha3kmTJrkbb7zR7bvvvg4lhhCrRx55RJWSsWPHuhNPPNH98Y9/1DTjd8SIEZp27LHHKjYU/uGHH7oLLrhA+e/WrZu75pprnOHFdbfffrs79dRT3a233uo+++wzd/nll2solzFm/Nhx2AYEAgIBgVqBgDRugQICAYGAQECgBiMggqpyN2TIEKT/hAjEib59+yYeffTRxH/+85/E008/nTj++OMTMkBZz992222aXxQAPeaaoUOHapqEIkVppNt/hw4ddP/999/XfDLeITpnedjKWAhNHzlypOa7++67o3y77LJLomPHjtHxrFmzEkuWLImO/XLEE6Lpxx13XEI8AVqWWP91K0pLYtNNN42u+/LLLzUdHAwLGWgdnffLZR9cZs+enXZevBJahn9fc+bMSTz33HNRvj59+iR69uwZHYsCo9dwX/E67rzzTj3Hjyhs0X7YCQgEBAICtQWB4EmQlj9QQCAgEBDYkBBg0PKYMWMclngGHDM4+fnnn9dxCtyHheX4IUjMcPTzzz+7G264wbVt29btscce7u2333aiFDis5+ZNIISGmY4efPBBnRXpoIMOch988IETBUUhmj9/vm4JycFLcemll+ox4yDefPNN9/LLL7sddthB07iGEKSjjjoquoYBySKYa32bbLKJ5p85c6aeL8+P3RtjMPbbbz93/vnn64Dqb7/91u21115axFVXXaVhVNRjxHlRWtywYcM0iUHdixYtcieccIIeWzlcc8ghh0R54H+rrbbSY1GAdMC4KA06kFoTw09AICAQEKilCIQxCbX0wYbbCggEBGovAsTDoyhsscUWGm8vVisN21m5cmXaTRMqY0SMvgn4c+fOdQjSKADQFVdcoYOg2Scf5yFChcRDoeE8HIv13F122WXsOupi6lQjxg+89tpreu2oUaM0GSXigAMO0Bh/EuAXxYYxEl999VU00DrOt5VpW7sPeENJIMyKMRabbbaZhlIR8kRdK1as0EvEQ6D3sc8++1gRquT89NNP7vvvv9c0poSFByPuBaWGkCqUJ4gQK8KVbMC2eCdUqSFUi2lgjUxxseOwDQgEBAICtQGBoCTUhqcY7iEgEBDYqBDA8o4V/f7779c4eoRoYvEZCwChNMSJMQx+nL+EF0VZNt9882gfQRwlxKhdu3a2q2MTOMAD4A9URvhHoOYfIn7/qaeeUiEegd74Qai3wdaMXTDKJGRbPvIwwBnyBXOE/SuvvFK9CHpSfli3wQj+sPyDydVXX+1effVVJyFXepqpY7t27RpdCxYoCEz/CjGbEjjgfYEP42Xbbbd1e++9tw4St3vSC8JPQCAgEBCohQiEcKNa+FDDLQUEAgK1HwHCfRDOWfgMId8XkDMJsFjDmcnI6JNPPolm7THhmHMI4gwCNvriiy90Fyv9K6+8ovsLFixQQRllASI86YEHHlAlhJAe1mm4+OKLlS/OI3BDWPzNK+ArInoy9sOsSkaTJ092KEYMVOaf+u+9995IyP/66691JiQLC+rcubPORsT1hx9+uBYDr3b/hx56qHojDDNCrZhylVmS8BZwfvvtt3c777yzKgjGM0qD3YttjcewDQgEBAICtQ2B4EmobU803E9AICBQaxEwi7sM6lVhnqlEURZQCvAUGFl4jFnALd2EYo6feOIJLQOLOx4J1l0gzh/Lf6dOnewSd99996lwz2xHMkjayYBpHQ9Bvt69e0f5GNtA+YQoycBhh+CO8sJib8Y3HgHjyXjEu2DnrTCOKQtBnGt++9vf6j2Sd8aMGeoVsEXkUJQYn8F9MO6A6zhn9bAyNCFShEpBO+20kyoA7G+33XZslIYPH67jDMCUcQn/+9//3J///GcNjbKy/HuxNLs+bAMCAYGAQK1DQDqXQAGBgEBAICBQgxEQS7ZyJ4OC02bZsVmBOOnPWiRjDDS/THUa5ZdBxRnLkE4t0a9fvyifjCvQfI8//niURh7+JY4/SpPBzJqPcu28v2UWJBkonRClIe28eCT0uptvvjlKt9mLRCnQc/GZifxy2RfPh/7H0/1jGVehZfEjoURRXf/617+idHZEOYjO+dezL14LzSuhUVEe7gkST4huw09AICAQEKitCORwY9IYBgoIBAQCAgGBGooAzTTWdazoU6ZM0YG0hAUxi5BZ5JnXnwG7EJ4GPAPk5Rqs3qx1gCWesvAYEG4EscYAZU2Tgcfkw/rPPyE2WOg//fRTXTSMfFzL4F/yM6aAmH+INNZkYEuoEudkOlFdC4EwJSz8hBoxcxIDhuGZ9REI7WExM6z98Gz3yUBmBj/bsVYiP/CHpb9Xr17q7WDgMfnwajDjEDwz8JgywYYB0hCekgsvvFD3GeAMb3hezBvArE94Phi8jGeG+8djQogS+TjHfeBJYFwC3g3/ei04/AQEAgIBgVqGQFASatkDDbcTEAgI1E4E4gJzWXeZKX95Bdvy5qMOKB4uZLxlKycTb5nSrJy12TJGgnEb0EUXXaQLoqGsGG+l1ZvtXLb0teEzXBsQCAgEBGoaAmFMQk17IoGfgEBAICCQAQEEcQRbBFQjLOhG/jnyYiXPlEZ+0k2wt/Jsa9dyTD6zttt525JuZZAP8o85z7+VoxnkB57J5/Pml0W++DV2rW2NRzwHXAtxjfHGseVh5WWjgw8+WL0Z5DNefV6sLLtvy0M9RnFeLT1sAwIBgYBAbUMgeBJq2xMN9xMQCAgEBAICEQIMpGbWIpQTZjfCi+ArCVHGsBMQCAgEBAICaQgEJSENjnAQEAgIBAQCArUFgUzKQKa02nK/4T4CAgGBgMC6RCCEG61LNENZAYGAQEAgIFBjELBQIguHIlTIQopqDJOBkYBAQCAgUEMRCJ6EGvpgAlsBgYDAxoeAH6fvjzfY+JDYMO/Yxi6gnARlZMN8hoHrgEBAoBiBoCQUYxH2AgIBgYBAtSGQKQzGLOAwheBpA2mrjclyVsy98G9UmsBsee3+4sdWxoa25T42lOe1oWEb+A0IBASqBoGgJFQNzqGWgEBAICCQFQETKFmrgLUNWIdg11131fn+/Yssn59Wk/bhD8okHGfiPVOafz9lnffz+vul8eHnW5t9q4MyuF+8CJ9//rlbunSprknBStBQZe9BLw4/AYGAQECgGhGo8jEJdCHF1rEcOSq2NqXjkO1caemUYOX5+fz99FoqfpStrGzppdVQmWtKKy+cq0oE6qamXqzKOkNdtQ8BhEtCi+bPn6/z+L/++uvutttuc7vvvruTVY11Zh5Zidhts802rmfPnhmFThNYfYHUBHU7B3KWxn6mdEuzckrLb3ktj11D2TNnztRFzjjHwmbcC4usWR7bcn7RokW6aBuLvrHPomrt27d32223nS7GZryS1+okza+XYyPS7Rxp9Dd4MuLXcuzzYdfH85Hup3Ecr4M0niEK3qmnnuqaN2+uC8jl5uZq/SF0DIQCBQQCAhsaAlXuSaCxXVPAnNMiIKuMbEJ9VUNn9SdZ0dpTVrCq5kR6nGSVQJHalV6pytnQCuGlJvABMzWVF8EH1hrUK56jvnoeVqh1Q0fAhFTu46mnnnKnnXaarmLMCsWs9usLly+88II79thjVej0hVSEYP/YMDHh2I7L2mbKn61sn2+/XPJ//PHHbp999vGTdSVjVnuOl8eKyWeeeaYK1GkXyEG3bt3ck08+6fbcc8/4qVKPFyxY4Pinrg4dOqQpJ3ZhnP84X5Yv25b8LNLGytB4fbg3nhVTraIkvPrqq+6OO+5wl156qSoo5C8t5CpbPSE9IBAQCAhUJwLJVWiqmINkh1YsD1dx9VodQh7yeLStDiZSdSofNYCXTHzwrKqDahQvgoHyIz/+tjpwCXXWLgQQHqHZs2e7559/XvcvvvhitabjPTjhhBNUWOZEs2bN9Lz/g7CL8Ml3yj7lsYWyCaV2PlM5pFk57FvZ7PsUbxfsPhD6TUHYa6+9XJs2bdz++++fpuxYOaNHj3b9+vVTBaF169aafOCBB+oWBenHH390lPHpp59qWia+rSx/+84776jHpVevXu6LL77IeK3xbwONs2Hll8u+8YBycMEFFzjqyMvLc0uWLNGsPKMjjzxS92+99VY3efJk3Q8/AYGAQEBgQ0SgysON4iA1qF9PBa94+vo+XlMonXPMWl8dvBRKf24dlX/PDQWXqiZ4KZDQBwRhiA4R61i9OpaSTK+KX+VFhCTrzCUwwNWtUzN4UWyqAoRQR61HwIRThMm33npL73fHHXfULYI38e0Iy5DfTphSwHbVqlUqSI8ZM0b3KbN3797uoIMOcgsXLnSEL5GPcB/SEGR//vln9+GHHzoWGiOMCWF8zpw57pNPPtGQmTVr1rguXbq4vffe2+Xm5mr9hD5NnDhRQ2nIP2HCBA2ROu644yKFhPoghP+ffvpJz8+bNy8SrjlnPN90000cuq5du6pQf/vtt7vu3btr/RdeeKEj/Ij/v//97+7FF1/U8t5//31tk+Brq622cpT95ptvqkWf8CSUEu7L6N1333UrVqxQb8QPP/zgvvzyS72vPn36OFZiHjVqlHoBwAVhn7zvvfee4kPI029+8xvXtGlTN2LECPfdd98phvvuu6+jLHAlNKpjx47u6aefdrvttpveN3xAhI+NGzfOMTaBZ0J7yr0HCggEBAICGwoCVS+JCjLWWNJgjh49Rhv/Bg0bqtCODcyaUfaNLI3jeB47V1o611FfoQieTZo0cbtKg06dRSIU04DTIX/55VfSOcySFTkb67HVpdfyk6Ky+IqfN76K05MC78qVK1zvrbd2PXr0VAHAhPL8/Hw3UjozOm1WBy0sQnBP3mXJsorxgj2rwzDx09iPp3OcI0rAqpWrVFjIExc/wgi81KtXz80VHrDG1ZO4YkmMsDc+/PIpy0/nnFEmvjiXlp4qAAvqtn37ivCwmcvPL9Ai6gsvP8/+2X391deuvrj34Q+y+7Fy/DTNID/ZzpWWzruSkHeiKFGksdGdO3d2a9bkR8KQlR22AYHKImDtINcjdBrl5eXprrUHlu5v7VrarX/84x/uL3/5i39a9++++24NX7rrrrui8vmWEeCHDx/uTj75ZM1HeBDC+MCBA1WojRdE6BOKxDPPPOOeeOIJPX3WWWe5Rx991KEgHHPMMdF30bhxY+Vna2nX8CBAhOMY2Xc7depU98orr7hddtlFB/tS7g477KDZ2N5www0OrwLhQm+88YZjQDf/559/vuZ56aWXVEn45Zdf3O9//3tNu/POO3UMwyOPPKKKEAoHIT/8o9AMGzbMXXPNNcZKiS0Y4MG4+uqrIxxog1ESqA+cIRSpl19+WfdRxhiHcNFFF+kzAFsUB9K///579ZIcdthh2pbaM9MLw09AICAQENgAEKgGJSHpFkcwRxDDavOXy/+vSqHqtvnm7itRTho1buQK8ou0AUd5ePmlFx3WrKqk/z7/ouslgxEZpUEnUkcEdoTkxx9/zD0mnXBV0uDXXnM9uouSkOKlrkjgs0UwP+Lww6qSDa3rfbFa5oqSACkuwsv06TPckUccrmlV+TNChKjNREkwAacq6w511V4ETGjkeyfcCEJBaNhQDCalEO0mygFevq+//jpSEGi7CPV56KGHpP14XOPhTz/9dPfggw86rN8QlvS+ooAj+ENnn322WvH/+te/qmC83377OcJkEPYZPI1iQLkI3owRgHbaaSdVENgn3MYnvCBY+f0wm0zfzfTp0/UylKO2bdtGZeMVwTCCUgIxkBlijAE8GWHogTBkgAOGDQZIc/+XXXaZQ2HAs3LttdfqvSO4Uy6EF4F7Oemkk3T8BGM9fv31VxX8zzjjDPU64AFg/Af9FNSuXTvdovzgkWHsyL///W9VthhM7is5KEXbbrutKgncT6b718LCT0AgIBAQqOEIVIOSACIi8aUIKw209dZ93KLFi9R6mzq1DjfiQRBrfMuWLd1EsShtLZ2kaCjpJmapjcYfohOcIbNzVHT2GizT2iGIsE9Hzn8mooPfTFzsX4pVr2HDYiubn7e1WLSgnVJueyzpZRH1E5LTsFFDxXGldFCZOUiWlMxfRzvpb775Js3iZ3XRAUNYxpYtX+7yxZqe5bY0H2Umd1LzpHs4lMqLYNa4cROx+ifcVAmvqFdPPBcxqlcvycvW0skjNJRWXuxS9SaoUCYnsj0Xu4Z8vJdzJVxgsYRPIIgECgisTwTwHkI9evRQobe0uvQ9Tn2ECOlYrPknrp93lVAhI8KKsG4jyE6aNMl99tlnGl5jnoujjjrKzZ071z388MOuVatW2gYQMsS/8YSigOJg3w3jDojH/+Mf/6izEJkgbd8NdS+XtqI0srLgFQGcayEEfSNChwiHgmgz+Teyfa6zMCzaBLwHKCkoCRBKQ//+/dXwQugWRJjRoEGDHAoNwvw///lPTSecCCxMAfHvwbBAeUCJQ9FAiSAMirbi6KOPjvoPrscDAhFyRDlgGyggEBAICGxoCFST9BOJkoJXcn/16tVumTTihTJWoDQhtLIA08g3SlnorINJK0skTuuo1kjexWLB8justLzeAZ1dTk4d9QAQBkMddJpYB7EicV9x4lyHlFCQDOCJ55DjVKcJ3wtjVrQMuZX3uiIgwLeRTTnIfVmnbOfYkk4YEcpTWcS9rJDOjgF7JhT415BGHWbZYwt+dOAIAvlyz/me8OJfy37ymeBlSgoCpSkAawTTpQwUBPt4QRmOecN4LnTe8IKwkAkPu7QwZaVFQQgUEKgKBOybYnYca4fi9Voe23IeJR5v7ODBg9Ni8S3che8WIfbKK690WMkRkAmXoR4Ig4h5MRirMHToUP3Xk/LDeAGs/gi7vrLMDD4Iyj7xTfEdw58ZF/zz/j7x/hDjCjBQENaTl5cXfZfTJLSIOgnzYxYhhGwEeCP7fn0s7Fym9p004x8lwoR46kTAJ/SJ+hiTYOFRtF/2LOL1UJ7VwzlTVOCB9p1yILC38jQh/AQEAgIBgQ0IgWpQEnwFoVgwz89PCm/W8K4PDFenhNQiBi1nIOsQTMCngy2L6ADoJBDm/Y7CrqMzs3ItjS11KKXDkUyT36Ki5Any8W9WsChDbIcOkHwIByzChKLzjAymg+AvG6505gUpV7owWlxqTPrm+eBJWCVKQpwog/qpx8ID4nk4Jl8mjCwvWBaleMikPBl73JsJOXZtWVsU0IpQEy+0IaXHVuTykDcgUG4EaCPMes1MPtm+ETM40C7RphB+8/bbb2s8PJUx9oDpQgl9IRTGJxsfgECO9ZzB0ITlEOqDEA6xtgHx/cTX8z3jnWDwMW0HQnrUZklewncg2j3fmGLCu55M/fhpto9wzgBf+IHuv/9+16lTJ/Vy4P1gPAUEb6yxgIeA8QdGhoXNKmTpbP22zvJpO5dqcxmPgacEBQQFCQUBYjwCz4F7gvAa0KZBvoLCMXVYu05ZlG/E80HJgXhGQUlQKMJPQCAgsAEiUA1KQhaUsArLfzbinDXK2fJkS7drI7uzV020m10+TivWyqJjxPJGB2GEdY3OmIV0GARn1j3Cf9asXpPGf1SvXRzfpjIYz1ZviWwpXOjs6fAYRAgfrPyJkkAnVUfyLE9ZtuLXWydIugeBy7ED24rNvo54TIzgh7LBACugCTb9+u3ktumzjdtyyy1dL/mnk/9k5Cfu888+1zhlQiLAjNuLik4VSpmlkZ01TErLyzkEHTpzyiU0YODAgyT2eI679rrrVNkxxSpTOWXxkumakBYQqAgC9o4hYNrqvFzP98HMQpy373NzGUfFLD+PPfaYfncMpH322WfTYv9zc3P1nAn9lGV14BEgBAfFAGEYOvzw5Pge6kLoZ6YgPA0YJAgBYpDzfffdp/u0KSYIc71971a+Fpjhh7YQITmeDy/nLbfc4g455BANsSKk6aOPPnKMiWB2IhuzQJGXX365jicwwwDhPoT5MMbABHy/aht7wPc9SMKK4BXDCe2VEYOZGbg9ZMgQS9I2CywszAg8GK8Ar4zJ8InnYkoT3gLO95ewJkKY8CIwqxKEImK4xTHwywv7AYGAQECgJiJQc5QEDx0aVRpeGnkUAxp9QnkIM9F4W6RLkxhlF8sPDbsJhNmVibhY6gmqXnkeK2m7NPKU3aJFc5kXe6l25nS628tsHEyD10U6BCxk8A0/uPKvvOJKN3zEcBWmrZNLK3QdHZi1CmGCQXkMaITArmyPSMmbj5BKnUpukqmGA50h/0wTyHzuYEAcMUJEexEymsgzLJCF8xBGmAHkPpkd5BWZFQRXv28V9CEoyYl/tmL7vEN05DwLBikefPDBKhTgDYFHYpgDBQSqCwG+I9osBE5fSSA23gbuMtAYwqLPv0+0J3vssUeU9Nvf/jbatx0TZDnm/ae9Giaz/DCXv9WBgoDQzeBm6mN6U5+uE6Wa8CBTPvhu4Ls0snpROAhv8vPThnLvTDvKAnIoIBCGFRZP8wnlAUUCsvAmvAPPPfec/vt57XtmcDEEDwj5/DMGg/YAwpBDvfz7dOihh6pCY1PQ4hU999xz/Sy6byGXzL7ENKgoVuDKwmlc6w/aZqYm/zmXKCwkBAQCAgGBGoxAzVESUsoAFnE6zZ/FAp3JlZwJy+ZizcYdjXJBB0TngDXOOo0S10QScIkzpSZQNsI4CgLEokcnnXiiWsx9KxUdIh0Ss4hslpqhB+tXRZSEigrL8AaZha958xbJYxmwbZYsTcj4UzFAqAvlo0GDhu5Y8VwcJrMfIWDYwG+qIHRhgsypTt2q5InnpU3KgtlA9rNSxEpFEShZoimZnGFFVN4rpl6ECCvg/TCFRxPDT0CgmhCg/ULQxNqPF/D444/XAbJY22kHLT6e95X3mncXoZm5+VknAOs7+Q444AD1ZPKeYxygPTXy21M8azaYlu+5v1jBUU7+97//qTJCPSjzCL182xxTNgYIvmf71knPRBgL7r33Xm0vaTMtnIr8/FMn3+Mpp5zitt9+e50lCCWI++Ja6kFZYcwCRJsKRgya/u9//6vjBwhDImSJRdkY4IxyQPuH14QB2gjwGCcYuI1RQA1MUhZt0msykxuGCsK7UNBQEKwuDB601yhTXIdyBZZMo8q9G24YHhjPxRSyKC5MdQrx/CDO+8qfJoafgEBAICCwASFQDUoCnUrJjiVHOgwsvvxDeA6YQxtLFFs6LDqRCRPGSwdjcfZYpJxazZfKzB1xIuSFwWjxeNJ4vvIcW8dGBzZ79i/uQpndAyUByz0Depk5hE6YDqi98Lqp5MPKTocO0VGybxY2q7MkEskzkaxsGcvY2jgLpvKjw8TbATEbkXkZsheRjYviK+CHcRKEF6HsbCVjH/4kCx4RHoCLHusaIQK46KeJgDJEFoZiGsY4IexMF4thNqrofWcrR9Pl5bAQKTp9yO7UlCpNDD8BgWpCAEEZARgjA4I7SgLz8eMVYICtWdlLYw9L+4ABA1QINmt5pvy2WBszHe28886ahbrhge8BpYN/a4P9sjh/xBFHpBVLWtwAYUoDSjljG+Jk5609ZWv1ImjznzRAFM/6Rj3GI0oLigFtK6FMEB7bONFncI+0hSbU230x5oFrGAOBMmYTN1AP/7Rx4M4zoM22tgNlwQjcCJ1EySEfx1zH1LK2FgNl0F9wzu7brg/bgEBAICCwISBQDUoCsJQUBZn5plv3buKCHuh2FBct1iAaXYRqGnMaeoR9hH4acpX2UsWgSBCPT9gRndacOb+qi3n06DH6DLhWB9SiUZRCpZ2lzs7CxyzpYE4U78Exxx6jwjHFIfRe+9dr3ccjPxZFYZm79JKLxSq1pQjM8yP3OQpEXEHg2pJIkFp+Uiwk++KlyakCPxr+kVqvUF7oUAk7ss60/KWWzGnYWH0sNIZljg6dDhyr3CCJ//3brbe7ooLkFIytpBNlPATEjEEMHuYZmYBQshZ5rFbRWiOTfEVYDA2yTtoGRmeqO6QFBKoTASzehNsQL88Kv1jKEVIzCZl8h9E7Ld8Wyrd5G8jPNwmRj32MGDfeeKOmMW4pT8IifaIsrPDk9ZUDS7Nv1q/X6vfLsX3ylZXXyjR+EcZNICfNeLd62MIPbby1aYaN1WV5LZ8pCLS95lkmPIj2mH7FFATLz/WUCRkOdmxlcw6cLN28JPCABwMlhulh+4t3xsi/1tLCNiAQEAgI1HQEqkFJiInFqUPiXVnQ55JLLtEOwDo5A5BjXL/ZyBpsGmM6gL333kddzbjhEV5xuyPYlkYxzkpkJcYe2n333TSel7oQeolBfVEWYsvNzXX16ix3N910k+a74oor3D333OO+EPfz16NGyexAy9wv4oVI8hpJw5p3bX+WL1uuAsX7772v7vvdZKAeA3VREho1TC4ilL2O5J2ncZR2kLySZ4A1ju1ECSWiIySuGWxxxd98882aEbc/HTIdM3kby6J1dMKFBYwdWZFU8rIyU9ZTkAsz8JapODpt8+SwHyggUBMR4BsxIRcDBOMFOCYdyiRgkmbpCM20KXYNx/a+Wx6EYQYiQzaY1vJrovzYdX5bSpqRlcWxv2/n/W1Z5y0v+fx64Yk0/u3+LS9b8vr36mPn1xnPx/F5552nY6dQpvB+QrRLlMF5IyuTcz4fcUyNP8vHeZ4fYUYoO7Q9cYytjrANCAQEAgIbAgLVoCSkw+KLblimEbpNsPNzsn5CkcTXWwfClmv5Ta5TUGw5a9GipQ7owxLH1J0oCQy8+1Vm4VEqp5Dp10+jb56ALuJKx0IFD3gomCoPIs+yFcvV/by/xO8OlIF5uKQZXEiM8NChb8v0hIN0JpFMU3z69VWURTo+XPXdZTGmLp276PoHjRolZ/OgLlZyJlyoNEo7aweprR1yPZ0094rLnw6S5zZ+/A+urqvjevTq6XDn2/gLnqdPhps/K5R/vlwagM9M+sVpR3TiVo8vBKRlCgcBgRqAgLZnImTS9lm8v7HFubLIBFbL51+DoMpsRbZqMHlI8/P412VK98/bflnb0sqJX0ve8uYv7V79cuP5CLOKU7Z2AV7i57Lx5+fD+22UDWM7H7YBgYBAQKCmI1DtSoL1fzTgt912m8a1M1c31i7idE0gpYOz2HoGxY4d+50qBzTcCKJYhhh4RoNNiMuSpcvUuj1h/AR9BngX4p1GRR4OwrB1BitXrJR1CNa4hjJwlzAnPAY9t+ip9R144AHu+uuvd6yEqryIoNqhYwe3VOL4WVEYQqCXXrrU6ks/W/JShHZVErrlaSgBCg1zoUN0VmUpCCVLTKWk5JPkpiRX3CPPoLCgyBW6IsUgXhbjFpjlaLiEQtk6Cs0knpixHGa1LL6mZB3F5yq2B87gcPrpp2voWvLqdVd+xbgJuQMCpSPAd8S3yj+0Nu2VXxPlQlY2x5bm56vt+1Vx/+blAN919fxq+3MJ9xcQCAjUXASqXUkwaFiRF7Kp7XJzc3VGmoULF8isFX10gNkWoki0FAv+6tWr3NMyNd6z/3lWr2FwGGE9PXtuoYoEYxeYAeNPf/qTnseaz6DajhKDqlQJORFh0wTaURLC01cWJGLwrikOkyZOknm3T5JVTc+U+bZ7iUUwuVonHgQGIz744INaNZZCFAtbjCjJUMnflGxe8kSZKVyZFALKLwhUvDYTZPAYoLwdfMjBbuWqFa51q00E547J8CJRrMAenFaJ12H8+PFutgysfuONN9zbMrAZ/hDk070NFeclEyT+vRMzTD3w+ssvv2r29DozlRDSAgJVjwDvrf/urksO1mfZ65LP9VVWVdx/UAzW19ML5QYEAgLVgUA1KAlJIbb4ZpNCIeMF8BxgEWdGimmyYiX/0Nix49zzzz+v+2eddZa74/bb3V133uW65XVzSxYvcaeceorGxiOsEl7iKwiWpheXYb0vK9SFwbmNJL7+3ffecz1EYekmU/IxLd8wmSqP+cWZKYNZPRBAmeVn0qTJ7uGH/+0GDXpSq+fHQpasrqwicQUVGfVOSPmMD+jQvp2Ov7CBemUP1i27smSOYm5NyGYBpB49eupKz1tueY1Yz1hVuUBDkOgwEcwJR9p0sy4uVwZLMtB5gHhb7pUpDllltWHDBmrhjHCJWCmuKwKvkjvwgTI3a9ZMXUWWYvC6QKbs6EH4CQgEBAICAYGAQEAgIBAQUASqQUmg3kgSLN4XCxrCJFNpYm23MBaNp5eVfon1ZGajDz74wH0mA4EPlJj/C2Qa0tUyfzXhPMzZT0gQ582DwAwYzHyEBak8wmBylIPiUuKHMojBz8vLdWPGjNG5sVkkjKlZ95b5vPfcc0+R+5OCLUrOq6++6u666y4NvyEOnwG/CMLFfPgYlKiu3Al2byhXEDN2oLwslvAqeIAKJDSqdCqvQF7Msz4nEbyZxx2cGWzJbCB169V1c+fM1f8mTZu472RKQAY1773PPooVY0O6d+/hzjv/fDflxyniUXg7fWGziJXiukrwHuUpcSZK8C16jFFJenwkBKBucuxKlDHsBAQCAgGBgEBAICAQEAgIlECgGpSEUoS/FHsI05FlOZWGUErYCHH2Dz74gE6RykI1hTKYGQVh1cpV7vMvPnevvPKKXoHFGgWhIlQ2Z8yGkZwhiSkFWZMAoZfrENYRTPFkvCyrCt944w0ackRYEV6FbJStzkQ5BGG/TOqHULD49y8v04GSprSlSvULkKTYoYZegQTen0ceecR9ILNINRJFBY8GHhdmq+IcoWGMR/ho+HCdaQmlgvUlOolit4MsooSSgOJk/KcrkCle4ptsoMXzpY7xbETKWUWBzVJmSA4IBAQCAgGBgEBAICBQmxGoBiWh8nDiKYCGj/hEZwtCSagvsf/Q1GlT3X333afWc+LgbVYbPRn/iUu88fMZjk3INOWlU8dOafNoY6lmcPQLL7zgzjnnHC2hhUw7uES8CuuT4nxtLYshMTsKc4FDeGDw0JSHMsKSEsizyeWsRMqqpvyXRhbew3gMrkGBaNYsuRgSZRcrCRm5KK3ojOcYP5LSm1RZRJmUaO9y6SAZCwyJAYGAQKUQ4PvGUJHNWMF3qv+VKj1cFBAICAQEAgLrC4ENSkmwGXwO2H8/XYUZwRxhEMGdAcKE1xDusj4IIZZQHizkV111lTv+uOT4Axbr4hz/C2VtgCFDhmj1PWQqUtZPqApi/Qi8Gnvssafbrm9fDdnCmwHhUSFMqzyUpgikHWS/GiUFRQTFBE8KOOTLeggF+ck1ElAOCAlDcTPPCzyhuJinB7XAlJ1yVpudoQxnmDo36e6Rkznro4YMlYakgMBGjACzLaMU8G1LkyAzzrGTHRDycg3eSfJq/uzZw5mAQEAgIBAQqAIENiglweLMGYyMYIpAineB4x4S515ftqzcTIx8qZ4E6YwqSsyghIKQJwNuDznkELdt3221CIRbW9WXmZd2lUXMmL2HqT5NqaloXeXNz/1TP2MBGKTcTaY/7dixow4WZrYnCHxMAM9ebim9d+pUKTm0PlsXIVMdhCDNkTUqtt9ue52mlrAxwrW+k2lsIbsP3deUdfSTes6soxEoIBAQWL8I8LmJzSajUiAzJLsVaxIuX/R18kBiU3D1xabTpEGOLEKZui55ShUGFAfylNb2pLKHTUAgIBAQCAisBwSqQUmofJNvwi7eA5uOFAET6tylsxv69lvuscced88++6xa0AlrWVfEiqWMLThHVxlOKgj5Yi2fP3+eWu7z8vI0hIYQKIi8KBYWZlNRPsqDkuFRr37yMfbr109DeUaOHKlTrMJD+TAoW2sqKwfPASUOnowv7hmFgDUaUGJuu/U2mdlogOLFbFBvvP6GXpOGEZLBuqLUu5HARGnk7VpS2AYEAgJrhwCCPwK9zQuAQjBrYcJNm1/kZsp2zvKE+1Wa42WSjsIA1a+b45pKtGh7WRC+fbMc17lVjstrU8d1ap2jioNpB3y+wbOQxCz8BgQCAgGBqkSgGpQEbq88InBJGGw8AOsgzJgxQ6be7KGz1mAtJ4Sl/z79dR58lASEYzwM5Y3HL40rv5yuXbuKpyIZ5z9ixAgNLzrssMNk1qM86cjqKB859cXCn88qx9JrlkFZkSinMJubm+um/jjVnX322RICdZybKd6OW26+We+dqst3/1m5KIP74tMoBjwH7llDvoR/FAdCwpYvX+Iu/7//cwcffLBr3qK5++GH792bb76pF5cYP5IS7ItLzrBXDnap25SVRo0aKi9aUjmuzVBjSAoIBAQyIIBOzydLU0eTNfnXIvfFtEL3+awi990S5+bKcKhxBXIGxYAM9k9ZhP7xPfIv129dL8e1bVDotm2Z43bulON2yavrurerEykIVheXBgoIBAQCAgGB9Y9ANSkJ9BQVJ6YgRWBnmtP/u+wy9wex6u+xxx4a764CqgikTEv65JNPutNOO00FZGb6MeWi4jUmr8CLgFIy8KCBqgyQumrVap2t5+uvvnIXX3SRZly9ZrXO7IOC0KRJ03J5EbIhUZ5JePBUsJZEZ1mD4Nhjj3XtZKal4R9/7EbLFK2dO3dRnszjogdr8VOabO0L5L6Xp5koUwzmvvLKK915553nOnXu5KbPmO4ef/wJXTSPNR0Iy0rnMRsiFWPe1o3gKtayQInkHamkflqxykPugEAtR8AEdhQE5P9vpxe6178vdK/NSrjp4i1YLZ/xUvnvJD3MMS1y3GbiKcBbsElj8S4m55pwK/Kdm79SvAzLnJu+LOE+EW/DuOXOfb0i4Z77xbnNxxa5I7rkuMN613XbbsbK7klQre5aDnG4vYBAQCAgUO0IVIOSUHkhEMswi3gxM84bYonmnxWajz7qKNdApt9E2GSsQn+Zk/+II49wrw1+TY8RRNMoi8SbjbPlopwgkL899G1RTP6gRTVp0lhXGd53331dF1lADWLw9IP/Sq6s3LJlC11ZWU9k/MnCRMa8mRNRmKD2bds51mJAGZo3Nzndqg7WzXxZhtTknadxlHaQNABmuFDHQ7AGxIABA9xR8hxYQO7uu+9yhF2B2RFHHOFOOukk16VLFzf755/d66+9ritQI7Tj7bFF2TKVnTUt24PyLkBxMa4bep4EvD2BAgIBgcoj4If/TJ1X5J79usD9e1qRLOAoUzDLZ7e5jDHov2mO232zOq5newkfkjCilo3FqyifXqxZUccCs0ovEsVg9qIiN3FOwo2cUeSGzU24eWJsefjHhHtUyv5jXqE7YYd6LndTJkcQxUTagBCCVPlnGK4MCAQEAgLlQaAalITysJU9jykKFqbClKMIhNtu21dWG95UV9WdMX2Ga1A/KUCnh9vEu6js9fhnVq5YLvP6d9RZgqZPn64eCgT0LXpuoSEthNjg5WDa0W9GfeNaiecBwbl0KoekW3oBkYdkzq9zpL5luprwO+8M1ats5iALuSmjKD2dxpEd2DZDAYQS8Q/167eTKgoHyCJ3Rx99lK7VgDW/Xbt24tXo5GbOnKlrWLwksy61aN7CrVy90q1Znmlq1so9ozh7KB8ySkKTZ86cpc+smww6Z4pY1tJoJIomi975XpB4GeE4IBAQKEaApgArPsI5A5Df+q7A/W1UoZsvnoOWktiliXNH5NVx/XvWkTChuq5BtonmrE2RcvjaGbS8qXgZNm1W120jDtDD+ibDloZNKnSDRUH4RdwST/xY5F6fme+u2rGuO2ibeq6+XBMUheJnE/YCAgGBgMD6QKDGKAl0FknrL9OJln6rWMzxDrSQ+HamPeX/yKOO1BmOxn431s0QQb4gFR+/YsVKjZPHy1BWufFak/zQMYpVK7Ug2uDXBiufDBLu3bu3Y3zExIkT3fjx491bb72lRRRJfsJs7Pp4uSq4l8FMBIHtSH7bpTzKQMiFZs/+RUKsntIpRQcPHqyeFmYbyla/XiQ/lKF5SuMlVSkbK8+2lINyBE2YMMm9/vrrOnuRLjAnZTMtKueHDn3HvfPOO7qOBXmZfSp/jQjx3FOq7ggTua5MMp5K4ZvQIqZihV568SX1csDPgtR0sAWiRBgZD3Yc4WIJYRsQCAhECsI8CQ16eGS+u31Kkesj4682Fc/BiaIcHLZNXZcnln4jhHg+Z5SKtE819f1aPrbkIz/5UC56d6qj/wf1LnJvjC10z4mSUFc8DiePLHB/kXEP5+xR323SNCcoCj6IYT8gEBAICKxjBKpBSUjvIaRfUELw5x8qj5yIILdkyVLHeIGGDRu4wa8O1msz/TC7DmShLQlRGEojjV2XDCq4pjLalKYffvCh43+HHXZw+++/v8Oz8Pzzz6cVh4IA+denZZADqyOebsd2reXLxLN5SQqLCtygQYP0Un+FZyvDysy0pQyrI9N5jQeQE/nybFj1GrJy/eteeulFxz/URtZtWLZqhdt1p501DOy9997TdHijvmz4MMtREeMGIHsxkkdpv4XRe1JKJrmCaVeh73/43jEl7Px5892Qt5LrWNjaEXYvmtH7MWxJkvmavDNhNyCw8SFAk8ng5OkLitz1/ytwX8m2tygIW7Rw7tx+9Vw/GWQMmbCPYsB/mmVDc2T+QTmQyY6U/DK6ta3jLtq3jtt180L34JcFrnBpjntmapGbuiTfXbd/PdeldR0JM03ylrnkkBoQCAgEBAIClUWgGpQEBK5UbyB79eomWWDQLYN9EwS2eudLvTEphukt60qwa5cum+m6BAiyCLQIkoUEu0KST8cryHoCWP6px6iYE5mSTwY5QyxO1l1mTvLj1+nEEIoby5SezWWl4FmzZro77rhD8/fZuo9r2qyphhjpdJ5kLkWu5B4Jl4Lg3Se7rH4qXGoTyUeYTF14s5N2Acyn0vCqIPAuFgWldetNLEcZ2+QMTK2kjsmybkGm2ZhytKd3rkOHDo51IFDk0n0awoLUyxgNFDbwRwCnzJGff66KWR8J8WEMAkodYyXaS1nGtzGIIM66EpT1/bhxmXkBVyFCmCiv7PckKd43bNDQPfXUU3rtllttpe9GadfCQ+PGjRwrZk//6ae090ALCT8BgY0IARPCmc700nfy3S8SSVlf2oVDu+a4s3er79o2T36XBaLfE31own5lITKFgaaNMlkfc5duSS8FHoyXZiTctzKt6qVD892dA+q7rjJtKk19rCmtbPXhuoBAQCAgEBBIIVANSgI1F0u7Fq4y6uuvq+yh/Pjjj1pXmiwvLFkcP+sMVITGjhtbkeya11ZjTlsjQM4ku1sZyJcabP3JJ59UuOzKXuBbz62MQnppoW+++caSKrxlrEZFybw+/nXmafp6Ld6V8T/84BdZrn2rt1yZQ6aAQC1CwITv2YuL3OXv5rvZEl24WNrKS3rXcaeJgkBoEHloS9f1Yve0hZRpYUvtZJakyw+s79pIyNE/fihyP8msSFe+l+/uOri+69AiKAq16LULtxIQCAjUEASqR0mQHgUbLxZpBgT/5jcHuc26bpYMNyrWH4ohorew9Gz7xbmTe34+LhfrMANpUQTy8nLVUi1JGhNP0cSl5+Z1cwcO+I3rLpb7lTLzDkWURhaGEresl3aNncMSPn7CeLX6261xznjacstebuDAg93muZu7lTKuIh43b+WUuo1hkDGv3HeDBvXdlMlTdIYk48XqY4DvEUceJYuztVFvTFEh4xgyllQiUcuSH81fGi+pc3XEFIhnaMHCBTpuwQq06lhZ+tBDDnUdOnUs37tiBci2Is+KZ1BPpJM1+WvcapnqtqnMmBUoILCxIWAKwnIZmHz7hwVu/FLnVsuX9Jc+dd0ZuyfnMbU86xMbC1uirgbipjhnr/rirRAvwrhCN0aGZd05rMDdcFB911TGRlQFP+vzXkPZAYGAQECgJiGQI8KzyYVVwhfVrZGW3AQ/rNcawpJJ8oQzy+hzF0/3j8vYp37CahpJaEtc2s3Ki1+mz0dl9r2y4IVZkljLIY0kD2suEN6kwrp3TVo+OyjrvOXLtE1dm40XwoMQlPVBZHoWfplxPuLHltdP9/flPG8jKiS4aIiVXSNb8MDzYgqMnopdH2XPlh5lyLBT4ppkgj0jMPKpwbo2nfqFh/2AQDUioN9h6nt/aES+u14E8k2kjT57ixwZI9BAm+XqEMitTtEX3L0frHGPT0q4+cLszTJo+kwZzAzheUhFSepx+AkIBAQCAgGByiFQLUpCPi19ihDYNe49Xf6y0+tt6w+6tUqUl0zKimVYD1sET8ZLxImxCgjDMbk0nm2dHjMrU3yANDxkGquwTivOUBiYxIXymsQLLAclIcODC0m1AgETxj+dUuhOkYHKLURx30tWP/67hPY0qWaLvSkBeDiuGJLvRsqaCitEoRkkA5kZu2BjKGrFgwg3ERAICAQEqhGBmAm76jlRYT01oU1V1p5mjU5VnElxqAqeMvFSkBoLUBX1Wx1J/SjdXYCgXh0x+ZkwIRSpQGZyqmrKxEtV8xDqCwhUFQKmICyUBc4e/6bAEWzXTGYyumTPeqogIIRX5yBhvAQoCoQXwdO3oijki7PzydEFrlfHOq6VLNwWFIWqeltCPQGBgEBtRqDalQTAjVuMqwLwTIJfTeGjujAh0CfuSAGT6sAFDOLPiHEFNYWXqnhHQx0BgapGAM+lzU40bEKh+2hBwv0iRpz/7JJc7ZjzTIVa3WThREyReul2dd0fPi1wb891buDEQlmMrZ7yCK/x9qy6+Q71BwQCAgGBDQmBalcSGtSvl3HYwfoGkXERInGmVdNIBvBWNRFolJ8v04rGerOawAsCOSsq17MeuQrBkfHRaWNV4IWxGybAVCErLs5LVdYd6goIVCUCKliLEjBnScK9ISseLxbH3Wlind9vK5lmCEp3NCbTqulXeRV+9tuyrjte1k54ZnaRe02UhN2619UVnGndaxC71YRSqDYgEBAICFQegWpREqxxRzCeNetnne6zLoNA02V2766yNfeZ07E4JzuHWBchh8S6N5A1CDbbbDMdGMsx6yEghP40Y4ZbKnP5I4xynLl0j60MOewWYjVHt2bp3HuBrAjctm0710YWGbMYfOL/C2Ww8NRpM3XdhSQvqBJ2ZbL+bLxZ/eSyKyyNY/+6aF9OMNVpu/bt3CatZRYjWcfBFIRly5bKM5oVrRVg11iZVo+lc2znrH7SoPKmgwVrKbSSdRksBAxlZYmsMP3zzz87ZkGiML/OZA1l10G+8vOVrKRDR1kjokVLXcU7rsxZvWEbENjQEeB7Mi/BqOmF7uNF0l7Kp3aczGZEaI+12zXmPlMfcvNGOe5omZL1rTlF7s35Cfc74f2A3uJNkPOZ2ogaw39gJCAQEAgI1HAEqklJEMG8Tl21ng9+9VV34YUXyCDQem5NaiXd9Y3Zb37zG/ff519wzVu0UGt1vQb1dNGvJwcNctdde60szNbFzZw5c72ysfnmm7uffvrJvTJ4sDvqiCPcGnVsJBeGYwaf++//p7v7rrtcV8nHgl7rk9q2bauLzA156y138MCB8hykcxWJAA8Cdffddtv1WX3GsocNH+H22WtPURKKeZk0eZLbpV8/WfSugSyYtybjdesj8dPPPnO77rKLTIlapJ6V9VFHKDMgUN0ImBLAgOCR04vcpNUJd0GXOq6v/NdEQkewQcx9N6vrBrYrcvfPLHIjphW5PXsmXCMZRxG0hJr45AJPAYGAwIaCQLW3/syoAzVv2Wq9Y9ZAVt6FWIk5WatXpfBhM/uw8u/6pgapOqxOvz4E9EJG3gnh9VjfxCrSEPXGydKw6lclJVfeTq+RgctQy9Yt00+s5yOrdz1XE4oPCFQrAgjd0CwZh/DxHPnWJGH/3DquhQwErqlknLVukuP26SrdmTikP/w14WbKisyBAgIBgYBAQGDtEKgWT4LPMotWQYR0NG7SOBLU/Txrv89sF4WuRcuWbsL48Y5FuUqQ9Db16yXHJLRu3dp1lEXe1tfUn0Ui7LZOCd2E0WQi5uaHWm/S2rVv315CoOBt3XZ8lFZXPDpt2rRRjwHenTgRigV16tTJtRSe82Vdi/URcoMy0rhxE1FUihwrYmfCPicVC9GhfQfXMIVPnN91cQwvvCNz581zixYuTE7Ruy4KDmUEBGooArQFNixqgoTtfLgs4fZpluO2kvEIEPYDO68JNeQHnsyb0LtjjvtN0xz3joynmPhrkeshU7bWRJ5rCHSBjYBAQCAgUCYC1aAkYPsx+09yjABcLl2yxM2UMQHrkjSeXyzyZpUn1h1aI+E8mYixANCKFSvc7NmzM2XaIibJAABAAElEQVTJmobFP1/GGJjlPWvG1Ik2bTbRvWxW6sJU6NWK5cvdr7/+mrE4FAy8HtyXLjImuDZsVNILAk+rZAXpTITA37hxoyQvIqDHye5nsYwHmDt3rmPBubUl+EYJyM/PTyuqpShx9qys3rQMSCpCS5Yu0XESaefKOOA+UbxM+TDMsl22iShOKAhKqXqz5Q3pAYENHgHVEmSyAGkCpsyTH/nMd2+T4zq1SrbVqdM18jb18xQ2O7eu47YRft8RT8h4UXQGCNP1JL0m814jAQ1MBQQCAgGBFALVoCTQZPOfTliJER5toGr62fQj8jVq1EjHEyC0xgVKBEGEwPj8/iYgZluO01SXyFJOQklW05gxntfkFwvPXB/nKe0iOYjqiJ+IjpPc5KQs+fEyuRewQqExYqj1ypUr7bDEtomEFfn5yYAiZbjY/addmEokT7369VVJiPPi5zcFAOwzYcC18G3PmXJNeeNa8xb4iqRfPvvGbzw92zH3CD8oUnFCycqUXlf4KqaMyBSfDnsBgVqCwOKVCTdWhGwnPUNu6xzXTAYF13SSJkWJAczdhGcnTtcxMoB5hYypaLEB8F/T8Q38BQQCAhsvAtWgJNCiV77jqS+CarNmzdxCs/Lqs6O8YmkeyzjjDxiQi4DIjDiLFi0qXTAvvrz4bciUVnw2WbP0UIQmERKEhXvqj1NVOPYFaXhAKM4kNCeyQZEl3S+3d+/eGiqERR5vA+cIC7J62JKGED5DvDQMxjaB2b+NchvKUxmtfL8M20epMe+GKQKcM75RBLYWvhH0J0yY4FaIUmPnrIzkthTwSznll0G5eCekAtdKtvwTUsWIlDqSNm/efDd9+k/lVk79ssN+QKA2IrBSBOsflsidSc+QJwK3NUPyudRYgjeaJmYzysPzIfr9lGXinRaFR5UE2osazH+NBTYwFhAICGz0CFSDkkCLXU4pL/Z4EPoQMtMVBCzLCMLJMhlgi0Jw6imnuRNOPMHNmTPH3Xrrre6rr75S70OsyLTD8nDlC7RMXzp37hx32mmnud8d/zs36ptR7owzztAyW8jMSYToYL2H56VLl6bVFR2Up9Ioswzwbt7cLZHQrH4yy88tt9yiW+oZMWKE1rP//vtHuVEOqBsr+osvviizSF2owjlK1rJl0otGVEEmouvSd/DuENa0bFkyjMhXSKgTDODlb3//u47JuOKKK9xw4ZvxGQvSlL70cit71K5duyhU664773T9+/d3m2yyiSpRvCNvvvmm+9Of/uQ6d+6sCpR5NCpbX7guILDBIpASollleYbMbtRTeoY2Et8PWcx/Tb03uIRHlIXmMoC5r0zXOkXuYa6Mq+jcuqZyXTV8+QYd+q5AAYGqQMDvSzEI8h7au8h7uLbvYrz8qrinjbWOalAS4lCXr+HiRWvcuLGuHXDB+ee7Aw480I0a9Y179tn/uMmTJzuEcl5ChL999tnHnXLqKTqV6fffj1MFoaMMjF69ujgkKM5FeSxNpiAg+OM5mDp1qttll13db3/7W7dV763c6DGjtVg8GMtlLAH88j9//nxNt+tL1F2OBO4Ngd9mXhooU5XuvPPOqjQ0b97C7X+AKAfSUW4qay5koiOPPFKur+fOO+9cDRnKFGZTWVUBvvDwoCCceeaZig0C+LfffqvjAAgJoz6UhG7de+gaFSh2c+bJEqlCdeT6dU0MPl8o7wJ08803Oaa9RRkw4vyAAQPcqaee6p566in1wOBxWp/kN5TUU9GwqfXJW6ayfX7XRcOeqY6QVjMQsFZ4oUQrzpChWftKmE4DphDdwKipDK9qR7iRDMFaVjK6cAO7m8qxy3eLEMU3a20MaXh2/bTKlV69V/ltEpzY/VUvVzWzdl+Q9jkEQ3DjXVhfFH8u67L/MP6Nd47X571YPRvr1g+8riYMyieamoKAUPfnyy5ze+21t4QdNVUhVBmXFx7hHcJivsMOO7iPP/7Y/etf/9a01avWyGJYsgBANioHG7yMEHH9KAjQ+SJ0b7/99u6XX35xH374oaY1bNjIrVy1UscHoCBccsklrt9OO6kSszaz8vDhIZBDLAaHVwHiW2/frr0K55qQ4Ye1H4466ihVaDiN1b+Y1q6x4NmgpEEI46efdrrbNrW2gqXbjFIDBx7kunbtqoOgx/8wXq/Bu1BM5XgQxZkz7hFihLdpR3kHXnrpJVEETtNG5KOPPhKF4Wb317/+VdeoQKHCwwHh9VifZA0Zz9D+12d9ZZWNwADu/Nt7Hb/GBAr4DY1wHJ3aeby6QL4/GbfcXD4HWT5mgyFrNRrLSOWm9GpyD/ncy0ZGJhjST/DdGvH9WprlsXPl2XKNtReVub48ddAOWR1+qKpdm60NzdZ+2XUb29bwsH4mvuU94H1Y18/R6uXZIQ9Nnz5dt4Y/Ic9MflIR8vsp4xfekcGYBREDJMdWd0XKDnnLh0A1dAMIpBUTShH+C/ILXG+x1mOpJu7+LVn46+qrr5FpTVuIlbqBayKCKi/m9ddf7/YWBYLZiR544AE3ZswYZwuXcZ1Spr6jDJb40HhJu4pwThz9nnvu6c4951y3w447uO/EYv7Agw+6d955R4tftGih8NNEvQkPPPiA27f/vm78+B/0XCPhc7XOEFR6hZnOUj+NKDRx4kS9XwRd0vlIMgl8fEAQQnqLFs3V+/Dyyy+r1d/OVTb8i3INlwIZF7Hrbru6vLw8WXRsjY4D4Tx80SjZ7Ep77rGHCuQTJk7itI6pWL68ePC1iwZpZEJALyn1BwWB8Cvowgv/5PaQ+j6TxdBelUX7eBfwNF1wwQX6fkyZMsU9KM+NmaYq2niVykTsJBiANe/nqFGj9P5J22uvvVSxtfP+ZZnS/PPslydP/Bo75pn4ZGXZlnOjR4/WWaTgHS9M37599RI/T7wMjovfK/9s+fYpG1qbMspXU8iVCQHCdvBI1pXPL9V0ZMpWY9MYl8A/95B8k2osq+ucMfoB2mOI/u/777/XcFsms6Cf6CCr2G+zzTbq3fbzlocREzQtb7Y2gPOlnbPr41u7Jpuxxs7Pk2mpCR2G4GnXXXdVA1W2++E6aG3bk3VVjjKznn+4VyIZMJLafduWdr9nz54pb34yDMjOlcZWee4fgZ7nRx970UUXuRdeeMGdcsop7sknn3Rff/21hkYfffTR7u8SbrzFFluo3GLva7by4/0UPHJv//znP92VV16pMt7vf/97facpw+4lW3mZ7tG/LtP5jT2tGpQEPtqKNd8oCTQO++67r1rtly5Z6t58402ZQlPCh+TFIIwIi3WPHj3UUr5p203d4EdedZ988okOXEWjhezFyaajFA/T0+zRDy8yjRDWcUJoLr/8cnfWmWe5nlv0VG32+htucK+99prbcsstozpWiuD7hz/+0R1zzLFikauvH44WmGq0DINsonCULcUFLz8foY3HGCQfHpjsvvvu2vgjGI8dO1Y7Bz4s+CXEZ+XKVRLuNE8/JpQkrP4Qg53tg0pVkQ0WO51xiyWeMRJo9r/73e9EmOykDcIHH3yg+fmgwZ2B1YcddpgqETNnzXQfDRum58F2zRovLiACpJR3JMqTzhL3Y43OySefLI3STiKYz1YPCjnxLBxzzDHuKAm9WimhUXgWIMKwTInRhHX8Y43QtGnT3CGHHBKVjtLAu82z8p8F+/xbOvuUEb2/qRK4V9LIZ42pn8/KiadxOWN1eGe4jtA5nmO8fBSrG2+8UWtD+TYlIVW9bqx+eDE+eU/ZJw3ejDLxwzn/PqwcrqPsTPfFNZyzvBwHWjcI1EPGlO+LFeBlzckNjpjCNZ+mQ+6ByQk2FuJ74XuAhg4d6i4Tb/u4ceNK3D4CFcIVgiLfEP9Gmb5PS6P9pr1ACCScFi+2fz35OLb89t3bt+3XY3xaHuonDWWGkE/SaReZEMQvj7aAyTcItTX66aefMioJVrbVRf2kUYbPt9XN1k+3ev22jPPxY9Igu3/2rU72q5rgB14I7T3ooIOyVv/ss89qf01euycy2/V2/xyDG/dEGvukWbvMNYY1+xDWfZQCiD4PGjlypG5feeUVd/zxx6uSQILVTflWF+mGIcou4yepGyWXfgqDHu8wdL6Enh9xxBFqxLLrjVeOKd+OyR/nlTTOW7rVS3qgJALVoCSUE3rad/n+cvNy3bSp09yFMsD07LPP0tj3L7/80n3x5RfakNCYENJDw3XxxRe73Nxcncnn7aFJqz4vFy9L+ShzPl4gvBEoCBAvJQoCU2cSYoSCAI2XhdogrK5Lli11hx92qNtU5tv/7LPP3dhxY/Vc0ougu8mfnMx1ZpPYeemZ7/9XETAfe+wxN0yE7a223MrNkQHUX3zxhVdw8S6Dcwkvso+GM8xClEitC6E9anH2Cu2BP0oCFvv++/SXMhNi6Uk2EN27d9ePFJ5xNfbq1UuxQdGZPGlyVI99oCRkQSPKqztZMtGAmBLFOJF27dpqWBHXoEB+LVb8vfbe2zUXhZLxCjQ+dHp0ThV7T9LZKe8R4zagrbbaSi301iD5Da5flp3nucEf/3Eiza7PlC9TGmW8/vrr7g9/+IMWh8URnuLkr7Lt71s+K9vqJ93nh2O7B/Yhu8a/F0vzy7HrOAeR379GE8PPOkegEeMQxMm0SByWazagcB37MlaIhrAUZ6vcQ4Pk57bOMappBdr3A19Dhgxxhx56aBqLNv6MtvqJJ57Qf4Rrwj7j35SVFU9/++23HQoGhABIOC9k3yn7/jWWTtvOvn+OvJDlSR457cdppyGUnDvuuEP3KcOu9z0N5PXbDM0sP1anHbPlesvLvpXHOf+e4+l2TbwMq8PP7++TvzrJsM3NzVV5Aes+hiGjE0880XXr1k3GVO4S4WLnbGv36GNg5RpmbC3N7p/3jL4fTz0GKMo57rjjtG+mH9lvv/20Cq71y+Z6K8PqHjx4sIyjPE/zYwTdeuutVYZ4//33HecIobYIEePD+KcsK9/Ki+exvJZu92XpYasT3VU1DDTn1qSXUrfIBoTIrEkNNh4gA5W36bONClf/+te/3HfffacuMxO8sHLiaeDFYDDzq6++omMW+DhI4+FH5O1GabKTJVk1WBpVBv9effXV6s3gOl4sPrIhQ95UbwZKwpjRY9yQoUN0XMSOO+6keeYvmOcaN2oiC8YtU6E5rc4ovMZPLR0hNHWwYaVkvAlvSv2sL5ArDQJ4cL94DAivuVNm9WH2JdzNWPttJWdWNpaMqUqTd57t/tM5Kz6i81m8JBnaQx18wHQgN4hnBaKR8Gm7vtuJ4N5O83z51ZfKK/fikzwp/zDzvrEdO4vSRidC2BUK3U4yDgRM/iKen9tuv93tLQrC0UcdrdihyDz33HMuLy9Px5eA2fomewdRTlCs4BWLD9YVcMAFa6F0WMyYwerwww9XBY8Gcvjw4WpJ2W677dSq98Ybb+hsTViMSOMeUBRxx2PpI5yJ+2dgP9eCy2677aa3SZiVETiQTuPNMzUyfjn29+3YMCOEitm1uCfSmJqXsSm8i//973+1k+C9O1C+YZR57hmhA8skx3xXPDs8O3zXvKe8J3zPYAIR+vTpp5/qe02oH2XgTkdwMS+I8aMXhJ8KIUDzKI/OtZFhXT1FwJ4qswOVNs9DhQqvwswrVjk3SxSFHqIgtNxI1khAAEIYmjVrlhjSzo7QJtTjuuuu07afbwcLPMYcPOxPP/209mXs883RnxxwwAFqvf/hhx/c559/rt8hbQLtBpM7GD3yyCMOTy3tPR5jvAy0MxwjuOEhJayJdokJIjiPdwPvNWPpaBswHHEtYbN4DAgbYrILI9ox+nl4wusBDybIWR4zCNkxW9op8i1YsMD973//0/LBh/aQeyEagD6KNov2AuMImEB4XghNhTfaKvoG+jDaJSzaYIycQT8CXrR31o6hcNEGo6SRh74HXqq7TaKvQUZQY6Lc6/XiEQZXCGMrhjvrf1D8kCkI5T744INV0MfDTjuLLIExjfa6f//+eh1lcH8Yablv8oAv7b/1I7TlEO01z4B+gH3kEfDEc8R7wBhPykJx4ZnT/sMffZMR7yyeePpFeOG9gT/6TquP58ozxNuAYRT5jGgL6uW5cm88S+6D50Ve+kuLQqHemvDc7J5rxFYAqVKSDzaxcvWaxJqCwkR+YVHin/ffj1SY2Dw3NyEvje7Ly6JbeYF1e8455ySk4UmIIJF48qknNY1r7F8EhYR8+HofY8eNS4gQoeckBEm3Vl7Hjp30eODBBycWLFqcKChKJFasWq3blVK2hFboeWnsdEv5IugkxDOgx+KiS0hDl5ABMwn5IBKzfv45DTtpNBIikCkv8iImpGHT89J4Jw459BAtQwQa3UojqttXXh2seVbLKDtwKZSjJcuWJy697DI936dPMp/dg92zbaVBTMgHkBCBU/OTLi+67ssHkpCPIOIR/q668ko9J42cbrk/w3nIW2+l8cLBmDHfaj5p3BNiIdB9q1usAnosHUZi4sRJiUmTJiUuuvhiTRNlKnG/PNt/P/SQ4HpD4s477kzMmjkrMefXXxM8T8oQK0P0zDmW6UkTrVq31nPDhg9XXlatyVdcOPj8iy/1XG5unm6ND39LGXb8/PPPJyTcKSEWFH0m8Fco7500mgkZ3K75pAPSbRxfaUSicj79NIkh7wrPyf6VwXL8SOOkuaTR0zJFEdAtz0M6oageGVwe7ds9iDCv18oUtiXOWR627733nuaTcThRPlEMNE08XVHaM888k3j44Yf1WDrNhL2HlCEKtea3H1Ewo+vuvvtuS07Y/ZAgcadRHp8f8VJoeeLdi87DByQCSJQmls2EdGQJCVWL0vxypAPRa4xnzsmsVFFeniVEuxKo8ggYfLMWFCb2H7Qq4e5fmXhtdH5UoJ2PEmrQDrwZf4NHiYbwwMrE/k+sSvy6OPlO2LkaxPI6ZcW+RxFY9bsQxVq3IoCn1TNo0CBNl7BY3YognaCdtu9NDCuan3bT0kToT9xzzz16vOOOOyZk5kDdl3FdialTpyZEqIzy+n0Q10t4qfaX9IlW3plnnql1iHCXoN8mXYwBCVEiojz0v9bXiACr+UUQ1K0oNFE+8ogxRdPpl60NEKUkIQJglM/qZoucIAaH6FyfPn0SIshqGTLBSJROnyFKRnTslyHKVwL+kUksHRlB4u31WIw3Wp49Fz2ooh8fA3gTwVx5kjWJlAO/Hb3vvvtUXrF7EMUmIUqT5gcjEcQT9O123t+CDcQ7JEpDiTzgSn6Zkl3zITvZ9YYPsoml+VvkN2Ss2267Tc/LLI4Jk8lECU7wfK18UTgToixqHfRRfjm2T19PH8PzEMNZlMfv48l71llnRe+C4agFb+Q/ySBGQaj6qKQFV55JKp4+uXqwNEyqWcJjv536uY/EKop2j/USLRDteNtttlVr5EixjNiAnbQBsWtxg1hoiIfDU8CAmauuvspdd+217haZKQdLPf+PPf64arW42dDIyY9FQ1421bR/nf2LcsDxuiSwwsrCP5ZbtGvcivuK1USEdLXuUCf50MxfkPUSII4jKvkIin09Gc5xHVYA8wJgWWAsAmlHSiiWKBbu//7v/9zpp5/ujjv2WHeODPAmtKWT5JktVqZ///vf+nzloy3hWRHOIrYqs4N1qXGT5LgL6nnq6afUcoCFAivJmoI1bsL4Ce4bmT4XMmtUGh6VqbgS11AnmEHMPoX34IQTTlDcRGnRdNaSACcsVxAWOghXPGNjjNjHqsI6EEZ4KiCsKEakYVnBeoYFBysi3w+WoPQZr+yK7Fu+C9zIEJZFUVR0UDjH0hlpiJm5ikkjNI93EUueEd+2KC7qcQADZqPCC2ShDXgZsNjZfeFFePfdd/VyrEFx66KVG7ZlI0ATwDuo/6nvrolY3/u0lHdPljr5aaHE9Kaaq7X7KsvmZW1ywBufS77wOll4djKFay+5hybmFMvShq1NnTXlWp6dtRV45iCs81jCCZGFaD8gCynEkguR3w8jtLbIrLLkoU/BsosFl++WsNE/ylg7vBTkx3tgRIgnk4Vg6cWajKeTvtjKJZ99x/CMlwGiPjwMeCggLPpY67F4izCoaXaPepD6yfbti5KjnkeyPfroo9qm0PZDtDVYz63txEPLop5YnkUZ0jz/+c9/FBtbcwjvDG0SA3HBFIs24S7Ub+O0sNhjkYes3dWDav7BQwvhGaK9t9Bo0rgXe9Y8R2QpvEgQzx3vEXhBYEpfce655+ox2PD+0OYPk5BnvAR4iHj+hGODK8T7Cfl9C+8AeFkbz3meBxOKQLwzDz30kPZRjCHEq8Q7wTgEruFdyM3N1bxMVELUBPd26aWXahr10//QJ8EXMhuTtUB4pYx4txjTQHg47x/vCl6wQOkIJKWI9LT1fBRvsZMvUbxSBiIz4JiP0GInEXZo6EpGTycHy+Aa5GOACEGwxrC47FRdmasszubtIXxD9erVlQXJXpCPKDnuwMsS7eLqQnDB1Tl5ymS3SATWgoJC96kM2vkqJRghyCUpjkNUjO6UfjY9r3TzOngLfHClQeeec466PC0njSANBKEnNJgLFiy0U/Ill6ytPBBZw20uRdyzfLwrZLDyDBF4UVaY6alTp87a2BOaRPw7xIdtDVgxI7IX8VKSp7R8WQ5olFauWKnPH6GU/0suvsRtnru54sHaEvPmz3Mff/KxNiDLli7LUtL6TwY/a0RREHCH07jhlqdDplGmAfOJNPLQcTEoHHctDfk333yj4y/8xtjKti3lUDYdAg0ooQYQDbF19uS156onUz+kI+Bzji0dJO8RYUBiUdTxQSjIvtDB90dDjEBBx8r3QaeCsgr97W9/0/dWPEt6TPwq/CPU2H2gIPBd24B73m/CGFCeeN/oBKBMPOuJ8JMVAXmUQsnvzL62Vo1z3NZt5Giqc5MWyLozsrham2Z2NmtR1XpC5RBhcfHyhJu6UDQFabK3EZmwaUpJqNncrzvo+C6NEPKMSEdQt2/EtmbksXzWTvjl0F7wDTMrDYYEsfDq2jK0o7RZ9CsQgjdCNkYqQgRRUiD6G78NM4WFumyfUCTCEhHuLFwKJQPDEu2MtTdaoPfjl0FZ5CWNCTIIJYE/tvBo7Ye1PSg0t0sIKoTRwRceUXJsoC3nCUExDGnzCD2mvYVHa38QmMWSrW0TBkLIcNaDavrhGSMAM3W8TzzT/mLcIxwbgn+UNoRzQnTA0xQpQmBRJsAAucoI4Z0QI4i2njBjrsXwY8qIKSF2DVveRa4zheSaa65xN910k5ZBm054FOE/GLJQeDEcQUyMQjgTfYBhi5JA3bxDRigT8IFBCUMy5wkLI9yO8RJGKKG8t7w3KBIQshs8BCpGoBqUhOLKS9tD8GQa0RmzZqgWT+PTRKypy0UDRfhcsniJWLkKVfBDMCfuEeEJQd6fBrO0OkqeK9md0OjwQs6cOUstBDR4ZrnnA2jUqLH8N3Ro1sTZFYnpbejbQ91JJ5+UVjwCPB9scQOcFMNL1pi6rAwpHZ7gjf92bdvJRbI42ZxfVRunkUTgNN6pk1jRf/zjH2rJAVtx0Hv8lVFZlLOYWxoRuxcaeBpPLME0OjQerAZtdOyxx0gDeo8qfddcdbXLzc3VffvQLV/6trw8pV9lR1gqeA/A/cWXXtQOg3hEOk/r2PA4LF+23C6psm22+8YDRSNMvCUeAxSCTHktTh/vAl4Bs/agdNHgGdm+bS2dLZ2/kXXWPM9M9ZEP65iVY5YysEVJwcLmx46icGD5MYWYQXIoCXhteC+sY7LYZMrnG8ai5w+6BA8UC95je9dQGGjQ6YgClR8Bvia+3uVipJg2d45Y2Ru6ZrKeS30xfjD7WgN5vvWk84a6t5UxTY3E8yNKwpkLikRJEAFTz9TMnzop5qbNL3JfIvOI46xPRxmbJX8ScKRM19aZjvhe7bs1Ac7GNfG9oXibwmAGJNpFBGgsuvZdAZJ9377lX8GTH1+h8NsO2gCI8UP00RBeWyPaFjO0kWZtB3wbXwjh5PPrIC/HGAvsHknzCX5NCLUt5+GJSAOEf4RECKGYe6YtoZ2kbaH9YdpyPO7m4cBggZBIXwGxT5tl/RnXQVic6WPMw4tAipXbN5Jka0u1gCr64VnS3iI083x4RxgvgdLHe2CWc7C5XjzKx4rnH6L9RnEgD8YoPLpGjHUDV+QIM/QxpoR+HUJJQuFDUcj0LpGHPs4IrxGEwmXeADuHkcjI3jtwNWy5H+7P+hTq5v2HUI4YW4EygMEZfu2dw6Blz9wGy3ON/z1wHEi+2aoHQRrtcvQ4vJh8cAvmLVAXl8SLqRDKIBk+YISFk0462W0nngYaITRFibHT28ELUSplqT/boNlI2JYGhhALIxowBCGsH4TXIOi89/577pa//00+rubizsvT83xsKDEVoWTXlvkKPhB4aiUfcEvBCMsGxOxOl156iXwcXaXRZU2FQtG6f9ZBq7fdfpvmoQFFW06nJCBZYPGypnPFh85Hh9WFf59QmGj88RwcfvgR+lHj5Zky9UfpRPKijs2/hv3IkRA/UYljOhmw32777dTyzKJ3WLYkvj9ZmtxOkShLhmclqqjUJTRWEM/QJxPW2VqDaI2wn8/eQd57GnMjnoVfppUHBkZ23hpZ0i2NTtcEDj+dfZ41/1xHvXSOPE8aYQjLPjNNMG3qrbfeqmnW4Eoss1rYsPYgQGCNRKig47ZOAMUNhQeLEo08liasSFh/qMvuhYLpuCAwQujw70VPhJ+SCPCuybPjGU8TrOeKda2ZKAp15biRvDeNpV1oVL+Ba9mkntukcVv329aN3DNzCtw3s4pc365YoXlPtIiSZVdjivHElzRGeP1CZI+jW+e4Lq1RghtE06DyjpOHd6Xsdq4ab6gSVdv3a8K5WUsJ32FhUQQpFHA8dwhHtBmEWdBP+oI5FlfIlHufFRPuSTNlgn27nvASlBKs0SZ4ch4hkfxs+YbpvyF4tqnJMfrFv2HaSKszW5sEv/zTz7Cl/aMeLOCEDEGEAOFF+Mtf/qLHCKLWbhA6g5LAebtnwqqo19obvKSEE5MO73gQCL+iL6E+E3bxRNC3cl/wm004Viaq8If7ABvWJqAdhjdfkfGfJc+Otp37N+WHvgOD1V133aVCN4YrGdvn+osXAnmH/BADgHnuKKW8ByYPWD9m76jdOtgZ8W6a54mwIEK78NLg4TbFl7zGK2XZ8+E9IY95dOCB+lEQ8EhYaCv3jCJp/NKv2r71U8ZP2KYjUA1KAr1N2c00jQbaIR8wLyzxYj6h8f/5z3927eSlJOThnnuT8YTE2ZnQ7OdP26e3iJOkZUq2bLyYMvJFX1ReKngirGXHnXZ0p4krj5dy9Ohv3CmnnuLmzpnrcnNz9WW367Nts9Upt5+V4KVZUwmnEkVqkXzEKAcHDhjgtpYPCwXBPvTVq1eplYT4dUK2+Kj5iMA2/tFSWTZesjIiJ2gE+EhpHKxh5AOk0VUF4bDDdQG3yZOnqJUgV57PjBkztchMPGRT1ErjIdu5Vq1aaiM+cfwEJ4PV1cJBg0/HwPMivjYbFtnKXJt0a+SwtKPkUjdpNh7BOnfSrCHnPYIMK7BmZiKeJZ0s0+ByHZ01Xi46MYhOi/skndhgE86tcTZe6DjwBPCtYQ3yLXIW8kMDjmUORReeEexxBdvzZn0QhA86a8qFN4R+6+Q5PuOMM9QlDF8oCTKAUTtVGndCn/CG2H2QZh0ySgfhSsYX5VujTvnwE6h0BNSaLm0GWKEMbCXvyTJ5//AeFEibtkzaiaXyvS5etdpt16Wj6921sdtR5j54Zm6OGzqtyA3cusi1b1HsoSq9tqo9S5vFGzB7UZF7a1qh61O/nuvadIn79qcf3aKlrVznTdq5TZo3U2XI3hTeH7CoLe+O3QftCm09Biusxawsj0JAn0jMNt8UAjmE0Q2h1sJwSMPyi0BJe2FePGsnrA4s5uY55js1gxxx5IwBo11g8Sws1xgR6BdosxDqMBxhgUYQpB7aHfLjjYSMl1xp8xBG8T4ikNNWm1BobQ7l8xy5X4wG9De0B3gHENwRbBF6uXfqIi/lkNfuibppm+ivkBnAzMYYoAQYIXTS/lA+SgNhRcTeIwOYNdp4rynvFXwgaPN8EOAxvNizoi8BT2s/eS4I1GBr2NAnMWMhz5LnjEzBln4C7y7PkPUObJwL7T9KKZ4IxmvQ/nOOayDqMqIO8hsRTsQxzwHFACK0iPLtufOc6Asoh36GZwtxnn3CyiD2eT8xMts7TzqzBHKf9h7jPbB7tb6FfJbGfqAUAvLCVCnJx1rm7EbCGm1/Qh6obqUxS4irLCGNR0LcSQl54RPMwACJyy+afUEaJJ3px663rZVDGaRlnN1IZq7JNLuRlRHfSoOjZYnwk5DFwER/KEgwEw354FOEMd2PX2fH0ojp+crMbiQCZEIWjEuIQpC49tq/6mwN8YcoruWEzIWfYKaLbnnddCYh6jYsjA/4rOzsRlYGW/m40mZZ6tG9u94fMxTM/mV2QkJE9FgaDt3G+aAMaXBldqNWer6ysxsZT9Lg6bvCsbgwE9JBJqZNm5ZgZgrSwNDyZtpKoxSdX1ezG4l1JSqTOqXBTZtdghl+IOnUEtKIRXlFEUuI90yPpWOL0n2+7XuQUK+M5y2vhJxpHTIlYol8zFThk8SKlshj5UhMb0IUkqznycdsK0aikCVE8Ijy8yyMxAoZpVv5tmWWJOmgEqIMRXmkE9JLpYOwIsI2hgDtbKH8x2mZzFgyRmalefHTkYlXv/g8MVj+X//yi8TzIz9JfC0zbRl9PCk/0e/RVTrL0avfFM9yZOdrwta/vZe/llmN7l+R2O+JNYkhYxYlPv5hTOKJj4Ylnhr+UeL9b8ckJv08K7F0ZXIWG+MdfMCpNpB9C7Qd1o/ZNxTfyjit6JYztQN+frHIa14R7vX7sz5UlPzEVHmPRCjXdBFIo+/TrhfDhM5EQwHibS9x3vKxFe+o1kN/6qdbuybGDj0vAmraeT8v+7QNEhtfah6bEY0CB6VmfOJa2kZ7H6hPQoyylkPbJwa36Dwz8CCLQPYs9KCKf4x/+n8fG1HYlBPuizyWTwx5Ub5rr702SiezKJjROb8s9nlOtMuiXGXNY9dQlhiBonwytoWkBDPbWZ74lucMWb9n52WiDH1X7Bh5QoxWir0oKBnLE8VDZ2HinkWRjvLYO3f99ddHaaLsar2Gjx5s5D/F6p2gXj1k9p2Stcuz0USsocRTYgXA/fX735+hsx8UinaLWwutHqojwankzU7Z6yqvD1qEW9egYQO1Qu8ncf+nn366xLqtlDncR0azruACw8JOXruH7Dyln0necXqaf4RVBg/BokWr3B233+HOOPMMtWagUWMJwMqLFYaQGsKvsORgSckW4qJlZ4AlSop2fC5K7stHpdhzz1jBJ4ulEmsxMeZLly5T6xRX2XiA7LiUs8KSLKSlYFFYIvctCpIjJh6Lz/syaBbrVCPxToFJVRGYQDwLPBlYzHk/sORh3eE5YanJzc3VfFj7r7vuOrXcY63CegK+EIONGXvD/TAOAEuZTAmqY2I4j2eAwcFYU/hWsMwQp0k4AO+AxdRiNSNml7EqhC8xpsasYZQDEXuKm5rxJvAHX9wLljrqxXqDZZAycEHDB+l4aHgP8V4ZcY1hLkJM2jnzrMAPYUaEw5FG+fDFe80AM1E4lQcbCGm4Wh0b+1bbjpTHAGzsS1q2aqWbK+/Cz4Lrz7JdXZDvGktoEd8g+ZZKe9KzfQe3vYQBJinh+m5W1+3TtsjNmZVwg8YWut261VFvAk2yXFKjaPbiIvefHwpdR2Gsn8zI2X/Llq5Jg21cr07L3Mz5c91UsWqOkNC1FhIeutkmbdxmm7ZxbVu0jMZgcDOGRY26sQowgwWUNoL+gYGb9E30jaKM63ePJRmPH/HffKNGWORt4DDfJ7Or0XYykx8WdL47CC8jYb7kxdPAuDfaJetXKAevJtZevNW0Q8SlY/WFGNTKWCqsu1jp6RfwTBJqQn9hbQ/hhljAmWkHgmfIvnWswVjyzfoLD9w7/7R35KeNw/JM24QlGz7gE+8tbSHtrhHtlBHtHfVYW8eCbgxixkuCR4ZrsY4zHopQSfDBe4LVGnxpHyHj1cqtji14MnYLXJCJ4B0CL/iz/hfs7733Xu2PzItCPs7zHEQR1Gdu7TL3D768X7TLtPEMQMYrREQHIaP80x/gnaDvgHiPCHeDL7wUEB5iLPqMYeQ9wHPN8yMU1Z477T8Lf/LOESrMgHPe8UGDBul7ZpPa0E/SL+LJIMQIeRHvOR4lyuOdps9lnSs8V+Q3zz0eJcKpwMVwqgnPUEGqCT/yMlQpoaGVtU6C4EJ/l/Yvg5j1eMteW6q1AG39+3HfJ353/O80PS8vLy2/f708cD1nVpDKeBKsDLwYlD1gwIGJb0Z/o1qsvJyaJg1X2rz/Pg/x/cp4EuQD13rq1amfuPKqq3SOfR6eWS6kIUyI+1XzWH1Y1G0/0zbpSUjOm51xnQSZO5vr8JzIR1VqWeTDG8B2j91317UkVq5amcAapWV0TXpf2M/0n/QkrN06CZQrDVHkRZCGKSGdh3gzfknYPNhleREoY116EtbFB4ZXyDAzSzr3hWXIiG/LSIRy9UjYsb/184mLV/Gxd8jPV959PB0iYJSaXZSziH+sl0Y+L6TxDlOWz088j10btkkEMuGDx2CqvPMjxFKI1+CJjz5Ub8Hw78clZsraEqOn/qjpz348IvHFpImRBRHruixfozR8QkFi64dXJTo8uDLx4EfF71lNwN171RMPCG+dhcc+wusnk5Jr0/g8rpJvZNqcXxMfjv0u8cyI4epdePubUYnvZ0xPLJZ1VHzi1ou/Iv/MhrHvfzdwLAKsft9+O0F6/J2x745zcfLz0l7glYWwVovyoN81ngKItgDLrk/+9fE2K1s+yoCntSEs+xKGVKII40dCr9TTTrsqUzVH9YGh5eFijmmTMpVVovBammDvh/9++Rixz7P1z5cGhX8t+XhP6bN88vNwrrTy/by867w/Pi/+eb+OsF82AjXAkyCfaBmExicvqavfoKG79rpr3V5776Xx2A89/JD79PNPZXBanchCXUZRydM0a3ES61hpBjKBUmcHQAvFMs1gZVaAHjZsmE7VhnWCPPJixksu9ThbnarWxK7Ek0Jc6SWXXeKukIFYWKGpD42emEys5MSjYtFAU8aKUHKQcqxQPcwESKZ8pac1bZKss0XzFu6Kq67S6cqIP39VLM3QqpXJ6V/R0sGq0pQNtFSBWBqwZvWXwVVYvLD0MLMT8z5jyfCtR5XmoYouBCfw4v03Mv4txpR0y2dbG09g1/hbw58t761vWfPzlbVvdWGdAvM42Xm8R8RHQ0xfipcAsvNsIfjh+fhkefy0jX0ftPxPANwgWRDSzRFr6swF893sxYvc8tVrxGNQ33Vo2crtKBa99jJGp4nMaAQxu9E48SB1E4trvx49NQ2smQVIlAQehtulex13zOQc99IM524fX+i271LH7dqtrlis8drqJdX+8+mUQneHeBGaCD+/65rjdsqrqzxxD3VT0x41FAw2lxng+F+0fJmbLhbOn+bNdV9I29RIvF6dxcqYKzi0b9Xa1Ze21Kc41v65mrhPm+9/M2YtNV79b400yxv/7iw/23h7gRcTwuJOvDuE95q+iLbA4tCtbP96v83SC70fP5+V4Z0u967VSx+Yiey8hF3p5AjkwQv6/+y9BXxe15H/PZJlyZYsM8iWQZKZMXEchoaapk23mHabptt/8d2msMUUNoVtN9stc7u7xd0yQ9K0YXQSJ2a2ZZLMMki2bOH7+577jHT9+BHZIsfP6PPo3ntwzpxzz505Z2YONPDvKWGeDprG5zfCAX/vwsML9J/TIHl8eDjN9vvW+jaZPPG+Ji4+TuP09bL5nrX3mwb/47s6lO1lcJ+GjlOgZ4SE+BeuHTj31da42XG7+SU32ZKLl4QcTz21NKhpDNfHLzcvN7gj84HXZpEdrN/LY3JkG4vtUrZX2b5atz46fGSYtkF3JwywPP3ZXKNpqLkEtlcREDAcu0Q04IVk8CMgAEzSHHIDgCeMmaTn8NzmvwST0Wa6VhJA+/yB+YE5xxB1jrb5ABhapwuCDOCTQHho8d+ZdRIfF6/nNhmRFxUVS/3mviaPO9AN1ZeegnjboRnQVhhplixZEgRS+ruoqIig0L+U4T/CWirT6/B4v3p4PC/3QDwuCjn1f0tlJOeDccAwGaZCu3lNTISXlqoc4gj3OJ693HgY4S90SG53/M3QKnmTYFCuM0maBYNBVjgBwWCwDdAH1oGyoF+e3DYvKi624pGjQpSH8wBzzfyT3SfDbl+cbY/sO2nH5Czo04/X2bflOWjckMxwyFqfHhIUXEjZIfesnxROI4TH4OwMe+0CuXPVdMgBcC4ghMbpnzP7g+Xwgd+0wrG2T0aY2zRPlh2qsC0y6B0qprJo+AipIw1XmojBdFon94GX2xuv/n44znEcPc7D/DmeljB/9ni/Es4PxpnvDEIC6iy+KEW5yXkJi5fZ0nNr4cQ5ePn+HL9ST1t1gTuAyhAOGWAouQe8nfH75PriaeJx8fBQWA//ay9uni4V/oR5vDeHsHja5DSpnsnr5Xhev3p4vPzk+3ialspPDqcMwrwenpPLIQzw8HjaKCb9vweEBE27yRxwin7wDnfPLzCe6LiP1eReKj25r0vfboAYwpOaoPBX7OlTFBUL8ik/FtTOW3T38IAwWrqH6EojWR/Sx+XwIRxzy/+4cDgjaAElje0IElcmZHYx7pS+6fVajdWoDkwijBe6luigA6x4dEhAIFOiP7xKglJDyykQYvxFQycReu3dszfolqJHD71Y0W8/tGOQJBXG5J8pJvqIPv6cBHzJJZdKT/Vw0JMlqY+lpGzd+phqEmorDLqiexnX8SfMP3apGpBcZvKz52kpnPjW4jx/qnTxfOCJPih6n8kQT5eqnLbSJ8e/kJ79XUpFFwSDA5VHpW9/0HZpDqrSDkKuFlIKtNM4ZvzQsGOQrzNm4hDKi30wORthypjCpiTxvsDjUY3mleoa2S5kVdvbZ+XZR5/Tp+JEg33mgTr73I19bWguOw4w401FdPkNMwICAnVW6OC0zzxQa0dlglajneQPL87S+Q7o5fNenD5PeYjTFc9OYyUM8DuiXbpy7b5s1w7D8h3bbNWuHVaoXQUEKIQsdiLi9PEy4mFd3vgzqKAj+CWnTX726gnnBw1Y/WWxLBlayxtP29508Tzct5Qvni45TfIzadG5jwNtSjWnpsrr+VqL8zQ9dW0vbm2layue9iWnSX5Olcbpkiqtx/k1OU3yc0vpPNyvZ5rP85+P1x4QEtpHZp+IfRsKA5Yrr7wyHH7FyY+PP/F4YIirjqX2OR+vxctq4oZT8Z8KSxXs5WCAhd923K5i4ASsWLHSvv/9/wn3Z7o6rXkpJTQFJ25YrQFKZYiGCk9RUVHY2n3kkUeCEVEWW2z68KOW0u4dhKaao0qa6mwKT75pOQUr9BiiTZYhEsZxTLbf/s637a677gqFsOvSPrxarqMJmxaSIJigXoWbzY997KPBcAmjJ9SwOChKOo1NRZxLN0xs0I4f9/xSfcx6Y5vAlffP+/5cwr276cmwhlYwtNApDidqa+ygDEvLEoLBUanuoUo0WmN+3vghNlIqRQPFtMVBuvVNZSWXR13UUK15BTUlrkerj4fD1nCHekLv677KKpswbIi9YsEMuUdttHeslP/3Q432ub/X2p0v6mtDEoICqKbgy+OonPU9GlDMlQgIh4432meFw0odGn9M7rRfNOKwjck/ofhxQUAI7U6inyPgdHBao141SHTjN2n0GDugOWKnaLxTQsNWCQ1DFF4sVaRxw7S7oAUY0nsZcfp6+efLFRrE32va7bva5woNmJOcN2A+9X49V/BP45mmQHdQoAeEBKbn0yF5wvEUznzv2bNbHlpW6eyB1SYDVMuRLjU7CB0BnxDC1zE5Y+yb3JQulsZ1wrdq1Z7DPtiixNPD1q2lYXKECe4IpKbC6SVERwBZ8BRA7DfkI/+hhx4MB8lhuf/sM8+ETGPl+7ysbFcTM3Z6SalDwkSZiIqR4LTELfWPJ/R+OiSVB7wLsI37mU9/JkSzy4AP5LYAXOTUsq1kmti1nJgC6hJ9MEYrpMckPOLdQ27WQsqhUktzH+Epsp4WlGoMnJaoGwP4iJ0rgkEyWfj4nmsMRHIbuvIZZhOIM6A8w6hXSDDAKxE7Boe1AMDBZ6O1YzBH56GM0HWgdgzizE28LMprCRjf5DupOu5fszpcOViNcARq7vNy+upMhfG672NvkH1qeWW93VUqQWF/pt11X6196MosGzNYXLvQ78pdhVA2TVFVZYcb7e4Ha+3JA/K8VJ9h75qUYZdOOGqPbyy1Q1UnbOHEknD+A3Rorf0U53RzmmGPMFo7tvymV4+1vZrL2F1YKbsFfmOD7cLIsLuATYeXD83oQcprmeIt9cS5G057z+X3+lydT8/dEZPG/FykQA8ICaeSqY+2fQF0lV3P3ifa6NNpNlurZd/+znfl2u1OG6gVs0h/UCsZ+iNtmKBDKaf+i4fzIZCHJDumD21LBk1u7DJceqkzZFzJR8DL4EMwVO7zHpZbtR9Lv3qgcBqpFaY5OvEZYyfH+VQMUj+Bi7sGy2RpLAW4MelwrWBNnz5Dk3GUDjyeeuppuTj9rVR6pHdcONoWyU0bevhTpk5rEQ9vR7wqwjD6HjRooG2UC7IMMQbJ4B/SMYVjDEa7vk5tjTXWyw1XRTSIFm9845tUjE5qlVoWn81auVz0fqL8WPam6tSsYEBLny7XgWDglQyOH2MFVTPAy6J+gPpQA7v5ZbfYgX17RZOpNnvOnCA8uTu+KGXL/8EFwYb2RnTxWlrOk45JU6AjFIgYS+Yv7QrFXigEg0NVlba74lAQDCqkoodqDILBTKlajtQ1X6vb8TzO5DJK4+Gt4RPmNg10dO8XyU3w8u3bgmBAnj7CBxUm9PNHam7ACLifpukPXptjAx5usC9uqrEsHZz7gXtr7f0XZ9l8ncgs84UgKNCUztpV0JpBmH99inxue73d/USdba9qtK066PU9JRn2ziv6Wr8+RQHnNWU77HjNCbtw0mTLl3ojNGayauvtdZqFPlEemEfy8yuSa9hDEtR2HTxgpRIYtq1fa4P0HSlCVUnzw9AB+UGo8jpY6AjCQqxPW+uHdFyaAmkKpCnQmynQA0KCT6cRWdAfB5YmvCREoS3/Pyod89X6nQ38SmcIfOe73zuF2eVr5D78H3nk4TaLPyq8+Z0tVCfUpZLLKd9VFoIefvih5Kim58OHtbqoX2fBiRQGvb46//TSpztczYrlyzucxzP4zoPvpBCuQ+tCtHvU8LStXWHyzxZc1etsy0nnP78pEAkGkWAbrTpHcyGr+RUIBvK7Xq7fQQkGWWJUsTGYJhuoUVoYSRYM4mU5k9tR6lIGeBSK2d2wuywYPVPvCQn67CRM0CII8QgAQE6fWnv57CoJAbn2+U1qh+wC7ri/zt4+o8Fump1lg6V+BDhzryLaZNBDhtg/hH3yUxL5AdSL/ryqzr6xpt4GKKYho499dlaG3XZRllSuSJElD00Txbz3s6Vbt9hD2hlZLJVDVLAAb2d4aOWfM/dx2kIPdmz4TZN/972a87ft229rZR+GdyiEt/ESGEZrlwE7EF+dRnCjDZSZhjQF0hRIU+BcpUCGJkTm5W4DqqsJq9HRChpeebZJz94NXwNTqIkVF6AgFq3lc6MwJlzlb145iybgaEfBU0bNYf2omcEkHdvPmcHDCt6Qliy5WCvXOfog1YeJnRWgFcuft12a+DlsixVxao9K8Yk+WvnLSCyVBdIJn+hzoOQBojTcJhM2wjAqkW1aVJhmzZxlk/RBYzeC8ghHdem555bZvr37hEu/EAcuzRBtpWeoPTo7MVoxS8TH64hyRCHk9bhmyja3h52IObPnWHFJSRMueKXZL68fS59eGuwfaFDUpqjF3u6IuhF2oQ7/MJ5CG3JGKaEqEC8rBIT+jVzrsQsxfvw40UJLhgJwwbMU6lXubtbbQfypZakG+kiB0VjxPvGRQo7kPIQ4XkovXOQwXbRtsHnyZsUBXjUy5HQmgNTZWae6SyQsDWkKJFPAp9g4w4hhMKpEu7XrhVciBAPmp1Gy7eHArwIxndgYJAsAncF8go/jgnCyvLRU9geVYUUcpvi47BMm6+A/d42K21CEl8179sld6ABbMHGq/W657BKeEdMum4AavTaLh5i9ZmYfu2hiH8uTpyEHbAnCy6kgQhOvuEeHuPDu6h9x/ByqTmrXdEu9/UzCwTNSM8qQ8DAgO9OuHbXfXjy12i6YOInPgYpvCLQjHyv+j8t2jNDFii9K4b3Jy2/PNVXfEXZI/aXzJmzr/n1BDWyAdh7HSk0JgQGBom+f5vW3OL3bU2c6TZoCaQqkKdBbKNAjQkItSqYJyBKjdbpiicd23bUGISB8nZrr6CtcYt+o5oguvKsXDggIydAbcOEDjJpTVmfpDyQ3spVn6ILnJmdm+NAiQPUELjqeKaFmderoSAsJrXTgeR7lU0t8xNTqPa+QV6Jw8nGTYJBhI6SygmEsq9GDpP6TLBikYlTPlLxxhnXr3j32nAQEhILFE7USr7of0emp/WXvdUHJxPDubdpdbgeqqoK3o5N6H5dMmiIDX05vbdRqeqN9c6lW+Hc32DTkZTX2ymGZdsPETFs4ITPYK3R06kCoKDvUYM/taLC/bK63+yukJqqwVZoi/7/RGXbHxdlyYbxZ6lE7bVHJFJs5bmw0jesd9bkCA+/HN6y3wzLEXjChyGaNnxDIFW97R+nXUh/USJWS3YVSLaZgN1Knb9sIqUIiLIyVsAdNHcKildrieHp4+pqmQJoCaQr0Vgr0uJDQWwmTxitNgbYokBYS2qLQ+RMv3i/lAgPuRFmtRzAo02o8NgYwicPlKWdcwkgWv/2nCwbQrpnxPVtKgh+A0MIuxoptpUFlBu89i6XDj6tPYKXCn9qyWYesjQy4snORLeEcnFnlv2rm7OAJyBnuYzWN9tCGBvvpmgb7ZUW9FWjFp1qVze6fYRePzLCFo6W2NDTDhuZn2LA8Hd6H7hJIAEpXU9doB6VOVFHZaNskECwrb7An9jfa8ypknBYociRlFEtKuG1Wpl0tSSRXuxTg/6BUivZL4LpmxqxgaAye0NDxOi6biic3brDt8lQ0QypbC7WrgGGyx0cInNn/IDBAj6TsR44fs53YLejsBfo5R7ufY4Kxc3RQG7YlcWhpzMTTpO/TFEhTIE2BnqRALxESNF1q2zpAOGrYp9/kcFIozmdXfRjClys8JwL9Pl4e9xRJHP/42rUE8TTJ90EHKkVZyelOqYNI5fE03IfqFRCiwkNqbEJ8+Hd6vMc1tU0BtIvwU+qPHkMBgbbcxepMpI+KiYWHDMn/lDikV7qW+ilKEOHi2R0nnk+jfaLMU8LJ0AYu3vehDsqI4dSUvelGqTwNGZLDFdRUfyzulDrIdyqkhYRT6XE+PTFKgq6LLskrw/VSXTyk1fcyudHcJeEAhhEGdpgEg8Ih8p4jxhGD12R//rGR16mkjDPGB3S44TMSAvbqOrWgwObJaJmdA0+DULNM8VvF6OJilbaBF7sgCBRXSyXRmXFW/aNDy+ptXXmVbdiXZ/dsbrCHdMjZYa3872PDmJ944yv7yfYhxyxf52LmZEXv9kkJCJxzUC5To4fkYtXQLJSQoc0IG9s3w6bl1tnFo0/YqxcOtIKBwfggGFFTJwz53+RlDk9ML5o12wagIpokKIS2yEZhrVRIx8nuYsnkKTpErl9oq2o6rd8IOxNI7jdoxUFtnOpcpv4/LvXRwbn9rTgc1DbChmgcxCEIHQpIHkfxNOn7NAXSFEhT3D2EpAAAQABJREFUoCco0CNCQk2dvhzwdGoxEyzg99Hnozk8im3+7+maQ069ayl/W/lOLSV6aqus5Ph4HS3dx+uJp4mHc58cF3+O3yfniz+3lC4eHr+P5+3IfWeU0ZH6zjZte/GNp/P7cNWgRaZ4IQgJyEHhHfQX0Ymr9tHWJtnJw8/za0sMHYLBYQkD7BjsrDgQVHTked2GS/WE1eTROpxrqO4xCHZoqSyPP9trvHy6d7NUh57ZujUYRc8vKrLJOhcAIF0QBhJXwjaUl9nKHTusr/DFDueYVuZnyC5nblFxYMZJz/hABenRteu0S5Bt82WrcExM/7ryent+V4Ot2tdom+SJ6KDCSiUQHIjMi5ondwoQDJcQUSLBYYgEiCnacZg1PMOWFPe1Eyd3aGV+q10xfa4NGzhEAoLcrwoXx5dV+wfXrrHxEgAunT5d7epzmqBA+Wt37rBlsnsbJEHikilTVdZAgpvKCQ+d8C9Oby+OsyfKD1bYDtlKIJjxPvlBbQXaveknAS0OqcqIx7/Q7pumHY29pns1Mpp3Tt+teaG1P92eNAV6OwV6QEjAVR7LS2lIU+DcpkCW1CHONUAo4PWLPsLNHmRaaoe/quTDK21HdcxbKvdcCodxg4FJVgliHjsiwWC37As4gAv1F1EpqBKxY4DxMavGqLk4dBcTSD2+Mo3qzfJtpbZOQsJ46cnPLyq24SkY5XieDVp9xy0qbWa1ntVxGGw8ITns18FjpOHgsbnjJkilZ6JHhWulDI8PHG20siONYpAb7bh2CyolMJxImGD1E1kGikfO1S7DyIHaaRgk2umanxNJD0ePV9pvn11uUwpG2ZIpU0KZcRwJWL1juz0twWdhUVEQYAjzNH4lbLsMjJdu3hz68WLtKIyTzQDguw/hoZP+MVaoOz5e2NVgF4dTshEYjpyoDq5U/aA2xklcgAQvqOB92Emo9XgxThtHxIVNf06+QkfyOMRp6mHpa5oCaQp0HQW6XUjouqakS05TIE2BlijgvgJSyTXE8eODDPDhJl1Laflqa9E2MDEt1Xeuh0fMCYya/lyiUqNcMNgrN8wIBvskGMDQDZf6EIdtBcFANgZ9Y/rnzuh0F9MXZ3z3yA7iaakPofI0d9w4m6FD2HKkRpTMhDojBo5b9+yxB9attWkFo238iOG2QoJAtTx7vWTBQuMQMdJukaex5WLQEZMRICbJGxJ6/wwhnA4E0wMKSwHaVAiQ0Do6LQVl8GPT5fH164Jnpet0Hs2g3Lwmpp4iKJ52kKZU6lGXT5sub0Yjo3GsPiMe2nv/7T96xJZu2iSXqseCYfa0wrGh7ji9QkAn/qNsIM7cHpMnuT0SLHdoJ6RMV5KM0a5CkexA2F1AJcqhu8eO19vZV+gAJaBDqmHBIZpOK143duHiNHN82irH06WvaQqkKdA5FDjVkqpzykyXkqZAmgK9hAIw/3yU4wz/Ia3q7jnYYPulO36QVV65lzxWLWYvwb1liXsbID5l5GDp0Wt1d8RQ+ewfnmlDtcrr5bDDEHTSmxfJe0mLzxwN2JgET5dgZiJ2JggGYiz3HT4iG4ODQW2kTq6TEQxmF44LNgaDtRIcN0xNFjJSMUZnjmnqnI4/zBU4byjbFdRscrP72tUzZojhHxky4u457so3BKrhMNO4EH1i8yYbJ4FnfkmJTl3OkbFxVmg3AgJGw6skHGzaszuEI3BUS+ee9gIweDD/PDE++CFIMAihgccTBJCNtPzTkBLdozS+Y1UiF6ab9u4NK/AICbSN9JRFnTwvLJkoG4XjUqXaEtzGDlVfBHwUR5sctxEDB9mVOiTzae0oPCFhAWYd9Sl2SmA+UzGlquaswMsEB/5wc4sQMFECGO5Zg+2KhM1S2S88vGGdDVRc0bARNnb4MBuWPzDsQtFWAHfXsNgu9EShvfu/M/Uc0OfAORyHdeZNhX5Ha2vsaH2tHVcYXuS8T7MlIeZp3A3K6msD+2bbMLkrH6RfvBwEC+jbXLLXkL6mKZCmQGdRIL2T0FmUTJeTpkAvogDMGdwUq7HAocoGW7el3lbKsHT19gbbgScZ/colHASDUamBmHvihfGXGggGpwUSFhbKO82EYRlyN5lpcyZn2oyJWUFgUIqgusTV6+H+XANfwXSGDvwJQ5Von3YMMD7dI1URGOShcmmJEewYqROhIhIXDDwf13hZPHc1wFw584hR7wrp4G/SieMlMpaFiebMBSAVM+x590l9CK9BGDJfOWNmyOPpSVMtV6mPaIehXEa5Q1Ue9fGrErM9WUbQfq5CS21lSDImw1W3gbnTv1RMnuOEms7fV60MuxXX6uT0fmIYPS4Ul2g3uwR/15k79M8VM2cpXd9T01G10tIv9OPy0q22SkLUJAlOi7QDAuPubaXcrgLaHvDX1fuLuqDtfo21UqlF7dRp2whyHKY3IRzUNrSp/0hLfsrp7jFG3e0Fb6fjWKv27DpeZaX67Txx3A4G4aDejkvYhtkPbqYThTMeEAZYwcySUJUvIW6QBIaREhIm9M+z4rx8G9mvfxMq3dFvTZWlb9IUOM8okBYSzrMOTzf3hU8BfY+bmPbdBxrskWV19rfnZUy6u9GekyGpHRcNdCnRAViTtVswdoh2C2QwmifvM8BxeZvZL5eUuw412mbtNGw+FIWb+Mx5cmM5T/7qr53Xx65YlGWFIyIpJF5nInWvvsBoAXFGjTAYbPzel4lR21d5RIa59TZYBq8clIU+Pl6JkgUDL0uFpWR4u5oQ1O/t2CEm8znZHxypPhH09KePHafdn8jYN7m9PHtejK4fWLMq7EBcNWNWsFmA+XIGnvJh2BGaduzHCPdISAstqk6esIkjdPiaDoXsCkC16WGde3CNdgEmiKl3nAP+iQrBc4t2Nx5RuhljCnXicsKGQeHeBpI6Q0nvY9CMITfnGlwk3Fm5D33ZTf0Y6gI/1ecAXginGGUjMKAmxm4OqmzYUXCKdHz8dSe+jmNb13j/nNSYWXv0kK08eth21ZywY3o+oR0RhIJc6SwOkAAwUAJAvsZRjgQCdpAQGo5rC5Qdhkqlr5IgUaMJhvh+GsuknyRhYd6goVas9xHojXRoi07p+DQFzgUKpIWEc6GX0jimKdAOCujbGjFE+tBWyvf8vY/X2o8flnrIwUY7XGvhd50Y/BfNzLTZJX1snJzaj9IuQV+5m0SF3g+Q1ndZqkf61TbafgkKO/Zo96FUB1vJF/49OkArT2mH6jdLed9weZa9+LK+OjQqYnQCDs08Tzuw7r4kQSwQgnGmjNphyhAMdh2SjcHRyuCxZ5BWlgslGHAg1rCBCAaRC07H1hk8npPL8zTdcXWGDLuAVbIdWK3V8UFaZb1w0iSpQQ0NKHiaZHycYcawmR0EVHaumD4jCEPJeeLPCAsPKf1BuXlF3eiQ8s3UWQQXJhjz5HrO9NnrBL97lz9vg9kl0A6HCz1Od09HPbhvXS7m/1LhMrUwsjlIrj+efpt2W57YtDGckHyRaDZOOy9APE1y/s5+pi7A2+Pls+OBULYtcVBbjQRW3OiyuzBWAivnazi0NLY9vruucbqtOXLIHj20z8rUfzD+NfohFBTl9LcSqY4V9MsNakQ5CmPHgN0D5CV2QesRJCQYVIkGB05WW5kMvTdrF2KXVJQatMLRVwmzlWdG7gC7bPioUBZtjNffXW1O15OmwAuZAmkh4YXcu+m2nTcUCLrfCeZ8xcY6+8qva+3ebQ2BmS+TgPCP0zLt5iVZNm9qHxsxRGaBHWTkYUIO6CTclRvr7Y9P1dlP1upkWakl6fwsu05qSO/5h762cAYKAvrIx3YyQkAP/YtYr4TglITDUTG2GI+iSoRrSlx5og9eqBXbQgkGeP+BAU6Glhi65HRd/RxnhirErHP2QbnaM1l67gtKJgYDY3CIp4vj5AICjOgjciNaJiHpsqlTrWRUQYt5vCzodp/OKJgjQ+hi1fdc6dagBrRE+TsTvD7K5PA3DKVfPHe+jZAaTjyO+OT27Jbq1LWzZ8sQeMhpaUkfz4+aFSc04+Z1keww3KA5noY83QHUycuZ/HoyXrEX4aA2TsDGY9aYIW7sPOS0sdra2O+KdlCf43xIjPzf9pXbimNHgwEyuwbD9C4tyB9s0/MH2QgJsQgFHYXq+jqpLB3TrsQhW3WsUkKHbGtUSI52JK4aMtwuGjZK5WKzwg6YY9PRWtLp0xRIUyBOgbSQEKdG+j5NgXOQAs6UY6T86/tr7H2/qbUx2h2okCHy1UWZdtu1WbZoZpZ8sjd/OOFFOgJxoYJTcpetqbcf/02CyBYJC6prs07e/dotfe1VL8qWZ5+eExQCk6WGJa/K0taq6moJBtoxkKHoHqnLwCDnSzDgDAN2DWA+0WWPQ5z5iYf31H3oNnWetw8Vm6dlsAvMn1AUVs/p5dYYXGeoMW5+UswxtguLpZc/Q6pJbQHlsouwv7LSrp87L5y+jP78cenUoxbjeLVVTnvjvR0Y+N6z4nmbJKHEdyyS+8bbFVSnVq8KuFw7Z66M8KMD1FLh5mVU6jyDJzduDMLSHNFhXnHxaTsW7cW5M9M5fl4mBvP7ZUDPQW0c1HdMDPmg/rlWpN2F8doFwU4m3s7W3gcv82yv3keUs1Eqer/bWxZUhfBQlCthZonUguYPHhYMkON1hbEcD2jlvnnmihKVVR+zJyv228oqCSKKPKFVkpnaVbi5YKwNlu2Cl52cr5Uq0lFpCqQpkIICaSEhBVHSQWkKnCsUcAEBH/Rf/+VJ+9BD9XapvBDJrMDed0OWveTyvjqNNvpUkhZmP87wd6SdCBb83Ej5uPzg/+XRWvvyPXWWqfBn5DXpY5f0sTtek2P5uRndtqPgjBANS2YKMKpFZWPngYO2W+oP2BiwY4DLSdRxEAww1I1DnOmJh/f0fRyvE/IohPHt2vJyG602LNQKOPrqQDxdMs7OSBOOas4KqeYgXMwvLglJYa6SaUiEl4lL1XtXrrC548eHPB4eMnfBPy8fvJ6Qq1POZLhp/kLLl52Ix8Wr9fbt0Ir7w0qPLv/lKVSU4nm8HIRGaLJONhCT5EoVQ2w/jZr0ceY7nr877sERiOOA0Ft+qEICQ3RQm3pJY2GwlQj3Ao3tVOM6uYxQ6Fn8c9pRxNMV++z3+/fIdkCqikJ3lgyMrx5eEHYOiI/MrRlfqUYYKdqGeH2kXqddhb8d2GsH62rCbtLQrGx79ZjxViibhZbGctu1pFOkKZCmgFOgz10Cf0hf0xRIU+DcoQA7B7gkrZL9wWd/eNK+ubReH+YMuVDMsP94U45dc2Ffy9YqPzYGCAYw92cqIEAV8vKDX0HgyFHZM2TbcNGkTFtb2mDZUmt6VJ6T9pXV22KpHvUXt+CCSWdTFWYhYpvASWwHv0QluLYs027BajHAqMJskU43q914JZotFZk5YoqL5dd/kHTcUdugpAQP1lRWZ+N7tuU580s5HGL26Lq1tl0rybPHjrXFOmgM96CBkUzQIlV9xLu3mTXQRjYMGPni3Qf6JTNg8TKcOX1WuxYw04uk0sRpwYERayNvvJyO3lOvt72PVFQ27d0TdixGSjBynOJlejuwX0AVZe3usnDl/AqPS87HM3XgChVd/75amkZQQA1puOxR+mtluqW88bq78p76HW9wZbCjDoexNecrIBz0k2ERB/qt371HZzDst2qpT/WVoREeoeh3L8PfHS8vFd6tjQVPz3vjZTwq4eAPB9Q3GMkLuRuk+nO9VvXzZMsT8FWmUH/TW+qldOzq9VEm9yNk3zB9wECr0o7KXnlMqpUK0irtZoyXShM7Cp6uY7WkU6cpkKaAU+Cc20moF8fDBBYHfH6f5vc7nqCb72FI+MWBCa2PPkJpSFOgMyjgAkK1VvP//Ucn7UfL6m2o1Ikun5hhH/7HHBs1LDMw6LwpCBJdAT7EET72y17hiz+VLvJ6naqrZcRbZvexT0hQydMuBulIc7ZAW/zdd2bXy0QwCCfaaqUZ3fxjJ2uCKhE7BrgrxcYgfkgV+QIDoaszHl5Wb7o6Q0d7mVM2iXl9tnRr8HCzSKv/CDsAbUmmSbwdcaYPFaXHNm4I/vgvmTYtMMfx+Hg+7j1uL7YIcjM6Q0bK0cFpMKvNwllyvs569vprJZxgYM0uyg3z5p/i5Sdel6eHJo9JmNqmlXY/aK01OsXjSiWMPKXzFBAiL54y1cZIHQ2Ip4nX2RP34ALE+x0jb/qJ3YVd2vVBpYx3gJOdEZQGxFyHQidKQLhu6R3weOqJQ1RzlPcJreQjIAzQS45R+StGFdoU2R8AGCzHzzaIl3G29+AADSifr+2D+8rsITkfwKgZ24TbCotsrFSQelOfnW2b0/nTFOhuCvTITgKTE9DSxORESJXOBYL4lXL8w+B5/RomQibDdtbp+VJd21MWaeK4xe9TlZkOS1OgoxSA6Ybx5y36zm9q7D8fq7cxWrW/emqGGPN+NmxwptxVRox5ZzDnLeGn1y4AAgvqRRfNyrJ98oS046BOyi3TzsLxBrtodlYQEDCs9vQtlddSOB952gozxLvu8waCwW6pW6zbtTO4/dwg5hcD5EIJBXN0svCcCROsRP77WVV2t5FelpfjZbVUd0+GM5c4nqiWsIr/3I5tOuhsqF0ydZqN7iDjSlm41kRAKNDBYherDFaj22KinEbPbd2qg9NqtIswKVLDSfRJV9OI+qEFiyz10snfqBOh8fJDv4bV7KTVaU/PeOEANcYIp2MXaLWdA+EQtrxNcdwJgxZc0e0fKcESw/aNGlf9w6p9fojzNPG8PXEPnvz8u8Q9J32D+3gJBbjtzcvJtgOyH1kvmtH3VXKNm6mdEvqdnRMvI/5e8K4dlg0I9jmhfD37Lp23M3znVN+qwxX2m/3lYQchS5PN60aPt4kDIsNyyukqAQE8wIk+dkGkJG+gZav/Nspegdlxy7Eqm6ZdhlzRhDRxYYr8aTgzCrBQ64ugjI/eDOBZp28CAC+Who5ToEeEBJ+Y/COYCm3igORBeEATXYUm7uPy9sCvUhMgnZ+dpFfM4AgTmeK8Pq4McH9OVW+qMMqhPOrxvFy9Du4duK/SBAuO1fqwg99hGUvWyLAvN3GgkadNXzuXAtGIaS6zuVeaw87kLrlcyuissjuKD68Fw43fPY/V2jt/V2vTtFq/aEKG3fXmfjZ4AP7sI3emsWHZ0WranZ46mHupE8PoRdP7WOm2eo17sx9tarC5cmM+rVgqPRARvNtZMu+c092FA7Iek0/+PQgGcvW5XAeGrdfK+nGpGrBaOnd8kc2bUKTTbE8VDFoqq52o9EiyOONeJq82T8iolkPMFk4otoVy1cmuCO0C2mJ+SMe8hG3GI9LTz8/pZ5dNn96uA8ScIcZF7PNST5o0ssAmjR4dza3tHGABS/3jirAI2v4LDdC/tooiL21AdaZMu0UIiHhWis+9XhZXwmk3wuHQvAGB0ecMDM66gJH2dsXzxPNxP0B2D+xCwTCv0XjTtnuwYWG1vKX8yeV1xzNtDe1VZfExgUA0Su8FZ0sUSODBdS27KpskMByQKhU7M5ymjdqYlwG+NdqpeVTjhLJQZwLi760z5eVixn++Z6dJ1AgdeKsEhGIx5U6btsZlKLgT/lGP1zlefd0oQXKLDNFP6Jt9UPPFDO1qIMB4mk6o8pwvwsdJckMYB60B+XzhM4w5PcevbeUlvq06WisjHgcu3o5UZTquLC6AM8+p0sXLTN+fToEeFa28w7yjHT3vTI/3cK5f/epXbZz0ikfrQzVKW+1c77vvvpDEy3GGnoEBHJMfdAQKgAFDuaRpDzgurioE448QAPjL4mV5/X/9618DXiNlQAZ+4PuNb3yjPdWl05wFBZje4r+zKOqUrPEy/f6UBN344Cvym3bU292/r7UZ/TJ0wJfZnW/ICQKC+ICm8w66Ea1QJ4ICOwoffH2OVm11UrPuP/37OlunMxZ4FfXtbhVgBHmHnCF04QAVCnSsn9IK+H0rVtiDCRWS4ToE60qpy2DIeqn8+xfpfXOVIsqBKfD318tqFYFeEgnO4AtTh+vPB9euDffXzJxlc4qKggqMMzyp5sh4M7z9ePx5dP169VOmdhCmyvA3N9CHeloC+sHjN+0p16pwZhAQSE9ca6AmaI6NhIHwzugfXmjYAYv/CHMU4nmSywYP2kL/4slntwQe1MsAwlMBtCEG4/TFEqxQv1kpejp9W8tHecQP0sIOZzNMkWvYZRKS8AbF6cjgQx/0JoDO4BXaLdy8fewIcP4D78hN8+fbouJiq9HYWrpli4zQl9vjGITr/TqhdgHQ9Yi+c8u3bw+2PZTrZdFmdgdq9DL/VW5OT6qTOf/gZhkol8QEBPJ0J8T74+qRY2yecBHWtq66yp46uC+gEtrRnUj14roYI6l+8DLOzySjzxggz345BVivuYSFUJ4Bv/o4aSmvp0uO78gz+Dku8GBepod7WYQf1A7iKqlI7tZikqfz+PS1fRSIHJu3L+1ZpfJOpZBf/vKX9pOf/MTe+MY32i233BKYbTo4Lu2xY4BAsE9Ghx/84AetpKQk1O/M/p133mnzNeExYCcnTvpkEHg5R7RSgvDw9NNP26ZNm4JwMEUGfpdccom96EUvsn6tuMXzhjrOJ7Rqdf/999sTTzwRyuKZOhcvXmzXX3+9DdJHiHp9EE7VR/ib3/ymjdCW7/PPP2+f/exnm4QUyvZyvZ70tZkC0IZPr6Yw0bM5PH6nJEqjCYt0sUSEB0jkayG76E+qKDH5qTOCVupMpEhkaxE3T9YVVw2xwGCdlIHwT++rtT06PblOTNeXX5tjhSMjGwTJwD0GHMaG6lGB7CE+fqu8jHz9pHGI8w/+UmOffEu/sNNAGxKyexOe/j6E/kr0J4wYzAqrxru1in1UhynlyAiyQO/aHHnWGSXVEVZ6k8H7kn5tqf+T8/SW5yY6CHeY+mVSL9quj1yJ5hGMi3HlCZAOpqgt8PLYfWFlGIPjK8Uo+snCbZXRyJymzsJQeru8Q02UEDZUqixAqrz+WoGa/0hLeJVsZ45UN8qeQGMkISwyXnLkcXawdsLypC4XzxPykZGyeBBE73xGUKVZt7vctu7dGwSA5hRRulP+826r4EkFowNN8eaEmtIUGWz7ux+fQzyvh0FDVHOWSDUrTzswz0vdq0pC60U6rC2oOyXKdxw9f09fm/CH+oGO0fuAgTs/2r9fglapvq87xextlhvcYVqFL9JY49wNVt7p46c2b7TLsqYHz1kumNK2ZRUHbIveScIulYvTeTqnAKDenqIF+IIP1xtkF1Gucb+/9qQ9dkRjVyczj5HHo3gbAsLn6T/GdSrwhVXifP7gHg0MFkp37dplr3nNawIvtGHDBhsqlTbinFmn/+P5yAv4eHRG3hddo9j2/fdyHUe0M+Dz4OXytWDk4aTjxzOCzJw5c0IF27TzPEEqqF5O+2pNp+o2ISE+eIqLi+0Pf/hD+C1btswWLFhw2oSNIPHpT3/aPv7xj1thYWFTT7nKzstf/nJbtGhRUzg3LiAwGG677TZ79NFHQ/wVV1wRmPTf/OY34Zm4z3/+88ZKf0sDxsMRQj70oQ/Z97///ZAXXBEKvvjFL4bnJUuW2P/+7/8abXJBYdasWcYPYFAiJPSPMTT+woQE6X+BAuE7pjto4x8Z74M4iZjblERpolQNWlpHx3bH3kr77M9XaOu7ITCq5ZU1NqMgzz5yq/prAHrIUTrPTwkO8f7weK971/4q+8iPngv6NHk5fbSKZvIYlGmfeuMFlp8nf9wJfLysrroG+iRQfma1DjN7vsEOSdXyM3Jzulh6/wB06WlglRhYMD3L7ryu3t71xzr7jQ5eu+75OrtmMWcQMIGr92K4Ov1PSs3hgM4v2HWwwsrlrvSo9KdzxEmOlF75LPmuL9DhUayAJwN9BYSxEy84OWEvfvbxBoqlYn4xTj5ZV6vzCyaG8wtoW2inrk6v1prj5UHTx7Xqd0iqNpdNiewYvJy28vtHd7N08qHwlNFjQhYv2/P7OxC6VP9Iu1fucEv3N9hGfjrxe++xRtstv7wVGrPVEhSBXI2VIRq6YyRJjpJXrinyyjV5RKaEogwbNZAVwigd/0MdwU+RBSFnrNSAtkkNa3r1WBuoMZGMk+d0unHFqxXCF+dKsEMwSudjtAWeH8aTsxMQ1JZu2WwPrFltS7RQ1Nap1m2V39XxYZ5M0NH7ncdwGJsODRyjX6V2DTg7ZNv+fbZaTCBxqFTRdnazOD/iihkzJBRFAiIqPE8dqQgM9xh5ELpixOjQDBfiurpNrZVPP9HOAVpQuEF4/bh8u1XpELalEmpuKZTHq0Q8bTvfwBn9FdqN/Zd/+ZfAm6AODS2ypIIHX3PhhReGhVQWQZ1G8DUw9SclHP/Xf/1XEBB+8YtfGIuulPmFL3whhN911132ute9LuRzXszfy9LSUnvLW95iRUVF9olPfMLGa6HH8WlPP3g5pGUX41e/+lXg71gIhte69NJLDZ7w6quvDm0hPT/a8ec//9luuukm+9SnPhUWb3Okhhcvrz31n89puk1IiBMZ5h6m+01velPYLWDHYKB0Jn3QMIjf+c532gUXXGBvfetbjU71OK4Aq/kARikMcB+Uh7SlfOutt9pTTz1l73jHO+zd7363TdSHlkHBthOCx49+9KMgfX7ta18LtgzJA8afkVQRUsCVAfixj30sDEg+nlu0VfvlL3/Zvv3tb9vrX//6MBCHyHuE4+F4OZ6Od0A6/e80CjBlVxw9YQ8/t0OuM7PswpljbOjAfk0rQ56Bub109xFburrcJhQMtIXTCiw7s49UAOrsO6srbJRWJF81caANzsqwTE1u9AdAnwbRQvmPHKuxVZv3WWmZVBaO1dqIAdlWMnawzZ40UkwojGzE6ICTPjmWndEo94LS1ZU+zXdKK62fkLgLvZ9uBNBHNaNKq7G/f7zWyk402o1jM+xlVybwVTy06Q0AruACbvc8X2+PlgnnJ+Q2Uwe6DZLNROAiE4iyuu07BmWyNUAwQI98pFaGZhaODTrVrHzGAcrHm+ofs3iac+Xe5xraAC1QL1pTVmbDtWJ/mVSpODEY8HTtaZevpuLZZukmDgg7ZEu0E+GekOicOP1Slen10TelUkVhN2Oo+gRweodXKjyHYKvUmFy1q8EekXrZg+WNdp8Eg+B2JlGZ+H7TER4S5CM4ICzWKE/QGtqvtKUKz6y36yUwXDVGnrrkXnfW2EzZUDQLlfV67/roRSiRPUKpdpt37j9gM8VwJI+JRBXhAr60h3HFjsz9OmjtSe0uXzt7TpNth7cpns/vPT9X7DHy+uUExvmBNWvk/neSbGBGB5o4zTxfb7smt9FpxpkT0+VKd6oW41aUbpWb2b3WV7snjB+Mm3EGgC3LVVK7Qkhffvig7de5BCKHXTlMKn6ia1RWW6OqmygCYoIpOt15oX5P6iyFNccrbb4OXiuSGpK3u5uw6XXVoC6NZgSwcOHCIACwGAoj/61vfSuE//jHP7Z//Md/DPf+79lnn7VPfvKTIfzmm28OwQgPV111VVhIhQ+aLlsnNDx4F/x9gBf60pe+FOr87ne/GwQEMvsihJff2tXH7j333GMvfvGLQ1IEgDvuuCPsbsCH8fvIRz4S+DQWk50Hu+aaa+x973tfWNh97Wtfa9dee20Tbq3VmY6LKNCtQgId7Uz0S17yEnvVq15lP/zhD+2GG24wOo8Bh/0AAxG4S5LpWE1enidCOfrvg8avHvfb3/42CAj/8A//YJ/73OeCdOxx7AL853/+p62Vji+D9ZWvfGXKAeOD++GHH7bvfOc74UVCWi4uLvaiDJUiyt8qjx9Is7/73e+C0OMJHK/kq8enr80UcHr3zcq0nzy5y37zlZ32ve8ttP9386ymlR9SQ8vK6lr7wPeX2a+/X2Z/+uElWtWPWA4YB/m+s5cV59sX/vkyMQSJJe1ENew2AM9v3Gt3/nSV3fuEXPDkK+9QMdkHpYt7osFecckI++Stc21m8bAmJqpwRL59772XBzwqKrV9/dXHbfX+aqlhROUliu/yi9e2ZnO9/Vor8/UKeP0VWUG1p8sr72AFiW+0DRuUabdfk2W/+n6t/X1Lg71yQ51dvrBvYDoqqiqDKtEuqRMd8R0DGUlOlxoEK7wIBl4O1TNGAMaA0yIEnMP/fNzThIPyb/+0XG7uFcc8TYzo3KLi5oO8aHOcGK202QUEkjynFfPNUidZoN3MaYnTlNuz2gte/gHfKlegMOZT1S9xQPbWWkmAoxJcn9hSb79aV2//DbOvuKF6tRbJkH28NMKmSjIYm5+hlWgJCbKhQeAGTmhX4aiEhMNyRrOzUl5ptPuwo9psqc79+OsGlSPD97eMzLBXyBh+ycQ+IS/vOUMBd54jJEiVavUbxh2VoDg9oxqa/0M/4lERulCCwoPr1tgzWzbLgHtGWDVvLS+lhPzcqAx2D67W6uVSCRqPSOXi2ImTNks0PtdWqf098jGD56gKfX9xMUscBsq0GxsEbBSe08LY5KKi4D2oWot1C+TFaGrC1Smk6S0A7swWXC+UGtSaY5V2RLsJqyoP2wQJCaGflOKFM5N0jPIsqgIf+MAHwiIoY59dAuwtH3vssbDo+YY3vMGK1Nes0DMXoObN6j3Awm1cXZvFXPikt73tbfpuf8/uvvvuoP5Tq3GEsPn3v//dWJClTFSVAF/0DQ9t/HP+D60TFxBYuEVVfbAM8xEGUCt/z3veE3iy4bJZQiigncSxyMwiL9of8H8XX3yx5WkeaOudbwOt8ya6W4UEqMqkQ6fTke9617uCfQIr/zDwbF/B5PNjACMBAnSmf7RCQNI/H0R4Efr9738fYtmJYPuM3QA8H5GGcthVeO973xt2Gf74xz8G+wTK9gHjdXFFJQogfXFxcRhwCDK0gReAAUo9CAmkZSASRl1paD8FwgdY9M7Pzba7b1tgqw+csLf8eastmjbS5k2WSpiK8gn9T49vsV8/tM++8rnZ9uKLS5oqoQx91UT7ZobS+9RXH1dvPWALvrBU+g519oU3T7YbL5xgQ/Jz5OmjWqvz2+xj9+20X3/5Sdv8wUttYqH6kXGncnUJXxxUlupUfnUIaKq6y2+oLjRPdT+2ss5KZa9569TMJjUj2uwMW5cj084KHGdUoV5TVGc/LzV7eEWt5Q0utz1H9ogZrpanGgk52kGchmAgGwMON4PeDvQfQN+G/vWIc/wabxf3nFvwtBYb0AO/RHPg5IRaj4+/9jaXspx+q2V0ukqqIzNF27k6TwEgvj10TAx3CS6V4SC6ifKOMyyxi0CX8GO86XUQ3vX2w+X19u29DcZJAjMlqC8caLZkdKbNLcy08VIhGqbdo37a2WsNqnW2RoV2HrYfaLQV5Q32hH7Pa5z/dl+j/WB/nb1lQ4PdNq+PXajdBYYIK9zsJiyVIISL0yLdO96t1UPcOH17FkwoCjQfkrc9CGTtoUtogSqnX1C94STnZVs32zOlW42TvRfq2+LCCki23uK2sOy+eG/70YRzjynyDpYjBgsvUOy+ZEt1p392X/VhX1tZdcTKa05Yrug/f9AQHTyngSDorW0dLTuE2XKN+rDsEjYer7IDJ6vDAWztHizd1w3dXpPr8scrRl0IY19W6H/9618HIYH4zVrAQHMCJn/evHkhS3weg/dBiGAnAr7tFa94RRAQynUi/I033hjS//M//3PQGPEV/vZoVzA24c/g41zFG4Hj9ttvD2XCayEMwPh/5StfCVdUqVh4niEVOefF2DFBcwXhAo2Siy66KMTBz6WhdQpEb3jraTo11ickCqVjkTqB//u//zPUjJA2gTe/+c1BAmRAtdWRPhAwcnbGfubMmaEcJFkgLmRQL4CEu0fu4AAvwwf+Xm254qUI8JeCe8ffpXEGG8BOAlt2gJcVHtL/OkSBSWLO77pRTM3uE/Zf926wyuO1gfGBMdi085C97qfr7fILhthLLykOH6aa2kj9LPRb4ksFEwNwgbFn9bG6pt6++Ls10teptW+/YrK999ULbHrRMK3ED7BZJSPsX1670D5/U5HZnhP27T+tDaunznD5mKBMQNq60U03/999oEG60JIIJNpfMzvTRkt/G4A2vRWG68yGmxZqIhYTuHp7hlYjqyy3nwxBtZp749x5doU89kwrHBt8u0NvGDB+geHTs79vvbV9HcWLttEmfnhtekrqQKxGjxATfo1Wp89GQHBabZJR77PbS4OhMYwrw4Mx7PGt4Uw6H/fYRtRqdXmKDk8DiKNf4Ath6L/5SK3ddr/cZWpczpAQ8LqCTPuPi/rY3Tdm29svp4/7WKH6HwFBWYNQgUB7yk/hxPWXcEHaiyf1sXco7+dVxt0q69UFslWQIdCjsm14g+r6luqsOKZCBGPlsSdXC0DbNO9CV/BOfldDwsQ/2u/x07WzMlne8Zbv2GHb9d0APC6RvMVLGKdqRH/VfZHsPBYWFekcgt328No1BqMd6AytaNg5AD59IPjgyemiKVNtfslEmzV+QjBwxmtY2N3Tzs3+hjo7qm/yeJ10PCE3Uj/rje0MY1605zpdKkf5fXSGi8742KGzE4D2vAsh4Qv4nzPp8Cv82E0ALr/88nCFB3JeZo1U6wActWAkDEBDf6dw0oI6NoCGBhoWADYMAAw+9g6MFefnuLb1c74NIQUeEU+RL33pS0OZ4Eu8twNHMizaAkuXajFQAJ9GG7AJxX4UeOaZZ8LVyw4P6X8tUqDbhQQwoXOc+UfNiA50XTfisRlAnYfOdWac8JbAX3gkYACdM+wDWgLsH4B169YZNgyAT3T+UuBdCa9IABI34PXE76kHb0kAeYB4uhCQ/tcmBaAZDD1ww+Iie8fVo+0bf9tt9zxVGsLqtEvwtT9ooqqss/e/eJIVjcajVCQAkEDTVUgX7hO3hHm/rti0176//rBdWZJvr756SkhdKwEDvduTsmfoJ2PkWy4rkZ/9PPvPZ/ZJIKkI5VFHvD+ba2mqrstvRJoAm+X29C/S7188JMPmTtGKqkKFvvDrchQ6XAE4OY80f0qWzdIy8+N7Gm1UvxLpNs+16eMiwQADSfooCAa6woDx64VN6jANkjM0NMqDW6KzWP1+QLrx68XQz5eqyuUxr0PQw9Mll5HqOc6K7hDDzEnBhdqZWSwPPKy4U158DKcqIznskPSWN+/bY+wicFo1QD1o2W3SrsGH76mxb6yvtyFqz2TZEHxucR/71A197cXaOSrA8ECApyt+4bVWEHkRME75kVQ/0nh68hYMyrCb5mTJMD/b/u3CPlasOoYo4Vek0vSRe2uFW4OMiHPkDnVEcG2K7QTg73t4SPEvzDOiB+NugTzmDdXu1dPaDUD9LYoTwu0AvmH0J7s/87RTc7m+V6iKPbBmlU48PhzKory28GlHVd2WBJowXgDw9h9zJLBXZw+wGt8XV7haoc9PLMD1ygko0QbwHt0/18Zm58hgvsG26WwH1KiA+HsTAs7jf/Fx6jwQYYxzmHF3AuMOWYjzOcXzwoSjgg2gDfKXv/zF/vVf/zXYKfjiL2V7PlSY8E50VO9NSz8XXEpLS0O58IuooAN+NhaCBuWCKwbKwEYZ2ycLEdhKACwOo1p1rr2fAfke+NcjQgLthPlHAsTKnQEFrF69Oui7sVUVBx+E8bD4vQ863F0BuOVyaTVVOhj76667LkS1VLaHX3nllUGFiMReD/ceTxhSNOACRzxdiEj/axcFsBuAKR+S38/eeO0k6QX0t9f8cr3t2FdpD8mg+Wv3ldv7rxlj115Y1FReKlr75M+6p9sirN8uYXD/SXvF/FFBxYh6+sqegQ9jttRe6E9UjF4+c5iOG621NaXRWAoVJT4qTZX2wA1tWr9NH2sd97FARp0TpM4BeFvDQy/757gVaoX5RSWZVqbV4N37YEIiRgTmA7rTh0Ew0PWFCtFKt1a91OY1Wr2+X95xqqWyyNkH88VkoqYS32XoEB0SNIQ5fUI7E0NktMdqMP7xvcz2lOd9QdpSucTEUN89GkX4aydIgurbxKSvPYwJUIa9WMbzX76xr710rk761bkYvCow+1z9PASEg9Z6ljjSePp4GZT5snlZ9hUJINcX6kRh1bmyotH+3z16R8ul3jSuQPXJliGxiwuj4HNzS21mrNEeXJou1o5WnRB+RoIVnqAyxQAT1x6Ip50kFbFrtHtdq7Ie0I4CuzAAY7u95bWnzq5MQ6uhnY8DcOfHHAkc0KGFh7WLMEBM2VgJCUBIG+563z+hHgBPR+P65Yaxs0NuW6u0o5CGiAeDDrwz8Evo7gMw0YDzNfBVbtDsi6/xd4z88HJobaCOBG/3/ve/37ALBTgjCvVy0jCeAASEz3zmM2F1HwHi1a9+dcjLFUEA9/ioi7OQC/jOBGGtvePEA7hnRfAAXOgBBwBtE7ROAI8LD+l/KSnQY0IC2PhAG6BtTAes0t1dqA8oj2vr6h3ublKT03t5lI8gATgOyWk9fJhO6PSdhOQ0PFOm4+/1p0qXDmsnBRIT+4UzRtuXr9SKwYGT9m8/ec4+9/v18pXYz958wzQxP33Chx0BoLXPOd96+kc8hO07JItIqSlMHp0Ya4l6wIp5K6TV/fhR2krV85Y9OjJY0FYdIVEX/nN+5biMQ1dsF/elebxktIxA86NXN9aMLsTi7IoeqFXgSdJP11dabaizg0eilUmYLH8nz66G3pvb5xEYU1RRHlu31p7SynWhjLOvnzPXxmslHHAmvKMtoXxoeEhqFI9tWKcTdPvYxRIQ8FhzpmVyMvEGqc+UxHYRwH/Z9np709/qTBonVqGX6gNzM+3D12bbBJ2LwYuIcMC7A7PPO3WmQF7KoKxQpsouGp4pl7rZ9gGp2cmjqtVJfe3N9560DXv726zCYdpZ2B9ceVKnotsE2gPtRsqGbFFJiVzuHtYJ3qUhn8e1WYgSxNPiTvTa2bNlYN1PKmTrbZXsQqiDNOeCoECXMZZaeif3SZ+/Supnw8V0D5eABbSH1iFhD/yL7ySP7tff+omZPVhXY4fSQkLoDbwcsbCJBgZq19u2bbP//u//DudSkQCGHfDV/KuvvrqJ1wkRsX/OuBcXF5u7miffv//7vwfvRyRFEPH5EF4J4QMhAFUiVM39RxhMvufh6gvALgQQFh+nfo9NKIBWh/NjHgcfN3fu3BDv522Fh/S/VinQ7YbLjg1SJRInnelbVMRhHIPRCbpvdHKqHQEvI/nq209sJaUC/6DilhQjZ8AHUHJ6D2dwkh5r+FRAmXhkAlwST5UuHdY+CvBBrRdn0EdcAmpBS7ccsu9uVF/pa/SzV0+zaROGhomGk2PbgmhCytBJovXyE69TnPplWl5utFoSvm4pGJlRg6KP3zF5UepNcExCwkap61i22aQxmTIqFEn0KHL1WnDU6Koi7SZYrtkamQDpdTKLFnx6Le6dgZjPN5S1XV54lpWWBgPXC7VzMGPc+LBCG5isBCPZ0Tq9fIxmH9WHtUbvzVVSW8JVKXG8S+0F8PA5b8se30WIXHtSxrrdDfaO++tsoBLuloDwpSVZQbWIOE3TYRy245UkebsB7CmTcS7NnuAV6Y1L+tpQ7S7csbTOChTxyUca7a1zRsiAdr9ofFB69GNDO0J72qopQR/sQA5VHZPr2V02WF61cAUKtKsMpYNu0Vyjg+HyBsjz0Wx7Wjs6z25rNmjGANj7KxR+jvxzGqCiw04Cz0O0YjxAv3MBHP/BfXNsYMIu4aAMr4vy8pFBz0vwscqKOipB7ACgWu3u2iHKz3/+8yajZSdSUVFRkz2Cl+Fx8Suq5A7xe8Kcn2NhFV7PjZE9ffI1eYE2+Tk5vfNgOJZx8HmNXRDUpRBGPL61dnj+8/3aI0JCnPnH4JfDLvBxywC4/fbbgwEMxsKjZFiGMOEDq6XO8o7mcDSArSQGJ0JIHDwdenD33ntviEpO4wPKBY4HH3zQOHCEHQXPT0ZPx71vXfl2Vjwd8WnoGAXcvejoYXnS1x5kP90hPVjtHsybEvUv6gVZnGrWTkDFo7oWLkOqRdmJMZGUPeoz6T0P0MdPXxYEld4E+w/pcCoZi5ZIhhmS0PmGeUpoAvQmVJtwgQdTV4lZlY750AwbLflsq1xdHqlqsMJRbQt5TQWdYzcwJgBzRK3mr1Xbt9lqMaCDtJr5IjGQY2K7mGEegVAdBMYreaPD0tYFF5WX6VRgXIOGsdzRMhlMynNUeucbZCcxUSqUQ2TwCew52mCfeFBuMeUjQCYx9s2Ls+yGWdF7FPq3i7uSpvDzsXSzVJsY9296vM76nmywn6weYNeNHSBbgL06s2BU8MTDyn18jk5FXqjudJxfUhx2Y5aJsR+UlxvOp2hPGV6u10V5GDRfKmFtQOlWWykPU1U6fIwTmtndARgfHe/xkLVL/7WG10ntIBzU4X456oiB2kno7V6NkgmF/QRCQqkEhKoYA5mc7nx6xgCZswYYs6ywT9KZHzh8wRmL6/3H6QFP1BIv5jwdakGuZoSRMcbMOIrhLIVkXo7ywlwVryR2H49z4aClHQDS8g76AjFCiL+TfgV35+viZceqTN+moEAXT+8paowFLV++PJzCRxC6bBzGgeEJh3b85Cc/CSnpWN82imU95dY7HEYeeOCBB2znzp3hnoHp4OXEDZxHy8c2wHZZHMbIo4e7YE32gEQ6L5c41+Hz+h2feHnp+/ZToBFuQMCZBl96WkvPMlqulXHxzx/YHBgFdhE6QmNUhrIRKupwkRqVHb7UKVCqURqAnYzeBEclIJTKHqFQq6h5+p0zkCB3jg7Ewvh0lxxoHIxURQPjd860o52IMi7pHX4Y/z4od3srNReVDB9p10q9qElAIA2c7xlAqEN5EX6fkoHebi16XFgyUW5AIyGaIjtasuOyRfMZgk3xyAKdvKsD3vTufUfM+GoJd7t1/7kFmacKCB2t6Aza61kQNkXeADfJQPor8pq1vKZBpkZ97cmyERJmjtp+qQ0B7UWLdkPPvmIgYeQ5bRj7hCrprp+JmpCXhx7/Qtk7LBHjtVf9c//qlcLtSBNuHZm/QqZu+AfNwCuOm9ORsXasvs7w7IanoCYPb2c4hruhOadU0U/9iroR8/6xGE9wSqLz5MHfdVyTsmPw05/+1H7wgx8EI2M8E7mA4PyS80Z4b3Qm3MuAZC4gsDrPIWwAC7+ccAxwZgE8F7ycr+Cj6oRLVBZpOVwX9/c4q+GK61I8FbHD8dxzz4UyHCe3MwiBKf55fHFxcZOauI9ntEdQbQKSF4dTFJUOSlCg2zkhBhSDjs785je/GdDg0DJ0yeg4TkQGMHzh1GTAB2t4SPHPpVskV6zpAcoEKJP8MPXuDvWhhx4KcejY4emIQeQvgpeFlI0BDcApfwD5KcdfCsKeeOIJLmHAF8i/NOBlhIf0vw5RgI8RDDqHpn3zz+vFANXaf98y2W4Y2d/+9YFd9qAMmIEmZr+V0n0iy5FuztBc7RBUN2hLNbXRmqc9WCkuVtBfbjp7E9RIB9uEer7QytWBVECCX+pNaLaIi9ys2xDtgph2oo/rAC2w571jtZZr06/FEnp3hOPv42irmO17V66wCnmD4VTeS6ZPs1wZBpIOcOaro60iv9fx7JbNtkVqTHhHalKRicW3t2wfR1VS09ywe7fONhgWTrom/31r6uxHO6IU75yYaa9aFL0Xvqrf3jo6Kx08aYKE9hrh8mHhtFXvRdmJwbayvK+VHdoXDJmhkdO6rbpDWiXinI4lk6bYQdlkPKcVUeYiBIX2luP1xOvGve8VOoUW4+i/SVBwd6vxNJ6vJ68IhgB48QNot7ed9/Sk6EFUv8w+Ubz+n+k4DgV04z+EmmzxHVlqQLV2RWjP+Q5xnsd5Fngb73MfB37FdShaGHEgrcdzENtdd91lt99+e/AwycLvlVdeaSwGu/DgdZIHHoudC5zXsKPhP3Y0WKSF0XeeDeEBQGgAB/K7wAEOziPukFMIgHLdi6Xjh1q4e2nynQmPC5nS/1JSoFuFBDrTBwkHkHE6H65P3X8t8bipwhoe4FRkpD8YfV+5T9UKOpp4rr7V9Za3vKXJVy51+ksAU8/haMDLXvaycCUfki0HsSFp+oDz0/2QiP/0pz+FtJTjbcB3sAslHCbCVpbjERKn/3WIAvS/e9K4b2mp/ddfdtsXrh9v/3TjDHvrNcVi8uvt6/dssr2HjgdBApWg1j5S6tYw4XH48sgh2urXt21TWWIZuwUWe/s++dGWplHxyN7lvUNzd8BLnlqlapUg6zn0nWNjJhu8g7oqvRYxIzBhvH9NP8UwDuI/PujxX1Ncggw9fQEfx/+EDv1BH/3B9WuDl6GrE+dAqIWhDaQ7U/B6yL9SRoZryspktKvD0oqKQ5Hx+DOpY7OMlWu0WlwycrTGWKbtrNBBaasbbGBGo83Wicn/T/YAfDB6SkDwNkFCx+Etso2YM6DRKhv628Yjw231rgN2+HjkdMDTt+uqPgTGygPKBaLnJnl3WrNzRwijzzr6qoU8iXE8TsbpV4lpGSRXnA/KcJ1yKY80PcWsUr+/RzRyY3lZGLccoFeXQmDw94+0nMAcIEGz6KF3/wdlBAUwx76io/3Zu1t3Ztg5nxMfB/A2yXMU9pjsOsCAu/2l1+hzDhoVb3rTm0Iwh5nB3OMgBsNlAJ4LIQP+CVVwyvz4xz8eTnjG5T07Gj/72c/ClfMQCHv++ecDs0/+6RK0sVXFE6afgUAdtIEfPCJq4RheA35OVpwfIx7gFGlXDU9ua0iQ/ncKBZjzux226Hj3V73qVaHe2267LQwoH7AEIoFyoAen4/kqvjP5LSHrjPucOXPCEeGkQ7fuf/7nf4L0iQRKeZdcckko4gc/+EEYeAxyYO3ateGYb6RZP+8AadZPcL755pvtS1/6UhjoGL784he/CEYwWOFzIBwSM+B4hIf0vw5RwL85HJr2yl9tsAsWDbZbXzQ1lHH94mJ76yUj7XdrDtmvHtoUwthxwD4hAr8mHnUJjFkifs4keZGRS9VfLNsjLzM1oZ9q5eKR/CdrtY0uXYZDVSdt6Sa5Ps3rYzOK3PsVBSU+is1Fd/sdqhZwaGhDNZlL9Dxa7aYD3XCSxcpsGZLLu0h1bbWutYEhwd98vPeYuOM/BIn4rylOxfkHjqszMv7h8GdP025kO5CQOvxDsy+olayS/UGZzZVh8pUzZtpInVfg9dOGMwXK8Ho2iKF7TnYOk0eNDCotlBmP70gdIZ8yYPy8ae8eeV0aqhOJh4Qi/q5zENZIZpbnWrvjgiwbrpOT6ccwFjtSSRekBQfmixHy8vXeCzLtkVotFGUOt2d26dTmhHtDp1d7qicttACm6aC1qaMKAo3dtWqorD0FxdJQJj/GyLD8gWE8FEsI4RyLZ2QoWiNmiTFBfGcBJdEOfmH8J5iocJ8I9z53/KibxRnsJx6REPP4enmc0Y5SZcwBCGpYgcNW2iZ8z3w4U2W3AnRxK7OzeQ+7Fekursx5FcZBaxB3GV9aWhqSkpd51suAsd8ub17wWH6WAvGoDf3Hf/xHyIMbVRh1X/TFbgANEjwWJf883DVBSPuud70rlPP1r3/d/HA36oc3xOgaFfX777/fXvKSlwTej8TxMQ6PB3COlntJcvxDRPpfSgokrDhTxnVqYJiYNBgxPEHSBLCuLyoqCvfemaRDt//f/u3f7LLLLjOOCUdXbcGCBSEd8YDvLCCV0tHk9zr+6Z/+KQy+t771reHk5pAh8Y8BhcTKyj9APratGFwAQoVLmTxzuh+7Hki96NYlAycKgiM4+EvDFbyoy/FMzpd+PpUCfHhg1DkZ+Qd/lfszKeDf/aklhvEyqkW5OVl2x0tn2nclJHz0oZ12wdSRhptUHw9NX7BTiw1lEoTR8x2zhtlXH99jv314s71RuxN9E0vyfTKj1+CeJ0vtZ2sP2ZsXjLAp4yP7FnCKjHf1gMoAAEAASURBVJhbn0iTqu30x75yH2rS9Dgmpw3VJ6N3oGcx6lgTa4R3+fFGWzIoy7ZV6JC85bsso1EGkHpHOCMAn/45MogMV6mH9dXKEHri2eoj7rMVR9ogLOhd4+pzhmPSRA/FpYLmsSJGyhMk5hMVFkI8J2W3BWHMKh3v+0YZ++K9CByvkk5t8chRIXt0gNrZrcU04aoS8ZL0tBZZCmWgfKFUY2DufN5rC9/W4rdoFwGhbZKY4wy5pt12oN7u3SY7BEml7y7OtMUl0fZVO8jSWjVdEgduH9ssm6Udcm9cO8RW7NgXTvHOlZtO1oxZLGgP0Of0KTTl7Ioj+lY9tXmT5ef2tyHyWnSmdHZBIE+OOS6eNl2HwPWzFbJTOSaD5gukWjFABu1hbKr+1jD18RvGQ2vjNtFJoaw2OgyVKoA2D9bKL7hi41KmHfxBeh4tJq5Agm4fHVzXX/PkIX3XTuJqSgC24NIaziFhL/hHv9byXRbG2CY07Yb0Atx6CoX2zHHgRjo/iIxVfDxPsorv45EweDrsGWDQAfgeZ8Bvv/324JgGAQIG/dZbb203b0QZXg42ovBhqKT/8Y9/DLxaSUlJEBDw0vTVr3411M35CwgVzMvgHt5r3T/99NMh3jVXnF8Lgel/LVKg24SE+ID86Ec/Gg7SmDhxYkAsVWchgSItsr3lh3rEW+E6Ze7yyidwykL6xMcv20pIt0i/MOzYLEyQ/m5hwsUdA5nwXVpBufPOO4NQglDgDL8PMAY23pbwI0xZCBWUhS5dUVHRKW0AD/I7Xo6nv1DxNqTvIwrwvePjBDy5qsw++5vt9qnXFtvFcwqjBIn/M4uH2Q9ePtlu/85q+9WjpTajeLgN6B/pSMe/VM0frWj1lQ8hJ6O++YYp9tXnD9jtv9yg3YN6u2bhOOkhZ1uV7B8eXl5mt/9BRk1K966bp4txjQ5VcrxOQaQHHjBWLpDG1B65Qq0Ss33OQKIzamoabbMMr2fkNNjU0Xk2Rkz00eN1VgvTIRWXQ3rPUXXhAK9aXQHOUYD+4SdhLUu60JEwkRUEC4SKHAQICRW4mESY8LAsCRcwPtEvuo/PQU1jJDHuUtEzzoxFFOe/cmrAUhZ4sdq6QvPCRq3Cj5fXokUyVh2srXQgEiLOTkAIBSXq2yOf5k9KlYlTgpdMmRpo4PNeSNfBf573mFbhNgt/mMFxIyLheJnO5HjyaKON0BfiZTMlqElG4D1thVwdrP3sk4MLOOVk6cC16Rn2P7uy7ETjCFteftAuOXjApoyRO9T4xNCOKulT+g2Gnr58YM1q7S5uCm5Nz8aNqZeLEIlBMwe5Ld26xar0jbto0mQbodVU+gNVGB+n8THK/SnhrXQE+PNtq9O8Vy/9e3ZM8YJ1Ut6JarRrypVnhML4j+8WQlV/MYDcH5ef+2XasZokdamp+m7m6/2q1wJFld7PxJsgrJrv2kHeHktSI1rgoUmk0UZxt7E9Pdbe1ipmARNwN/AtpWW8OW/mBsUw4LeL6Yd3g3fCmBmNDeA973lP06FpxAGMafg3FlOvvvrqsKDKTsNsnScS5lCNs/YA5cBTffjDHw51gwOLwXFAxfzd7353UDUiPWOYtsIPrl+/3r7whS+E5H5WQjxv+r5lCnTr20LHcdDZBRdc0ISRd6YHMHAIQ1LFyj0ZCAd2azsUtSBsCRiE6Lh5WT6wURfi55JjvCzSMJDJ88tf/jJE3XXXXU2uTsHDcSGSOvjFcffyvD6eyYNRNtb8GOaAJ8BATUPrFNiwo8Ku+YSM1aUW9LprpogJ0k4M/cTHS/0EbV922UR76bLd9vkPbpI3lwH21pfODu5Q2W0IDJz+cwd4iOefM3GEPfW+C+3tP15hb/vyatWz2aYOy7YNOmHZdp2w8bMH2v+9c6HNRTVJwIcd8PKS70NkN/0bOSTDpsg70CNyhXpUnmYA0BNZwrWb0OhQNeCGWghw4LCYC5G5MbfRZk0YbmMLIhoThw40/Vynjzi7NtzXiJE5oe0HZ2hQzTjJLzA7dVo8qNK9hArlZWw4JLosCBRBgNB7d+q1bxAqgjChuQSjdnYsGCNZmg/4wciF959CEwVGzUg0JhFWpnf8udKtOoPjuC0qKrLpUjEiL0xamIuULo4bZSVKcHTbvPq4r6iqtMc2rpddR1Y4LI3VaI9rs5CkBMn5tkpAqDpZYwuLJ6q/MtUeCQhS29kpg+A7J2batMTp3knF9IpHeh6aTtfZIa8f3WA/2znQhhwbYOvKdBjcKGwrImalI8jy3kOjUVpFX6gdBU6xfk4MPadYh2+CZoT29GQYlfGxKSR8Pps2dqwEkRwJfZvsIan4LNaOAgfrtbbCTV4E6EhNMmL+Iya/JnoveDfiQkDifanVewXEUNE41UIWQrbegTwxX/wq9C0NLRNBERB4Ny6XW112l1g8yT9yMJgUHVU9CCC4QaXMxOsQ6uit/yqFc6Xmiv7COe88/RbDNAOoZKMmzWq7A+M6FXg4XiBxZ4rWBKv2rvqDHSYMOPYH8FqA18O950d9HPeoMO1+kK3Hka4tIC18FvwjpzFjn4AHS/greD8WbVn89YN0Pb3zXe7y/oc//KHhKp/3O45nW/Wfz/Hdyrn6oKCD/EPlYfFOICyehjhP52cS3HLLLU1Z2HrybS7v/Hh+zxsP8wHCigv6bG9/+9ub7BVcgPB6yUcY5XhZxHkYZZHG06O65AbUIVD/3M6BZ9LGy/E05+vV56cTJ2rtW/802S6YUWATCwcHcjij7vQaPCDHPn/bfHv5nOE2XMbIVdU1RlgEfLGamXvPS5znXywVpfs+NNieXbfbVm2tsHJxrm+Sy6AZ4wer3tHy558wWCZPVKgmk+iO8riLejoR2U2XAdpJKB4uIWF/o23VoWrYJeg7rzFI27oJiTOsBnpt2yNEtZMwZ2qGXNOdWpAz5znoU7UBvDswS/xQ5cGmpCYwRwgU7ERotZSrmKXAQCVWTfFVzy5FvfIEJl75sISgPAQEmG8Y/LAjkbgiXMBEhV9gqHjODvTetnevrS0vD6ojV82YKT3+4U2Yh3HXgU7xuaOpAB9niXmC3YpHpSeOhxxUmYbo4x7ydKCOprJ1w7sADcCTXYRNakuBvLx5G3ZVNNrDB9Rr4q8vn5CpleXEAOuF48xRysvJtCsm1Nvnd+XY7IbhOol5my06UmGFQ0ec1Xw7RYwPp1mvlZ3JEDEjUwvHhgmAFfcwEERHB59jmp65SeqjuBCAQXM/MVmPi8m6f/WqYMcyTgtRCAHVOriM8esr/i4ch7Gt8c3uG8I1MxLzk++6sWPKbhu/4XrRKD/afUuM40Qcu26Me/IiJHMaODjwTcOL0Vjtis2W0IvHJ4fhKgtFo8N6p47pNzjb511P0fuuPj6O1p60I6IZQsKw7KQJqPeh3SUYMT6ZN1i85NceII9rXFxxxRVB7fuOO+6w6667LqiBuy2Bl0X5ye8BYSzIFhcXe7IzeifhsxifXDlDi18yhHlRgd5W4leuXNmk4u7OaJLzpZ9bpkC3CgmOBh2YPJA8zq8tpeEcBSRWJFcGBCcixweLlxvPHx84Hu/1IGmi/oQKkasI+VaZp0lVFnEuaHBPGq8HlSbUl3iBSINvYbbXHJJx8PDz/Tp3yijjF4dkWqnLZS8wNPxIF+0g0Bf6HPCxVFit/LlrESzE9SE8AeRVN9mIwf3txiUl4efMtqfh6uk8rE7lZUuloVaMJYz5gGhBxqO79Aq+QF7/DFsg3fAfLmuwrTr9tlLnJgyWx5lmFiVK15v+gxvoVwnXreViL+RddubYDOEdYUnfefuS8U7ud48n3IUKDztN6miKiARyGOLwgwHSe+6MFqpOrMw6IxYxZexY1AZ9dFZL2d2o1SDh3YYBg3nbpi32vWIcx0o9Z0rB6GCPsEWr8TBb/eXrNTBlYsYigSNSg+KeX8SYRWpUjmZrbQW3J7SDUHXipF0+bZpWtxOHpSkztG1P/3s6rhiNs0PjKlGl8uJzRAeoLSgqDrhR4oa9jfasVNpuGqzdK07Kpp7EuxMeetE/xo+6Se+/2dSCDLtOPO2uqqF24NhuY4cEISGZvq3RDBoB5KHPuS4omRiY6OelugrTXKA+aAIQSAIfazDxTYKrhFbGGrSnD47LCxZ9i7BLmm0H9ttTpVttvMoeP2x4YKoQghFcUbPj2k/jZ7BWUvtJUPVxhq1OpG4XCQGMMYQ/vjtBWE3CraVHxiVCM3ZaF0zQroaEFSDQKkGHkTn9LU/p9gn/g3oPEBJOb31LNXR/OLh73+/RIkG1aD1StBui05eBEB/uzp9/Tg/nVfy5NQowlmDO4btw3oKwcLVUh1bpDBh2BXyxlDJSlUeY1+dpUqVrDQePAxcvK15GcpgLNnhdwgYCwKU+9qakjef1stPX1BToESEhNSrtC2XHwHcNknO01PEthXt+hAJXPWorbWvxHoeRtRtaex3pa/soEL3sCJGp0xMOw8IUD73Dip4+VXxstQRmv9pWaRnffdIOVtfZtJG59oFXzbWBeTlBYPAdgXh+mP5QWiiTSS76+URSdqDKPvp/y62vMiFQ/L78WBBEXDiJcnf9f2SdqeOFrBbBluvY2x176sVsZ/Xqj7R34e4DDfbwVhFYB/hOGotaTxRD/0HvzoBE90VF6cHLpQ5Wb4PSid5zdgXaAvqe8eTCBM8IDut27dLBaDvCivKFUkMZqtV3X/U9LoYQw8igDqJ7Vv1D3QiuUuFBWO2jK8weOESru1mB4UOtIwgUYvBQAWGVl1N7qXfp5o06jOuo/PdP1kp/xLhRrkPznYe0cFVZEAU1kgekB4/r1IIhQ61UAs9oCTuFiYMoT0pdectBDXSphl2onatRfrq3im13XS2g0FXB3vejB/Wx+UNq7O7KXLu0fqhcuO63g5VHg2ch3zkBh/a2w+lMny2UDvZ9WpFcunGjXSwVHPqrUrswdUHIdEETr10JPX8JAajCMY7C7pUEYu6Zg9i1ylaZ9DMqOxgHTxDzslN9sU0qbPT7ouJiG6V+oW2R3Y3sBNR/jlNHaOn0SdV26qJMmK9po8dY0YiRwR6DtB7XmBhvBRISBgv3w2pzWfUxmzhgYMhL+e2lKeV2Fzj+1cJ354njweB6vGxBOH35fIeOjCPSQksAO080JWC4YcAREohvq7y24jvSH6nKSg5jPAMs/rJgW1RUFDwtdaSedNqIAueckOAvfmd3YFeV29l4vtDLS37ZU7VXc5Ig+ixpegpJ+mdn2VvnyOhSH+JGDPVO1MnAtyYwayRwYYL7eH6egSgsuk/+3yAj52M68XlAP9UxebCYvIjpS07XVc8J/s6mFmXaZVotRRVkzZYGmzM5WkH1+K6q/0zKjeO0anO9PSk1qctHZagNkY54PP5Myk/OE42CROgpD6emDJ86Kk+C+Ljj3ncrOAANBnP1ju22TwznVDFS84vEwImxc2Du4DAqBARWjxEQ4sxj3K4CwYOVY1yOVig9z+xUAIxBhE/qhnnEk9EOeZmZrt2K3YcP2UHZJYQVZQkQMKmuU46QwWozH0bON+ije1aG4+Dtg9Fk5Y9ToB/fuEEedk7aSxdeEMol/REZxq+U3QuaX+NlB5Mrl7VAKyQN8T35DwEayNWp3pOH6mFnpu2vHa4V+wO2Uyv0uB9NtapOvwXjXvoMZl7X5l2lZj3/aq3+w+hXi1aPyz4BQXGS+oRxQT7qRxAM6mn0i5jQQVrxd3U1Vv4RClH9od9C/7qQoKv3DTYPa3fttFXyR79d9nYF8mDF2QqpANxPA/Vtqn5KFeZ5vW6E0plSLwL8W+hxnnaw3oUJ8sS0r/KIbdGBcxdo/PaX0KAMrU+gXkA3X73de3V69g7tJPRTH03onxferW5G5ZyvzlfwubKLwM8heZx4eE9ewYlxjK3C61//+lNQ6Y34noJgL3s454SErurgriq3l/X3Cw4d3x0YOzLfvvS2JUEY8L6E6eqn7XMgmWlqixBeRuHwAfbdOy6LvI4ok3+cc8PJYN37bRw9ItOunZ5pjz5Ybw+urLdrL2qw4YN7t/HgkapGu/95GU6KD75sUoa8GkWfblgc/4i31RedGR/qZGC0Aq73SpIDR4/Y05s3W/mRwzZjdKHNKy4+9eRkGDP9YP74tQecIeXaIHUmhAoECQ5i4x61pxXbS61Kz4vkQW2s1E+OSmWR8JAn2FVEY9HHI4xnWHFO4JEj5g3hwe0pUEnB2Plw1bGgNoUqy84DMkTVtfxQhQ0dkG8D5eqzpibD1skwXvKwFUndCAj8aOska0+zuywN3SnZKjDr4wchHNVbVeNAtS3PNu3epZ2f/KCSg/0Fhr1B5Uq0DAJBENoig1+8a7F0T3/yQ7BgBygIY6LrpIICyxejvF7uYtkJmFdUHGjMzkCO1MwQzhDSENjoj46AM+YzdEYDAgWuV/+ss30u1a6F24qcshsi3DobfCz53Jdcfo7aNSl3gK0+VmnbTh63XRIUJudre7ALcEmuu6PPYX5J4LWx6ogd0fs1XMLaBLmyBVg0Si1SdbSm8yc944IxEh8nLY2V3kAVx9fVoRBw0tBxCrTvq9bxctM50hToVgrwyczN6diHub0I9tPOQY9Cgh/IkQHp5XP72Iin6+0vWxvsVTrs6tqLpHss9HrpYp4t31Bn31rfYDPFcF4zP0cuayOhJnxoehlzAWMBXnxMuHJ2wLOlW8Mq8VXTZ9hErR4DcWaNZ/KFDvB7QiIuhZhmYUj9CGOCbQO/lsw+0aXPFEN27azZ8qM/OQi47FRQh+u5Y08R1KHE2AY3soHpFQMsZgjmt1KrpwePJdRdJIywEs6ORY6YV4SFsorDQTBhZ6RMrlV3ybZr7vgxVnGiQAebZ9jYPrJ5kR0MQFN6+A0IeLT6L9Bb9kIy8J+QhUe0bNmNZOmE9Y1WeuCwjUnoTqNz72pfCHW4+xys1fp+CVuSSNhr9oDFM6qoCAyoB6EytFQ7MDtFL7wTnWKfkISgM1MEg56PEZjqxCsdGGzunaHhWiJvQpydsFS7FsHz0cSJcudaGHBIHnsU21nQEsMHfrQl4JY30EYcPmh7JMCuOHrISqRyhDpfgvydhUonlBNhdEA7CCurjgbaTdIuwsh+qXdmOqHC86IIxkBL46Q3EgBck21MeyOevRmntJDQm3snjVuHKHCanYC+bqnUDDpUqBLzYY6+8s05fQejOaTr7vhI+0rpnClZ9orJOjhKjPcvH6mzRTOzbIgMmHsTQC7NzfI81Wj/e3+tzcnOtKkj6qzfgD3S2R4sxiw3YiyUkE95Z/TR2bbfGTpw4ZCrVTJSxXvRuKFDZDA+USorkbV1KiYtUJ8GC5r+RzenoUV7nVkM9+ExumO3CwHh0fXrg546fvp9dyK+E9bsuPC04gMzB478UJ9hdTwy0JbAoOdyCQSbpEt8SO4uc6Vi4i4CcYGJILJfgkVFQ1+b3h831C004vRqe01InlSOioT31hMN9sphct2ZN1Y7Ctk6i2CSDQyHhUk4k2AQmH/Rm/7uyAojwh07CKh+PSzXpdfOmmNDNTY4j4BD6ACnWpyZCmGJMdISsUjv43CknF5cOXOWdrE2BRUn1NPmTCgKOxSpxmBLZZ5JODg4HiF/Ai+WYEZIp396br4drKuwVceO2nz9Jg7QbkIvExNcDHteAs1+GVrnSeielT/YshJtiffNmdAonSdNgfOFAr1+geh86Yh0O8+eAjDup/za+Ci3t8aIkTi17Pbm7ax0zngMkSHpy5bIy0m2jKg3N9jfnpKFqaCTmtpZ6IZywO17EmZG5urE3mnVVla1yf707Arp9++QAFEdVqSg7WlMSadi0XZhMF0wDfx2S/XmwdWrbb38b88fP8GumDErCAiOI/ieDZDb6wrjSuVxRQjYrdXppVJtGiYXp5fIkxHMLFvl1O2MP89+7zhxdaBsynLbhYFaJUcnnxXvQqktcXLwHqlOHZR3phEDB1mJfIZfUDLRrtGuxazxEy1P7iH31TbYEHnz4gC1cwWcAqhJDZWQsFYH9U2SEe4VM2dLFUg7WNo9GSlD4OEyNs+XsABtUQmKCwhxejqNUcvi3uO456C1iyZPCfYjz2zdEnZ0UDViaNCX3r9nQjvyUhD1gOdl2sGart2e5XpnntiwPhieU0e8z8+kntbygAN0afrpOQipuhK3SB6jBknFCm9vjxzcFwz2Ycq9D1oruzvinDa7jlfZU0crgmAwWbsIGFoDvQXP7qBFuo40Bc6WAumdhLOlYDp/mgLdQAF9m8WUiAmRWH/JvCx72bN1dt+GBvv8X+pkwNzHpskg2OO7AZ0Wq8AGF49Rm3fW291/rLOZUlmZNKrBbrterjszZtqyrbukwrPFNu4pt8k67KpYvq5h4AD/uAdGqcUaOjcCZgymCzWSdbt22goxY6wyXz1jZpMbSNKAEwz+/8/eewDWlVXn/kvFtty7XCTbkptsyXXGZVymMX2GgYHAEHoILaHk8U/ghReSQALkhQQepABJqCEwoZcAUximetzGvRfJkmXLVe5d/f/99rlLPr6WZMmSxxrmbFv33HvOrmvvc8639mpdnRgzdeOFB0Ni7AgWT5kaIvJyzUFsc9sshBZSAD7K78m/kZvvHGkHn/8HZGcxPW+M3ScvbLhUjad6RFbKHOWPX3l5fKffvp+PZBF7jqyMStuhOAcwCVwP6yxFR36HpN/xddd8PpTwTNGR8tQ1Z/x4e0FBqdZVlNt8MQ1dtUJom76w7liL1M09snq37FRkPH3TpEnBhsTn9dLede4XdcLAI31inEiXUHELXrt0j9RIzai3dPunS5rwonT9t8vL0QoxCjcPl9SmG6RAE9EOT2O/qT4QYj7k6KE5f/CwYLDs93s36GrShYQCLwsKJEzCy2Kakk4mFIgYBL37rL8iL7/jnh72dHmtNUiQ8I8/qLUvfDBHQeXwXBPlux70cgYBNaP/pz6dr5XrUHXknfdmKzYFbgeH2T2zhtj+o8cUnKrK1gj0lErvf5IMQtHDZoeW5CDuIlALp7v0gzYAYjAIBJJaI8alovqIjZMr0LlBNSXSXSYfea5F8j4QLG2pdokxSn7V1GkhhoFfa2+7oYexfqb32H9jiFsoV6q3SpXFGQTaIkGPYOevzNLWEePU3ta7Tz4JQfCEHALBNTQ1aDw5kpYMtzIFjDt2+nSQJKDkdrVzCh0japlN0g7/ibNnbVMVxtF9g91AAKldRA766OtgmqRaqIQtl/rR05J0wSjAAJE8T2eb9Xr2S6K1trIiGGfDM4bztKO/s1LdeVXRVLt9+AjbtfucpE5N9tvj1TZaEit26q8nCI/T/lkxCGVye8p8zZGakUsRYrdIZ8mVlE8o8IqgQKJu9IqY5mSQvysU8Jfc7CnZ9tG7s2y7gPjyykb7lx/WaPfvIiPxUo/XGYR6AbQv/6jGHt+lnXlxCB+7I9tumh75JQdw4CoyXz7h75wx0+4oKQk7pGsrd9vjG9bLDmB3UKcArDqo5cXf1cnBEPXukZvRJzdtlOHu8eCb/naBZ1R0wM0BdDjBu7gT3gc8GsEgnDp/wRZNLtIO9cAIhHZpuxEV2R0m5kKB6I8hL8k9f0BzUl+5PM3WW+Go1lKNAODLJfl6Oav74aRsvAmMgaE/CQYUw+09codKYg12ZmTQCjBMmlFQYPlyVfqi1I4OyV0tLTK3XZVoy+sr1Dju0PpEpfLZrVttx/59oZl4ns60671GujdCKmpIlXDFi+oaEg1Ur4rFGI3R9d5Sr7pn2MjAbGVovD89WGXVMpaHsXHadKYvHS1L330NrFZ8jOdki0AUmXypz90y7KLDgYtPlo62kORPKPDKpEDCJLwy5z0Z9cuUAmA53+F9+K6e9mc3ZtpZAfNvr2qwr/64Ri/2i4xCF2KVVqnFy9kZBAWmtq/9tMa+sqzBhghpfnxOD3vHqyMfPkHCkXqL+04uwcHunDHDbp9aImCeY0S0fWz9uhCTgKBfJH/xA5QcxIQLV/HhYAtQhRrF2vJye2bbtuBpCIYFw1DUe8gHnb3tq2iqzSJR/RlBjWO5VIwOnjwpw1qCpUU7w3AoXdm2A6Oqo0dsv4DsRIFNdPLph6sz6WtIw+QdaLLsEXYJbJ+PpqBL+9ImYTpzMUWws5JiVarvJRrDEI2FhNF5fipwHAbAJF8L4cdVfDgYxj3qXBmY5+i4Qt6IcLMaZyKuourLilAfiT4j/blTxtLDNaZlam+tmBNn9DozprAWUu3AEIwS4xNa1Qdj5X7pJ6PlEvmdBzSgnjd5wCC7W/YJF9Sv0zKQ//7+SjumSMxOm87er2HQ7fiAKYkoZLbpxDH75ZGDskMw66l7+cER+dY3MDhXLz1qRxeSLAkFfmcpkPUppd/Z0SUDSyjwO0gBbSTKU43iXWmndKbsEcq1a7//pCQKu2VkearRZk7Wzp+u8ZIG/KXe/V1OCYA/jWCDcEHA7N9/UmtffLbeRshl7ID+tfb+12rXegS+eHiFR+o9dMJBawRMMm2gVDWI9DpER0DWDqkgVSr6bJN2MtHFxvUkQCnUkhoQ3zuSaMvBFp592L0vPXxIdhEjQgRdjHsd1Hi+jtTf3rzeD44vCuSVHj5s82Q4PCU/P1Th19tbX3vzoVe+orQ0qKzcoPYw2o2Dq4isGXKLKmPUcgVbO292b26mdo4zw/pJkb29zb2k+egb9wRp1e4G+/reJpsrlby3zswOweCYTwxvtx/YL8YhMuQmb2fnmfLMV2+pAaEKtEPG7ue0fseK2bvIbHZ0pdKzlpO3R1C2MVI1wj5gi2wtzkpdjejM3Cf0h9TesaXnhznfKIkehvskpC4kmAQPIsi6YXyMbEyffpI41VplzXmrlaShVF6fCiSJ6y+7Ba6HNXaNHkCMlP7DlJDWHj9iP6/ejxBJHq3M3jQy/7qrQIWOJR8JBV7GFEiYhJfx5CVdf+VSQO/osIPfV4bBc4qybIc8HR1UEKwNVU12YF+jTR0n8C0bBd6fMBSkrnpXozYEgyCcGeo8eKTR/t9/19ojq/DEY3bT2Cx7z6uP2r7TO+zChSYbJTeivrsYBy/+HSABiBskJmGspAvD5N2HSMDbBFSCiojqxF4hziy0F3yoaOCUvC1cjD6/fZtcsdYFcE5wtJ54EUqBjQhuUKjrE4DG+7Fe9hibqvbazDHjbKb6QIpf76rWvU6Yri1ST5mhnWAi+ZKYE/rjf+GkCFC6v9FeUITs+fJsOXcc0Zth8bpu/YR2uvDD+1YjFalfb2uwpw432asV3fvuKWKWs6IZ7S0PRwfk/vWkADVrDCbJadOZrvh8snZZ/LjNzRawJiI317qijXj/qJO1igoQNgm49Nwm5oegf8PE6BI5WQ1fsubj5f07cjlV07wGYAK4N5bKEHvPsaM2MXdECB53RHYc58SMjBPjM12SNlKgN1/UDtSdrIBqBP6rkA0AfdsqI/xhkqwMk+TB+xvNUTQXFO1Moq7m+1V9wEj5edkgPHHskBgE/VYf3jgiz6YNHBLo70xEZ9pMyiYUeKVSIGESXqkzn4z7ZU+BIFEQWIcZuKk4yw4K3K0VQFKcLFu+ud5GyeNfXi7RXyPcALMQvaz1u4OjDy9mtaXNwgAanUlZubHePv29WltTicqB2R3jM+2v39XLZk7oa6flc3/rgb1WJ2OJkQJNMAK83B1YeRccTNEGeZAsAOSGKwowkgXALaoy9L6PdmxRh4iXSa/P6wWgMVCunxeIWSfVjBelYoSqBvr/Y4cPbwYx1xpIxMEiXpTwVFOk4GxzZCTtDNS16ANjxyCawFz9xWhNHj1aUYgP2GGpHRGMjV3gSJGL3XaiC2fY/mNmPxOjOVamJAvGZkrNJJJKqapumcI0q2/Vp5rsJ1sabN1Jsw9N7WE3ilFGj551FZgC0YEd8pGy+xggiQKptbUTLrbzw+cWj0enFYV4p8D2YNXPOiZ1RRvxrlCfg2SYkf4C47tkmL33yJHAaOM61fO01LaX5Rq0iVzvlgYDbO6N+RMm2VRFfkZNC09HJ8+fs0WK/AwzjZoR9yhlWQ7cV4dk6Dw8U26ZpTJYqvGTtiiAGXE5ctU3Avh5f/T4aC4bMnbgAzpH5SPmhqL75V3p14f22erTJ3Qf6fkhBu1hqRhNGyQGQddbGn8HmkyyJhR4xVMgYRJe8UsgIcDLmQLOKAyQesXC6VKvqG20H0uq0Ksuw365odHOHJF9gGIrDBscRWYmP29PvevDTqKPHQDIS5UUsugH4MvzcV3YIPyRZ2dlg/3Xo7X2d7+qszPCBWU1TfYni7Lsf78tx4YPBkCw0zk0qAxt2rdX+u01YXeVHdDWGIUAWtQo/YgzC7kD+iuCsJgFqVYAaFBDCsyCQEu8TBwQAA5RlaAnGJQu27ndyuW9iJ30efIMM7BP37DLyFiuBTinXk+BWdEP+lchALlcsRDGyHB4gYCX0+Na9MHBK8bZm+VNapqA31ipdW3ZuyfsPlfLFmLvUUl8RFPoevjUKTt9/pSdvJBpu4/2tCVntSMvdaN8rR0Sa6C7JdYK3aJvG6sa7SuKQt5X9jDvKjZ5qorAqa8LJFGVogWBz7D/8LXj1692bF4Pczh84AAxWUdDROZRAvCoIrW03q+2LS9Hm17vEEneAPdEzS49dCAEyRsiBjueh3KsB+jlaw1vT0i0MLqGhnPl0hWplpelDAwHzMJwMVYkyiJ1OKK1QkTybbon11XtsYli6m/IHWX9VFO5JAr1amu3jpWKVYDi0SBJODCCpjxt0XcAf0ipc/7Tj/TVGQPOUTYqL1e+sn1YebTaHpP9wcHaC9agkY2UkfLDI8faREk2KEuirSQlFEgocPUUSJiEq6ddUjKhQLeggDMKvbXjO7c42+bmZtgG2SfsONGkndMmW7ZJUXSrG7QDb9ZPzEQvebBxwK/3bgBYemdfkvx8PB9GoVt2NdiPf1tnXxJz8BMFSjtXn2F5klh8/uGe9tb7elmfHIEXGBD944WOFx1UIjYLTOBqFN3pyFPK5RIFOgCwcdDF78AsCNCPEwiBWTipOlCvQHUEg80+OUgWLjILlImAUCS1wD/+stId8vzUYDcXFVnxmLEX9fFTbVHmWifGtE+A/IWdO4O7TIJkoVsOWIJO1yLRJru5RO2FjvMmTApjR2JQLZCXI9BMqqmvCzvCe+ThaXCfXjJszhWNM2yF1s8sGf/OkcoRa4w1co26etXDp0/0DYP9X0iq9V2p0t8/uNHycsqstuY4qzCsNyQJOWIqa2vrtNN/SEza0ADgaRg6dTb5mmUt4g51pyQWrNV8tQMj6AxbZ9uJl/c2OQeYHy01sqMC/lu15pERINlgbbHGonsiureIKI40a+WuMquWDcF0MY/EYhgl4+5seS0iP4n6MXCHocYzFvdvpWxotqos9heHpOJ0QfQclNPbpo0riFSgZKNQoN9HtSlwROsKg+YdYhT2KT4H92tv5kGB2Kg7AH4doX7UYmg2fHAu/MXy0a+DYjxWy/bgt0cO2eazp+18iHQtSeqAwfaakWMsV21DaxZq52f1Yn+SbwkFXqkUSJiEV+rMJ+P+naIAQAlwjv74hPwsu3Valo2QmtEaGXGuPN5k63VctlnqFqUNVn200fRuj0Cf8uMqUu/US/4gzmkxBUdUtlRSg6derLPv/abOvv5Mg/1EQdwqz2TYrEFZ9u6FZh9/c47dKOYEhsI9HQECeKlzRCWitwDpVqkNsXsJowBgaws4UY6/8MJXX5qZBakIoYaEf/rtCsi2X8CWnWEMnF0NiXLEHlgtcLxeu+bs6N4iUO66+PQrAJSXYAX4GKsFqJbIWJo+3lZcHEAd164Fg0C9PsYq7Wpv147vDDFHRFg+eOJ4kB7g5SdDEwategq41YqZmCpVpHmTiqSyki2GpsEePdJk9efMbhsjFbCUpyBl71YJcEmfdssu5osKMHiiIdPeMq7RioadsPLD1YEhOKQxn5WLWdYcEiikJz2lg0cUak/QobPJ68B+prfaIn5ChiRao8UocM3XQmfbiZf3NjkH04n0DqkdTPl5MQO5mnO35anXfVJ+8KCYxjLbJYkK0qzFkmZNkNob65Lk68br9T4fFVP59NbNtk/M+QXZ87BuGSPqR6gSjpcDAM87SPYfU7WbP0AMxyHt8p8Qo3BMDEOZmIVSAfuDUhG6IKYjsC6qp6fyQf34H32pE+1OSR3usFyrbj11wl44dtiWiEHYrnqoE0WyiYqk/GDuaFswdERQa/JnTudnkx4kKaFAQgG5ONYbJUkJBRIK/E5QAKNiGAYSN/ZOeXt5bHm9/XB1gy2XMSquP/oLDxRqx390fzEUQzNs1MAMQ0Ubj0ikOvnHPyvvNgflMWnX0Sbbd0rxBKROdEKGoSbmYpG83rxmlmwhhu+1OfKkdOP4CaFcgxpnlzqeHDhwDvWEZaWlNlC7nrdMnSow2q8ZWMTLtPQ9Xg/XASf7ZKdAULYD8v0/UMCsSCB3ggKz4b1o1a5ddlz60YDj6QpExU4yKb2ecPIafXhb7MA+s2VzMJa+Y9q0ANb9Wlc1HT3ExZTF9k+h0ePr1lrV8WPy4jQyGKBWizZ9BO7cBSrYGMPUopGj7cYJ0TzSpw2KmP3B39bb0nNN9q0bsuwPFkSxLrqqv11RD28u+k/61rI6e+/6BrtR0rRv3tvDSvIyxEieExN5LBi/HxJzyo4+HrQOih4A54fmzQ+RraMaumZtxOd1lZjUjVV77RYBcQKvXevkbQOU11eU23pFD4cRwEUr9ifrKip0r5ywoVJPmql7wlWu6BdlIeald++lPYbB2CimO57nrNR+sGHgvovWYKgsMEWUPiXmYJ2A/eqTx+1QvexflClL7fTQX28xqQM0DwMlWUDCALOAYluDMtWIoTkjxvWkmIHT6nuNGAZUmPgjgvKEnD42R4bJRXLD2kvlSM7ghB/JR0KBhAJdQoGESegSMiaVJBToPhTgRUxyAMX3vQdl1Ly93pZI9WiVjIyfP6ZM5ONPEojw5o+//TnHG5s/pcWyM5g7LsMWS0KBStOYkZm2smyLDCaP2t3TZ4VItq29pB28UA/qCvh3Z+fyVu3uDxsQuR6NN02+1lK8LvIAhPceqbYyARjiDZyShOGCgEmedm9hRFChIIUdRh19hzScvIYf3s/zAlHPbdliRwTOby8usTzsNOhHJ9qmPKmlOmj3pJijY2pv4+7d9rziMOTK682kUaMCc5Yn0Mhu8x7ZZ2wWgIUuxXl5NrOgMNTpjF6tgl78w5N19g2preUJeH/n1T1s/HBUuC4yoaHAdfxgnbPGyw432nserdMOc5N9ZGKm/dkd0n+PcGNqTI2ix2mrOnI0gORdsgvZqfWySEbjcydOCpKuflJTSU9XO09+H9Rox/35rVvskLz93D19ZhQoT52+lmvQ22YsgPpntm2xE1oLBAgkUN9EgfmJkhzAJJIiRaS2mQNfy+RfI+YbV7L9JJHhPID+rukzgiG404sj15A2XJBUg82BUZI07JdkY6sMjCulMnRc4B/AT2JNkeLPq9Sl5g0PGIrh2T1tolSfivoNDK5Xs3WOlCre4v0QMiQfCQUSClw1BSIZ41UXTwomFEgo0N0okP6y5TegfszInvbAzU22XxKFfYekerC/yaoEsE6eEbCU5OC8pASkHD0VBkmyMEBek/IEDCeM1lG6S6P1vUfsiTFxxFhFfT0iEHAwgH1AQRxQRLXx8k+pDek4LjfXsqXqgavFp7ZsslumXATyLZX1OvwYB1gAItSQCuSusZ+kE79eu8Z2S70GBmS0mIPTUjEZ3Lc2qGG4Wg9tgEZaAtjeRmePPg70uFfIBuGgVDXYTYZBCCnVh460E/qtAow/ve94Lzop5gi1GoyQj+o7O8cY6Y4QE/bgDTcGT05xIIwKGLvCJXn5IWowfaENJEEwCrgOvX9qpv1UXo4OSIr03TX19ol7emoXmHyXArqOjKOr8nof6sTMfm9tvVXJ1e54Scful5cvGASRJIBOkSusEVSt+JuuC1XyAvTo2tXyvLVfO9aNUkPqaaNFD+IboMcf3Iiqo05np3171w1rjbUJEJ+jXfynNm8ygubdNWNmUHfy9dFVtKAe76Ov81oxyjDLrMF9Mtw/K7WduZIUlUiyRsI+IIp14KMMpy/7AID7PbdbcUXKDstzk6QxLILjkpDlyQ4CVT8SNfnYKHNcdghL5G6YFTtV7Q4RIzZt4GA7mVIhqhbTcFjqSKfVz/PqD65LKc8YeumvtyQMgzQ3I8SQDO/VW56Sesue4SL3lzAHgezJR0KBa0qBRJJwTcmbVJ5QoHtQQO/ekPTuvSzp/WznBATlqTQkGAGMoLFvSE/UE17kKbWiFQI/ZQIP982YZUORCiiDg4r0svz263gcIqAZQOZmAWiiL8evhx+tfIShxNqpkCHq6oryAFKmSOWor9wulmm3eK8A8yAxD+yUw0igs+3J++G/u+ro9QISoQ0uNxcIKE6VVyWSX29Pe+QNSZOWPm2AwONyK3VAqjP7pScOY0AaIMCGkfcFAbEtUsWaWzihmQnguoPDC1IxOqg5wA1sALVaBGHeAtJTe6kG/31Jg/3TNun6i3H42sJse2AGAbtUka6n94n6X4oUzT/g1eyXMlZ+/7L6sKP9yZIs+8At0RynSzyclr42MdxF9a1Y6yVL6iqV8pRztqY2uIlFRYdgZaxn19X3caXX4+dbOvpcw6w9p8je48Qk3ixpEvT2ay2V68i59HuB+SW2yHoFRDsmdSuCBY4U47Nb5w6JWcW71zSpGoU510RybC2lVl+Y5yrZcTwjqQiuXW8rKZFNU709vnF9UOejPlJcigEjxj2J/cKgUGZasAlpra1a9Zt4B0g26BOqRzg8SE/p402/nvxOKJBQoGspkBgudy09k9oSCnRLCvC+5Y+XrNR7L9lp5Tz2CDAG/PHdTQsAhEEdILydozoAWg5yMAQtlSQB5Ehwp/i1lgjh19n5R/3hsFSEANL95aVosHSluQ7Y4NhSCiBN17iOOscGuXBcIRWIQX16B+89GGFSDyCPoGy4TmXHGGNVeJ4QlE27kV5/W2211H5b55wm5FkngLRJIP2GsQU2vaAgFItfDyda+CBPitShj/TTKUE03EPSKd8hA3D0yzfv22tHpUpCtF9sDqYJAM5UW0gs8JlfI49O86ROA9D1cfq4sdEgAJj/Du2EtiIGAQP0zIxGRSiutRf3iG5NGfak4nDcJM9ZIwdK7UjXlb25by0M5ZqdYv2iaYLdxEeWKMK3Fustw7LtQ4uzRQtU0C5ncH18qKcFECqa7BODNVBqOPMnTxaAHyZ7hX7BGxTMJVG/8UZ1QYxDlrjlXvJaFHbeoZH+0ueptcGSN9BZ87qFQGvqqwdaa61Me887KKcN0mGtDTxZrZMtAjExkBxMGxsZrI+SkfZZGQBj0FwrBhKXpu51iYn0NXZJ26n7EEYUJge7n5ulwjdAKj+4dh0uNTbutWbJS6ofIQ6I1j8xC4JKkOqZIGYlxKoIDSAxiJ5F3nfsFHpqUmEO3FUqWbkXmmmd6qeXCVUlHwkFEgpcUwokkoRrSt6k8oQC3Z8C/sK+iE4j8Jd657c4gDjgxUAToH/fzMg2IX6txcI66QDnlAI1LZPqEbucN2nHvUi7/iS/Hn6kPuLn8NO+Wv7d90nFZppUZjBOhmGhbfKhhkQK6hYCfTvFKFRpxx3D1amj84LRJvlJDkLa2lUNGdv4iI95q9R4VopxmSI7gHlyLUlf4n1Pr4ZrwCGgWhwAcf6MgN3RU6eDy1eMTmF68NKDGhFeZWC0AG0APk/46X9i00abLZrMKhzvpy87Uj+eoRrFBRIUC+kCEogzF2pCkLWDJ09b0ajBduzCGHvnbwHjTQrclWH/LMPgwmGZKhvZJ7S1Ti5rtBMnIBMMKxKu8upG+/DjdSZtGqusb7Iv3lRj902XL17R0KUlV2qKAHMwA6+efUOIDUB+5vGEbDoINgdjeVBeqaBPruhN1GE8Ig3UzjgMg6do/mCaLgfbvi5gTl7YtjVEM751SnGQ4FDuatZc+nrFMH6nGEeY4RwxM6iQjZftgYN32mYNopa2SXYq6/dW2hip4xEvBFsF6iOlrz36BhP/rCQIrC88hBEzAfqGsaYmntIwGXhV2rJ3r+2SZBHGlPK0Sdv3zJyp/kT3G23FU9Q6ZyLmIar2clrGyyTfEwokFHhpKJBIEl4aOietJBTothTgpdzSX1sdBiQ4AOqjlz/AoKGxPqgNxa+1Vgd5AElBH1yA5ZSAGcHS2GlFL9yvcyQ5oKLNMgG7pVLlQZVhkUA4Ptp9txxgwp8DKd8xR98c16kY9RLBGVegyhR24d1FZBzstdbvls47yKGvGGki2UC1ZP7kogCuvO/xspxzmQH9pSx/9fLogntXJAGbtSOM2kipaIt6EZGCS/Lzbea4ccFbDnSC0QlMiICsl9+gMsQ+mD9xcsyL0aV7xdCHdsullrVSajeoqFRILaZS7VbL0PaIvAHVyri0JL/QJo3MsTwxCJ+XwXu+yqzY02g3KsjaEMXcUDWBt9Tpa5pgDmgoMAhyd/rxJ+vsRI2ifDdm2TvHn7IBWVvs3IWGsEPOzj/0hR4tJQLtcQ3gu7u6WmotmSGehzMXgGsM6lHFyh88VEa6OYFxIJJyuVTbcONL/AnWFnYH1BX+1Bh1k7xtjvSFORquOnEhWnXsiNzyDg5z54A7FGrHR3OQQNULQ1cqxmCF5g+7A5jS+ZIc0W/GRrskGBrK0YdRsiHoq/FhfHxA7oOH9Osrm4IoQrPfz94GMReWiLFhnd4ixgaaUKdLVMhP8rEi4cKjUi8xCNDGr8GkTJCkK111K2SgfPOf01FHv5gcEwokFLiuFEiYhOtK/qTxhAIvbwoAEABVqDBsP3AwGDJiEyDkcMUXvQMowANed85pl3yzfMtrq1IqGYMDiAVEkQC0BIFaU15uawWC2Um/WUbPqNYAKAJ4UR5P1O31cy5LoAW1D/T1YRYwqmTn9ZBAW2AWQlC2KMiTgyvKtysJLJEXPeylO3cGNadF6lt6sDRnXLxvfkRtCkCGbcXmPZXBoHi36pKTfRur8c2UysgMSQUmCgQSDRfGKs4IAdXoKvUd1s736ooK7Sbn2ThFVw5J51saCfmhfaUYBNygAiz5jaQCzzPTxZAUyNCcNFVMwTjt2v+zDJlzpXr0rLweFQ+JVI9o26UKIXMXf1yMvRGpGH38qXo7fsHsuRqzz83OsrfP7yGvVjW2UUzmBUlehkkN5qKL15ZGHtEKBuuI6HVIu+XjBKx7atwA5Aj6RgbP5EE9qFC0zBfAJqYEUq9SzRV0O5EKEgajCe18Tn2umRifK+ofLKkPnpWaA62pDOuNcm2lCJBHdZF/j5ibVbvKwhoeKYPshVKZmiIJgtvd+P3g9XL0doaKPsO0jipUR7m8jfUVk++qfkiWsNFgXBgdYzOEFzJoQB8Yiycfq/8m6NpYeRUjHgPjgzkgUaZA9HOPSp4/OSYUSCjQ/SmQMAndf46SHiYU6JYUiAMPGAV2ZYloC+C6CCXa7rrXAUAl6BTMxiaBvTodUe0A3JMHvWjUktAXnylPKajxYNdASgcv8RYdyEQgK8YsCLQME9Nw9MzpoCpFBOcmgZq+2lV1sBfKqO22xuJgDLUMgqUBsG8tLgl9C6As1RnvB0cS9gWUQQ1qk3ZfYY5w4QodxqtvswsKgwoVQB/wRZ9IAFgfi9fJeb5zfr1sNAD82CK0BZTJD4gDVOKdBuNndppJNdLh6aPzuEWlDrwdAfRmKEjfOFR7quQWVb9/Ua5AWurWhBGZwesRu/3OsISKOvnh9SE9kEdWe2xTvX3shQZrErPyrKQI31b8hrfNA5z3ELM4TKo2mSFgH0bxeODB/oQEXZzu/Oa7zxuzUSoJwQDNu7vjZaxOT88PbdhxJ4J4oYzgkepQL5IBGAYMe1H7gQLQjJ106qB+ny/qYs0S6Toww2JIcNXrbXFMT9BTFUR16TJrZo2Yg3ViJvFEhVH8zMLCoDZEVsZFo3Ewz3lSvJ0BUpkaNXhQMF4nejI2AYwfBgFPWXgfOyXvYDAIeAoLY0iNJ6rt8k/GDM2RcOyVylueysF0HZP0bqJsEmC4wvq4vGhyJqFAQoFuSoGESeimE5N0K6HAy4UCgA+YhBqB0x2HDsidpFQaBBbSwVlr46E84AYjRyQKqHJsFGimPoBLqUAMO/Skm4uKbEr+mABom4GLyl8p0UYcJAH6COYG4BsiEA6zsEM7vPuPHxWzIN373jkC7NoZVsWtjcOBJupB7LqiKnSbGAR2Zf2at0v/iAJNcK9tGtsGgbxtYhBOCFhiZDpZOuQwBhiaIh0BTLrKBmXDWHX0+jjGE7+rtcO9SnYaxbK5wJuTp/S8Ph6AJBKMLVV75QL3XACWmVK9gUmgDvpB3kyBUQC7DjZrTJbNFGPw73sbbZTK/0SqR6ek/jNWcTQGKyqzdwusCvEu7aX3qPUjxUCS1ON/Far/y0vq7B+3NNggndwqRuWRBdn2pjmRqg82AwBm1K/wvlOh3fFyqU7B6PgOuY853jJ06SsJEgAfWw92u1kXnpfr/EV9Cp/hN/MCyCYYWUHu8CA5qpG3nz0CxmViGPbpeFb1QUuYRur0umifnfxaSY8wIu4v4DxEev6hHRGNo6d4P1g7GyVBW12xy06p7hn5Y+2myUVhzLRDXlJgcNqg+sXxWADtYzTHpzX3BH3LEB1hcNZoDcGw3jp1arPXMXWsjVov3iPYAK0qL1P042wZORfbeK1D1I9gdHlGXBydjzI5JhRIKNCdKZAYLnfn2Un6llDgGlAghSeaa47hkuZzfGlvPtdhJtLxb2QwiyrQbSXTLqmrPT8cWJN3i4x/0bXGcBeAMV5qL3ju4TvJAVT4cRUf6eUB+KhwbJNedbWAM2CzSFFyC7UDCnDyBBQD6HhfAYPPSW8bL0N3aMzsNHsiD7vL7GwfkA3EYYH489pl7S11oeEChjBEAFsAZ0s7vw784sDR6/aj94ffGMbulcTlvpmzg2qV9zGel0l1oFiqsa6VISv5Zok5wQ5hjwAzRrp4scHQNF6HMwrUt7K8wf52ab3tV3wNlEoGiUTvVlyFO6dKIiTvRy2l9PXkeVpbf/tPNNqT2xrs69sVB0JRwMUb2HgxIp+6OdvmFEQ679RJ+fh8HpVNxXIxlUelMoPUaUZBYaBvPA9t++9NlZW2TgCc+YMxctsE71/8CL2dhvHzfGeuQ4RnRQJnDVH/0H59LX/IsDDXzrCQlzgWTyt+AuvmrmnTLTelzhOh6IuAvE7rskzM5FYxFGclfSqUlG6axkRdnrAZuFjCz1756ONn7cOAbNI9h0MAmJhXiRbYNpDia+xKtRLY8Dca12JJ+ory8lvMHmgYu9Ia49DefLGqkq8JBRIKdDEFEklCFxM0qS6hQHekAGAqvOz1RgZUxf9a6288D99JAEWS//YfXHZpArupI6QnzW64A5GQrx0fDojR09+o3fYtMgRGLegORXVl599tFDxfO6psMUu8PENitxfgxc7nQPWbHf6dkorg4Ya95P6pnX3GyZgA9fRxeenOAAhvKy4OABPAhVQC+wIMiJEYUAdgGwnLNElBZhUUWJF26gFjqPt4X8L8xHrLeb8WO33ZV/pULd36F2WvMVWMzXgZiXry8j4P/D4jxuZF9XujPNEME7OySNIZJA8wYLu0C493HGxC4gwC9THn0fzLgHmIPNZMyLbaMw224oQ8Ssnt6Ddkr7B2V6OdO6VgbOITevdUUKweF+Er5Vv6874y/lPnm6T+1Wg/Xd9gn17RYF+WxGI0c9Mj0948PtM+8apsm6zAfiTWNPWR4uPsI5uYMcOGysZF3nbkdpSd8hFixrAbgA7x/JTr3atnMLxHIgEw5pzTK2Q8fKlXAABAAElEQVSOfdCct+WnHaTDTCL5grEkyFgf1XtKEgB0/7kn8JjE+kB1DNUbvFNhoH5A5/OHDglqU9ykXn+VmA1U7LBhGKp7YL4iROPFi/uMxEhCfyLOIpzryAftcD+h0oetyxapva2t2mOjde/OKCgIfQz1iWbep7bqh2ZrJOmgY7MLC8N4qJ+ygeqpCYv67H1vvcaW8qXPX+ulkysJBRIKdAUFEklCV1AxqSOhQDelgN7RIQlnXZLOCoydPicXm2ebrFog74x+a3MzJGEY69s7Q55iMqy/PNj040+/4ym9XgeUqN78ZuOGsFN+m3ZILy0Vr+Hi9/iLv04eddjZBcCi900wtD1S0SEWwEKpVwDkQ35VfBF+XqyrM9+o18EQahN4/EHV6YAAOIwD4HmsVFIAaYAegqXtFBPDbjUShLCLLFWTk+e0va40RBICgCBGn7iOTHcBGR93KNCJjxek7oQe+D0zZgbA5/OR3gagFINX7BYYT4kkCG7vQPOMAQPvoD8eowfX4vSBWag6ckCTkGVHzw2372+os98carSjWkN7Fbl7gCQLD8mweYEifY/DwHmA1pPWEWvLpSbUUS/xwGGtwUMnm2z38SZbLgbhZ8e0HlVPnvKOz8m0SX1rbOHoE/b7c4drHeQEGwnUi1pLPnaOm8So4XEH17cY98KYkeJj4TdzCZjHVSeAuS1pAvlbSum0Jg/rGRe2RMImLgNRioP9jdbERKmYoUZE0DEMoxdPmRqqZTd/s3b16Q+2FbjsxaUp5UjpfQ8nr+LD62GtL9P4sUsZKSYHdSbWB/Ry43doCcX9/mD9+wx4PdVSUXp0AwHWxohJGB96RDmSz3n4oQ9co54Vbc6r7VMyjj6n71EwNTHsYiqImdBPKkv9ZG/SW4umr47eHnVQK+2m18u1JCUUSCjQdRRImISuo2VSU0KBbkMB3s2AMIw+PR0+1mgV2u3dvrvBSvc12Vrt0laIQdguTzEmTzGWYhJM4Mzk0nyy/sYPyrDZYzJtcl6GTZGKR2Fepo0YerFS92qj93ozeFkrnWai/UbqN1LfaONlHr+GutJqAdgqqeZM1m44hrMY1e7WLuxS7Xz31c7s4qKpkYFpCnw4aPExdsUx3idiB6BjXi43pIcF9gBtkxWwjcBVgDsCcCExCeBPwGaEGBuYm6AfL1UTjGrjibrjYCt+raPfHZwBKh8TOMMF5tyJk0I1AZrRFhOjhLtYdoo3Sfd8qBit2QUFIfgd1+Lj5TeJ8lHJaF757YAMRhC7is3apb9LEpQC7ZxfENjfIPuE56WGtPKQAocpAPT2WpUSw2DCtvna/B4tqcJQHftEWNfOar0dqzXbp7L7dLQG/YlcUySBKJFW2fwRGXbn5J42oBeefDbI29IkMTXjlOnS/oUTaR9OG04j1XlRevIsmQWTJqUBX6Q1USCyxzZsCGpXrDsSY3YahBMd+KB9ktOf76wl7EaIY0HMjpNiEAbI9oWAbSck7Zg3fryYs95SLaoKfZoo6Q7BAVFHI7U0T+HCVXw4fTBeJ17ENs3lXLU/Y1xBUDlaXrpDEZvPqk8Tgg2Q04F7FPVCmC2vw5tfvmO77Zb0457pYrTEFMMIhGBqqQznxBAclvrg3guKFK7jwdoaOyYGoUb56kSvelEcqvF0IdpyT/31kSH1cKnnjZTqW15OH8vr3deG6ZmA21oSfQhlmMQkJRRIKNDlFEiYhC4naVJhQoHrSwFpNEiFIOqDgu7azkqphMgzzJKtjfZEZaM8BekaDIHUmolQW6wd3lzhkN4wB3rXnhewq9Zm+I4zTXYS8HZGf6ovd5DZvWMzbXFxpi2YnmVFhdna3dQ1pYhZiEAputlPbFwf3CzeKt1mwKWrZES5o8846MFfP0a3nLuxQL75pTYDwHIgAlDH4wp1LS6aYiOlzhHhsItAOF731X6nfU8OivlNsDHck66XlAMVonL1Z7rAMcHKcKuaKxWNwWIK+is4VXxn3kEMECYOGL2Nrjgu277dKuV7/y6pZOH+M6hkiU7ef6I04zoWY9SSvNHSaR/X7PknPgf0xendUr/QoycOBN5woAcGqTdJ9zyyw4BukYHzXjGjOw6KGT3cFJjQPZJYbZXjn+2yKwgGDFHWqAlhvaliHoq1/sbI3qBQTOkURXUukgQiXxIIdpUbGxvst5u2ClSfCQH72qvGFh8L6lirysqsWiD3xoICK5baV4gfIIAaxRFosqc3bbQz0vu/a8aMILFIp01LNLnSudbmnyCCxFs4fPJUYEDXiInZJbW0IjHHREqeP2FSUF/z+n1Ou2Id+bjoG4EQN4spuUHMwUytZeonoZLGtXJJM6aLVjeqTzAUj29YZyO0xogBQvK6iD/y6Lp1ViBj7pt0f3Jz+nqvluvinadP2M6zsnnR95OSGtToei/NLYxAjhiBHDHYPfSdfzihrVVb5/RXK4YEJgL+sY/yDBPTXShmYUq/gTah3wDrg2hKqUH1sVaSlFAgoUDXUiC6w7q2zqS2hAIJBa4TBeIMwlbt6j66rM4e3dhozxwRMpO0YJB2aN82PVO6zRlWABAbLg8vAme9FEm3R+ppIEct8izUZOcE7qqqBfSkArJ1b5M9JsnDd8RofKes0W5e2mAPTK+3Bxb1sGkTs4LEoqFBr3gF3WLnc2LuyAA+2DXNHzrsEvAJOCEBYgP4FvDeJKAyWioYN2o3c7gANwkAwmuf/LiKRO//Be1WYiiM6hHeZQCmXHdAQrmOJtohUYcDa35jNIq/eNQo2AEGQJ4TyMkQcLlRTMxQ6bnTPtKFghG52jWNOKa4f3jqvBbQxceMkW7FkWqbIMNuGIRAWzXIOOg/kXgxyu0p1Y3bZYzMrn8AYoFmF6UDjJfUGh0PaucbL0iHBLYxvMZzEMDMVWBgEklIrsZJ0sTfHcUY80qdTcwmtgbn5bb0hNZgTUpilaP1NlBMah+tvf5SZ8vtHx2zYgSrl+9TvAlNH5sXjOJLxaSgytJaP6NeRJ/kCfTQT9bUrSUltlbMErYbp6QSNnt8YVABc6A7Ubv2z2zbEqJb8z3WjXi1Hfoen3/60qC1kyUVLSId84fL0Sp51Bqm/mHjcl7r67T6Viam+ZhsW3ADzK48NjOefL3G16pfu9LRx0q+dRXlwcMSTADSE8aLlIA1jQQP9SfUuzZW7QnB+ZAKQDfAOG5SB2rdi8AsGklrDgcmYowY5kA3nTsuScHaE0dso9ZotQz2z6tuGIERWj95PXMsVyqEw3XsJ6DfM1MbDlIhC2szxSTgZetEvaQvuu8O1l6w/arvoOo5pL/N507bmJO97cYBg61koOw51Def6/asDcafpIQCCQWuTIFEknBlGiU5Egp0ewrwrgbqoqp9/LT0up+us+/Ip/ye0wL5AmaLtCv70OxMu6lEfvjl736Ydmx7age3PalWO8BHpTOOqtLKLfX283VSKxHzMFYAb0y/DHv7oix7wx09BJoV2VU6TrjMPCNVikfXrwuGscQNcNeSUR+jdvH6s0ZAhR3uGQrcReRkXEamv+zjv49pJ3ip9O/Rm0Z1xI10ydMRcED+eF+cDqjlnFAb7L4fVP+O6DuRh3MFwFEXwUPRWBnFLtRuKWAO1RAiFBMkCx1zDF+JQE2K99vr7+ojKh4VsjO4GymC9MmdDgDMDbt32y7tBE9Qn24QsA6gTh2IA8XW+gNtfHWg179WjBySg96aH+iMVAGJCV6QBkvlyttFxY21yDpUtqtKXgflkUHRHn12ickDs/DedLHN9jTiY4aBQyLEeNC/nydjYLdTYH6fkNoW9hi3SwIGc+Ljak8bbeWBnhDG1ygqYjBwzB02LrO19hkvDDDMAkzDOYFi0igxo/myecGYnDmMk5Vx8dvrDQVa+YiPZaPWxmrF1MDQfb7uI5emOOPh9KIMkZTXKm8PdvwF8E+LkZmtqN9TxVyQiPnxuOiG3dA9M2eFc6uPVdtSMQjVGkudmAPUhyblyL5Cu/9jda8MFnOQ4+LOUKL1D/pyVuutuua8lUsaseXsKamn1SDcDMzBBEkWbhuqe09rguR9Dz+Sj4QCCQU6RYHEu1GnyJcUTihw/Smgd2gAGICMLbvq7ZPfqrVH1jZID127tGIEPnlntv3ZG3ravQt7WsHorGCMnJXarqVsa3+MjDrJ21/ShjGSPMwryZZ700wr0ft42/4mO64d4hUVjbZhW6NAcoaNGhbtphNdtl7gGs8sRDhGuhB2UVM7ftsFrpfJxSlgc7GkAhjQOiij0TjoiX8HwI0SWAJkbZceNcAVcEyeOAhqaVa4Ho0pqt/rxbXkIdlB7Ny3P/KoBPBX/Tk9e4TAZqjUYMxLwDWOtxVPC56AAGxjJCUhEBcuLzFirhZzAUEJvMV42tOvlvra1rkADDVeYhwQXXmc3HYSbTckzVeZ1IGWi7bHtds7f8IEu2H8BHnwuci4OBBsqw2Apyc8MDGrMFC0zU4yXnpg6CZIPQZmAcoyVv1vZhAA+/xxkQOJ6/EU1p5OcAx59R0Gw5kM6nTQB5jeJfuCBoktkCL5/MXra+271wOzyu78QNkCsFu/58hRRRzuGZgO5gsjXrxajZJUC49WpI6001L7vi6pB+C/VUb5q8vL7bAYuSJJLGBUUJ+D8WGM2L4QaZvzOVKvIYr2rsPVivB8OKgoMf6WIjy31VfvA3m2yih6lZjziZI+3STjZLwbcT2+LpxenEN9EOY4mmcx18oLI0OQNfqxS/d4qbxiLZow0XqIrj+uqrAlJ4/ZeTFkCn1nU/v0s/uHj7bFw0ZYQd/+1l+MhtsqhOWh+sJRfYsffTz0pZf6OFjM93gxGVP6DrDhostx9eGU1uFJzdmmMyctW8zIWLVF/vh4qSdJCQUSClwdBRIm4erolpRKKNAtKAC40jsxpCdX1Nl7v85OuKQJUul4nWwHPvuOXnbf4h42RLv8wkch6d0dQBk/KNvWH/X7H81Qx+ABmXbjVNRXFHhL7i7XHJQLTNkufHd5vU2QR6RJYyNGoZ+MMHcL2LDTSBRm1HHQxUY3nOBNI1EBKS5R5NfBoV/+Yk8NJ5zzD178/vIHtBJj4LhUgTC4hN/Bg5Bf5+iJOhkgZ7wOrtEPXExu3VsVfMQTSA3jUbwYTdHu6qyCQisW8MZvPoB4pfSzYWhukcoTO+fu2hFgiToIcRwGiRFCx5y6YCjYBXdmgTZ9fHzvbGIsm7QjfkRSjPkTJwUbg+ApZ1dZ8OYzuG8fu2VKsY1TvwB63nacNu3tA8wA0bBDzAeBRRIMX38xQgSjC8ydzqXXrWZjYD9aZ0xHPJHH/5wxiF/379RNgL7zWkvQN19rBlenPi7P19aROjw/XrJGaod+vzwOwchKpB526lGzgdkDrToj4mXaqrula16OdpFglKudFaU7rfxItWJJDJLr2Sk2efToEIfD86IyhspRmUA3/WO33iM8s4YPSLpFhGc8b2FADrzuJcAMWHf6O4nJT/K6+b5D8RZW7toVbAdon3Lx6+QhcY51Q5+Xa+0D6kP9OoeKGfdKrtb9AEkFuDeGaC0MzB1mPzywx3bpGmX7S8XtweGj7I7c0TYCpjn1AKLu0Efmnn/K29pfyNecP7qPc1RvvpiB4v4DLUvX9taeD/fatnNn7KRoN16bErTV0rii0SWfCQUSCrSXAgmT0F5KJfkSCnQzCuj9qJdr1KmfPFVrD/5XnU3OybBD8hbzfx/qYR96o3yxD4s4A/KGpPwOxrxs6kqLB/L4XxNtperh3NBBmXbL7GwrlNHpY5IkjOiZYX+3ssGK5MFmuuwUesrIoV6W0+zMDgf8SJf42S1bwq4kwbswfkQyQKJaBznhRCsf5OHlz65mvoArKj9bpA7RKCAPs+HXvS6OdJvdaEBVpcAXgaMwPsbF5AV5VxkuSURxXp7dUFBoU8UY5Mo7Ef1i19mDpeG96DZFkIUZCQAqBnhog7y4ziTOAh5rCEwG+Dwg15e0j0EzYNpTGK//6MDRd9VRJ2I3GteZSBFwbYq9BjYD0/R7weQpzV5xOgOWaI/xwSCsl4qKe3dCRYxd7/GycUBVheQ0b2s4qkr5Lv61ldevUa8zZcQeIOgdjGeBGKD2tOn1cCR/tISbAtMBI0AchS0Czxe0y58vVbImAXoYkXG6BkPq5cKXdnwAgVl13jfsOfAgRBvYctwkCQEG7zA9JJ8fP+IZ66CYlzJ51BoxcECQWiGJw7anUGMepnVWL2NuXJYSfyFEjNYYsuTxp5fqZy2y5kheJ98xOl8mQE8MB+wNkPbFr5PHk9PpuNZZYDI1Jphk7ASYPyJM91A7Nbp/9mntNfTrY8sF1jFSJgPSg4fzxoWdfyRPqcdGqJ66w19zL73Vy4+M42L+5sdPKIm60kRJFvIkYdh9/qxoIhsqtX9Q3yfrfE9tSvj6vbzm5ExCgYQC7aFAYpPQHioleRIKdDMKAPp5WZNgEN7wSJ0tkuFno3DoF97RwxbMjFxvIjXAW6CDhqhE5z956WszuVk68aJsFT7+n7UmzGBLJF343huz7S339gpqCb9eu1aqMSetj0ARhpB4LxojyQKpNZASLrbx4eUALgCwnVIdmTY6Xy5AJzaDVnzUHz9zVoDrePBRj0tHdnQHSFqAm1LUllBVcrDmzQFIAb6oVETxB46JQZDRrxiAthI0cTrTLxiSnQf3B7sGbBamihHB7zwMjicfh/++0tHbwPMMgc8WidHCuBr98iFq44ZC0VbGo6SO1p3etrfFeaI5swN+97QZQTUGY26CxuGFClDa2bbS227pt7eBi11cud5ZMj1Ievx8S2XaOuflWBPrRb8NchFbIMkRzOZ6MZHFo/OCQW9bdcSveX1+DsaKyOGlAvvYckxRfZNFL4/gnZ6fcn6OOX1CLlnR88c+gjXqDGJz/WIMWNsE60MdCEN14kGM0Rjy9Yf6EnND2q218rxseYj0fYuYXerztry+to6sZ8YDo8288/2k3Jg2SfXplBiWvYP7WbYYlHP6ftugYXanpAcwFw7S/b5oq42OXovkEdEmwDExeD/dv8cqZbeAd6SJslN4c/74YPeQTreOtpPkTyjwSqbAy5pJ4CEXXMOlzSA6li91oh/0J57YAfFdtvj55HtCgc5QgGXGSkMigIrR3d+stcUEqhJf8K/v72klE1AhiFpwRqIz7bVVNt7ODsVf+P/+o0Y7swKVYhQef08vu3lOjf1gyUp7flepvXbmTLtzxqzgOSV0T4W5RzqSvBxlIhpE5ddXlAs4Vilw15AQ8RZ9/d3a4STiLYbUxDOAMQjeYqRq4jvE3na4d9UXjoAbgCMBtthRXiSbhCIBfG/zSj2mDh8XO617pE+OV57D6hMgjiBmMEkdZRboE6APoPb0lk3Rbqr0uw8KIOI6kyi5qMuEfsb6EE5cxQeebjLFYbJz/6yYhKlSjSEOQ3x8zMGV6HEVTbdYxMEealW/kYtd1J2IxB2YlKvsR3wspVJdWyspE/dVvUAxqmJ3zpgZJCbxfOmd4xqpec7FXGIXAiPDnBHvYEp+XpAIkK+tusJ16tIfdH9665ZQfkFRURhnAN1cj903nMPYHhW3KnkTwz4GoIw6EF6aeDdheEx8DCQIBPUL703VQTvxuvTzktRaXxnxTtnuPLppo+2TH+WhoxQYTkz5/UNHyPYgivjt83VJhdfgh7dzXu3/ZF+l7ZAkgfHPkP3DG/IKgw2N57kGzSdVJhT4naZAt1A3Sn/Itkbx9Hw83ADh6X+tlec8daTX01b+1q5RR/zh2lJf4tdbqyc5n1CgoxTQO1+AITJS/sA3pWIkF5IN+v3VP44YBNxRBunBS4DeAlZRO9pAtOFDMm3OhEx7VEbTY6V69KzcpWZnH7ZBA0/KJ3of7aIPbY5/oJvwkvunLRoASMJ9qyMAnvvK/3j540YVMIYB5ZMCsxu1IwwLQewCbAVmjSuwEul2o66BMWrQoVelKc3o5rroE/WT1mm3erPUmOYWjA9G1ZxLv+c511Kib95f9LeJtjxWu/vYOwDwUY8C0GULjbKji61GvAzf0xPj9F1hovGuE+hj5xhvM3PGj5f6SmFgOsjntEmvoyO/I1CVGWiLzjkRjhdKhQkd9nhqqa/x61353WnETnyjFjnSIyJyexTuq+mL18mReRomIH1UgJu4HAdkhD5GTCdqZKzBluqP6BStR4A3tgLE80BVCLuJeTLmnSLPXcwTa4LUUj3hQuyDFYBhPAwL9juo1qCGFMqqr1z3NcaaxTAdNbkCSaqQkPVRe6hkEV37MUVAx+h8pgLRkYd1xDuTuvhjDK2Nz/saek6+2BjKqw/bbw9V2WC5/72g/t07ZLjdLBsEktMl/LjGH/QRd7yoF01W/IT9itmAMfOBuhrL1DrBRkEDDb2IPq9xh15B1bPmG/QcIvlaud7D7459ut406Uz73YpJ4AHU2kILOx+pheh5OHdOYk92ffjui6MlSQILmfoveTimynCuvclvCPJ7P/hOH+r0IKYPHC/IRSPtZae9VMmbpGtPgeh1fGk7HXlBpJfvSNlLW+3aXzAAeh/bce3Uf+a/auXlx+yIjJS/8oc97IapAk8pBuKl7C9tcQvxroBRKBmdYf+1st4GyKK48mCOvf22UVY8ZpCt2b1PIKxPUIOI3zstUQj6c/9wjDMG5IUhQN0Bw+MteIqpKA+gbKikBWOxGdC/oQIG7L6i3gMQD7vNqfqog/b9j9/xZ4+7yJyeN8ZmCYCTL36d/FdKXrePwZkFVIEGS78cV64EsTp8Ql5ZxNFhAwHz4m0xbr6T4oCrStKRn69eacc0/psEQPG8hHF1er5w4io/nOYU3yb6AngXSIIASHU6+PiusolOFaPt/qIhuvgYrzPHEePX+vujrQad5uSBiUTdCHeoayRVOHP2XIg4jBct5kGTEgB6+K78zlSifrVaBsFrKiusn+Zy7vgJIXpxerRkn9M2+6OLTuehUoc7J8kJBvpIAkJ96ofTP/Q9lZ86WedIkxgDsTFQMxqQ00uGysNlryK3q5JwnJGaEglJFuvS62JMfMc1MZGVB4rGpLAWdQxtKQ/vS65/Z/1qOyMPYL2HDrGFildw14hI2hZfr6GCl+CDeYgYhUwbr+dA6RmpX0kStrvmnCJ997JhHTRyfwm63G2aYK21lJjvthJYh7XgmMrXrB/bKsu19ubrSD3UGe8TfbzSOK5U/yv9+nVlEnyRMIn+5+fiE+MTn55nvx6cf/qnf2r/8z//Y9/85jftC1/4gv33f/+3ve51r7PeetiTKMsfjAOLhwSg94XNkYVEamsxkcfr8X5QhnP8/sUvfmHTp0+3FStW2NNPP21f+cpXrK92gjgXzxd+JB/XngKal8sS6+yyk5efCCVbKN/W+ri8lq4/Q5dSS9h++Jta+/aqBjstBuGzr+1h9y1ipzJgGK3Hrm+7PTXSLn3IH5Fpo2SP/F/rG+zYeRkxDupn86blSH8aUHcuGF9y3/m9E68bgAH90xkDdKIx1kXPn530DfJzj+Ex+dntLRGgLxmjoFAyCEWCsFcGw0S0hVnAwBbGwu/5lueRZ5BZ6YH9wfsLwcnmTpoUvKR0BvT4s4I6SIAyvCERpRk7BbwTIVkgIjC7xthsOLPgz5xAK5XF08wv16yyXWIU3jR3vi2YMjUwF9CR5IA1/OjEh88LbmZXSIowRgbieHvysXSi6k4XpQ/0D4kG9Nou0AsoDzEiVHvLc3vlZn1s0BxJxbjc4daozZ6ndm63DHG/RJVmHbHAmUvAOGVgVmEql5eV2TntXBO5eI4YBBiq+Lulo3ND3d4OcRywPajUvOfJ7Siqcj5HjExkaJ6bsM5VlrlbLWlYjmhz/+wbgioazCmewPaqrh1Sf9unKN0Y5it7M8NAfaVaj7jWJTYI0a0ZM/3xNvm+Yvcue3RvpY0aPcomSXLxulFjguF0Z+4V2u5Mckaht5ijUbqPNirKM251DysQ2xR5QkIaQ//of5KuTIH48yc9N2uB9V0rZvqEmMpw32itcZ7kx5ZozTX+uNbS9fS2Wvvt/fM6vL5TWvv80b+eafdKa3Ul51unwHVjEphgJrFaL/qf/exnAVyPVDCiAdo54ZpPvOfbIq8oAPEKPbyKtENI2aPaSfrDP/xD27Rpk7361a+2YrknHDVqlN16662BSfCy1HVY4OK5554LAP7RRx+1rVu32gG9YPrrhU2b5PGFm04upAcwGeTZuXOn/epXv7KNGzdaYWGh5WjXhgTDAvNxww03hLZoY8GCBbZw4cLm6nxMzSeSL61SgGcN8xc91Ft/+TNnDXoTcET33BO0vuzPL6aOPM5CGyqv7NEa0DlquawsGa5zgiZ0Y7t0/z/7E0VnldvR103Lsj/+vZ4CTVH/rmc3aRuacpw0VruN+6ULfaDJVu6utbuKe1vBqAyBj6qgK028Ab8fmLuo3MU5g9Ts5rJDi1eWjQJi6HjvQ01H9yI7o7MU0Gm6VChwEYnKCeCOOofoe1/pXW8T4D+g+AfDdI+zu9ra/e3n0QFfpvsb24UFcg8Z1FpSz6nOTr2vJ9YziTEEZkG2CYC3wxon/WW8ziy4W0t08Nfpube6vMz2SA3mzqkldtuMGYEpiD/jOttHyof7SDSs17jX7CpT0LrztrhIeuwpAOBz1hVtXXUd6h+rnYjFBzW/BLMjXgU7450FgYwPl7fMD56sjovR3CW1GozY8UzEugWMsjYDQynmAIZ0srw8LZhcFILpuVtRxsd76mppRjnGwzocqLEi0WEHf6y8LvE+8nXrdMSGBOYFo2eMlE9L3egWrWNiMDAe7hEkWXhtQq2KMZWL8cBDEq5geX9xDkNoxoe7VWx5YBRoi5XL2HF/+t2N66xW9B6hcT88apwNws5BeTrKDHnfu+pI+/SV/mTruF1uUc9IF7K3zhOjAZqGZ01XNfg7UA80aemPtcsfzxgSeUi+7lgvf//3f2/33Xef3XXXXVYoPJReTygQ+/Cyni9eXyzbFb/GMZnX5XVv3rzZJmmDh37PmTMnYDTyM5YkdZwClyqYdrx8p0sA0tl5/9a3vmUf/ehH7R/+4R+aJ9MXApzq3/zN39iPfvQj++EPf9iswtNDD0/SO9/5TvvMZz5j/fTg88SC8UXx4osv2h//8R/bWnlZSU9T5bWEXf/bbrsteoConN8M5KUeV1967LHH7KGHHgrcM9dgDGAwyHPHHXeEP84jTfj+979vAwU2ktRxCoicmgPUai7e1P4AiNfm57LZHoul0+dq7QdPl0rlq1Yvx0y99KU3qTrffs8UGzLgooSJeeal6smjBVceOm0/fqZUesSZKq8ASDUNNmJwb3volony0NO620Cv51ocoQldRd3o8WX1tvl4k156GfYH9ykKrmwSxOfoBX0tWu5YnfSBdwpMy7vu72FP7hDYPNNkTyiGwh++bpgCfxGwbG/wvgJwIYWHfKqZM9rZPCrQR7Rj/k6mDI9x+zhzzNgoEJaAWtzol6KsBT9y3xcKvPSSC9Yl27fLNmKLgG4ElnzNhMz6cGDDTu2y0p3B8xFgj13jcC22PrxMZ44OorxdAOBEbWzgihN9diI4PyuAN1oAtWhUnrE6t2pnFwNs1EeKRo62GyZMCCD5WvTPn317tKlSJnB80/iJAVwyZr/WmfF3RVmWOfMIGJ8mW5Ont22xcrxbiWEM1+hrJxpyAI53oNkFMnwVgwqj9qJ25s+IacKgmXnaJwYlX7voeJgCiHvyufXfnTnyHGSs1I9XsGVlO8Uwlts8qZnF5yNqMzNINl7Qmj8jBuF2Ns0kAaE8dwd1wV6hUsUf0cpPShJyQAzCbjHIGG2jVoW0i/WPzcsyGe8vnjJFboIHNt9jG7Qet548bqMkubtNhsqjxcBQv6/tzoy3S8oyUKU5spHYLulj2YWztvbUCSsZMMiGK3ZL+jOgS9p8mVXiNDgkBvHb3/5282ann2cHfrxULWdoM4KNV5Jf8+PPf/5z++u//mt7xzve0bwZygYqm7E333yzPfjgg2GNen7f0DipjZAf//jHYcP1ve99r02UR7r2Jurij3sUacGvf/1r2yAvYLS1aNGiUM1MOcj4u7/7O/uLv/iLwCy8613vapGpbm+br/R8141J4EUOJ8pO/F/91V8FlaHPf/7zdvfddweulGuuz8/Cg0GAiXj9619/2ZydlTEgC6elBFc5f/78cOlTn/qUveUtbwm7H0ghAPIspNtvv91Wrlxp8+bNa74RKOCL+7gAxFe/+lX7xCc+EeqZNWuWrV+/vpkJCSdjHzA3JMaQpI5RwGl+TuGCy/Ye085Wo00pGCod5IvqNNToL+ITZ2qsYt/x8JKaNl4eY3pkaReswf7k2T12/tB5Gzm0px0Vh1AnvZzX3zw+MAnODACst++WyF1MxaSxQ2xQ/0gqdFJ1fvSxSus3IFuRPTOtovKcvWb2YLt/4XhDS5ellnoPdWxwXZC7bG+D/VSGwUe0xD61KMuKJ0S3cGdAURd065IqHFdPHpdl77s1y97/iyb7/ppau29hH9kmjJZrx51Bnxw/98w3Khuo2xw4fsIOiUEgAjJgBXeNRXIZyY4uuthxho4Gwx2fuu8dMHH0ZwEBwG4vKbHnt20L3nkWKrosBsRelnwAG9SSAEMY5xJgCgDl6ytkvgYfDqh8vcMs4E6U/u3XzvS6ygp7ZOkS7dqeF2MwUq5Nx0s95FjQEyfgFqmr59z7AqO2ToBxlFRmYGBIfi386MBH81O5+UsrhVODae+YfL7xEpV/cIjUjvYH2rFOmDu/3kprbZ6mD14HEoo9elcgXWKH/rtLXwiRpktkjPwqSXRg7pzZhUZMis9tm4208yKgPoL4FjxsYYOBehoB/SbJ2xRtQlraRHVo2Y7thqtfXPbmaf2HpGu+FRL6qJPQhz8kI/wV5eUHFaX1u8vFmF8QQ5oVmAVnFLgvWHdIJ5ZobWZIsjRZtJk9aEjURjf6ZP6gSS8ZMi8aMswqDih+g2K0bBWjcOvw3oFWXG/vWutGQ+vyrpzWs+/jH/94m/X+5Cc/CSrcrBfHZXvkHOKNb3xjKMcGbi+tB9Iw3Q/gOP7YlJ09e3Y4z7rzTdsnn3zS3vOe94TyaI+QuH6le9bzkK9UEeXBbjAbpAnaOIFJgBEBN77vfe+zRx55JGiaoNExRYyulw8Fko92U8CfHe0u0JUZmUwmtbCw0L785S+Hqj/0oQ8Z3K0zCNu1K/L2t789XPvABz4QOELKkJh0Pzow5+iLAePhf/qnfwp5/vVf/zUwI4ih2P2nzf/zf/5Pc7tIE1yPzesKBfXxy1/+MjAIn/3sZ23dunWBO+WaL3q+06aX8/5xPkkdo0BqSnmL2X/8ptTmvfUp+9ZjW0MlOhVSHMA98uQOu+E1T9pv1uzTzmK0M52l3f9pvbLs/kJFA/34LXbuSw/YqS/fb6NzI3CFWtLJs7X2pR+ts5LPLbN5H3/BdlYebe5occEQO/3VB+z4F++3Jz+q3Yn83jaid1YAkc2ZXsIv0MTHvnJTvS053GS3D8uwO+cqyqr6Eb/+EnarzaZ8Hu+al223DM+wF4802Qr1PXdArry+9LflUutBl/vpzZvssQ3rbKke+ofFIIzQvblYYP4B6VHj3hLPMKhJOIPAHc+95i95XhjpL5fwW+fJh274q6ZNC8DueT1L0OsPSdcAVuwMwyCcl5rFzVKrwcMN5boS6LVFKPrKWFjTJJgFQBsej/g+SvTAM84mgfYy7ZajKuKglEURlQpFO/UR6Kn6SNuq9tppPTtnSp2LPkCPdBq31hjDCH+pDNQY/vRB9a3+pfJRjL54PfxuLZGPeZomCRP93SX6kDhHnzuTfLzYIvQRDYijcFrgmaja1N9T/oaHi3FgLmjLaaTV2JlmWyxLX3x9zBazSKTyVRXlUlE7EeaF/uDhi3UMk71Y6rhjZcxNggrxHlGXjy30mzzqP3UMUpTuQLYU7VA54/zZCzUhCOIpMR8VsmNYeeSQDRVd5g8dbv1Fh+6ZovkfL29HRb37Wq1UsbbKmPm0mIWQUmPsnn1/6Xrl2hhsnoK10I5ApRqc45js937v9+ypp54KnfK1w8Yt6Ytf/KIVFBQ0Y5+bbrrJvv71r4drf/u3f2ts4Ib1m8JsZVLPc+aC3X60P/zeCYXa+PB6Hn/8cZusdwQMwmtf+9pQwm1QvX9D5cyB9klIG8Bm4DXaSlLHKHBdmYR4V5nst73tbWGB+iKr0a7FN77xjZANbrawsDBepPlhx8LwxeFHMu6QKzrqwi4ANSGXXrBQHMhzA5D+8z//M9gp8N3r8CN5XXzF4sSOIj2R1/P7MT1P8vvKFADAN0inpk+vbPvwg8V2w11D7X/9rNxWb48AAFIAR0ac++D/7LJXvWmEve/BEtE/ql8zYefRL1LqJwkEKkf95cubnWLSNjEED3/+OfuzH5bZ7UNkjJhLlNLoGmuD/KGcmI6+vXVdPGmqulD+en0cO9loT21UZzS0e6dlWmF+xBR15+fe2FFZ9tBsPWZqM2z5tnpbU3pUxrrH7Bndm09u2ihJUb0Vavf8VVKNuG/WbLtZgZ4myLc7u/kkZjGayfAzAJ5wr0U/W/1kNsnHfOLC8lUKSIXu/wsCUoBgrqF/vUz9OKoX2eKUyghtvZT3r7+0AGM8Zwi+9ev1a0Nk29fPnWcfuu8Bm6Ho1DsEgPGItEnehlCtqZOUMowxRQGvp1WCXOlCahGhdkVkYGIiNO9EX6msrlOcP+7B8JcqI0GgVKWapPPeaBv3KfZERYO9UBb98X3TPiIHy1uV8pCXFM1dVI/XG11J+0z1eeRgSTwEircL4KCzf7UJ1tPpyBogGB/xDtDR36S62V1/3x132e8vWCh1nguSiK2T1OdoWC++1q627SuVC+tD44Vpm6+NLphmGG1cmxJ9ealU1LDXWSg1JNSISGEtt1ExfYbWYcJ0IGr3AamC8LtOdcIAoXYUBR4cZJUa67KKcmsUYzBBUgrcjZKgWagn/OoeH6mRyS1qpk2T0XJPeRCrkgFzldyjhsQiTVJYu5ABJyvsxqNaxEYq2hJsyqIGTsJulE1U1Hz26hn0uc99Lpx3kM5a8k1SzoG3UEf66U9/GvJRDiNnr+8HP/jBJWpGrCGef639ed1gL2wgSGhzYJMaT/SDOkhIEHAcgwYKfU7S1VHguqkbeXcB7iwA1I7+/M//3L773e/aX/7lXwa1I5gExFbord1zzz2hCAuAhdBW8uvbpGZAQkXJxVq059e5huHVl770JfvIRz4SRFhwws5xej4WPNIHEi5XnWsNJ5KPLqeA079IKkB/emeBve3bW+1zP9tq3/yI1I56RztXSAK+/sRO+f+ss0//aYmMQNMMU7VEwBDYI5Dq6huCpGFb5TEr/qB2RQp6248/NMs2VQiwrtuth9/FNcXLtUnMSGBYUg+cUMl1/qgQyPpBhSRvcvs9b2qWdjOjMer91+2S36Lit+ymEjEzTzcI6GbYqh3npSI1yGblNQQVosVTpwQD1PgA4kDt4qzEc7T/O/cw9aGGcptUj5bomYDnFtQoUKvZL7sHXImOk+oTqbPttb9nF1XmKIPK1RrpvBMAbqx2wfAmhFSDhCRhsmwRxku15oKYg2e2bZXEZWAIypYvyYK7sWTdsuj9ucXP9iTKUQaaEHRrgJ7FU6V+QopL7cKJtA/uMf70WG1Opy40CVgrjoEkXjuPiDk4qt/yurmnrskqG5QtxQygA1Og+26sbul86fHNGJphk4dlKjBchjwqibHPYeMlqpbbkO/+m7M+txynyjahQi5xMSZ2ff0AXuMFoqpa/GzOqzagxwEB4vWS3hAAjwjGPWXfMljMpqvnEJBslebrKTnUmDd+gtR18i7pT4uNdPIkjAL9hOmlzaWyoVkpppfnJR6L5kuHHJU1UvN42tGmr3mYgnmqgzFi84O0BKaE79CYuBGrDx+woYMHWrG8LA0RDULyCtrR1kuZxdfu2D79bJT6uuvCOas4d8amDhwc7vOw7l/KDnXjtsBg4C00OFApYr4B9nfeeWfodXl5eXDrDg4CV6FuhC3CWG1gkFiDJOpB5Qg8BZNAHtS4cTbzzDPPhM1WgH0cz3lZ2rxSAv/9yZ/8iX3sYx+zfEmZ6QfJ64iXH67n5Vvf+tagToV0pKCg4Jrfo/H2f1e+X3cmAUKyGHmoTZNaACKuD37wg8FQGe9DJFSQ4HRZICwG8raW4tcQnZFYHN5GSwuRxUZCz40bBf26+EN2kHSinZN1FalQIPm4JhTI0LMCbA9uf83NE+1dmw7bt1ZV271P77R3P1AS2vzNygr791/ss8+/v8jml/iL8VIQQUbqiqfDx87a5GkD7VcfnGeTxgy2PYfWmp2VKDKWMRRJKxev46X+7l3Dq1GNNvoWTs+wCWMiKQKClRh/81J3rc326BsCGiQebyvIsO9ua7Q3N+Xa3TMKbULufhkK7wrefPBS464buT9bukfbbOgKF6mP+xn3ordJorBK4Ornq1eFZ8lrb7gxqDSFJ4o+nNZXqLJTl/0Z5Wtut7zWADhrxcjOFUhDPxzgTzqrHesNUsuCcbiluCQAebw97ZJKJszCSL20i5WfWAkY8jIA6mc8Xn+oqK0Pnqcqt1O67odkG0KEaZgq6mmrjnCPChs4zSrFGKza3WjP72m0J6vlWUbSgdAR3jIazjQZs98qwVxOhCfsgu5xYnw8L6bCxEQ8cpB+yAapT4bdLXW6W8YpOJ/+xg3Fy0o0AG8zfTi4QJ0iRmr7wf3B2xWqQO1JAEludV9zSCK2Vu21UtGX4HcwkJNH59lWAtjJ7S6xOQjKB7379c4JsRFeKN0hScg5m1kQBbTz+fU629OP9ubxtYxh/kntiv909YvBk9ertY6LpXZFov2raZt4E22ljaLBUUkYJsiIOngKoi39+a59W2WvxzV/hOPpaKyMzctrztseMQpnFQW9rxigJF1KAV+3fuSq2xqgug2GIuFNknT//fdfhqt83eFhEluFT37yk0Eb5P3vf3/Y0acc+A6nLo7nOEfid1sJ7IcaEc5tvF/eVz9S3u8R+ou3SRI2pzA8LTETIUPy0SoFugWTEO8dunFLliwJRsWcRw0IC3uSL8Dw4wofiLacy4wvKF8k8bqQJpDOy0iwpcTi9UXox5byJee6jgKo/6B2hOTggw9MsW/tPGHvebzcbpmZJxF4lj38vW0ySB9sD9+O6B0RIy/G1tv3+S4aN9Se+dhiGz20b6gfI2dQCy+77phS+E3G2E22pVK91HN60qhMGzY4GmwbQ+42wxkyMEMAKtO+u6ZeTFm2xmLyPpRrm/ZU2ZaqqgC6XPf9mnVahOLezdHOaP8+vYOKRpbIicoRDArqG7rLrzng8d1NxklEXOwyNku9Z5RemrOLCpu95HifiAuBvcQEqZCwhtnVZde8QG5f9x6pth3aCHlq2xYbLduLqdrNxlg77Pyq/nQA3BJtoQn1EgkaVaaxKu/qKi3l93NxsL5b0oIntzfYLyTl+rWC/JluqeFiBl4voD9Fc1+otZo/IENegRQZWOeDBEwV1YpBYC2cETOxV+UqToix0N/zp5vsn/fqTy50X7M1w15TmGl3FGXJ7W2m5im1gZBiGui7j2GSVCUq5JFpmzwPwTTEr3m//UgZ7nlngpgLVIs279sbkC+etDDadrU3VK82ij4EcINJgLYD+/SV55+pNqByd4iKjAequWIqnMHyfnmbXXH0OtV8UDmrEWPZT97NYLRJ6cCrI206TUIZGkg9UKHRaTFB6yWlGSjpVq4kGbkC3iTvT/jR3T5S/c/SMT+nj+XIcPmgbBJO6i9hEi6dLHCR2yf4kRx4DiKxSYsGBczCmjVrwrlxslkixdcA9bChCkBHYgCT8I//+I+GsTJOZNDacOAeCqc+8FqJV0iYB9+Q9etszGKnilTAXcq7ATX3OMmP/p37gHO5KQnxb3/727DZPFgMbpI6RoFuwyT4A51de3zb4nmIhH4cyRde+NGODxYuqkEkN4JOL+aLe4iMsEiteSNi4ZM3SS8tBXCBCt1vnCKVsLvG2Ud+VGZf+cVm6y3XpHagxj713pk2JjcyNI0/JFrqJS86pnDkkOhlGvLoXHCf2h0MDlrqdOzcee22bqrSTkuO7glFNMbtKSn1jIzl7D5fnYHpqR3kcQqwZgKK6zSGI8frFXAt20oEdpeV7QhRYVHX4A7zMl09irDbqcq3C0AC9u6aNsNy9PLZJIAOCJ+v3XPAdRzEd3Uf8GOfmdIN2yd1lrVSezpy5rRcu44Ju8AhWJca5QUH04IxKsHCRuvF6VGVXeJCXna48YaE61Qi8j6t2C95en5OTtkTMB5SW8yC3zcbBXTpH0bAqJ20Bja5h/gDrJ+pabLHNzfYd7ZKTUlubqUNZ/PECNyn9XnTmEyblJtpI8Qk9NVavdK8MvdnVd+hk03axW+05Xsb7THF2PiVfq/f1GC/FAPy9uIs2eLITqgnmwLR2o+vfwzcp0jdZp0Yr4kjj4cAaC3dID7H9AkVqz1iLDZrTWCbMkmgAiYMJoPkz33qHqddzEoxCVPkYQj3qMRTgLmdM1HOMATSVyqOxenNm4LNwCip45C8rfCjkx/+vqKaNWprm9bGAzNnBfesq3aVhVgg9DOeryNNshaa5ylOWFVSIWb1iKRa/XKHyo1ojg14GezEMxan/2AxNf20rk/JzuSIGMLRMmZuHmtHiPQ7ltfXN9iHTVJcn4KbOI8hM7aYpHvvvdf6SLp4ROqQrqHhgNufIU4aGATwGhoauI3HhgD7gTe/+c0B6JMvHc+hivRv//ZvXkWLRzxfkur0vG4N06UXhLmB8Xj++edDufTrye8rU6DbMAn+UoJzxdDE0/e+972ghkQ8Bc/j19o6snA90BnlWkq+uOGOSS5Oaylvcu76UMCB41vuLLLndxy1H20/bvtO1tmnHi60W2aPCZ0CtAhTpV7oLT/62TeMGIUo+BrGybwHKdsSkLg+o2291aMCS3tPmQ3uKTsaqV+QWNaMu7smpy/HMbm6H9X3ihPaPb4QzRFRbbcf2GelUp8ZK/1RgK+/1LtyTA6aKgUGV5WX2wi5cpwnYAfA42WzXmokAL6bZLx8LfrgL2IYhBqpOmyX9GSDVDcI+HaH1J/cLStjD0ANgilVaPcMrz2zxxUE9SOuu5enkFd5iL4bZxa2iul5VmpIxFmYLANwdr2DGpLyNtdP5Ur85p6gnXIxGjMEjnE3S39d4hrljD51OiTW3K7DjfZlxb74tQB9T50fJEbwfxVKTUg7/pNHZoqRj8bg5Snr5f2cHxkuf+yI99M6mSDm4paiJnu96n5CEorvSIWp4myT/cXqBlsuJvMDC7Jln8EGQlQnNPOxjJdLxV1S3yIqN2NxetHWxXmI+obR8VbNRaVcy44Y0F+M4/TAjEETktcZfugDaQ4BzaqOHA1MAu8LZ/xgcpE6LJcq29OyU0BtjHmhrvR6vL6OHH0NU2aD7EZgdKdI0rFQrkkPy67m8U0bxDhI0ioHADCH8fwdaSeel+mGEiFwnLyCZffJsZx+Al1Z2dZLY385pQG61+n3AUkRTukvSREFHBvhzYhdfzDTGanc4fTFPRqh///7v//7oQAAneskVH9aS36veYwF8uXpHmmNsUA1CZtU35DlnvY6+A5TgY0BiWf2lda3l6U9DJjxiOTnQiXJR7sp0C2YBCaPxQEni1tSEi5JET9ho0Cgste97nXNC6g9o4MjdnFYXELgi8uP1EU0ZhI3CAsySd2HAuElK1Wi4YN628M35dtP/3ub3EDm2B035AUPSKgkxYOuXannzC+7oC+3dEzqGBvONdl87cb3lc72yyUB5Lil6HOxgr+tlSrJEY1logYAmCnWi+P5HdvDbi66+F09Mr/PCRhFNGU8HC2Sz2wYBBIuJXtpV5RAWXUC1wuLikKwrK4AdtTv7fOdaMrrBPD2qi+Tc0fa7PGFoS2ueXueH2C2U8xTrjZHME4mxWmTDmTjzALMUGAWtBOIFAI1HCLtup0DbQAAqQM1my1Ve0WXvtpBj2yzQmNpHz6PnF4q70R/9UK9na1Tn1TRYqkVvWdOtiQiWXLderFg896MOs4aSDkQu5gh9Y2+YL8S2tB3mJA+khZQX0lelr1qT4N9Tapqz8qN7nOHmmzdo3X2mcXZtmBCBFR9LIwLoD5FkpQVu3YFdSzUsjhP8mc7dgdIlMr03Mdj0UIFc8KjlktePL/TOBTWB3YOuB8tF30niKaR5OeiuhPuUu+S214YBYyKUT/CTgG6+/x6XR050h/v+xZJSQh6hsQDRpeUK2YI24kXtL6RCM3Rd/Iz6viaCZk78hEmJCPYYRDUsLekK026V/rLPW9WSiLm/epItdcjb18xCH3U73qN6aykCUmKKOBrfZfuF1ct4grA+lOf+lTQ47/xxhubN1zBacSNIrkad/gR+4DxAMiD59wFPZdxQkNkZpcIxIo0qwXFz7X03e8F73dLeeLnwIHxILvxa8n39lGg2zAJPGxwc4p4iiAZREjG3eh3vvOd4J0I6/rCwsJLXrotDTH+0HKDZHzzuniLBRzPQx37tPtGIuAGi8qTL8T0/H49OV57CoSXq9DFsdMX7Oer9ml+Mq3yVK0t2XjA5haPEsAjbDxMZvtfh51+eV77YV/WwoUandLfIKkC9+0djTWCPpdl7ZYnemhnORevpsciHXTvJP7cc6UqAyCOpAm9OgWovF6ODswIlrZUO2M9sxVcKcYEQEXu7WKp+yBZWq7nxHNS2SFwFB5e/IUUr7Mj3708/dghULpBnjg4d7MkFpMUTVlNh8Q5B6S+NncLwJ6Q2P9m9aUtkEm5sA5UB2OBWYDZwlvTbkkItoq2xIcYOWB/UENCaoE6kd8tGCvvEO0fumGOQG/LtA99ShV4bHO9vXdpvU2S5OCYLnxc6j8P35gdPBExGHWjGZwC9tuTonlQzmZ6XKwDpmNOQSSd+IEYhf8r9abeYk7e+FSdfUMqePeUpGKFqHjop44wBmUaOzYWbqNBPwLjpfGiwlUj9YrJkjqg8tZPjIUnnzP/HT8ilZikMs+KngfF6BWmXI1Cd8qRsEe4XdKhtWI6N1XtDV6r5grMw7xEOZqHGa+61e/x/sDYrJKK2rihw4LUi3l025VJklpgV4JxMQwfTIzPcauVt3AB9hGlI28XCRuSph69eloPSRGQnPQR4Cb5eFqoptudQoqHO9RszdU5GV/7Wul2HX2JO+TaE2zC4tYU70U4b2HDFPUiT0gQsFVgrbs0ALUkNDxaS8SXwuUp3iqnKrgfNgUYHeOWFAmDYzLKf/vb37bly5db3EkM51mHtIuKEwHSFi9eHDRKuNaeRJwGd4DTnvxJnsspcN2ZBDdAQbzlQdPe/e53h57CzRKN+dOf/rR985vfDOIwONSWgH58aP6A82h/LMCHH3446Mh5Wc9DxEH35Xu19g/xtpPvXUsBxxkETfv++mP2v+/Il3HiWfuLX+y2eVNy7Y45YwPYit7RV/Na7Nr+XqvaGrCb0AaYYsTJHWOqlZfRW1r4XEbD6reMWutSG3nhBSCgg3eep2V8W3m4OngaYhY7+xJ3BuG0drOWSlKB7vntxSXBjSXtNoNyfefFh2pID4GfpfJU8+zWLTJIjSLMkpcF1pGV5c8W6sXrzVptcODaFBWgOeMnyF1v9GKN52NGvV8XpA4B00TEaRgnUlvth2tqi+R14jZ1igBwgZwylB88ZDtkdIrEZoRetpP1gmbnvFp+z5E4IE04paByJKdL+KGP+Dw8KgbhIUkQFonhQ+Hg327JsjumpABjai3Sjbb66vW2dYzXEd3XAt+ydXjvoh5WOCTDPrpUHnbk0uu1S+rtF6oIRoGOOrjtI+90ROpeVlZqSFVwC7pLjMEWgezjAjb5UkGYLteNBNrziAguzgAAQABJREFU5HRjzlpKfh2mg4Bq5WLiYHBhHPwa5fiORALVNewU1khydGrzRlswqSioP3me1tqJtx2vt0zrYaV2e/MUEwImFhUyrtO+r/UZBQV2XKBoxa6ywKwg+YjXEa87/bvPs690/03076OSvIyRo4FqWfrXy0MQYDsktd+ecaS3dT1+s4cEg0DP67RRCM0waH6lJ58/mALUh9gkRY8/nuJrCEmCGwMflX2OO33x/I7n2Jh905veFE7j2Yh8xFogABqbwXishEHxulF3+o//+A+vpsXjG97whnCeMvSjreTjOiFVvKVLl4asVyrTVn2v5GttU/oaU8bFUngi+pd/+ZfQGotovPQ54VzhZAmwBtf5mc98xp577rlLesRiaSsB+om6h8suFibtwGSwgHzBILl49NFHgz9fJAkkFm9VlQwcN25skWv1BdhW28m1zlMAVSIA2tqdh+zDP9tlD00bZH/5thvtj+6ZqO3oBvvy46V24GgU0TFaC22vh8736PrVEF5n+ggjfLkOk37rzwPX+X0EEM4bNFg7vPsDYOV8k17kzOklf+0kv4MmwPZy+ZE/LqC+UFLJkQKH1OftUl1oK1UvbiVvm1oSAlQ9K73ygyeOh+vQPlpfqYytHLyvXj+uTZ+QjRVBrmbLE8irpk0PDILX5fm8Op/WPQoYdExgD6CLFCG9z56/pWO8TuqDWUBScu+s2TavcEIYG2opj61ba89t2SxD4RMhmF2pdM7pLwn6efKvBEB7pyQIC8Ug1Oqt8W93ZjczCKgKgbf46+rk9dIG6c6p2fa1O6TKoLbmqy9/IKYF9Sfy0VfvOypW+WLKVkjt53GNFfUf0s2SJN2ueXAGIVK8itZByNDaR2pwSGomSlJRJUnCETFZ6SmspxTRoPttCg7YoM4/KYPmMq1vUjxPenn/HZ9zPFwtl3vuEWIaFykquHsC87mGsWPczDWqRjApqDydF/N3pbZ8LR5TpOb1klIcl1G2G8fTF+w78Ag2XpIpp5X38eV0ZPmkllCnmdiX07jb21d29cFcJL6TfG2whnytwUyAz0jHxECSPB/lwFfgLDZ1SXgtQqMDacAnPvGJcO7DH/6wrVq1Knz3slxDW2T37t0t/nENtXMS2M3LhRP6SP/t591+AoaFviep4xS4bkxCfFKfeOKJYHtA4I0HH3wwjMLFYKgcfeELXwjn8K9LxD0H+L5w04ftD0aObnBDcA8Mc7bo5Y8NAosOewfndv/oj/7oEvdbjzzyiM2cOdO+9rWvherj/XWVpPT203+n9yv53X4K8GLF1uD0uTr7l//ZxvaPffS1UyW272HzikfbJ94wzn72QrX9fMmu8PBH3cgBTftbefnkzJJ6h2nD9IJ24XEbSUrhluhHN/9EeiAtMYlCADR1ms7asLtPt9kNZWf3lIx098oPPYl7nPvpkj+d5z6M/wGOmn9rJbDxAGhCTeJFAasoWNokcx/wLd2jjm0BEfnaTUPiQL5npXqEX3wSv+PPgHAy9sE17ytqLSsF0ohj0EegkvrQTUc9xPPFioavjOP/Z+89wOs4zzvfF4UVYEMhCYIEAZAgCPYiFokiKVmSZcuWbCvlbmzHKS5JvC7rJDfPzd1kN9nEN47jtXOf+Ma7znpjr7V25DixLUe21UlJJCWx9wKSYAErCitYUO//9815geHhAQiwgtL5yHPmYOabr7zzzcz/7YybDLoA9nyZduDYTUk15nDgGl/MK4AjtY39PKD1UUXDWaTMqkREWrF7p8z1soPUGcaN5GFnxJxEoLNdYBHNgvLHyIH4j15ttWlag+Sr/bt3Zdv8iURA4npEda4xlBs+zDjoC2ZhQVmW/b3GQLTVKdIo/EcxCnvlSI1wkbVEIWIVGpLXpE0gE/P8sjJ7ZNbsEN6V+fm1dMn5tQYYaMkAVGBq0TphEkZJXhv+N31MkD8J2b4LFXXoVWnLSZjH2ozXCY3EvkIvGiOF9UeW8DxJd++XyQZaklRryOdEAj6cptGYEPHI63Jf8PuK+yXMJ+oHumEe9ZIEaivEPGJiRD6OWgFBNE9jpHVp1rgxVGvmwquEOYRf/f+LqbZ2aE1rqGhCoFe6dFHAn7dde6587jgwx77fLTRIUEbxtcyWQqSiv/qrvwrRjBzPsZ8szh7B6Otf/7qdkY8W7bI20U6U6R7FjzTVh2NoOHw90168eN/sow7tUmA6KA8++GCPplGhUvorJQXuGJMQXua6kGTve+KJJ8Lg8EUAgPsx52hZaJgiYZLE4nNHZBYDha3X9W04oC+0CYTfIoTXl770pRApCdUXKchRecEVE0MX0ybOdS3C97///dAEmQIp8b6eeeaZsI9xeuG3jyu+34+nt72nAJfVF+Yzr++1b7960v76A2W2ZKbCZAol5IpR+PBDFTZ5+nD79I/32bqdx3vfeFLNsILughCoQxCC6NOgQFxNJKm6y0qz8jzskNPy8hFZdqDxqCTZ6+zFLZvtFUlY1wnInZBauE124gB7gBHZkC82Xw7PgvhUeRnEP7zs/W8QcXjpaAGtE0DaLbCNBJ+QoNy/fg/H24v/5hVHHaLiPCBgD8BfqeeTS9jpJ7kNrgTAi2MUbNWf17wISTqjeHywT8eh1fv3eqFyiq9amSWR5Xdqwvwpub8Up/S4i1H5uJEQAzLxSyhQhKdybUfLEZc+suTUSTK39TUCsbLZxoY7K7PDziks6VdfbzHtslrdJ1++XwmKEgwCvquJafc4hpt1kL5gFmAU8FP4rxpLrf6QHMH+blWLIkHxHmhR/o3D9m8b1lmTmLU5ugajRwwPfgowSgB0yrWuQ09jxl+lTOB/f/3J4HOQqi7t82FtEJZ0udZTldbhpkMHlfV7R1jfPoarrjHrSY2yll6TiRgZsDF/y1VCMOr6efF+2R/Woq4xPhkzJb3dg1+G+qNwX3Be/H7hb/0PBfOlAo1Te6xR5kVv6J7817feCuZazeLwG6Q1GSoml1wi59sT9oLRqXfFd6voclmfNtEpR/NITPuuGPvtGCQagJ4Ka8VxDf4FFKw+0Br4MdYYvgN/9md/Fo7ji4D0nrXp5+L7AJ7D1xQrDkp4ZuvaUKenj699tl44l8IYvHhfRK1cvXp12I3A10u8ru9Lb7unQM8ro/vzbviIX1wu6He/+90A2h2Q+zEAO8fhXvFN+OAHPxj6xY8A5xlfLNR3VZInAmEh+HEWyFNPPRWYBbhfFjL2d5MV1YJjEyRhixeiKsFY/Kf/9J/sgQceCIdcs0FCERY3Y4jb7jEGH7drGuJtpn/3ngJcc7QI1bWn7C+fq7GyKbn2G49GDybYMpm327TSfPvz95TbR761zb71/B6bVl6geOx9X86DyLlQMCC8PHs/wttfs0Dx5hcoOtA6hYI839TFnN7+kfS+Rx7l/uw+qzj6x8XgVA1RZKOxOTZS9+/p8wqnpwd5vUAJ5YKYAhKL1cn0AXvvbN1TSLqHymlyqJxqAbhsMbfApILtoAHZAeByv7t0cIccVglVicR81sTS0La/GPyZwM7wquGFkxikv2YAdkhkAXarBdIAavg0YNvuzxXf0g79NovBwTl5g8KpDhs8yB6UmQnOwxQPkxn+SPFFf7RBYjfCweYLhE50X4TE2FKc1uddSIthFEjgdkEv9/FiXjw8KnPHrKRez7VtBw/ZnLIy7cmwH29ssZUNUuRpjH86K8serNQ9liCZ06vPA7nBE5wk75I/xJ+c6rA/3iQzh8Ys+8G6C8oGvEeaDzkViwGaU1oaNDMrBcp3SkqOKQ7anOstfs3ZluraAsIPi6mbLi0Y+1IVrivXHzOlxcrFQRbndTU1IZ/CYgmw3OzJ1wDrk7aIhPWaHKQHK5oQ0bhI3Ma1i8ag+z9xc3mv7A+/E+OYVx6Zlu3U/TQqJzdoNFq0RgHLaLpYa5jjNV26HLJ6E4kJ7QunD5HZEpm+m+SnAktVrXspS/dgvvbv1b5ztKM5ZYtL9PGmmnt/2ndezGOT7uGBmuDQLHfq6k8jvDNjcaFqtYQz8WdjT6PBLPsB4SJwEOdNnz49CFdxeCZZGvgJh+VpCsfrJVq3HUFj8Ad/8AeGUzN5E8B8aCbC+k2sXT+nN1vPheVmRZxDW5SDehZ/7WtfCxoMsB4FbOE4LexIf12TAn1HVddssncVfNGwwPhQUj1wuKBcWDQC7ljsPfjFZouDCkAeuzoPeeV9cD5MATZtfOB+3VPf++VmgZsms983vvGN0MXHP/7xsPWFxfhgEtBKePEx0yacK34UeNRTnLHwuunttSlApCIYBKIZ/clTG23Xi4324v9cZmOUBA1aYxbByxLA897FZfZbW0/Yf//rGqscN8w+/8tzBbYS4C/RVQCC/O78ERuD9p08o5BBPzxjzX8eSRj9aHgH+x/9YDtqWKaVjDBbqzwDR+qiyYgEokknxu0Ho0waQmxsBxW60iTxzR/WbrPKxtjovLGS+iKX7AiApUVhCWEYxii6xrHTZ0IGYgAWeQLOXrgoJ9tzdll1WiTt5h2AuccArRO2QwRukRKP0L3XKIknZhPkB8BEAkBE4d6G6fAXCPvCqyTVi0lEZY3RHk6iq2XugdMvwGpGycTQhmsdaach2HPLlrax3qYo4s1sMSZEuaFE4E8XqocSvdJ0XeUIePzsGbtfTq4DBQ5vRTku/4h9MpOBqYEW7boo3FeUiDbSwhw4ZIXDB0vyWmTf2S2tgg6/R7kLiGJEgUXlPrtTha7RJjCGX5mXbWuPtduGhg77532Z9utThtu7Z4xWVKMiMUAR3XEY36fnerkk7DiN+/P8RsZfIA0M7VafOB4yMyf7CcTbRivjTMA0JavDoRlJPfkUFgrMk9uBte5rCl+HV+Q8zznLBaLylOGYMbspVVi5KeiPloR1y5pHGzRMmgfa+snaN4NmiutGKFPqNOteYjtQ9w/MIffQAN0fmBTRL+c1qu7DYpSX6YP25PCxwyGE6BkYDNXLTdA3Ptf++vucxnxGc87RHEfqWZEuEQUKpBEjGzJRhVy46bgqmUYutCX57Cc/+UlbsWKFYZb9xS9+MVQF/6AlIHkaYVMpjo/4zRrmGYPVxrp160JitjhWo05vSvwZvnDhwuBTilk6hf4YP1vXVODvwDwp8XPDjvTXNSlwx5gERsYF42LyoXS3ONnPAvPCeXwA5pSnn3462LfxkEWj8J3vfKdT0+B1OcZv2vKbgX79hcExCszGyy+/HNookYSIOj4ur+Nj8bY5jwWJpgMfCA+pGuduqZMuvaBA4uV3rO6clY0YaN/+f+bY0tnjEydGB3lZwkyMGjbIPv94laSHg+zSxRZrOHMx5FOAI6BmWFXR0tJ17Oo70UV41y6ckm+f+9vJNkqgKCqsSU7Wl9ZE/LyuFm7jr8Rghyjs6ZySTPsXJZfae1SxvmVyRChUwJLMsvtlgYwM7ZJMjQ4e1/0rhcEsZeIdngieATNIcekuWWzvrcwIAClP2kMy33L/IcVv1kseYAOTAAhqktQKzQPOmUjFz2tLyMvNYhCQxAMGSSqGAzQaCJgIzIfYItUNwCjxN4wGY+DD2uK+9sgngH1s2d8Qo7Be9q30P7usLAgAAGJ7jx4LceuRFgPuJ8t+mzY6n2mJ50qYaIov6tEfoJ2IRnmSGHtEIz+W4rQ+7fJ2CPu5WdI1AOFiSdYAtgDFhAw6MGwdHWhkxLxlZNtPtjYrO22GtSgZwicXZIl+0Xq7kwyCT5wxsPZJwPapBdn2seckKb6cJSl3iTQ4EYPVKiaU0LYzxdj9fPMmq5bj8KJhlZ0gwp/n3mZvtpwDPXEox5kX5pEcHJj49NRepFGINEbkvXhQa3KNImm9smuHnbnQFJhPtDrkcIApRVO2TGYdMAiU8A5Uv81KxgczcLlZ8w3rvzmY5XE/+IfrzD0T1rPmv/PYiQD4FygnSImEZWjnCMmao8zJQSOn+4B9mxSJqUY+fzDD+PIsmFhq75bDO/cKJV9avCFa2/WtzXZKfefeIkY2dHYTvnj+QHdKnTQjhD7N1b1eoHlQ/PkU/niHffk6JoTpww8/fMXse1rHrH0KuQ5KS0tDRmYiR2KRQVtLly7tbMufO76DNcw+8JczERxLruf1e9r6+N1/wdvxc9BwfOELX7AFCxaEsKnsd6znddLb3lHgjjIJDNEXpG+7G7YDdV+k1ENq/+lPfzqkEYcJwASIdhzEx9tyqX78GHV9v2/hSA8LbHg2wVTj8sUePwZzgtkSEkvUbPxNhsF06RsF/KE+razAvvR7keMmLYQHevS8Dw16XoTZFaONDwXAQ3HQg9ZhwIDIvCA7JvXy60ZfH1w+JXzCidHJAdhmYHCtEs6P9Rt23sYv73qg7tSqiRpTRpscMdvteH27TVKyKT9+G4fU6658bHUKqL9eWXNNwvVJxTINFLDjiobLpZ/8hfQScI30f5w+22prg0kHsfsBMnx6KvslKT4hE433zphpc0vLQqOYUMBcwETwOSnpKCYVvk5oT0sgACRMLAIDIUAUfsu8gr8B0tiCTxPDApAnDj36jzKBQsyLamRuQkjNOerTtQfhGUXDKvHnFX/72uN3KIl6hJoEmN2v5w99Uq6qG/b2/cvbqVaOADQVy2Uu4DH+u2ttf53Zc4cv2+aWDvvbaVmycY/uo/7AIPiYIwqL8dTYfntSm31hR7v9tCbTHqnUvaHMzf7OKJB2Cg1P9cnjmre0WFpfNwIQ/dyiUXkhJwGO5jjGQ2c/FjwE+CNROObPNnZhzvbeOfNCRCFM7HBYhzkEqNefPyefi7KgaSOPBQ7YFxNrOKxl/Y3E3wvtslZz9CFsbg5meeEzWFqLIcGv4K39yjSukKiYIXVXYKIZB1e6WKFel0qDAIPgWpAi3Qe5Yo5O6T44IbOjCUNzw5x8zt21e8f2A2hFG0Ke1l66YBe1rRwyyIbpXk+XrucLmIj16c+JnmgDTgJrIZnHr2DZsmX24Q9/ODgr43yMXyb3XXftsZ9noj8Xu6vX0xj8WLwtflPYEtyGcVEIejNWmjr68zrhQPqr1xTo+c3b62ZurGJfLl68Lhf/q1/96lUcomsK4nV9hP7i8L+Tt5zjSdh6WljJbZNJEO7VCzdS3Bkoub7XS29TUyBOr8Sz/qqKyS8nQCaFl9pQoZkahdP5H8/usJzB2ZIAt9vH3l0p7YMcqVTHAUY4IfHlL8NDJ8/Z0yv2SUqZpTj3spG5hAo+klzG69+u3z7/ytIsxYlvsZdkurPnoGLFi0lgyn78do2nN/0EGieIXK2MuT860mHTRmXYVBgdlSCxjn6Gv5Hc87JC+ont/6Ht2wTCj8g2vrzzhRIq6svXht+fSF83HzwQIsDgR4BpRHJB6o95E1JYgBBO0ZckjcUuGxCGkytaidOS6raoHowE68H9CXAeRXp8QeDo6dWrgulSvpx/CbWJfTpMK+3AzDCHzpJ4eXX+Hfvh40fqu0tgkGzQRMOh+LFY9ev66e0EGimZW7mAaJevRCTZ9vuBNe5MwKp9LbZa/i8LlJ/gPVURM9rf1hmkZUyM+d2VWbbsQIf97Ey7feSA7g1pE9jv9/RUCWz21SlfhPzRMBUCWDtt+kpYljXnAsRL5fuw6fBBmS2eCQ7vHKMEQYX/Ee0K34wHTRignzZGDB0iv4Nse37rFvkhnBbYHxQYUhLcrdeazpZDOWZyrClA/DCtwyIxOTnye4ExcD8dtBBo5qifXGbllAXmeEutMmtLWwejRKF/L9xTmEFVaj3juAzDWyTmN17ypXkoHjjYdl44bzX6zBmVH/wS1BA3Zbxqv/rd2HzJDim/A8+YksFDbYi0CenSRYFrYaKumtEvr4/W4J//+Z9DninCzGPK3ROD4O2w1vwZ7vuudxtvy9czJuMEuiGi0ZIlS0LTHPNxX29f79Tz7vq7pbvU4Nd7QX2hcX5fFjIL8GaP5Xrn8HY4L3p/8RLjgZJ6Rr471TUrGjbQTite6DfXHpOznaRuTW32oSWlgUmIv9S8n3Cto+4UBrLZ/ugXByX5lqnCUN0ig7OkGSKza9dLNfWIbu3eiUWZ9r7Jmfb1De22alu7Lb9HQEUgrl++oxO0bJYk+vUtov9Fs+VVGVY6zpmEq3GF329EA8IsguhEk8Uw5AoYcY39OFSGoeCeO6tQjytlvw3wf1C+TTAIDgzjVyMCW1lBSp+j9swiMw6vw3BpE+YAcwtA3GUxEDASF7VFi1Av3wNMOU5oe1x+R3PHdQhIjbQ39+4Nx5G6YrbB1sFbjjQSgyS5RDvgZk4APkCqz4fITiek5UCLAEik+LHwR+yruxXo90Ksavjp7WySqRS/Z8gmHloEeiYqJ59bLyfz12vbZbpj9mRFhhiLGDeX3MEd/juxzMQUZNmjxW0y/+mwFYfapVGSOeJQZhbNboTWxbRx422jnLYnCSSTFC25BNom3UzJtOEcpym/J0lQRS6BA0raRlQsmErMnJwRYItZHA7C53EGFiN5WSZDRJJCKzA0kRkRBvWAGI1KMXHDhgxWgsEJ0ggoy7HWE2uJdRHWjdZ8qjExllTF74XZpaUB/K+u3hPuJxKtUXwurAfMoLindivx3HzV79RoJRrOkXnRpCE5tudik+2TZP6kGOZx+rs/lrAuEi+O/U3nrE738AgxB2U50X3v66Y/jr2/j4k1489jEpwRscjLnQTivpZnzJhhf/M3f+NDCmO9k+PqHMhd+uOuZxJYrMnFF0vy/t78fSPnJo/lRtrqzVjfznWi53vvXofJdMZX4Zu/tyhoD9wsiWVSkPA7iNeP9+N1q0pG2bH/+kgnefF/wLY5Z0ikpvZ6nRVu049him704Ows+/rWdvvZznZ7sqbN5im5VOJdeJtG0bdu0Hg8pegzElLa0ulZljciApypxsx1AaijESI2OzHasSOfK21CvATgozoAeey3zwlgLZ9aZWOVkI17MG7WET/Pf3c9MSKowCrjQ7980AZgsx0vJyXlPSYwny8p9O88KImZxrpJpkcAwilFhUGqe1qMA2OCoSDnA8wGfhRIlb1tpMIwEUiBkQrze4uAa4vCTKKpAFRSAIR8ksu17ojocRjNMNBC/e2XVJpwndikj5SvxwkliSuUNNql6fQB7b3tgzJlW6k8STmyerpPmp+ExV5EpOQB3eG/WUfMmcBmi+XvUlKje6O+w35PcxhVIg1IOB4xmJMF6PH72C5TNkyOoK+D6ECD8OVUSD0xZwKIFMT1xdm+WQD09V07jezetIezPdohGE40WNCWKEX4gnC9ydjM9cfvhjowcFMVsvRJOWGexklfZrOYK02USVt3JbxrmFyidP3yPdHWrzGJ1hZNrrAXt20VU1ttD82cFcbg7yzGyKrZJ8Z8oOiS7BdDPepU5A63N86esgYxOjvOng5Mgp/b3RiuHNHt+iu6t5t0nbacOxMcridKEzKOBxGFRROjX7Qz/d1bCnDNvbiptv/d37bxsfa3sd0N47nrmYT+tAD601juhsV3q8bIi7FwxJUgry99wRCMHZV4mfTlxFtUl+exv9MWTM+2J4pb7Rk5L/9sTavNqMgSqO1f2oTwetaYMV/5qbL0Vl8w+yXZjd83O7K1Fy7S+zl6iSeTzO8hJL2E6MTee5LsyTF/AKhwFtcXEEbCsuOSvi6RBB5QE9Go6+WV3Lb/3VWj65cfYwvQ4whjAfDvqj2s+PaHgq33EoWxJBoNJV+27htkQ35G2owqgTwcQSkAyMjJOnK0xrTpwuXIxAStRCRlbpEp28XACO08dsQmy6adrMAwpEETIRAZzEkSWyTJhIJlCzMBwA0mJmIC4oW14mie8dP3ZjEzo2Wrjl/FZTEhrynfDH4UhIdFSk2hX2d+dyl52m45xv872fVPSmgRuJZuihRO6CdfTJexMe/JisB0//AM+57M8XZrDnPl6M+CYc1QL1eM32wFo1gjzQ8+IKwZ1lJy4ZoTbasVab8Y0OAkn9ACBOdg0TRiBtvCNSBxWa2iRsFcQuPRMkPDHIhwvZFZUORXg2TepfPe51oB9osC3IsUnhVHfdbGW9q3Rh9MmBZWVIR1FQfznOv3ibfT41Zz5Hyc+Reqn5VyliaPyP1irGnH1zu5EGoa6myGNC744cSL0xDNwSSZ7Gw8f9Y2nDtts0fmWeEg6nqN+Fl38nd0XXeJoTkgjQcO19OHjegyNUpx3e/kaNN9pynQXylw1zMJ/ZWw6XHdWQrw4ksuqQBBch3/+4rzE++/vpzv7dzs7YSxmfahRVn21r+12rfXtdm75rd2gu+b3df1tieLC8Pve/2OVvvy6raQQK206Kydb7so0DVGwBQwHQEXSBunq4MW9lUq+VStfBP2SvqLwyXXBIk82w379tl+OagtLC8PPgyM9Wa892nbx4MdPxlyDwlQTpbfAaAacyYHbPhOMJ5Ve/bY85s3KxrNtOCQCnjnYxH+ZmhXFPoIvhEChCSTGym79PllkwT8M+38xUvKqh05WyORxtma2PacgxRbm06TJg/9CjMB84DDKr/dLwLzpq1ibmBQlspZGcYCyTfajP0yjyEnwgwFW8DpNmIQlJhMiox9cjQnQP7s/AwlXbsaRF8xmX70R6EYhCnye7GTHbZdYYJb2hW4QOswPgMYA7QJGw/sD+ZfMD7QxPMFBIZA1wVTIPxVYEAIgEAY04HZWXIOHhSclcfLaRn6eoQgwD65AxZPqQzXoTuysHZY41x/mNwd8pFYrHweMAgU2rxf64h1tkmRqJq2bbN7xQTj/0KJr8+woxdfzJ/7jIL/DBqvDfJ3wD9hhpgmX+815EPQPF2LgJYjMCOMWefSN2FS54sxwNyoUev0jcY6e7yoRMfjVA5d3bEvp/FZNDyn68PI8KWYOmxkGNP10PCOTSbdcZoCd5gCaSbhDl+AdPe3hgL+4rve1q84vx+8/wDASOD1jraHFw6wn4pBqJZZxTfELODQnC8zHj9+vXO+Gef5GM7Irv3rP1HCLj1hxsr8eemci7aldq9MPY5Lmjs+JAsDEDn4YBsAibZOe7QJEwTGsPkulx05IVIBANsEcLbL0Xe2AC55CygODMIf1/HF+QAp+gZEYKJD0iv23idprjMEDjCoTymXlmOQTEle37NLoVu32VLlVRgjsyfMpqjhc+pcQmqfPgDyjYpic05gFAZhWlJCRwBam0xVMGfq8pFoSfyOwr4i5T4lwIc/A6AT7YqPD3Opy5J+A0ILBTCJ/ETYTOzjaTdXjBrtrlawhWOSghO/n7wQMAkbYBJkWVciwD1IWipK5/jDX/3ri3uDMmRAhk2GSdCa264ka8caL2ieJAyL5g0zgCbnhPJwsH4OKy8F5lfQmOuBmQ2S/lwxW1GUoME2RNobTHXQuHDMnYj9ukY9W0iotka0rBedcwTEuX5c57BKtFaoz5rBNpprtEHMJz43C8TkzhTzSYmvQRhSHInfksT/RTmFLpapEA7nvj7Z9qXQv68NGAMc9DcerAnXHGd5fHtgHCfmF8gsM2JIYIDjxXuclDvCygc12E75JqyVNqFSJkhTBMC9/fg5d+K3X5vXGxTxTNc7W3NfMCLPhus6QmM/fifGlu4zTYG7jQJpJuFuu2Lp8b5jKQAu0DvOxo/JtN96KNs+/08ttu5Iu/2vZ5vtP3x4cGAgON5H/HDT6BlMUhK44rs/k7/AYUnM1fov359pH7h3vB2qy7GdChv6evXukFm4qrhY0XwKA0BjEIAMXuCAEX+ZE5XmeYEkQpzOK88NEY/WiUmYKpMfIh9RvG744zq+HNzQL3blW9X+LjEJSIvnqQ8HTR7piC4YJ/1SiuVk/UDVdJnx7Ay5Ge6fMjXs4xhMRlzKGp0RhevdLFt0IttMKIicaB1Y0rb7MBD6FoB6ZZwZ2oVpjBytiZ0f/B/k14D0G3MZItSsqT4eQG2xTIsOKVTrTjEIA+S0jDkTTAXaDoDvocaGEH51dsk4ScPHhMzYputYoizfYQ50Fv0Mf/e3L9Z7WHvaFkmbwNhbWjNt5R5FB+o4Ks1MRqADmgBMgHCKb4FmMieaIyazQEwUWha0MNADIH8tEB6uo64/a4drRSQgnJDRUuAAzD7WR2gnsVbceXKjGATCns4SY0jiPUp8DfpvpP447WN+tEI+D/O0NqfrHGc0rjXG0HDsi/qsYeY6v3ySGIULtlZMCFqLo8r10CSN06SxY8K4z168EBidZq0pTK/ID4J/BRqWbE1+lkyXjilfwmmtt2frjtkYmSCNEAj3sce6va0/vf9tZxptzZlT4hfFOIrZmjUyuse4bolH1G0dV7qzNAXuVgpk/ZnK3Tr49LjTFHgnUQAwBC5lW6IoQaeVabZaZhUv13RYuVwoqsoSoSpFFOrczhLGlej3p6+22B//tMXyJIV+bGqm/e6TsqPPzrQROUODBiFfGgHMaLZLyk2GZIBrriK6AKwYtr/oGT8S8VMyi0ESfkkgZruYjLGKzHKfJPbY5sfrUr+vJX7+QUlScYQ+IgfleaWltkDSW/p3QIjJSbzEJZLYu5Pjobah0fYqCy+S+lGSUsMgXMHEiFCcd0wmTGSGnl48PuFPEUmZ48wH/fonuV/oBOiDZmRnhpFgrPQJUwOz0Cgtw8MzZipB3VQrEXCtGFsU6Mt+wDCMAnkj6JOoTLmDB9qJphz78YEsK8jqsA9PzRKtBXZDX/ER9L/ffl+clAZrw8F2ZdfNsHfJkfmeiZJyF41XZKNiqxTDOUU0qBTNC0Wj+qbzNkHaKhKhQT+0CQBwv67OBDJbvw5sKdThwzWgHtcAf4+a+roQojQekSt+/TfLh2WjTMCmyZTuHvkHpAL8tOt9E4mLnAWXpDXaeuRwCNPL2BlrvN1oVNf+pm3WPIwiORTQ0hFdC6f8AgF/mJZzYhBWKBt0jTJzEzzgkDQuR7Q9Lud9fufKPO4eNHhiUneJhs3a1ivE6PThI4O5Eu3Tz+0ubeqXMKdHpCX5wfHD6l7XRdfzybETbJSYQz9+u8eV7i9NgbuZAmkm4W6+eumxv+MowLtX2E4gQTb7csxcrfCiAwSI/nVbm80szLAyOQhTR+/LsL0dBEKKCySg31c3tNhnvtuseOoZcto0+9InBlvByEwBUgEHYWxALUC2bHShjRAAAoQQEx77fyS9wwRAXELqYAOzCyKybJUDLuErlwj0IvWNA/y+zjOAPRGJvnAW3Viz39bqA3haNnVap3mRg7XuQE/YnyA4QHOcQqICupAo4zOALTl1HND5byS4aA7ukT06gJ3xeB9se/r42Jlz+J2YvNPjjJgATF/yJCFeKEdrJMf0Ac3QMBxqqNd5itgl5gxtyTQ5XWPeUpxXaAcbs+wre9psviJpPSan+EL5JERjS3TSTze+3k8r1O4bYhJeU46Hz80YJk3ByOD0zrWBBtCCMlyZrevFoO4TEIaB4hiamXjp6RrE6/Gbupgl7ZUJEUAV7RL7/LpTZ5uiWK2XCVuF1vAiXReiwvg143i8cK4aCOfDEIxXe5jNoIGo07jzcnPE2ESO8uH6xE++xm8fF8EAYA5fF2N8TBGvHlAS0FHK8AzDgwbhmJgC7lc+MOTQmGzmOFMzpiJpD07JpO1Ey2VrEFOK6Rx2/9xTfu9eYyg37bAzAPUaz/ePHlTiNGWl1oCfKBxnlWJeGA/XJV3SFEhToG8UuFI01rdz07XTFEhT4A5QAJwjM2orVjSX//LrA+2sXt7jBMo/9Z1me/FNJX9T4X2YhHluyUjpA+dP+luxrsX+/T+2WJHGckT5Eb7y2wOtRI7W1MnOQqYegR4GAhCZIunuY3PnKSZ7mTUIvL6yY4etlASTEJ0UZxYAWmShxZF3qiSwSFfdNCdU7ONXAG46B7B0XPb4L8l5eJs0FBXyL3h09hzF0M8LLTrAC4Cthz6AHg68Rgh8Pjh9Rohwg73/dgFDCscZMwXTjiPqd5Ik2MPEANGPzzVUuMaX90ebnOfjA8zR1o7awyEE65zS0gDwHPwCJpES46OwQH4QD89Ey1ApkFwYmCO6bRYDqpTSigajbONXR2ClSr8szI2i/Ic2mLea5tCsBIoUACJ08Y+vnalaf5hm7ZFGi5Ih+kFL/4Sdvfhy+sP8TtDaOSjTLmz8KT6uXQq7io9LqRiSxQnGrTsGwbvkOnN9GTfXdnZpWciWjZnQS3JoPiAGh0I96lxPwdeH5GJEaCLXCIX5lI4ZHUL08rePoU2mSgQTQEuGMz3+Ge+XlL5Yf6MDXCf/hJ8cPRjCjXIO87vVhR4CfdQfeRv+95ED0iIpt4kkFw+OLLD5o6LkhH6NbvV40u2nKfB2o0Bak/B2u6Lp+bwjKKB3YkAgYwsybc64DPufb7UGRuGp9W2S4sv0qLwrG3MgiOpzys0q/v4XTghA6MevNNtnv9dqY9X3DoXP/P4nB9rimZKQ6y1OHS/+subFzm8klCShmlgoO279fVDmDJjrIA3HVhoQhwkQoIPoPZhEjJX9twMXb8/b72kbgJTa4RyAIgD+DYXDxE773slTbFZpqcYTmXGoUqjXU3vJx2iXPgZKKo3k95yAFw6yGdrHHN20ZOP+/bKTb7WFkycHCTbt9GUeyf3637RxRPR7q2afzVK0nAqBYC+hfY2DpGL4eaDhQHpOCVAucT321bXbUzXtNnVIhj0ySQ7x0ihwXE3366Lha02YNUiD8OJ+mcFcMvuN8kwrCyFcu4A/dAgfzQZJOuvsgEA9fhtoGwC2gVZ9nK37nrCedykZGc7Po2UWR1t7letjjTRH47QGlipyEeuDdcIa7k2hDb9fYEQwtzsubRVJz7i1vB+v05s2qUO7tFMrpnXooAHyPVBuCa0PHOLfFIN7VqCbMcKgkEQQGs0qLQvPEUbOuhik+U4eOsyqm87ZJd1TR5Td+IQY0bKhucpBGXGZ0IanT+9mq6q9KLTICGiVeexXSNbvHz1kZ8UgMI4lclR+rxiYUOs6r2k4Of2VpsA7nAJpJuEdsgCQJvIwTZe3BwXCldQX6QYIi3qv7K9/vKFNWUUz7IcyPWpuUJIv7ctV1lkuO/UwC6Jc7zIAiPHxNmin7lS7/f0PL9v//bNWm6jszw3yVH5KDMLSeREABRno/1XF12KiuRAhqEimL+RGaBNYQdK+S9L9N8QgANwenjk7AJjtMrcYn58n05lBCfCaqvWruusEWdQ+LTvq1bt3hegySH6XVFZZUbL24OomerWHeQHWYDbGy5b8ovwoMBFpkZQWxoHY9+sUfrNK4VPLJMXtK7BLNQhvA0kwDNVA9U0oThyT/RjnMTYYA3wrHNSG/Ylj/D6kyEbfEcieKG3QI/JxuVvMjVgMrMdjZ9vtF/vkq3PZ7OMyl5qYH3GoHPPCT2cGcGSuFlMK00iUn3D9dDxW3U/rcesQGBOgYwLd+H1gGkc+hhVyaB8rpgwGAZOv+DXpsdHYwc77RWsLTRpr6bwcmfHruSgTG5LDRSZB0R3l9WNNXPHTj2P2RuhdTOyOyAztNTlIY3oEMedMnBgY93pp+Vg3CydXXGHmRxvQcajWWaUyGR+4cN7Oycm5Uetwj0B7ocyv8AUIQF69M+/oedBX6kZDDzOLtUG7rfr7jYaT9qOTR61Fvy/pIbdMTsrvKyIsK2zE9TF9VxAr/UeaAu9gCqSZhLf5xW+TATsSzMOHD1uN1N1jE4mg3ubTfkdML7xq9cV7E0Zh6ZQM2yh78jOyy956pMPWbG2zAjk0o20YoPCQACU+wkPhHM6jsC9V4Xj8g0bA27h4ucNWbWq1/yz/g+d2t9togcrCYWZ//6mBtmBGQkKt87tr2/ujaz4RgMgIIASwRjjOjVqvWwWChgl4oWkYrgRPtacagnQTkyBAyrUAV2iXPkJdMsoes1d37QpRWnBOni/nUSTI3o6DJx/f9Wx9XNicY5veKiksGgWcTwFghNzEF4EQsJQb7dPP31l7WID3hLQiFUG6zOX1Y6EjfXXOM1Dd93ZtG+T4+0OBbKLCPF6mpIIJx+VrXceuFu7ML9YpY6xRWOAficmp1d+/J8frYvnDUJLH73QBcDfJjI2cG2PkEEwSsQ7dIH68r7MJGi4BVUyO0CTtPn40mOcslwkafTn9+9qu12dctIG5HmZizG6nNBV1Yj7Rsg3RWvY63c3BGSR8MrbqvYCGAL+fLXKo3qJ1WiQ6vGfOvMA0oW2BiZpWHHOwjxGTPpxRqFKyssaEjwLOzJvPn5FvQ4vli1EYLMaVuvwDuIfnCpMK+3x2V25Zv1RkywfaehscOijtxbPHa23N2UYd03NN+96bP8YeGl0cVndgEMIvaqdLmgJpClwPBdJMwvVQ7S46Bw0CTMIZvUTe85732JNPPmkjpK5Oaxbuoot4jaHq3akXtdmYvExbPivL2s512MZjJmahw74r86NTR9psiEJpDs/JFIjoYhY4z88NL221Ed/GmQLqUU6r7Q07W+0fnmmxP3y21TouZdioQZn23lmZ9p9/Y5BNLokcHKnr5/D7WoWXvwMozH/2yQH0nED1A5KIF0vDQNbgBkkn2xSKse7c2QBgglRWDQMgOD+5AF4cWAAE1+6rtvUHxSgPHxESVBHVhuNeL/n8G/mb8dAuphrjBMKw30Zqu1mgbFH5JIWaLLop/TrNGhQB6vU9e6xcDNYMSYCZFxczmS5OZ2jGhxLti67XZZmlP7dHkvjWDvtVOcaXpJDER2f1r+9oDZjtUcSvb4pJqBJT/Bszs6R9itZFiuXRud6GiTHYJyCMaRsheXleOl37Mks/hyhTOCm/WbM/5B1YNm16iCTkx/vSZqq68bVF6NVhYgxgcg4oOtcIzQVg73XYxgtrkj3s36576rC0B4TP3asoR+RImClTtIuiA07vmKThjD1MzE2JjrnTd3Kb3hemR9PkJDxAfRyUqVKL3j012lZz38qReIiODxVzE1gF9c95jCXONPi6jK5nok6iLvOA+aiVxuLV+hP2nPIgHFdYX9Y6WosPiTmYl/BBuFm0ps90SVPgnUyBNJPwNr/6ziRcEkj6kz/5EzsmO9bHH39ckuUomkfyA/9tTo637fT0ntSLWCFDZV5076xsm15oVi+paq28mn8userPNrXZiQPSMujvdnEUCiRk2YqQJEsDvaxTfyBWs8DiaZ2z93CbrVzfav/ruRb7y+db7WcHO6xA598vILl4Rp09tKjRppXkCVxFksIAUvtAbV7qfs4mhYlcpxwCJEtbrEhGaBYKZIt9UdFTjsqGGql8luZQojjymFg4SKE7X89x4F8rqW4wo1C0lrkK3UjoSRyM6ZPi/YY/buIXY8GMBUYhX9LZwwJim2V6NFFMDxoGIsQE0MYFuM7icyd7L1GaFinyDBLr+PyTm+ac+Ac6wGQijb0kh/M1ig60RX63DxdkCDTe/mhZyeO91t9cRsZOWb2/zZ6SFu2e3Az7d2KYh0jD1R15oQEFjQ55E/aIMS0YlhtAtoPUUKEPX7RJBCkYwpNi3N43Z65yKOT1eD360HxnVfpxIJyniESjtb4IE7xT9wYhhQmDy7qOry9fE5xLBK6fb9qg++mMFSn530zda/Ol3SoX89qocROed7SYBBgOfIO6YxB8QLRJ+/gVlcr0qHxITnBubiSXgkyQ9gjY75OZX6NCpbaIYeB6wTiT4RlWgfOv+qhx2rwobThOybvlGL2q4aS9cqreqpXIDc3BMN3/i4aPkgP1eCvmnk6wvrSVLmkKpClw4xRIJ1O7cRreFS1g8rBw4UJ7+umn7f7777fPfOYz1y0xuysm/A4cJICf8KgwAA8vGmCzZJP92oZW++lbbfajA+32/63TZ6ucdPMybH5xho1XyNQSRUgqVEbkgdIwEIGIQrhSRTSUCUOHHTopyZ1yMWwU8Hq9QdBJ+7NzzH5tUoZ9aFG2PbBggNVfaFXIzYMhas7kcWPCS78v5HewwzmYzGySFBaJ5lxlo6XwwkfCC9giwZRtbLefbt0sqaJCdZZPUjSi/MAsUBdQDjjiA2gm0s8WSe9HCew8PH1mZ5KzeGI0zrtVxRkQgFeHQNGjkiqfFsO+Ysd2WyItCY7EDt76OganW42k4AclEV5QVh6kv74/VXtkeT4te/k8MV1IiXGiZYyJSy9wmWVz89rtX4+32SFlLb4kJnGwmMEAmlM12A/2wSRoCsr5IGZWYzZpQ+ZqjQ/VmkZOrSWhZ11q0OjzqpSTN+FQd8u8jYzZbt/fW7DpNMeEB78QsoNPl5kcyfnoAxp7XzeLZIyNfin4JDw4fbqt27dPTtJyOpbz8JyysnCN4/cEvw+LaX5+80bbcey4fUBMzBL5SmDe5wVTOCKJvbG32h6RVgRGoTdrlDl61KOSobnWduGiTVKY1J1iEGASauXUzCf3rHIyaO3xydNnlLQLg2SONED3B1epTZSinSa9sxrJ96FPXctla9TfF6VlHKB+8nVOlWg8Vw7KJWJKKIwRmqS+0qFK+itNgTQF+kiBNJPQR4LdrdV5eOKTQPnsZz9r5QJgjz32WKc06m6dV3rcV1JAgrUAinS5bbTMj37pYZyI2+2j1W22Rg7NL+1qt5UnJS2uEbggzPogcRU6p3SQzJEEBinn5HxcI58Dva0DU2CKFGO5ZstGZ9iDlZl234wsmz1FUYnyqZ8h5+jxMg86bVtqa+QAPKJPttdAHAdi+wV231Lkn1KZNuArEBxsEyCIekgzy2Qi9MSChSExUrUkv03NCrkq8zlAHn4KSO0phDbddPBA0DxUFRWFyEU5Am2UCPBE9cKOW/TlwJHmiXBDht/H581TeMyLysy83Vbu3CGn6cprAvtUw/O2MaNinphQTZYzNAVaJc/O68M4EdEpR9JzzLWIGIW5Dbb4o3IVN3+AHK7lhyAkZhuliWqQeVnxqLsDdtVJ47UbJkHDrRIDDHNDSSyJCETqb19vHPOZoX0hsd2b+/cGB15M0XpbHECfkqT81V07gqbukVmz7KBMgHaI6cC0DBMkPWzpvLfN9qoec+F6Mwau4f1Tq4Jp0yb5F5wRg3KPmOh8+SpQ8FvYJU0D902t7o+HVPcRMQkwRBTaoBCWl/NeESNLfpIH5E9xLabJ1xfagSb5JbwhzRZ+LctnzLRZeYW2T1qAajGoe6UBOCHQX33pQvgM0vhhLgZIo0AeCKjTrhnhhIxTMmO6pA+MwXBpSMoG59gUMSAV8n8okrbC17lfgzCB9FeaAmkK3DQKKDqf7sB0edtSAA1CtswajuplNU8A5YQcG8cp1jV/b9261WbMmCHpc1tI7PO2JcI7cGLc1XwcIEGCy5K0Hq9vl+lQux040m47pR2oPt5udU0CEIoG0yANAiVPmKFAZhqjxRhMHpNhVcWZVs5nfKYVKaTkYB3zgtYBDcSRxoYQu71SjvGLJCHvbXHnwqM6/2XlSShQkqhlVdM7w1ECILy46Rx/rxV42SHTnbLCwpBjgTjvJKkql6bhjH6T96BDNjT3iBkGpFH8URcHieHALfpy4IR0+RdbNtkU5WEguRkFE6hXd+8SkM0OjALS6+sZ35vVu0OUpgdFM8yyMCVzqXmq9tCgvKz7HlMYEmm1oHpSAdwRlnXWhLEy7yi133lJjqdaLyseyrbllZEsidXRdTXCaXf8K4wpMbCX5Cvz+IpWW6BkCR+rOGqzi5QTYoRM1WR6AzMUL3Ha+HWCgXpu86YQFeohgVsi+vix+Lnx3w5OyYsA03dOZjHLBL7Hi9ElWtDz27bavWJ4pyok7a0uPhb6qdbzHYaHrMowP0S+2nTwYAD7rDmiLy2rqrJyrcngn6brz7UNTwA9OLhH0Oq9sW+vtHoT7B6F6+2uxGl0QCZ1O3VfntCaL1fCxPsVNcnvYdo+LR+CE2IQjoqBOSGtwkkxDEREwtcADQJ1GAn83SAxDiN1DcYOGGRjBg2xYjEvBdrmaPxemDOPiLT+wCmS3qYpcHMp0HW33dx20631QwrgkEfJk8QVJuFTn/qU/eQnP7FCAS1nJvrhsNNDug4KhBenXp5xZmGQpMMTixQWUh9K06UOa27usAvSFJxVfHkJ5UPRe1kmBspLIOHnQJ2To5j5yQUTDvrAxIlSLJMfEp1tFzjH3h6QFAcPUa0rv/04IPo1RRzCAfNeMRger97BhZ/F+nVGgSRQ++WoiV3/eyUNxdH5LYGiF7ZuCUBjjnwPHp4zp9OMIgITtw9K+NwY+15FVKJUuKRfF2W8AP1D2dMFLHeGz31TpgSaUS9+Ln8nFweDMFbY0U+W1BsGgcI18RJnhnDKxcwIaTKAkWzQaF1gDihNAm/BcXVimZ1qyraFoy7b5qMW/BPuEz4MidUSYNzb7w9b1jdzvizt1xuH2mVyZDZ7rLQfw5utRpL8rUdw5hXIlLZpnMzVCrXNldYgThvmAc3xTZgh2/wVCgN6SOdWaD0n14vP2a8D2pzXxfCR5Gz51Kmd17FQJkBF+iC5x9aftXqtaxtvv6+/uV98TIyd7OXPrFsbzJ+IXrRM/j1TxTBsluYJe37uWUpIIhd+6be2XGZKlRibU1ozMNz4JUyWRi7V+KERDBbtHhDdmCfrC98ILz4uQqLymSo/AhybMRm8LEb1gj4tHW0av54pam+wziXJ2wA9YIiM5BoDb49xMNjkZ4QfT2/TFEhT4OZQIM0k3Bw63lWtEOlokuxO16xZY1/+8pfti1/8og3UCzKtUbirLmOvBguA4sM71Qt/U3KU14DPqOECDNGuHr/jbSSwpep3ARPCJB6VGcMGmbUVyvylJ0msgw2k/q8KlCH9vk8MgjsUd/fyB9BQiLxSKj+FvdKMYWaDTTUsABLjICEXAMHEZ5I0G9iHe3veb2jkNnzhi0BY0ikaB4mw4gXtwUPS5L0qRoEP88fnAtDV3TjZz1wA/ZslGR4k2+wZJSWdzTqopR5S7Yaz5+TQelqS3TOyU78U1gIZcynYp7MULoppmCoazlUWZv7Ok8/JUuXY+O7JNvuXwx32ISVYq1SI3f5YEktZ60D5EY5qkWuYi+Vv857Zk+38pfF2rPF0Z4brvfI5GDpwgEKdRgwDCe4wA3KaMT98X8aNOBYcd8lFQEjRVNfCQS/O9KvEINTpOt+v61dSODoC2aI/YBnN1usyvcH8rUTCmHhfN5Oefnv7OochrDlxUlq+7BA6OFugG+YbU6Djev7jqMz9SXEa+nji6w+fHxiFdTX7g28Cidt87tTnNxoTwqfix8C9F7RSrFPdqz5f+vAxen/4IPDJ0RqOcpz7CFJv/XyOerupa6b3pimQpsDNokA6utHNomQ/bcclr+f0EvvmN79p5xV5gxCoaBImKlTis88+a6WlpcEUySW16QdwP72YNzAs4Uq9WKMPzYQXbvyt21PbnKfjfj7beGG9ABYAHUj+yASLIyyOxpyZXN9B10WFOMVEA+Byv6Sc1Pdj8fbjv+naHTExpUBKv06mRwAfAMxjc+fZPJkYEZ99j8D5fn2IXIOdNaDN1/a1+on32dffkNX72SIn7EbZqi+SyUk8HwNtMgaSbxFd5qRA/C4xNUPFrGNDzvnJY+Rv30eiOZiPxTIDieiMOVmLfAjOChwqipIYCIDb/roTyqDbbCPFRAFY55eVB4k6mXabJb1tlSR3usxJcHLlOrVhrqQfQ2TvsVNmaa9d6DD5qNtiJVbjeJhbXwlyi+qLHGFMSJ+/t67VvqXwp48My7DfXZit0KeZut4DAi1hvCYKoBMhi/VzUpornJT3yzQGzUqLGC78XajPFkYTU7ahcqplTXnxa+ogGXqv3r072PffV1HRqSmiD18Dg9QGWbDJYlwq7RfHbmahHy2KsF5om7nsqq1VONzdwQxvthjId8+aI0f1nDAnzPTQpCyRxoOEf8zF5xUfl68/6FGg6El7Tx7X2joXEgRyH/k9eF6MwbqafcF8CXpxXmBitbbI21CcSFJI2xxLnn8Yf7zjFL/9HLb+SVEtvStNgTQFbgEF0t8sY0kAAEAASURBVJqEW0DU/t4kD+tmScCaJCHC9OgTn/iEVeglt2zZsjB0ByL9fR7p8V0/BcKL19++199M55neFDbOtcoyS2ZkzBmIuuKgisr+GzBDFJgGMa1LEqY2rDshic42k39wGPjlzslIypHQ7pGJwy/Nn28krAL4UJbILhwtwh58bwSaANQzFDEJsw8cdgMIomI3IIlDN1pOaW4kosIciBCoySWMQf1jyrF82jRbI8C5as8eRZdqC6YeHA/24oCr2Acp8W4xFGPVJtoJmIKjyvIL+EWaC7M/SqYm5QLGY0R/6gwLmpZoBNAZbcKpC00h8VqXw3MXYJwszcFjCm+7b3eb/fe97fauyW3yV4hyYPRwiZKneEv/ZjmwWrYoPO8/7m+3cdIifFAJ4ErlN0MJAFhbaAcwzh08Ntjgw5Ri4nZMawfm8pAcuWFuAcNl0gSMFL1K9FwknCgMBk7NFOhGm6w/fDnerK62g431gQGcMi7SxfmY6JNCv6W6Dtu0BhvECBZIi3Gznq+d7ST6wvxs44ED8jc5q/Hny3SqRJGaRoZxzBVziKYYPwXCjp4+32RD8wYFQN/ZTqjZ9cUcOJYnsL94coWc7XfaJmkJF8vZHhpACzQxjygbOmtwh+jFfU0ULxgFtBedJTHGzr8TP7q/25Nrpv9OUyBNgTtBgbQm4U5Q/Tb22Z0mAZMjmIRiAadGgbpvf/vb9tGPftTypWLv7qVxG4ed7uouowCAwhmAEZLaE9kFMIsEF0DBmqIAHqhHXP/99XW2UOYMlVqDoehYd6DB26YfJLhbZP/8lsI9YmY0UkAFH4hSTD3UdgBqqke0F7LSFgrkIMndIWB9WFJdbJ45hpTUgRD98/tmFG9lq8aIg+gCzbG73AVON7QwJMYiZCaRaYBXmCNhhhUfF/bvqxRBZ7tAJyFMSaKFyRXmR0huMWuaJekx9uQTAbxiQGibMUFDaMM1uCgfhAm61ysc3OoY/UAC8m2gCcqTL8pqhc7Fzr/+dIctn5QpcxKuX4+83M0g4TXbYAxENT2vKFxfXtlqB5QpukKJ0z57b7blaytLqitoF18XSMKhC2uG9TlW2oJBWQPkUyDmi8g/AtvnFEKUrMlch2L5e0Az6MMWKfobchjfJS3WQoHvGfJ/ocSfm4Heqsc5MK74R7APf5349Qwn9vHL58JYKGHNCLy/qfuBKEQ466MZwg+BuhT6hDHCHyVPuSCYW2CMxGhyjLWRaly+b5RM9jLk9L5VGiwcn/HtiM4jD0ikfdkr2kFbImQ18G7Reh6rNewlGq3/ld6mKZCmwN1AgTSTcDdcpRsYY09MQpZeKA0CTbNnzw5Rj0i09uijj9oQgS6XYN5A1+lT32EUADQASrDjBhDs0noaLBMOAEUA+WIWKBtr9gdNA4nNZpWWhn1xgBV2xL58DbML85A10kAEO39pLZYrNjx97BZgK0xKhOXnEee9RECvQECHKDRoOU7KTh/HSiS93AcR4OkCVLHu+/STFpg7DNKb+/aG6EuVxePDPhpy0MXveAF4AubHSwKcIQS8U7RrVdQXwNl5MQ6H5KRdrTm+qrCUL8vJm7kg5Z4gifdMSYwBqhXSkkBrQr0ixQUfwhaEWenaONClXxJw4TdCSaY94+eTr4RkmQLhLx/vsH0yO1L6BJsrbYKaCm2zvROFecEgUJ56Swn+ajqsTYP5grJ+L63oUo7HxwfdnfbOLPE3oJr1QfhcGIZigdrBArmYYcFQrhej1yqP/pbWtnA+WhoYVPwbFpaVKbt1aaBffH1HI4u+6YP74fT5c8EsaWJhQTBrSqZ5/Jyefod+EnNp0frYpzWxSvfDcWkpiGK0cHJFMD8jfLA/wxkD636VGPNK+Z7cJ03ABTGbG2UK1y7tAusAhpm2ubjJl9XHSpQo2uFeC0nnEkwI7XNPH5Fm5l5F76rSOGDk0TL4GmNOye32NM/0sTQF0hToHxRIMwn94zrcslE4UEr2SUCTwMOfl95xSYDmy1zjpZdesqF6YS5dujTs95fDLRtcuuG3HwUSIAMThXoBl8PSUo2VyYubbOxQYrP1yqhcJbAyX/b0AIzu1hn7AbisUZIr7ZYUE6CDqce9Mo+bKWBMMjDMh7AvbxWQQ3MAGPa17W2gzUB6zPE8ZWbFNAdm4ZTsrAcq+xyaBeowHgdX13NxHAhtFQDDlIp48zAi8eRtzMnHRR/0yRwpjGGoovEcl/kQduXVGuMR/QYEYr50VMzNFJkvfUiJEWfIpwiTLkCu+1tE7XZpDGg7fELrXV+BRok/OR4v/Ek0XIB4mUx39itc7hmFyH1ezsHT5dRcVoBmKDoj6dR4M7fkN/3SNf2+qJCn/9e6NsvTQB9UDo/fXTJAdEDSz5rpvnunCe34dWAfQBlgO1YS8DIxoEQmatA6qRPAv9wqbYUYtbVaf1u1hieJQZsjLcIASc4516X6cQaE/Z2gXhAZjQ8+J+7nwPHeFh+n94OZ3VqZSW2pjTIj31dRaZg8wWhSl8Ka8j6I/nVITM+80tJgAojWSvHPQ6LBs9Kg4AfDfeQX1s+jHX7TJmsTbdUR3dN8imTKBAME4/5vyt7MPQ3TD00mFETrEpqGNsJ3+itNgTQF7jYKpJmEu+2K9XG8PTEJ8abQIsxRyMjvf//7IXfCdEloKfGXRbx++vfbgwIOuthiwsEWFBa2+tkHHBMIAuwBUABQcCzeeexICK+LlBa75VUy0yC3wWL5IUTS7tRmDrTB2uNzWo6/OFxukYnNeIGbJXJyJssyx1jfAJVmSXv3ilEoVNQjgB4w2c9n68AJ0IKNPhLd4QLvMDFoPM5I8k9kFs6lPgWA57/Djmt8+ZhpCy1CiUxLpimKDCVB1vA7Pi5+Yyp0SkD0UH29bTt8SFl/j8iZuzmYBO1X5JhRktgS+QiAyf6HZ84MpjJIi0PbGiftU+JtR3tSf/tYo5leXQcGAbA9eECGVSpp3o+q2y1fY31W0Y7mKZtx8ajbzyhommFdwgCsPdBm/+FVScE1UAn+7YvvUjx9JYELplI9MAjxmTJ3p1e4Pgk6sg8wjuScbbOYT7Q1ZDFeKy3CEJl5ES712OlTYd1AfIAxWglvj36CZD6xDgPjJ2dxGD00QKxDvwbxMaX63cloaCzn5YezVU7pmBbBuCwqn2TzxKyQuZsSr+vtI9V/S/dPnuqgcQLs0z8MZu6ggbpHjwb/DO5XGE7m4Of6eHwfTMgI+bvgf0DgATRdP9+wzrbK9+dxBQ0gOhk+NZggOYPgbaTa+rqlv3ANVMm3Gkha+5CKaOl9aQrcRgqkk6ndRmLfia48/wHRjO655x6DGSiRzfIh2T17AdABtoZJSjRS0qHDkpS9+eabtlDSSmcyvG56e3dTwIGW3r+8g3tVruccb3ijMigDQnAExUkUoPvgjJlBapkMRPyc+H7MKXDGvKCkS/Nk2kGc9wCwqKyBAV4o2GU/u3FDyL68VE7AAOh4O6GSvtgXBx/4KtAHWoVmmW+USdNQqRjzOFxTQn1tvZ+ws5sv72+dJLzM+WE5Uhdp3sn3ECDovABn47nzIaoRWg2SwVEPrcNo3YdELAKkYmYEIBum2PKnNUciFC2QSQlAj/rxGPfdDOuGdquLIJVfvbfNnnyxxaYPlE+ISP61B7NtQWkkJXb/gBvq6Bonx/tYW9Nmn3ul1QaLkPtbO+yfHh6ghGUyl9FY4Zt6uay77ZHrA22hMVmUVyrJX5NoP0DcCJGoMKepl3Pwwfo6aYuagmYLvxg0ZkjouW5EsvLiwJ3kZG/t32cPTJ1mE3Udfb/XS97G1x7maDVygt+mNlgrlTItI/QtfgeUeN3kdjjvFTkdk8OBxILUZY6ulTgqRpkgAqz/e8RwdDphx+6v0Ef4iu65aq3JzXpPsI7xj0ET8ZvLHghaGObl1yDVfdPTWJPH7n+HNtNMg5MjvU1T4LZRoMuA87Z1me6ov1HAQQwmSTAKlEWLFlmtHv44NqfzJ/S3K9a38YCLKc4YOHPAbpKpnZbTJwnV2hIZl7PktTpUAV1GyCZ9kEChnxca0Ve8Pd+XvAUIABAwidknkPIv69faMplEAOAxa/Dj8fOC9F/wgvMA75tklkSysHxJ/pdOreqM1BJAhurEAQgagKlK9gRwqZApBpoG5udgxfvxc7x/wNxMMR+lMuFBgk/4VswyyuX0i0N1nvqmJEh4VXvergO+MzLdQKMxUVoEGAQKTHhIZiYpMgwBeQswRbooxgftRZ6ksbOkccAMhZwOgyWt9cLYkFL/46srA6gjVGxgEERf2r3VJaGssPsmZ9m35Z/w3ldb7UGtid95qdX++r4Oe6RKia5EZEB8WCc3eUDQnfVGH5Tnd7Ta/7lavhrqbJ0yQv/LsuzAIFDnZvVPVw6gkZRL5m8v7t5lT8ycZfcJaBMdCEagUuY92OhzPWu1ZvbXnwzOzCQFTE7extjLtMYA1JjGkTOBPnwdcjxe4vsx58F87ZDAPPfCu8VkF+dHyfM4J1433ga/YS5Y04R/xe+CAk3jfbP/3bNmyxl7j61WxCZylwRTKmkbrmg7cU/TBpqCDrWN3waMP6ZHOH5jqgX9/D6jLoU+E5fwimNtavOCmJOL0j5gUsgzgLENVPtD1f9gfdAn+PXwtth6e/xOlzQF0hS4NRRIMwm3hq53XavOKHj+hINSaf/RH/2R/cM//EPwU0gzCnfdJQ3gKgCn2Nu0QVFqao602T7Zme9UhtoTjR124lyH1YtJuKCstZSheirkiUkYKyZhjExLqpRYa9L4TCstzrRCmZnQphcHZ/538pYoOiScuiBzIMwdhsn2P1WJgxHiyq+VxPWMpJTTBMRml5YGW2vOi9fzdnwfGWEBRHv0ITIQYNqPeV3fOohxxgQm4x7lMpgkW3RyEJDN+UCDsu7qb8Agx73QZigxQjiIwaSK47TDvJkLUucTAnpn5SxKwcwJh+OxAlYkhYubOIUKiS8fO/4GaBcg+7baQ0HbgM9HGIX68rnEz71Zv+nTr/F7pmfbC0Lrf7CqTSC93f79a232hw0d9mv3yExLSfkoThp+x8jDn70u0byi6r5+z17qsO+tbbUv7mizMvkd7JEGAQbh3dO6XmHX21/ywJzu7EfLVE+kHjFwQ3XdtPpDda+DmQ8fpO+YI52USVGw2Rejmpy8rTg/L4RDxTeBnAMwGt5OkO13LquIASaL8Q5pDsifgWYMfwI0aawHip+b6vr7uj4hkyg0ePeUlYk5jxLD+VrlPF9DmBk9IM3XBt13ZFg+K80JTtC+7p0JxpRovUydDsoMDl8G1vh4rWWc5RvF+FJ8PInpBIpFVDO7pPNPXLpgx/Q5SihaPR+atO+SIie1avHwDxoP0NiG6P4drqhTY8R0jdNzo2hwjuWrH6KTeYn34fvS2zQF0hS4eRRImxvdPFr2y5Z6Y24UH3h4cehh7SZJX/3qV+0LX/hCqOKMRLx++nf/o4ADNX+XXhDA2rGvzV7f0mYvb2+znx7TqxW8isCat6ysRvKEOxI4zyQwtoY27Ydp4H3MVtYTj43NsIemZdqS2dk2Y5LCHipEJiW5PwcvxKN/Zfu2ACRItARIXipJLKEnvY5vaYcY69skMSWvwTABsnkCNoTxpMTrhR3dfBF5Zr3Mkx6V3X7QJmhwDlq6OSXshgxd0EMJtwSsYBbQKgzIzgoZicknQKKt7kqdnIufXb8+mJ/gg0H408utLcGGHQkw5igAQ3wiHOjF23Jgxz6fL2ZUP9+0MUiQJ8oUatOhAzKF6bAHpk3vdID1uvG2bsZv2qVcSb82e277JfvS2myZgCmKk8ayTD4LvyNGYe7ErBA61fvm9KiFiLa+Hv24b3uqh3Jrg/wP/puSpa0UQ1IyMNNGSJPxx/dn2cLSSJPC+d217X30dhvmrIWA9PqAJP4rFUlqgqTjgGXCo94rZ3tMduLPwlT94zvAGvJcDOSvyJVDOnLxmvq6YNazTNcwVWEMB8WkbtJaJkt2qSJzYVpERCpKX673SkXDgkF9dPacEC7YwX5yv/E2MYsiuMBQMRVLplR2avBgEDZrPz4aDefP2hsyq4PNmC1tV6Yk/2hQMCXEHDDeD/qBY9JO7Dqne+qC8lMgNFD0qHD1dOHYBn2B34C6nrIcszZWT/gd3cPD1cdEMQvTckdYRe5wG6nxeYmP3/elt2kKpClw4xRIMwk3TsN+3UJfmQSfDFGO+NTX19szzzxjjz/+eHgxAhiuBA1+RnrbHyggjX2wIWcs5y922Nptrfaj11vt77brgCLUmAKYzByaYWWKflleqK0+I4dnWI724aSqt75dkglSk0JenpGGoaauQ1L1Djtw2myz9oU29G7+3apM+6X7s23RLEmRdS6FvhUyJZgGYF5DuM5aSVQfkhM8ycR+IbBLzHhMG3CAjAMtosigPUDqSfIxtAcuxewNAPA6ZID9uSKt5AtQLRcI60mbEAad9OXtsBvQjiYAM6TDjadshIDitPHjg9kIIB9TDsxNiD/fIMfjdRo/oUtnqg45G9CckMwKcIevQfJ9Q1+U5P1hZ+IrhHsVOH1IUl5i7B9RDP811SRca7dlU6u6TEjUVk/txNu81u9U47ok06ijosEeSbVnlwgkZ461v3r5kr1YL5M09X1OjX6yLNPeNy3LpozJjNZSUkeYJKUqbkoUP3ZRpkR7jrfbv+1ss2/VyDldBwcr4dm03Mv2xKQ6+9C8cQKjg/sEmOPtp/odn/dhAflXxSDgzPuQGE6yMT+z7i2F2x0Y/g7rV/N2qTztxc+Ptx9P3kZm7XXy08HpeLmuHxqnguHDxDgOC20ROhfTIkzWMEObqXwXZWRq1nM3tM/zN954it/Uoz7aip9v3qjcGUVBK0BVLkF35/t51KvVc/+tfXutSYCerN4VYpBhwLfIsf6xOXO1FhrtX9ettRL5zuTqPQEDgdkRSQFxXqbQ1wExE+tON9j2C+ftrMyKsjWugfrkZCpXhe6hfD0Hhou2Q6UxGCjNAfRsk1YBjUOTaHRaTHZDa7Od1e8Lut9adIwZjFFf88QszBmZH7QL9Adjwry7mx910iVNgTQF+kaBNJPQN3rddbWvl0lgouPkwIn5EWXz5s02a9astH9CoEb//IpHdtmg8JBPvdBif79VL1a9V8sE7OePyVCUnCybXZFp5TIdGqVoMA7wu5sRjMapM3KalHnSZmXefWOPsrZKE7FfmogOiQA/Oz3Tfv2RAXbPDIWCTDQCeF6zZ5dyGZy0xZMmhcReHNovsLty9y4jPwLJnijU3Svgua6mJkSHmSsfBiT2vOzj0shQuYevOMBBG7G2Zr9st2cFYC3soPZ6ODl2iHYAN2xhMLyQzXa7/B3QLOQKoIwW04N5xGkxCUhKm1tagyMrjs+PSGpLuNVkbYG3zVCYX3fF5wKD8qI0MVUyo1qo+PO+H43FamVnPi+/jfsrK/usbemu31T7sU8/ItMSkm81yok3W0zeIzNmKyFXjvpvt19sa7fvyARolxjIvdI4VYrR/JXiDFsyMTMwC6NhQAddG7hB8yapsE6e7bDdCrW6+mC7Pa01t1faiinScpXI/O3zcwfZ5MI6Zf3dZuNGjbOlVVPDkDm3e2qmmtXV+2hDBA7X5ZhCzq6Uo28EeqcHCTyHWaevycH3vslTgr+KXw+OJRe/1nEmgjpEGtqu9fmzzZsCE5knczPq5Aloc84RmQfBkMyU5gDTIiImUbhPAgBW3WvN1cdFRDB8et4tX4rOXCU9rDv64VwKfRGJ6U21gf8M5nFsGQdavouaBwwUkZXQmOB3dFxmdY+IMR+ve+D4RUX4OlVvG8QkXJTWAE3BCDEFE2QuVD4k18aLkRglTUCO5trTfFrFFJxTX3WXlStE5k371e4xTBjVJuxCoZi2JWIU5o3KFxOZrTsxMf4eWw1TTH+lKZCmQC8okGYSekGku7nK9TIJvCR4YUxRqMo9e/bYsmXL7Ac/+IGNkVQr7Z/Qv1YEr0UEbGDas00d9oMXmu1rL7VZm+y22/QGXi7A9v6FysQq++1iSXmTX8pBwhu9WzsnBpZIhSeOnmy3dWJAnn2rzV6qabdM+pWN+OceyLIPPzrQRg5TNuU9sms+WmvzJ5YGZsBBC6D/tZ07AtBGGok0dv2+vcF2u0wmFbNLy0KUFAbRFwbBB+3noE14fssm2f4PCeYP19ImcJ4oKLroX9KkAXWEesTeHF+H3QKKeyTlrZMZUIWco53hISfEjiNH7V2S+I+XxJ9Cs52gRe0m0z1USvpyWqGJeWHL5mCu9MjM2UGrgubFgSJhYVeJUQC43ScGAn8MitMgqdk+/ekhWdEcHBKD0KT5w/AAZslwjYYG8xLXAByob7cXdrXZz5Sd+TVpnxoE7IUK7T3DMmyBTJEmjMiw8foUKhOyMKGYr2g4EhbLxEzZnLVmD5/psFp93pJJ0XNqQ7YmNkZ1l4jJeK/Mih6ulE9MQQSY36wmelStLdG8kXA7zfo0yaTK3gZJ9ohmhMkMJl2YhjlNyc/xgsA9DrZoF7DD92NJzV3xZ7S+IuDNGgBo/1yRuLiWRNKq1pp6VdfygPouly/NNDnMz9G9M05S+iEKUUpm7Xjx9pIZEOr4PDBTQ3MHM7tMa5J+WeW9WYO04/NiLbwhxgjmGOaAUqP1T36SDy1YGKJwsY81clSMZLYiQJ3XmH9Wd9TO6FxupxEC7zNyhtv04SNt3JAcJTHsYr45lzEztngJ40xxzzRJs1DTdM42n5XPh+5JNAt6BFnF4KH2SGGRmI9EoAG1mXwvx9tP/05TIE2B3lEgzST0jk53ba3rZRLiEyYjM5qEP/zDP7QvfvGLNlCS1LipSLxu+vftp4AwR2AQDhxtt68+fdl+vLtdACtDMcxlAvJQtj0oe/ECORx7QePgiAGgx4s8VQkgF6CbeIMnhJqhaoO0CyvXt9r/eLHV6mRrsuFSu/3BrIH22DJF7rm8w4qGF9niyikBWAYQoEaIxoN5zkvbtip60aUQJvKc4v7Pk/aASEKYIlGXcj0veM70qWyXWQThJh+ePlOJnboiwdA29Tr74ZwYAdgP4EGKCvDH/KlevwkPWSiTEEAXZiDNAis4oDYLOBbKiRjzC6IZvUs22ZQQK14E8/GEnb34on/Gs1WmHRv0QWpdISDpoI0m/DdAkNCVx+QsuyimsfHjvejuiireNw6or+zYpmt1MTAF2QlQh5MqOS7QakDFtnaiznStH5iFddIArKltt1X1YhYxT0swDCZtwBhh/PFal0O1hS5NYgRqZVZ0wv1f2IoxWCjztaUFGXavHObnl8AcRGu3TdxsljqEcXtZawjn2oclJSf85vXOGQL4vDHPWSETOSDrA1XTr3Asph7lUH2dvbR9my2QBJ2cA5T4ugs7uvmiHxgEGBAcoleKYR4vRuCc1hv0mDJ2bGjrxBnZ7Z85FZiRMcqGTBZozNZGimGJR76iG+ZNcYbB54I2bcOBA/agzH8mSLLfV/p4OzBGq3btDBnEYbZhwN/Yv9cWa/6/umRp0LZRB40Hl++ZI/IJkvZAcoNQZok5WDRKmawTJkjsZCxOM9Z6omp0QtI3Nd1MjTl63RbRcc+50/a6tBW1epawf5DG976CIpsjrQLF5xD+SH+lKZCmwHVRIAqTcF2npk96u1OABzgP2i1bttjcuXPtK1/5ilVVVdlv//ZvB8CXfgjf+RXgDML2fa32h99qthMy18gVCHugUs6kTwy0ySWR9BUsQV0FSemU5F5r9Lr8VzAQvKxdY5EvU6Un3zXQ5lRm2bd+2mLntnbY63tb7bWDQ+zz76+wexeO1os7YUetjhyIZ0siDeP6ssyOFk4stScXLg6mEIylr0AmefwABW8Dn4BqAbEdRw4Hu30ATlwS7+OhDQD/GQFimAJClPK5IEA8QCLv/JxhneFJiUlPyFQ/t1y23khVX9D9sVl+Cx+QrwWmF4QyjXI5COKIZl4/ebzJf3tWZsDqDuVtAEBOSmgI4m0AlpgnPhvLqqbJtGt3cCJtkUPpTDFcftyBY3I/3f3tfRD2dWllVUjsBlPHfR4+AmwAcgprAY0A83MzN8A8n0emSSvQ2G7VJ+XTou1uRdTaJUbyuHxi9srfRfyliCIJsz5FCrdbJQF1pZqtHJlhZfmZViE/mQl5JOPjikaFPjLFIDBvNFBEonpx2xZbL0aQqDxoOvza+zm92fozDM3Ma7t2CJi3iUGY1skg+A3g9UhAVqLPTplhkr2bqEB+rKf+vA7rAgYSMy6ucU1dnT0xb75NV7I2z61QqfUYhVY9E0KrbtUa3lx7KGQKJ9ToWDENRLcilHD8GsOAsM4viYmqOXkyMK8ehtevbU9j9GM+1hYxxq9s2xYSDuKPQ7jS4zKHypVmg/wchClmDcIgnJPPyr8eOyQzxIvwg3oGyfcof4zNGJHXOUbO54rGx+x9drflGaIlEoqWWrjG/IE2YrraLtX9uarhpK060xDG988nj8h/ocWWFY4N9x3ndK0izkyXNAXSFOgLBdJMQl+o9Q6ry8vCE62RfK2iosI+/vGP2yRJLZcvX/4Oo0b/m64zCNsEzj/x983BRKNR4rw/fiTbPvrYQMtJhCsKAEtvSr3Lb6gIo6mRK4FheXGW/elvZdrk55rtv/yi1SpkbvDtXxQoGlCmGIioLuCOUivTFSK2XBSTMF+gCLt9MtdSHOCEP27gCwDCus2RaUTFmKIg9aRfoiR5XgGOI4VHYg6or5Mt9Sk5jAIyiUCD5DaEJ5VDaa5MlgBe8cL5fAB15XI8HZ9XK8A2wC4L/L2wdUuQtmNGQnhTEAp1KT0BNeoQ5pIxoAVBUhqixiTmk3yuzxOgeP/UKhsgZ+Z1RJ4RsJsrKW9gikKbEe3j4+/pN+OgLxidsWdH2lFpKQZp4UQZheVsGpMIR3PSklAXQdqraUKqEQL3I7QuphdLoyJwf0Z+LZfFHJwXk3BGkbaaETmrDNJaGq41mit/GfJxcF72laQOjC00hCGhMDbGWCiNDsn1VimuP1LzeeWTAvj08Ue1e/72upiSvSofBML04kxM+FyOUZx63i90nS5n4l/IFGyf7P3nlpdfs1/vh/bwMyGr9kkxguXSysDwlMuEk7Xk2ll8EgqkQeCDXwK5N07oOtRKW7VLjO82MRcheZsYBpK7efI2X6f4kKD9WiJT0Z6ymjOengr3ZJnumwJp0M4K/B+WOdFBjWGc+uUehgnHJ4E8B08fOSgG4YJoYVY6aIg9MVZ5P3TvUFjT0DEeujQc6OMXbfh94G3i0/DuMcVWpD6fkYkTT5OfNZwIzs8PjpZvk/7mSrJNlzQF0hToOwXSTELfaXbHzvAXV18G4Of4lnPjv6/VFi+uLIGEBr3cciVhpDzwwANWrZfzZEW98BfbtdpJH7+5FBAeDaB/7+E2+8w3m61Dtt2HBMT+7pcH2C8/HAFvmAhhqk6AdbNGENpUu+AoPoPlmPpbTwyyfImGf/efWmzCwHb7xH+T4/TnB9vU0iyZh7TaTklCyWqMJPXhGTM0piyFY90W4rITChKAw7p0EHAjY/V2sNMnnvsu9VsowIWpBDbnhISMkpm1JJKZ5ShiT4mAsUw6xLgA3JJLgIxMNlGc4TgoTcJ5SVEfmzs/2K8DWKtlhoSj7yRFaaosHtcV7aWH+dEyQIawm/skXZ6r8QD+KN3RxIErUvT7lGRtoKS3W+RcTSjZeyZXBAmv0yI01Iev44pKRSSbsRpD7pDBSgBWF6I7ITmnJI8p8IG+Jjge6lgA/fnyRTA+vSyQ2emhZXF1YQGqVApA10nrQ8jcAknWSwRo/byrT7pyDyATRqtJa+I1MQiYLhGelwhS/nxMnqO3gOlPhYA9mbBLlTkZv4VUxWlPOzClMH/VcvDFrA4AT4jRl2XedEjXG4aSNeV90x7ncV8QHYsP8z0nDcTxwDAoeZu0BbvkJzNMjO3oYSNkVpQfmDjXIpSJgb2e4vPGFwJTNwomXmg3ZolBIl/DBd3TjaJ9oxiY5xpP2r5LTTIxyrRKMZFPFk1UrpUu08G+aA56O15v06/jzJF5Nlz37dPSZrB6nmusk/lRlt1XMCY02dt10dv+0/XSFHinUCDNJNwlV9pfOH0d7oAE4Bksyao//B3g9LYtHJU5hwRraBNgED796U/bD3/4QxsuEJFmFHpLyZtTzxkE/AL+8rvNkjR22FHZfn/j/xgQTIDoBQYhJcC6OUMIrYDV+HhfTywfGBiST/zvFhujJ8tfPdVi//E3lTTpbLWkjmetcmxhkHJ7aNNKmetsrj1sEwSqyxP22BH8u/YgeekHDkUDSD6HtcqaxFYa5ckbitByVBFrhsjRFEfMkQK6JQKDY8QU5EtbQII3vzfiPV/VB5NVcSCHjf4OmZ0UiQEpUix9GKDFUyptsua1UzkWdkvSSkz8Ss0NB1u0G17i97MDHQDrNoF8It1UCYxRsMm+eobeSgQkaQswuVD35kDldNgorR/zZCwwPPG+us68+pfXAwwSZhUgNr98UgDBhP48J2kyGgVKMs29NUjkxwD7ySVBws7d3dXxNjorxn5wzMeKBqH+/DlbX1OjpGa5wYfC6Rk75Yqffpzr97rs7WEYyQfgOTlY1Kn6Z414vyTY49rCgN6rCFPx9eN12Ic0fq/WwVZdE0zYYC4wLXJmC6k8TCXJ2Hx9JLfl4+F6ePI2fHgik6TTwR+mVuv7kCJw4WR/WIzxQml7WQOYAsXbgxDRZel5XVEnTmeYxlNidO4Vc+Nrs1mMwzPHD9u2C+c6GYRfLS4N2ZKdxlcQ/hb8AU38Pp0o06MPj5toTx09qH1ypJdGYaQYnWkjRkXaDNVNlzQF0hToGwXuSiYBAJBceBAmPwyT69yOv3lB8EkufQXm8fMdhO/fv99WrVoVJPoA997Ml3owCCf0IjonFTfljCSpfS0+BhiESr0UX3jhheCj8Od//uedErDejKev/abrX0kBlr7e+8EO/B+fabYVypqsIEb21+/P7mQQWH63mkGIj4q+MDdBmvy+pQPtK0q8+ns/arGcOrMvP91sH3ig3ZZOKbcpxSWhjgOI6ZKWA262SPqOeUuu7Jv9WLx9/915X3GvszPppU8s/9Pnm4K2ADOZMwI12E0DlpA4Pzq73IrlXDxMvgXJ2gK/Y+MwIlUfUbdRrUNKeEUI1PllZZEPggjPPYAGYOnwaTZZcwNEbqk9HJycqwTsYCDo2++V+Hz3iOHATOQRaVp8fKnhqlMk2tKWA9O5As0AeULK4lS9RBoGTFn8+JVndv3lx5EYvyEGoUlhJt81bUanlJyQtTh096UkXZ6Up/amTqoTfc7MbdHkCnteZl4k+loic6GetFJOb+a5Wn4xx/QsvE/M1SQxchTWQXwNhJ0pvrjGMLkwiZN1bjzEqF9bTNkY0xGtxTGqf6/6Kc6PnOh9HORJgNkg/wWMgp/rXSb/HdapvqAbjAYfGFAYTBK3vSw/DXIbHDutxH4b1ge/hPHyoRgtZoSQpbQXzS/6vuqeSnTM0fiawEyQvB/4+njZ0XTWNl88L0Y8w4rFgD8pgD5Q0nufm9e71dswE82Lfolu9CsydYJRICDqv9Uds0IJAQo1PnwibtTk6VbPJd1+mgL9jQJ3JZPQV8Dd+SAU9ZMfun29ILTlD89UbYWHME/wm1h8/Pv27bOPfexjN9QyDMNpvbSupzijsFvh+jA1+ou/+AubKhX9hz/84dCc0+V62k6fc20KaOkFcEDNleta7Otr2pSUyOyX52bZRx6TYbdKvE7YcZu+YBCcUfi19wy0A0qE9dRa5VWoGWLvnz/dps7vsk8O0j8NFCBMVuUX5RyJ5H2BwJ4f4z7ydc8UUt1XOJk2KSMtDMDxhBkRuQOIxjMqZ6gRVpXszrMmTLDtMg3BIRc7by/efmjbd15j62sc59CdarNY4KtIDsbx4nXYj337EZkeETp1rZh8wqjO0HgAW4B55kvB5nybaDBVwJNoNJTeAlbqOr3YEnUHrcZbel6s2L5N+QSqAmMU5qvjyU8nHy/b9YpcQ6z++ysqr0rU1lO2acZw20uCdtD5ntIye0PzLZDZzjTRN9BDFIzP1sErGqY3xQgheV9UPjmAcx97Mm18v29p19vBnA3HY3wMHhg+o/NawpjulAnUDoUBxmRngfwWAPKeNyPQO9HgmJEjbIzGXC3/BsyDkPz3dA+H8SUGGa6n2mGdoIUYrbZGaI2/X8wGvjIwHkS+Yp6YOI2R1gyGAQ0azAXvUeZDCW3pN6Zq5OFg3cJsUYjEdErM8FJpW4aIKaOclFbpufrj5E5UtKose1LAfKj6cNqESrf5y58dk5SN+bGCsfZj+Sick7/Ey2IUfkUaDhiEOzm+20yOW9od6wU8wPrpKx67pQOLNc74GGd8nccOp3/2kgJ3jEng4oUHkwba3SLrrg7RUTiGrbw/5Hwbn3eqRZJqX/yc7n7TH+cyVh+vt8U44sXnxdYl/kR1udEyRJIgCjkL0Ab4OHpq1+l0SZKmHYr/zRZa+Rh7OjfVMacBWo08SWU/8pGPBEfmRYsW9Yv8CYRJ1OSuGDqOs6nWxxWVUvzRrrZ4qThwoFVeRO6Im+KUW7qLafHePqGIMf/4QqsphLyV5skP4EMDBQK6zH5u6SB6aDwwCgkzp099cKCk2ZesWnHvf/Bqpi2Y1m7Fo7G51qD5LzpSAPEkC9slEE1ceGzCneYOoL1L6I85BVlp8S2AMaiX5gCTjlzFZh8tsDVj/Phg3w0IclCG1PewHC4jjcXIwJyw/n0M3n5vtn4OWgSA0+ypMq/QvR1vz+s4IJkgB9WxuldqMU+R5JmY+DAL0zXWyI6+I2TZhbkB4FLi7fVmXNShXz8vSsSVbWv27rFXtm+XvX1V0ApwHDr6GOO/yfS765iccRUhyW3RvT3aj//m7ztdWEE+JvdP2CDJff6w3ABy41yWXwvWCknG9sme/x6B9056JzEUPc0tsXTFiObaZJkPbRaTgDkOkYRq5HOwSWaZZwSipwioVxWP79TG+Bg6aa9rgZNyuXxX1uzbK0bxVLgfvP2exsCxcL01bs98gibqknwFiHCFDwOhf2FYGqVBxo/hmNp/U4wU743R8uEYr/HCDJD7AqaSgtZt9Z49GtPo4AxOtujtYngwi5qgfRTmsVp+COfFbJFIEECOtN7nFyrdqa8E8RbkFdohJV7bcF75S2QOte1Mo81S0rV0uZIC3D/Jxddn8n7/2++5VLjnWufShp/v7V3vlna8rVT9xvGR17vevt7J5904cr1O6nFR/cKmuoC+z+t4N4Dub3zjGyHBF4C1SYDhwIED9rd/+7c2Z86czkVDveRFTBu+cGjfAa+33d3W6yW3521xnMLfW7dutc997nM2UQ9qQD05BYplZvD7v//7dqOMAnOi4BvAp6/Fac7cb6T4fN3fYenSpbZ3714rkfmI52W4kfZ9dBGM7L6lUE9f8ZcqcdS156qTqJu8FzpACs5PXmc0ADPgL+CrGrzNOxinllcoK9a22orD0Zr72vsHWJHCTsaP3+ahXdEdY+R2KFRehi98QE7U32y2lUcV9eeNFvtNOTdn6bjT3O/xabLRPijHeEwaAPRuakPDhGEkXn8AOmIKCE96TsBloEAN+Qpm6N5COzAqNyc4giZfR0AhIH6qHDDfFBAjQgsS4FTr4YqJ9PAHpio7ZUZUJInsOAEtSqr2XLIJLEdCjKR4nCS5xNrn/BcF3iePrgvhHJHeL50yNThOc38lz6OH4VxxiPOcrpjQDJCPwiqFSH1FGgWiIGHWFa37BJOUuBhE6iGuPjbzgExKMui73jFdMcCb/AdjYpyAXCINNer5+5au88NKQEfkJ+ZK4VpQb71AMs6+5OaY6XkOtL8vc0M7wbpC0l4lRu+oGIQ11bstX8B8r5jHsVqPD01T5mExwH49fAxhMIkvXzPj8mUCd2RQiJbEOX0pTI/nF47RB7SuSsVkj9R94fPGHIvPeDEMl2SGRP4PGIYjpxuDSVpGxoFgklQsnxpMoQgDzLhgZrkPOeeSGIdF0k5wz1EONAl060PG8flymJ6ZAN/JTH2ofJu/eMZzv3GNHhTzsl+Rq063tthbmu+k3BHK8HxntR23mRw9dufv8eRK7Gf9gHeS7wv2+74LEpJQwDm+zv2414m3zTE+lFTH43V7+p1qfPF9nMvfjI9+cnJyOsd3I/32NKa387GsP1O5XRP0BdSCPejq1eEDiC5IJDvy475FWv7KK6+EOP1k+h0qiQdA+U//9E/t6aefDhd/tKQbNbK/ff/732/jEpEYOJ8FTl1i/K9du9ZWrFhh22TWcFISJMD8KD0UWTDeV3c0YLE5M7Bp0yZ7/fXXQ1u7du0KbeG4S9QfbwfbfzITj9fLAyD/ve99z5C6f+Yznwlj8nrd9ZdqP+cwBsKQfvvb3zbm3CjJqN/EzIPjPX1ow8vNulFg0HBkrpPK/azA20MPPRT8H6C708z77NM2DJVHffcPE+bDlHhB+nyof1ZxFpsutkht3m7NLW2SrLUJQGTqhc7rIypoCDjXNQyc7/u8LWpevNxqFy6prZZ2u6jwiOcvKIqQThyI2P4OFOZ6TAmr/t8fN9uGRrPfmZdlH32vtAiJzEUc7xeFa6KBjBudZU0yO3qtVhq18x22eGqWjVAWXmgdKnARVAAjOBPvOHYkmATgSIxUda/AHNJ/nHkPyBkTYDZWIHfauPE2SwAPaTlx611rwLUL6yKsnGhdOHDBWbpWjAjx6Uv0vAG0Axrj1zsMpocv2qb+fkmLcTadW1p6hS16qlOp3zUuxXdXv+QamCBARuz5as3xWdnT54oGAE6iK/k5fR2f9+/9sR2haDOEsDwoAHlA9ylmWNCLY9CT+xQp+OtiJAr0HLtvSuTsTN9OO2+3v259voTTHaoPTADvGCTpHOND2VizP/iHzJa2hjCxfp4f7+38oI2b4qC5rBagfmHndvv/2XsP+DqPKv/7yJbc5G7LVbZVbLnINa6JSew4lWSBQAhlaYGEXcqHBRZY2i5kF1767r4QlqWFJYRuaiA9JHbiJE7ce5fl3nu3Jev/+85zj/z4Rle6ktWc3GPf5+o+zzwzZ2bOPM85c9p5xRq+RoLYFRJWiFZEvf7+qLGNsE6yAv2z40+0Inb3Menh6QejWxuwenyO0GAQFWtyUXHQDETtaT2Ef9FaQJBiHeBkj7nbQGnuOqstIjttVNtEReJvHo7ggGYCfxqyipdKqAIb7Prnysxos8KddpV50esVfrSLTKrSwbe2vjTmNR+3jhII2ojG15w8Lq1HhRJM5lg/+SNpYuoY2cbEpvXWBY3U9HE+wjF32uX5B/D7wQcftLe//e3WS0IpyVb9vNfnz8pwQQf/7dc57+e8TDrfvp6cv2CdOx/EOec9qPvnP/+5TZs2zdjELNKapO2GtJkOXq/kMi2iSWAHGsb5zjvvtOnTp9sf//hHy5NKHohP4kMPPRTMWd773vfazTffXD0PMKZ/+9vf7Nvf/raNHTs2vBB8l577IRaYaLQL2M3XBAgZb37zm0PZeJvxsl7XKT04f/zjHwcNQfw6f7/mNa+x//mf/wl4QMDgM3/+fKOP+BBgu48pDgTa2EB74JgOIIghaOG8jLDRWEAfSbD2k5/8xEpLS4PGhEXri7kh7URDlfpB7vOVPKS8sP/7jyvs2XUH7IyGZeWJCjuy74y99LlpNrl0QBgrhsvNhSr199kKOXaL6fdzMLD+9++fXm/v+uFqG1Gca8W52bb6+Dn7+i1D7Y5ZJaFbjHzjz+rLRwycva+L11TYr7dU2SjFlH/99Gy9zHnwNRMiL0etxjOMCTgpZYK98Zps++lSZW3dXWULVlfY4P6KgOTZkRKdwg4apitL9PznhQuC+QXJmugWZhFjxDwTnpTILuwOJwP04EMQXkJJs8J1BBEch5+X471rE5Lrqe13qF/4Yo7BLmsf7Lvrsesb4RXtzjM+7O4i5OBsWiDGEJvyF4QbgkyJNjsI2QoD6Ou7vs8Pyvu9MIXXjhqtZGFrlOV3TQi/iZkTY47pFtGf2CWepkzKMIeXk4CQPGdDtIFSqrwXyyRYopXCFwDAgXipnnulGlsXEOrbTx9Pn5ctYspXy4/kgMZwiBhuEp1hphUEUNEyc+DMTDKe/OYJ589JErOtk3BTphC4JEpL/fSL1cQiUxtotgit2l8CNA7KALhGNBc9oYKwABELwB/tGqFc+YyU0ESkpC3SgmxS++RWQIAM+Rm0UYc2z59zOxXydL3MeHh2TpAWoX9HpXUP4CUSP1v4K6xX4VCqyEaLjh2ycpl/rTx2xEbqN6FRfXxaGM0Wa/6MhNI//OEPxje8io8H7274BIKTxDddoSVolevLli2zN7zhDQF3GHBgyZIlYfOUHEo33HBD0C44bXvd/H7qqaeMzVY2FEnQCvj18KOWA+VYTwgGzz77rK3Rs4xN3+6iYTZlr7rqqmC14e06btdff32wPIFvzED9R6BZhQQnNCb69ttvD4QFo08ozQ9+8IPhocYEUw7nWOzdATQHqIwArrGDDfgD2M1enIhQM33qU58KjCuE+I1vfMNGKT39WalOn3zySXv/+99vb33rW8MuP9JwKqAtYPbs2UFAuPLKK4PQATOMEILg8N///d+hLjQMSNWA48OCAhrqKBxuruUAfvQZQFJurxe8/+Yc1zH/QSPDYtovUwugm14mDYlwFG6OHaif+aJuHg6f+MQnwsPl1ltvDXMDLj6Gsdtq/NPLogH4y7yNtmjDAXvdVUNsmph7gG4yHf5i333whP32b+v1Aquy97x2pPXu1jGU2X7wlD1Vdty+eN0AuzsvV7brp617lwtOvQgA+w7L6e7FzbZ+2xE7fLpSO6g5NnxQd5s1abB2hqknwruof1f72m2DZGvcUQmbjtpDc/fb8WvP1oh/c5w8ebrK5iyTyZmCzLx2fJaNKo7oi7GJKUqaA5W02xhZJG3HmDb2tefO27yVlXbDNEVl0VI+fEJmADJZIAIMeQuOK5rOGQlsp/QCIKTla8dPCD4KMNO+axtvtJrORRPQWG0sitNggWy/YfDXy/8B84sOejk6PcXrrvHvBAHCSB3U82e6GGoEj7TvT1TqDCY/t2s9bpeQMGv0GDGz/W2dTJDYBd8qQaFYzC4MrsfgD/2to5/JeNNvng7cC8N8benoEPLzab1cZ+hcPzG22Oeze0zuCtqiLDhebkBffS5w3N6vzZCFm8uC1mbfkaPBtIZoRBOLh4Znk5dNt5+Mi9MRSfhWyw+hTEJCJ/nC3DR2XAgPS0QpnHwR/nhYefna2vAyzA9J/HCEHpUvJ+DEs9yv11SHX9ulKFr7jh1XIrgRQUChrF/z+1ghPq30xYFyrt1CAN4oDRkCBM7LmPYNlgC7/dBhe14C5lTR/GbZ9+9TFLEe2TlW2qVHqKY1aRG8X/7dVVqOcTIz2iITRbQfu2V+RKjU6sHwgq+Sb6djeCEPOFJT1+Fh4G8owwasmxHDW7EpCjzzzDPBrJq/u0iwxaQaeOyxx+zGG2+s5gHCSR0wxUaAANbL7wVwhj78qOXgeMN3ffnLXw58V3JxrEOIujhx4sRQb4nC9bKZjECCifrXv/71iwSi5Pszv2segWYVEkABxh7CwETnTmkSEBKIuQ8Djk8B15FunRB///vfW2FhYTX2PNT8AQjhAkiWELIT0p///OcgIECQ9913nw1KOANS9u677w4SMowsC2Dy5Mlhtx81lTP1lPO6duml/Z73vIdT9r3vfS/gyN/9ZO+L8AKxo/HApAltB/XwwYwKvAAXZsKPRjzEFxiamdrgjjvusFmzZhlmUoy540c/UwFlkNKZj5qECh8jEq3xkAAw+2KnAY2KX09V/8XnI8YkJ7uN5XbMsa/8dov9Zt0hm/Np7djmUTdOxDDDMANmv5uz0T76weV27w/HW48uUfx5aujaQSTdRRmHbxphQ/OjlxjtuIZg1eb99sH7Ftmzq47KcL6dTe/VXrvcp81ObLNrn9lqP/nAFCvoH9ltXzVOuxP6APOXb7dv/kmZdds3+5IJ7XPYKtOdx9ar8+ru1WPaitmOxsxf/tUFW9EfaDpmjM+2r81XxJcdWTZ32V7r0WuXdvOPK0QnycxyEqEV80KUIBieJTLTw4nX8ynQnUClCVqNPwPq01WYn1HacXpGa2CbzG9gwqMRrL0Wp2OYqHUSMnrp2TU4oflM5/547RfqOmeLtLuNuQcx9ztLk0B0J/wIVstRlMy6MIzD9Bs8fSz8/nidtf0NflUiEO7DlGnGqFJ7TqE/cU7FxQXPFkJz4isB+LM1/LjMDtGzIdIaYfLzrOb5jy+9GKJIIXSRRwKTm/oICD7ejAvzv14RrVZLmCOzNU7yCAQw9BV6p20Sg42vCVoBzqXTDvWer5LZlxKRkZit/OD+4LMSBI1axt/xYscfkzXCk+L4D/i1VLfH5zhelkR+hE+FZnaIGYM2MIvDPI7IQFtlArhFjPZZ0VJRh06R6Q6NsDjruxC4rwkh0L3wpK9EO+otx+U9Em42a2MCISFcV/utDO0mHJGLq4YnwYcQU+FHHnkkMPuYDGM1sXjx4sCTwfdQ7p3vfGf1zfA5P/rRj+wtb3mLTZkypfo8FhPU89rXvtb+5V/+xUZr0wFNBDwKfBUbuzD3wKOPPhrMlPk7Tov8TgVezjdmwQmhhHbhP37wgx/Y1772tYArYeIJqgJcccUVgX9jM5d7+J2B+o0A74kWA4SC73//+6H9//iP/6jWECAN3nvvvYFQkUgBGG+Ah5qDM9/xbwgdggHY2UZA4F7ug2ABmHm0CcDjjz8evp0Iww8dvB2kX+CLX/xitYDg9SG5ItwAmN0A4BLHJ5xsogPt0yc+v/rVr2zu3LlBU4L0jMZkjvww+EZzAJ4f+MAH7K677grYoJmhj/h5YIqEuZdrayjAPew2oCVAQOC6m3TFu0Md9LdcTo+YHQEIYtzHeR/z+D01/a1nucpGc3vd5AL71t0ltmn5Ufvlk+uDUBCfn8XrdttHfrHe3vkvg+3vbxiunWbdLDyo45zsgu1s5I9AO5X6HeGYZUdOnLV//eUye3bTMfvuu0ts7zdutKe/dINt/uos+/xN+fb0ykMyV1oZtBO0pyrDvdSDf4OdYqwv0B/nmwPoF7CuvNJW7KuyW/tkhUzGnIOk/Tq/WwuAE+MHkHX56r5Ztud4li3dVCkzhjNWlNfbrhk+0m6dcIXdoJ3YMUMKwm43iZqIpEL4TkxhAOaPIWBO4nQQLqZ5oA4ABg4TJph9nDKpD2auNvCr2/RCJY9BiRh31yI0FJ/V27bbIfVvrF7UCAi+TohKg4PxTXK87aPdZbIJP7psqa3YUi6/mAhfx9X75L9TffvY0QbCxjUjpVUVw/TQ6pXWXi/woQmTnLrGIVX96Z5nHMNHB4bcf6d7fzrl6Ct1Y67VXeM6T3R0RuN2ZcnwsEPOGKSjKQE3wOd3u3xinli+LGgkYMhv1PyQyM2FAYRaQtuSmwNfmnBvONZ9EFWHQjjB95bTcZmEjQq9s2g7MqSroQ4WmGCfns3bxbwTZcnDk+rGGm5IcSpRlrWg3gaH7jytj04au9snT7E3TpkaBMupyrfRXu+KTdqJ76S+FisfQTt9B6hPeynQaIrTPoe923e0wfrgaI2QczrBSzRFm5dTnZgdIxTw3i4oKAgbe5hGY9Xxl7/8JXQFc+2delby7ofR/+tf/xrO42Pplgv+7JoxY0aw4GCTEH6E55NvvFIfFiOf+cxnbObMmaEO+KhA4ypH2VQfr58Nzk9/+tPBzwB+ESsRNifBnXpvueWWsAm6SgEhADZp2eTErBz49a9/HZ6zvqbDycyhzhFoESEB5tGZ/je96U1h9xm/BCRRHH9f97rXBcT/4R/+oTpxmBPXPK24AABAAElEQVRbqh45IeEsDLOM+Ys71HAPhOHt8s3OOrBo0aJA/MkMrRMSjDi5CbBrA2gnjotrM9h1b25AG+OA1oTQqKjW0BjwzaLlm8XjJlpengWJAEUdmCGxo8Cix7aPviAY3HbbbUGth7DFdZy04333uhgTxg8bQcac3QYeLmggksfV76npG1MgmPpsfb/pmmKbNbWnffoPm+2FFTtCcV7uMPpf/8Nq0xvKPnzrcNnvwmDpdaBrQHjhxt6RvCic+Xle9fxp0QH79KyB9oHbxlle947BlKWgX1e7+9ZRYs662XeWyARkr7QMguihFf4MDI23EZ1pnqOmKQAyypotkgj0XTogS07B0dL1F2HzYFO/Vhz3PgrTOqukjS3dq9DFZ7rJLOIKmyqmrVCMDUyrrzV2RdnpHSPGmTlbJsYY8OvhRwMPXodrE/bIbh3fBKA2phEa4Dp22eu1u4+D9RCZLQExMgu/6zrQJ/DYr40MYugPkXkiEY8Ax4/2AGzFrx09xq6TaWMPtblYY/HI0iXBJIkdbYB7KO33hJMpDpRjLQKYeLXROF8pweykIr8sFiMNbvQznbpCJXUcaI9lyYcu8WG8wkcHNVX9269Xl6+j7lSXA+6qmLo36z2yV2Zro2VihEMzfQ7AxVqAOvh4KaIGPb9uTcjlge0/idcwDyNKFAAT7/SDAJqv9wV0gj0/8+PPnlqajOZRbUKbhdIm7JMgiq9KqF/jVhM4fmRzxlmbHX8g0FhNN6Q45/XQNpmjyQaNVmSo6HK8nLtZj27ut0O+COQd6CaH5X4dLuQ98TpSNNFip31NIczkS/PRQd/bz5y24xKQM3BhBNgMBOBlnI+Cd8AaAEsJN5feJj+fb33rW6Gsbwjyg+cK/BxRju6UdQjwyU9+0l544YXwN5EP3awb7QR8Bm05L8E81fWhIoQEAC1GYWFhWKfgy3plU9O1BMlWFWg1qP+b3/xm0DpQR3hW8EcG6hyBFhESwAoCgbDYoYYJBditR1UFYEPmTL6/3MKFOg6onoCZM2dWO0PXdD/mQgA77X6PLxDO+wMGc6T7778/OChDWL4guI7WArs8AD8FIF5HONGEh3hbx/ViAegPqjU0ND/84Q+DVgWpPi5QUA4Jm0XPjr8D9n7btXPpDj44An3sYx+zu+6OtA9cd2cmv8e/wYWxYRcBDdF3v/tde+CBB8Jlzqe7KL1soUx+/unGIpnWtLEv/H61QmCeDnX96ZmN9rsn99i3by+2KaMGePO1fvtLbtFG0cbWc/baiQOlPuehqAdM4s6e8kUY00+RL45X2H75MThomgO09Ivw1KkqmeFISNC7uXhAG+vcKcLI8XN8W9O349apQ5YV9tejRnL0+j1Zdup024Amwh3/HMLc6wex20fJybhM9v9EEgLSpZ9QOMXB68DheIAcoUmGFu2gpq7fsdu2b7/t0XofLt8BfBmoy58RKZq76DTlYSZh4shHAIs8VhFj/JzX5d9xXBEWZki7kCtm8AX5EDwmzQJMcNhtpibVS3m/56KG/YeuAyRte1bmRv3U/3dcfY1yVAy0xVvL7UVFN/Ld6/hzxW9P9zsw+iJTqBMFHx/owGmhpnr8enV5FdLjJAgYNZWv6Zz3nXYR/ojW1L1Trvp4dcgZQPhbnHPDeFN5DRAYbCHDeDIW+Ig8vGSxnHnlJyCTMDReZEX2ZxRVqHSoifa5b7SYbBL6EVIWoD3HLZyo44Cg0VH0tVmmP0C4P+kep0l8I4j6Vdi7T3Dqp1iETdINdfykPvoEIHRs1viVDtRmkQSHOO4Hzp62kzKNypOdf892kZ9XuKmVHhgLF9L6KONyR/XxmOb1gPyfgIaMVbjxFXbwOWbd+98w/P6u92fS5s2bQ8///d//PfAP8WFw+sH3E34JwAcAc21MhACiDZF8lTZcQAgX6jh4+2xgokGYOXNmuIN6aNevoxUB3PQ5/NCBaJCEpQdc0PB+hpOZQ60j0HIG1kLLJ5cdcAgKVRIJv3BYRloEECQgKCbVy4cLsYMTC6d2Jx7OMMU1EaLXAZMMoHKr7aUYJybujf/GVAlvfXbrx4wZE+qDaF1LEk404cH7QhPeV6T3L3zhCy9rNVnTUS7zILz/WTzsCoA3JlOEbEWoQGBDywPk6cVFP1966aWg1sM8CU2D+1x4Y4wjOBG9AKchTLpwqJ4lzUa6oNsVWUP90fcNUwrsn1fttf96ZLucmTfZ1FH97c7frLMbr+5lb5pRHBgQNA9t20YvuLrauGHCQBv+n91tVFFeKMp9/hI5p636wye1Q5sjnwj8GloZHDl+XplThVSOTGZkbsQLDl5H09aqQctWNGE2pK8QlYCzco9ym5wUo9EjisFNPxxCnxLrHJts7KJJTEWGWKL/1PYM8Dpq+w7rVwVgfoh09JSeNVulISvR3/G15HWE54qQJ/rSRgkrhCwtTGgRQqe8YBrfMGL0r0zPJ3JCkLCMMJneRnIVjg/0iZCL03XIsSB810q4eXrN6pDtuTQfx/qe1bu9gdGlLQY9AT5uhH8lZwKZkycVESozN+QWQINH5B8yEU+RcypCEICABqNNtB3HP1Hly76c7w70mGiaCDiHT1bJbKzKjsvpfr++j4o/01ILw0ckYWIK9JbA21mCZA/52HTT36x9p+uL6n1Zq9EJFzTpMz4t9JG5ulJ9ISLWhIJC+9uqFSEE6nQJW8l+CYwPAEMOIEihxdqm3XwcdzEj8qzaYXxVLj6+3OO/+0mTgP/Des0zYUbTGTu/HyzQrA3R85VwqAcklPaS9tbnj3KAzyxhT3kSFPSJnmc8f3mO1xsSi/S4Em2SOI1cCyQAjMNZ1b1fO/A5aq+b/Ig6SptwOQEOzN3bSviqOG0Hz0VCwuWEf1Pi6mbEOCs7HSMQ4DsAIDAAbsYDo+/3hAs6cJ/zaq9//euDNQhhUrEmwJEZqwQ+QJxOiQRJmHs3fw4FdIDm4VnYwMUECrPzSZMmhQ9luA6to5EAF4QRN4UiMhMATpTDpJqNS4BNUMD7GX5kDrWOQIuudCYZRhPiJJ6tA0SB44kTnZ+v7dsn3VVncfv6+H1eDiGBHfMNCjsIIaUCJzS/D5wgSnIuYA4FwFAjvcaJP1V9TXXe+4AqLw5oA8hJ4YKL9wPGHRs9NDlcYy4QFogMgJCA6g6TLa5hcnXttdeGbM3UzdgS5SBZSIi3i7BGWwhQ+HWg8kt3fPAxqBDz30lOwnfeMMz+a/l++///tsX6zZfZUUWVfey1w4IzM/XVJSD4CxXcppb2t6kJJJlyoWdVbH3qxVe245D9quyoXV+Qq8yiXUKpcD1cTdzUgl/7DmsHWgzXOBiqzg1gBFoAd8YPJo/vHkoPPVzvmi1S0hw8VmUFwofzyRB2ejU5hDplp32umOGViiRDZBWn3eR76vU7MfEw3JiGYPaDEzImKayheBsRZUROnDuVyG1KYXFUTg3WgHpKNGAs6ddx7XSt2r4tOD6PEHMfoKZBiNUUdpJ1P7gg3JAIjqzUW8REogl5fOUK7SQra7WEKkyUnNH1teZ9wlRmvphnNCczR5UG5hXzLgQQbOtzxPQt2FymCFMVNl325/iDzJV6f4pMTqKQnDGkYn+yfBhSl9OlnLPtygi+Ye95W7u3ysoOiW6PVtlaacJ2SDjAXK5aecQgSlDI12e4QvqO7ZZlhd2zbKSE4GESKvOVkM/rZeMATUONw6X2mTeycM+TlqS9xokM0wgI9B9b/wlDCuwlBXfIE9NN8r74uPqYHVeYTLQHq/TBhOc1ojlM4hh3wOcx/KjhwBzRpVGai3Ltxm9QFK0pXYZXtxWnrRpujwZS/SADM0IGuS0QEuK05m2cEENP1mhoGP8LoM76a2g01JcY1I3C95jqnTZ0WIh4FN4piWvnzlfaIZmm5eh3VwkJrp1NXK6h5tZ1qrPmsLM2G89IE3JSNJ6BCyPgJtMw9Gw2Yl2AFQKAmZD7dbrFBTxDTcC98AvwVgR1wQ8BAQFA+wDfwHXK8XyCXjH3/tznPldTddXn0B64b6rfx73R+z/SShOshoiYd8nn0i0haMeff75JmhESqoc17T9aVEiAYBAQiN2PKsrhpz/9abCjh0l1SdGvpfp2YoAwACf8VOVhcLGzB+p6uPp18EVAwO8BE6lD2mlClebxeBu0i5MKwXqedxyJX4yQ1UE7r4zBL37xi+qkdfEq8clgscPAY3sIoFXhgcCCph6ECELFYlOIX4bvKGCmFF4g8QoTf3OeBYkpFuZimB+xMBES6gMw/9Q1pjjPfvHGYfaOP2xQprSz9uWbBtn1k4ckqoq/PuuuPfguiENhrPggiJBo7cTpCvvjc1vMyk/ZP75tpHXpJLsYQGWERPR3Cx9Pirk+oU9vKcA6yyrqcoOcnCwbqJ3idRIQjiixWm3gTBumF0MTDNNAMXqYCTnzW9v9tV1j3gONah2XyGGXHXlMO3CY9jXE/ZQBD3bXMcHoInOFwr59aqu6xmteDxfRAByScH29zIdgZLkWb7PGCnSSMlC6awkQoEZI9U6yMHBfpVj9W1csC2NFn/Jkn8uzyOvne+GmjbZL2r/p0vDBNHMORs/LkGWZtbBMz4C5q1eF8x2EI9l5if3vpidxfGHcAxMv5E6dq7LlygI+b3OlzVdOjBc0zzvYsFUZtF/Fmv9rFfo2T3sYnaJHtJ2QwKA0Jrb1TJX9TeX/dkB0oWv5KnOlhMppEhReU9RGeTLayASHEUhoGWMysuN/QD4mRDNipBAQPJxruEkH5pewqPh2EK0HkzaAOUZYIrLPcvUdx+OREsQYXzQtgI+702U4WcsBxn6E6lgrphvNk+cuqOWWcMnHtne3rsF5f4sEDSJfoUWrFlA0bzyXCMV7Wu8w6ue+Bq+LRH1kYl4t+iTjNpoph2jUNe4qd0prgfGF2fbzQsaLturvnDZtrb3oHS3VCflV8AS6PDBvmmFl3QzRmoeXwbSb8O34LeKfSNAYgE1DmH14Kkx5nKfCfAfwtRd+JA6cA4icxMYvmgI2GAsLC8N5p3H/JhQ+liTOt4VCiQNl4NO8PU5zjo+3w9+YfONsDXz84x8P/IevBy+HPyWAv4ILKuFE5lDnCLSYkMDkOVONWoqwWp/97GeDeuq//uu/DEHhnnvuCUy5T3iq3kAoDk5Q7HTXBLRLeRh8d8iJ31/TPZxzwkKthd8EpkbY/t95553hFq83/GjBA6o2V7eBBpGOAF+EvmhIpIKaD0EMTQi7CK6F8fBhO7SjBnDNnZD66+XHGKQChCjqQShAQCChnSfC8/lOdW/8PDNaoW3KbD3V+3QXV6xtxL6yT+jVtYN2uYiaBP1cmPf4van+jspH93A/TBHwuznr7asPb7X33tTfbppaGM7xrIOsokdeONWihwppUEwRdTtpxXZoF/Uh8TxuUbzSbVx7AdYF2UubeGeiyMC13urrCeZ1h9YqDByx5DvIbKCaYaq1htQXmVNGMAgeYhYJaYk5D8y3X/O7d+Gno/anFBXpeqSli0bfS9T+7fVhBrNGUUKGyxcqXy9kIJ3nTrx2Z1K9/zCP5AQYImGfMJjUzw42jN5QOeyiAQCWbt5sa3R9YkFBCKcarxMcfKxhpHGKXqFNACIuYZa07/gxaX6OKaeCmOrEc5Y+ia8OAgJ/LyirtD+urrSn9lTZGjH8xzTHBRqqD+Zn2Xg52A+W43q+tASdFA6XBHsEJmBlKZG5GA9TVvMq23akyrZK67BUGoiH5U8+e3+VPXG40kbID2eWNAu3lba1yYU40V4QFBxvtB4kisPhdqYiN0En4TknfENLWihBYyKtyAExw/OlPb5p3PigFcK0aPX2bcEOv6/uu0Fmo2iZIgwvCIvxMUv1t7fFmCKssdOPYNgboS02zqnu57z3CcdhBNgdB0muJ3O42LUz2tEnnwFRiJyhry8tOQ5+H2PA+IE3uDqNOf3y+5w+uqSYEZGU57h6Xa35G7yzFWYW8eaM+kF/COv6agXmzjf9vvrVr140DO9617tCMBmYd/fd5N0NHwD4fRfdpB/UyfsfYGcfAQGAzyAwDRuNDv7coX5vw6/V9u330RY4YdqMVQSA5gLfUL/GOf4GMDkC4PvgJ+GHuOb0Hy5mDjWOQDSjNV5q2pO+K48jicfhRQqEuUdIIKYuROrJN+qaUBckXEgg1i+OtjC88XudaCAWAHWa+yc4AXI+TjwuIKBuI9TWb3/725BrAOkVYvO2ua+l4U9/+lOI7sTOALv5+BEAvsC9X+CMsIOtXrIA4X1w6dsXPoy/Rw6Ij5WXpx52G9iBwByLh42Hmo3PgZev7TtEORJHsPvgSbv3UWkRzlbanpw2du+8bTZ9TH8bU9S7WhNQWz01XQMXFzD+rMRtd96/xiaWdLV/e/t4aRHq75RaUxuNfS486/S84712Ob7bwDnBG8rE68LoOBNy4Uz0l9NX5w4dZVNeEExf1u/YaWP1d8RwNXwcnAnK0QutREIvzBi+AqXa/RKa1c8LnFc3SIvQuUP7IESAWX3oONCZOh4Ybwk5aA9g6utbT7ghdgj912+vv0vHTsFkiF1lmNJ1whkGtVS74SokAWGnHG8HhDCztbUNs71bJjvkbmAcvCzhPxESorGJxh1mfdeR8/bzBdJWlldpeaodMfw3d8my24vb2JQhCAdtgo+B15WoMvF18dnRg4SqrhyRSd0HDpy3FyUc/KFMeUGkYTi2o8oekXbiHYWV9o5JiqzT7YIGhOhDz2j+Tp49ZzP03MHkinEBvAWnpa5iFCZrU2SezBJe2rjeumrcVkuwojxCIMy4mxaFOjR3jHVDAFMnnJ0XKhdGsRh+TMTSWbj+fIb5J9TqZs0j8wqtBvMw4bND76FDip7kZkHO0NcXT/pIe7v1LiQx3ATRJlqoVJA8rqnKtcbzzKJPpfejNeLZXDjBYGNqDcArFRQUBE0CAgBmQVgiAM77QCdYfQDuIBx+xA7OfLM5+I//+I9GLiosERAOiGqEhQMbmPAI8ArUiRbAfRKoymmSbywSsPaYPn16yL/g17kG/vCO+K6CI1YP5GhKBl9P8EIA2aS5F/Br4UfmkHIEWkRIcAEBYvvJT34SkEMKdFs3TGRwXmYXGodgJE0Iy5nVmnrjE19YWBjs4NlBh1FF0HAm3omL+1988cVQDbb3hM9yAk+u289DZDDVP/vZz0LkHhYB+NAX2nbiTr6/uX7TPoDjN+Pm4FoFv+4LgxCl+B/gjESfYP4xMyI6AX0GXL1IHwHK8BBBkPP6wgUdGAPKFellSyhUgB0KJHgf/3AyjUPY5YELEfxuzgZ7cO4+u/9T47XjeM4++P3V9rMn1tu/39k9+CxUSiMQ8iSkUS9F4vP02Ivldtt3l1lJfkd74AOTFYEnSqLmY5Rmlc1SLAyHNvAkK8mRNtFkw/iXZsE3uRFISFZdwZykXcJ0JJQR2QaLe70wgIu6lPhRJCZrmxijlTu2yYFUNthar9wT7ROH2+p98HZg3gaqTuz7sT8PmW4TeLDLvFU7ufgicB5IlzZYjV4WAWSrNixmyNbfk6L5tVBpAw7gTx1h1SeYPUxsyAdQrH6gWcA+f6PMaIrlQHvjmLEhQR1Nxdv29YCvAsw22aTRIMAcE/sfJ+adGoeT2kVkDBLTZPOlPfjScxW2Xb4GZ4VEX2kJ/nVCG7t2eFvrLyY+GRKPp+rTYXyqf4GTPvrdXT433WWPNG5QW/u7MVX29NoK++FqOc2qkfs3mc3ddc4+f1Vbm1qUrefBKZlGrbaj+ibnxkBpAPy5FO8jzXh7mKx161Buv1u4wAp69rapSsY0SiaWPXI7B2zi4xlO1PNAu860F/XrGxzeV23fGoSsYN6l+pz2aqs6+J9oHvGjIHwrdMr9PEs37d5jXSQ8Y44HpFNfTW05rvjJnJZTMvW7n4oLR143377zXuFSvvrq41pT/a3pnF4TwWQKfLOFdzJ9tCZcmwsXf68PVOAG/A75xMHXkp9zP098FtixZwz9+UFdMP6YjmO+BMAvwX9h0kz4USIuEqAG5t/5OXi0e+65J5RPdWDDmCRtAO3Ba+BY/ba3vS0IOr/5zW+qA92k4jU8BHxhYWH1pmiq9jLnLx6Blz/NL77e6L+YZN+5JmIOxEPGZdcY0CDe8WRDfvjhh42My4ALCDUtbiccCITd7w9/+MPhHogVbUL8Xu6HiSUZCIBjLQDhIbRwzc1unOBgitEgINDgO0H9XqdLxDXhFSpu5oMvZKILseiTVYP0CcBsCCBk6je+8Y2waNE+AIwn4A8RGH2yK/IwcYj3l7+pF2HutBzfADQYlPe58fvS+Y6ciVXHml32kT+X2d/NyLO3XTfc3jqrxCaO727fmrfbnlywJVTF7rTjW1fddMvxnrNkm938rYWKC97J/vDhqTay4AKDUVc9LXG9vZgwE596RCGtT4oxA3hxXy4gHtT2nRKjoT7k5CB0kuCQ+YjmhL4k9wchgLllzsYNKQjll2/dEsJTwsTAjDUUAs2K2SHSDdqEEwqLuEk78ECoW/S8ToIDvghkwgXSpbNE4fBFvPylwrmgNzkR+iYuNRzvUEHsEMaNQRRQKzj2UTSoUTId6khEFzGTHdrlKMPyOlslB3BMVRx8bNGYwCRiy3/l0GHaqe8aBARs3mEaj5w6aTv1HAUQzn63uMLe+MQ5jZnsu9Xouwrb2AOvz7G/n5JTLSAwNdUf3QeK8Q/rNv47wv3CPbQ1QCZK75iaYz97g+oukO+QKjykx8ubn5B505IKmTltlObhmHbUS4LzOe0BvsZDndGpMKcHxMDMkyB0QIJQXyWtay/bJ6JoISAwFpSPj2fi1np/0T51oQUjihZRksjwDUQzFf5MeXA6QwhASCuX/wHzAJA/YdfRI0pG2CcyjxPe3t+UFdZwwdcOvhi7JYTkK1szZnePLFlsCzZuCPgiGDrg2N5eZkbgdiqBSzp98ftb+pv+npUTDSZTndSPZmd8WnoAamnf+R3s/8M60BjxDV05bcHv+Cau+3J6lZR1ng5HZZLZEmHRE83C3wFsXrojs9dLojMEBfguNjjjHzQFCBhujeD8GGbQ+FSisZg9e3a1gAC/Qr3gA3gf+Nu1H4RRBbxM+JE51DoCzb5WfHJwfn3ve98bkPvoRz8aEmxwjQ/hS0nGAcDMow5z8Pv9N99OcP5N4jNUXaigMAlasmRJ8D9AYJgzZ47hLAOQxpusfc44Q5DspGP2RN4BBAeYXnbYETjwwsdJGUkaJ18yEUKwOOa6+VKouJkO3l+ac+99X6wINnGcXKjx6Efl5eUBSyI0ERUA7Q2qOMDLcB4oKCgImhfMwDC5YqG5jZ8vSoQThAzGhMyK5JdoCHhI00PHztgPHlb7RyvsP946RmYAbaxHlw72rTtKteIr7d7HN9nmXUfC3EcOybW3Bt34S42katd+eb6NLcy12R+eYqWFvappgNd44hlTe4XNfLW7zDhGaZe1TOYYx/W5XEDP7ACnTp+3hYpyM7Nbtm3ct8UeXrrA5qxaGRxq12r9EIoU23cYE0KOOjiNs0s+VaYi7Mh77gSYeX9mJH/7/bV9uyYi5E2Qb8I67b4TBhKAGduitobLRhvb/wDemehXymNgNsFNJVbqOYHz81iZciCQBDpMs56UDaS44HWjFcBRmQy877v2Ort53IQQrWaBdqUfVUI2MgJ7TgSqwgl2/ob1wdl3uJja18iu/3ppHgghWiQBqVvHXI3H/mCz/n8vVNod82VSmC3bbs3td6dn22dvVDIvmRaxbnzt0MXqTwp846chk+ryCZrx+oao7s/e1M7uvUr+TnpjFbStss8uOG8PbuhrUyTUDNXmBDvF0f3RuIexoE59MPdaLoflx5QxGc3QxIIie/c1M4JW6iUxxFwPdObIxxFrwN+0SfsAAmZfhbrFp4Z2gOhK+LPmAx0RdJbWFmFgswQMcjwAZWLqc/RecoEznKzlQFvgEv+4pgN8Vuk9jG/DJK0thMkTWn+btRYxyXpixfIQEWuL/B+OStjtKkaRHhyVoIkjcwD/jn612uMpOSufVIQmtCG56kcGLoyAP2P5jn8owW9oB17Ig4/A0LuVAWWc1glw4klq3/e+9wXzJHirgoICwwcSQJMA7wSfQh2Yh6OVIKwqZsrxD1YQtEkZFxDgvTBdIioSfqGeTZm6kzdsuQf8sQJxn0ocqgHHOfzIHGodgWYVEpzYkOrYvUYiJS4/u97JAPPuaqu77767OulXfHKduUeC5DwEwTnCkSLNYhOP/wAmReyqw8TiaQ+RE1brIx/5SGiWBQDBkqkZIMIPTDB2/AgZ4Ap85StfCREBYKaJDMBOOQwz5akPAA/fgXf8woUmOLifAVVjCkS2ahYR4LsDvrOPszHXXDjAXApNDupB+jNv3jx74oknQhnPNUGUA7QnCHQIB27XF++jz8dQqe0xXcKMKR4PmTlJF3h5eUjTR+Zvtp/8dZf9z7tLbEJJJLxQz/Rx+falNxTYkwsP2h/mbhKzk7injjdvwEOoLFiz26b/9wJ7x5Te9pdPviZoEKgXGqAM6PKpozpuaVborV3VwfJD3aPNvf1y8ASEsuitWdGoV2Pg5tO/fZ9+aBO7W26VmLMO1lW7rIRbxAGT0Jtz5Xj6kBjYBxctDMnCggAhBm7N9m1BgDii3V8cUvvpE6LQJJimaM4ufrk5zUGb/oG2/G/vBOUCzWkgh8tmnyRYJCkDsO3vIibbtQiUS5uS6bhgm55v62RqNFrPCHb3mxLAL9KunLfFGk92rycWFgYnacxwrh87zq4uGS4NQduQaIyEbNvl5AxTSEz+fXoOLNF9AYQ+ghGhYQmPesuE8TZcmonvP3vGvrCs0q6WVqu75KYf3ZRtN4/ODuOix2712mmsfvpa1AZw2Pm9ZUy2/fjGbOuhnAp5bRQNaW8PW7Ctf2gOzQSCAnPMPDkN4E+BYLRImyID5K9w05hxwfdkkHbpSRi2WwwEAgTAPdHMhZ+XdHABFmf3EaKtAyeOi7Z2R3Um6CNVA+BPPwAiap2tqFSUqUN2SHXgxE8ehW56PwHeT/52+o7Tuo8F5fwDbgCas0PSEg3SexFNARpcBNkO0rAQArZKkwr9Pi//jSOijz7STJ3ROYQEQqICjTVeobImPByVpuyoBIVcrfUu6kcGImsC1w6kGg9oxvkYZ7AxD/INSGiOdydaiPvuuy9Ug9My/FEcMBeC53juueeCdQj3sXEJr0T9tX0oQxu0Cc+GKTk4YNpMbif4OTJD8+Fv5198DcEXuVm785rxdRPHM/P3y0egRURqGFOkRHavb7nlloAVRAIhAP43UiJaBYiDDxJlnGjdkcZ30bmXOrgfBh4bOJxmYF4hIJxxYGZx1sWJhrJuGwcjjA0dcKciFnENIYYEHmgmKAfR0T7XnAD5DSMOwQL89p14xwt8mgJg+r2/5ENwwMTIhQVUdowhQowLMowj4+GmVn5f/Jt70Kbcdddd8dPBnMujHvkFtC+o/pgvND9I9Cxs12p4uXS/12w5YO+Yvc6umd7L7rg2EiB9vHMU7egd15fY7BX77ZOPbrFpo/ra9LEyg9J7L/FeDc1Er8GoRZ+3ZRv32TU/WGT5XdrataV58q04ay+t3FEtmHDPOQkdxYN6KCJJx1BfvJ508W+Kcp0UR750QJY9urXKNuw8r3j3VSHKEX0WybVKgIEANfE4tlWOp6bN0OI+VXbN6MGW23GwnZKzaaVe3Ke0833ijLK5imGFaWU3/5jszPfIrIIwtZhawPh0FV2f0nVCNZ7W96TiobLx7xCi1LRX7Pb2evnnZMtxIwGsRYcLf11gwMCPSeYbRhomEtOOHNEv2ZVx9r3gQ+A11f4d+swzQS/NJXJazevSWQ6xA8JNzsjXXkP9r0LfzvitVEhDHJUnFRRWRzLi+UOfimVWFXIs6Lm2WmFT56xdbT075YbcCJ1lVrVBDGEfCWEDZbfPmIutDBOYLQZy0dbu9pU1Z2xYTpUNlEbrqzfm2JBePGuFr4rpkdhkgD8OdM5njJIqfPvmLPuXx0U7J+XIvLBSZjfZ9sbxkbDic46Z1yrtWK5Vn3pJy3mN3jdEsAp2/YnxGi4hgbCo5EXI027/ED0X/VnRmJ0ZLG3AADEqJCoLGZUlfKbbTk+ZRWGqhjANrtxXlND4hjkSrUHb9Nv7Hqd17we0d1Y0yVpDg0BOiadl5nFSDP86CeyEvmWXPdJ2RWFfoWHyMIwXLRE2du++3SFPwkGdP6JPB9FFawd1KcAhmROSbbmTCLW3BDcgrNXw16vvAB15lMJ0+RM2ROGR2DSFr0DAgP8A0BRgmcH73/kK6nVeCd4LixE2b//5n/85aAyIelgXjwCe1AH/hwMzQgCAkMCnJqAdTJscN7dEwUcS/1PA10pN92fOXTwCzbrKmRgmHSbVfQJAxwnBUXPCIrOvRz7ya9Thpi6+k45mAiL0ied+mFTKweDzwfyG8+61T32UQZqlfVRXAFn7sK3nHIvC/RvCxTQO3Ac+tO27+O4nkMbt9SrCAvOFiJaEvpAJ2fvqlcHsgwP+GuCEAEEfifwEw49Qw1hzDQEOJx/uQchB+EGLgGaC8WOxxgEtCnaEAJoWIkU1REBwBurw8TP2mQeWmi0/bv/fDyZaXneYdT3OedrzVBfgYPyl15fYGz73os38yVIr+1zXKAFa4jplcGgGzp4TE9Ehx1ZtPmDjv/AsF2x712y7+4G1ZuXLtGWqhxwvEjbGSFL20Al76PmZdsuVRYFBpY4cmVaAXyjHiWYEf8l11O7tGNll2zNyXNwl22yFjOyf13g7n03ZpUNHz9tqxdBnO7hkoDJad4xa6yjzBo1uMKvIswtRVWB++MDMIDic0gueb4SHk2ckUEiAeFEM+EGt6Z5iwpmbThIQsN/G6RbGvoueB/zdXjTMbm57XYNBhJn250TgHxIDDIM0Sut9jmj56dUrgymKO4aCC/fWB9Zo0+GwdmlxqM0VA+70XZ860i6b6MMmMcSLJSSMUPjTeBQlf56yIkgah0kRORbwuUAwQICgCsZlqXbcu8lGnxCo55QZLUdmfi+WVdgtz56zme0UrUh0+JWEgIDwp1ubZVlE+IXlq+RxbewbwuGjj56zWcL784qwRIhVQqSePluhnAe7xfRukQ16pY2XeYHnGmA8/XnJM4X+TiiMwqIu3Fxm3TvnhtwIXibt8U9RkPrPy+8FJ+QRAwYGbdl6CXDjCgpT3BE7rXvBEbojutFTYugRYMfJbK2fTOOAZJpkfsGdxHnRmjmrNXPKjup9hLnSCYRxrSXq3SotEkLHpIIC6y0BgLVCRu5DevYTCrVCmoLhEipLlXiOtQP0FR130YTvl2Cx/8wp6yvhwtdSKNDKDoj/iFDn9b1D+J7WXOTndLRuOZGQ0MrQbRZ0fL54txMsBnDGmedETeB8BnwCm7oICTDhmBTDT8EbwD/gQIzvIrwGNJZcHyZFBIzBLMmDxfizyfFKbt/XKTzJPRIKuM+tJLg3+X40GgO0KePto0W4//77Q7VYONCO15ncVuZ3zSPQrEICKDgxMFE+WX4ujqJPppfxe3kIMvEAXu8w8ni6w6ASCcnLO2Hzm79dsOA+mFjqdyKGANFqIExgjgR4PbSXDng7aC0+9alPBRMqV3vxzfVLBa/DFwn9ADiP1gPNCosESMabPrLI/To48WFxUxZGn/sRJLwM7bBjgDDBQwUBIg48DFxQI4wZmQ7Bycc1Xrauv6tpQH352E1F9sXbR9noYX2qb8viLx3oK2WvmzTYXvrfDnZC2oAo7jq0Fe2AkcCpvXIqAAgI4btdW3v2kxOtnc67AEFUJO7xqYGBPPMlRWiSJgGAQXLAJ0Jeb/6zWb/BDzyHD1GfulbYizurbNP2SgkJML3Nikq9GnPUtkjz8Wh5leVpWEsGR2PKPIZxz/Ix5XUePR9gfvjAXMGsJsP4wgLru2qlGJqTYgyLNAYSXmWKgbkQmoj9EnBPnTsruq4KDDD1IEAgOPChTgQH8iIQsYfwkuyg4pvArvMLZZtsctHQ6jwD4OJrL2CbmBDH1/Fz2twnQX2VGHDsydmdBnwsvGxjfXubhLGcL/Os/jJrmlhUHMYvLpiwZsAhCLvCn35jskKuEKIYAdlaG6f0/Fi9batNGloS6J8wp9+aX2nXSEA4oQq+MzPbCqRBwAQoprQJ9zfHAa0CbSMofFm4vO+xCuuqhr+/8Lzm+JgdOFxma/coAVyf3jZGAoKbefn8+bOJ8QjCpcaBsKh/ExO+RO+R14wYGWghPnaX0q9o1GXCmtfbBu7poUzKuwLTTzhWnzunKZhaKCWilQsUExyYNdirdx2w26dMC+icFaOOGdJJaeBOnBbdS4AmytNRCaYnJEiTORshm/5iOpSrDyFVYfwRtE/rM7Gg0GaWjg7rjPHA/IhQqJj0jR5UHMzNaMyF5D4SCvKy29nWs6dty6kTNqpbz4AreDvWAblWckgsU+XgPGvbNDbM6eAOnaxzQuhpJWi2CBq8z+MhQ6FFXxs1IeTrB8EAsyE0AuRBmDlzZuAbXHvAvU7XXg+05ecQIvjEgeupAJy4Fz6PcKf1BXwRHnnkkaDl8EiP9a3j1V6+2YWE+IDXRpSUg3icwPw+7sEEiB1zGF+i6CCdfv7zn/ci1d9eP0QGI+z1ITTEAdMahATKuzDh99ZGwPE6/G+Y5EcffTQIMjDXRG1CeKlvPV5f/Nvxxt4Pidp/U4Y+OsTb4jzl0G74jj/XvTwZFh0QDtAaJAMO33FgbBhP1I3l2nkkEd5MPSwA6o63H06mceAxQRe6yzn52smF1XdwLl6f454r5n9yqcyMkqBDjriIjm3t4HF2zfQSPXXOuudKIzKwe/gkFa/1J5mYT56RHWvHHO2yyWWvd7ZoJPUDrdbKGuFi0aA29tYhWfabjVW2aO15mzY2YtRQmrQgWjX2LJo3zamuLlxTadvktPzWkiyZckVrD7ZCZCS4eDwpDyGEb/4WeAmnAzLhwgg/IwEWk6XxhRfoBadnzCRgok6JEcJsCQ2EfzBhOn0uclSNzCuk2ZDAQC6Eboqbv1OOrTBeh48fC6YZtN1eGg9vO+BSw0vNmUoYqqXScsB4l8qOH8HTr4XONOKBNQxemNY8p+hFMINThw0N2oJUbYJ/lnAj0s9C+TEhFLTT84Hy4ZrqW75d/hgSpEZqF3m2IhktV64CucLY9+Q4jLmPupiYu0bsTD2qcvOjscLlnslV9pbnzlnX41l2nzQKNwyptFkjS2TLP0ACYiCwlOPP3EBp/RXZZ7yeqYQbxYm3VLv14VpifOuB2suKMj/RXLQJkY6ekDCCBmfy0GERjXsbKpfMaCPk4vTO/OKTgzYAHx00CgclCCMQs+sPzdEO2gByXAyQpqGrzPAQRDpp9x9NAEIygjCwSEJwJ80v5nquJeA8JnsF2jSaHMz4InVfwD1aqNZV2rpCrZEtEhI2CqfD0kr0wHSHxRoWBrW0HvA1u10CzU7hnKv+F3TsXI1qK0S5WQfPNxJ5n/tYpUIAHgLeBv4IKxCEBDZU2aAtKCgI/IDf67yT/+ab+nleOd/B77ra9Pu9nOPr52v7BoeFCxfaG9/4xlAM/1THweur7f7MtQsj0GJCQn0mKl4WYsWmzcOQcg3i8VCf8bLeTc7FGWo/H//GbAbwF69fq6k+vxb/9nJ447uDL9dZWLTt0YW8XPzedP+G0QdIQNJQQD3oZlANqcMFhAI9GBAQiAR15513hqqYh5oeEOm2o2kKED1MogeLn4vXwRjqeZOYK67wwGGXVI69xxSXcd9pe/9Pl1g3aQ/m7T1tCz8+2SaO7B+9THlFJNqJ11n9t+qgLtp48NmN9vc/X2s3Fna2AyeloTlUYccldLQU9OnRxmaNbmu/2VBhj6+otNddLa2HGKXWDDv2nLc/L5LGS76C00e0tX7aAa4NwtRo7GuaIngRnCmZG3b9C8XQLNlarrwJsqOXTwGAVoCPJEWleA6nqg/srCJEYI7hQgMCwVHMmCRsrN9VFpJrgeGTq1cp1OTR4CzdXus3ZCDW2gnfYrzaybmT7M9oKQCYSgDHZ0JU4hNAxuPwPNF5fzlCXDX1Ldxcj4M/p+jL84pEw84x2Ya7y1QolYAQrx4zGHaV0cLwN/Wxfhnj0xKuz1edsbnrTtrDWyUgSyj4UGEbu0lOygBdbYw+hMou8YDj9Kelqfrtlko7dbiLvWP8WPmAROYkLvj43NTYFB1WZ8g2vU/zvURmSswbgsOlANVqUEMVPlZkch4m0yGiBw3V2FfnZlA5fAWYS8zq0AaQJA4aRYjbro2blTJTUoX2grRFYyS8QYd9tVFEvgTM6/gNTcLo1/YMRuO0Ur4RI9Q+fgZOl6wpEtH1lQ8C5md+3seOnvD3sNwutvDYETHdChl8/KhN6pkX1mPoaCs6JKbVyOmwUvieFG0Xte9og7TBAPj6aUUoNzsqtdFJTchQnnGDx2EjFOsNgp8QyQj6Afy7pvu5xqehY58Ovs6D0Ab8CebqRMrEBCkDDRuBFhMSGoZudBfSrO/4X0o98XshLifi+Pn6/o1AQHSlxgRfeMVSiz/wwAPBERnhw8/X1hblEAwwLfrEJz4RTIbwGzisBEn1BRYp44RTOAuQ0GWEhfUoBXUJYum2F81D7aV5JiX3n43DWyf0t5I+udohwy9Fu+2Dz2nXLDI5Ci88HlS1VF1FvYnrA/Ny7eNX9ZX6vV0wy7hpZC8bmn8hSo2Xq6W6RrlEX+E3+L5qbFu74plKe1iOwG/WLi9CAloEv94oDTZCJeAKzFlUYY/Kh2Jyjyy7akxbmcFImGvgTjRVsgvuzB929yT6WqzdrN5yPGVX1K/RdjJ9wNDzIXIPjKADDEWFHKhx5MRPYrD8e5bKtv+87LI7qk5suon+A8OBIzV4YKrENXbv+ZsQrXDYCzZtDDu6Q8QMAsk4hJOxAy+zMLGUjZ2v7U9/ydJXMgfjZD1dEeIGSHPp11LdDz70N69rt/BJVe5MRZXNfvysbTx13oYpmtC7lOlYMQM0vq1DawV9gQtWgO+8ItueUpK1TYpeO7esrfwQJCwqTCoj6nSYqp9hPDSOmJRN1PN1vwIwLCorkzCeG0yy6hpPWgmgOuJzHeayhsbze/W0Fdu32jyZdxbLd4Qs12i7EAbQDBA1KEcRqMCH6FrQFkIcZnU9xOAelVA7TWadfRN+Cd58qm/w58Ozm7C3a+Sw3k6mSyNlvhFAODrdRcJ1zQy0j8NgCQmDJSSvlyCz6OhBG9W1h3XSmopGOxUWLXd+i8wQ1yiXRjv1c4Rw747mA6hhbqILmWOqEfC1wvWbbrrJZs6cGW0sJNF+qvv9fHyd+LnG+nZBgjbe9KY3hXD38fbifzdWm6/0ei5LIYEHVk1wKQTgxFVTvfU9VxN+l4obdeJE7FGU6osTZkT33HNPEBIwVaqvkOACAg7SbpJEeFn3aWgsAaG+/YqXRwh4mxKupXphpTMH/sKk3mvGDwqfeBst9bf3qaSgrd0+vo1tnFdpP31WtuITKqtNeFoKt+R2nZHcuqvSfvi0nEr1Xr55hMxvhjaO1oN5hkFmB3Ws7M7nKVLXWjE/OIQyf8nzfOFpob/CQF5gjKiH+o7Iv2G/TIwwESLsZxsxanvFfE9Qnd1ky40DKLu9mDCx2wtjRwhXbMHJUrxF6wszkr2qY7x2egnhikBCRKbIiRo/CPlASEDB9AMmEDyTcU0eS35H+AfE4eCq71km4WjDnr02QaYyw5TPwSFOw34u/l3bdVWv+k05I6rsKbl+bZKw8G/j2wYfAOpoTWZt3o/iPm3svaKv9y6utF+XV9jNu7IUdlbO2PFO1/K3z0FXmdJMU/Q7TIKWyWRsWsnwMNZB8GSuaqij+hyDJmCW2JghOR2agJPyF4BWcApGO4Az9f6jx2TStc3GKsIQTsj4VPWSkIkPCzSNvwiCLNoBsn4TzvYqCQZoHh5fsVzhUA+/TEiIaMQxuICr940rmNJtlnnpFL1H6CtQjX/45csj+eyFNdVZmoqxXbrbFgkrm9W/5UcO2rReF3zHEtW06FdipUior7LnD+6z09qV6CW8SyXQAL7mWxTJy7Rx6MkFRo/i2Fq70pg8XWvtY3PgdVkKCfEHX3MMUn3baAr8fHHWFxdCt+KQjImRCy9oA+oDtM09aAzIqYBvA9mwCX1Kna1tMb78FVef3rbOsjBnMN/tFGnpVtmG/2nZeSuXnf8vFAryc3fKnE38tzN4LdkDcAiaDSHx88fOWZmiMPVW+NbXvUbmOe2ygtMp2oRLBV9jQ7UbiznGKgkJmIj0kQAMrcZp8gI96K8LP8TQRQICuCBkgHuBGDWABF2bFAVss5JXjdcuLtlz+SQDNuPYhK/T/ftkZjR6YH5IdAVTeBKHSeHGLjGMCX4KCAcICTCA7kSNLTkRkOJO1EHrlWgsQjmBeIIZ3SDzk6XbtthQOUaPHVIQSgZmVn85k5S4PeWXPw98LF244/u5zZX2rJL23dg1y64dFgl3rYG+4p1hKBznGRJAb9143h46LJOc8vORkKDrdeHMWFGIb8ac/AlERMLsKE8OvEMlfMXnwttnrC82XZN50KnTyk4dOQ8z55G/gDQD0i530g42zsPUmS+Nz6LNZdZfGt1r5TiMYJAKSBwI3fSVQzo+BnkSJjboXImiJSF0OsOWoA5Vc+Ev6vTrZNpeuW1bcF5GgxG/Fn4kDhfffeEK5525Lu3Ww5YcPWTbZec/55BMpzp3td6iX79+4a4W+isx6csO77fVp45btuZ1fJdu1t8Fo8QaaiHsLvtm/XnhtNWaO3Q54Niaxw/cLkshobUPalPh54uzPvX7Pf7NvfG/66qLsiw0YNy4cSHT4Xe+8x0jOUoGWmYExpZk251XVdp/PlVh33+p0iaWnLVbr5bRv4CZSvWiDwWa8EDbifezPf7COfu2svN21xPmnZMVbGBU9KhprPczffQXAHHcdy9baivE2M0YVRocNP1abd0leVSWJBqiEaEJKBbD7WZI7PDCgK9WBnHi63eXNsGZcOr0dQEDCBOJIyl+ETePGx+YfcrEnag9hGuIRKNdWMJRblWiL5yoHWAGO7VvJ+dT7SLzkSDBjjLCRDsJFkQiIirTrkMHlYOh3IaovekjRgbBgzrizKyvWc5HqxeBKDI52alABNifY55FueSx2iPh83nZ+RMW+PVD2oipbQSpDkSaEAYp4tKNcux/6HClPaVwu2+Qs3UfZSl38PFIXh/hWaj5u1DSglCIidlijTGMOY7yzB+5PNAG8MGPhW8EQegCYP6YM6JGDWT+cB4WY9pRc8pYd5QPiz978WdZrihSaBsQEhw/6qE25vKwaGqTnJRL+varFiTIkTBPTuokwhuWhp21t7dFAi++MjNFLwgXgF8LP9I4gBN9RZswvUeezd6z3Y7LTO/xvTvtbfmFAeeWFhS8/b3S3jy+XzlPNLM9he9k4Qv49TS6mylSxwjUl37qqK5JLl8OODZJxxux0oyQ0IiD+UqsikXGC4wM2KRCf//731+dYC15x/aV2P/W1Cd26An/yE78m2bl2NzVlbZVgaf+7fcVNrhfGxszTBksE9dbAm+ZU8tJ32x1WaV9cfY5GyoNQg/5Cb79JpgjzDCi642Fm9Mm/gCYHb2kqC2EcSRJVl0ATbu2YWMiE25JwmTH6ZokaGX794U6JxYPfTkTTqcERJzZKGYOBgxtAHWDW9yJutcFF4hwz0VO1GI+YUIxTTmuv2EcD8qWOtJSyKFY9cGAEsISdh2zJkQLHI+JeAPz1lHtIrD4S9G/aSzCMjoiuCzZUm65u9qF6DYIPwCRdDxyV9m+8/a0duQLlBNhkhjvoBkS55robijfWg6OG74Jk/Lb2OgNcmIW7h9VH/p0kaMliAbc46Pwcuyx18dECHOyc2J8Kb121w5l+94r34F+EurQDET+AowzQhyRkGDw0QK5QMecIxBErb28HacNmP01mseVSmJGngLu82t+72Yx9pr6kPXb55NkePgmbJKGq0h4oZmij35PvEWvD+FmhbQIg6RpQ1MC+LV4+fr8Pbp7T1t/Qo7ecl5eJZv/uft22bV9Iq1LSzHilRosIpad1lw+uHubzIzkgK9OXStzKKIwtRRe9RnXTNnMCLS2EcgICa1tRloRPjBRMEwjR460JUuWhO8vfOELwWncGalWhO6rAhUEBE2J9dPO6Sdub2d//79nbJCYuX+9/6x9+0NZVjCAUHXaiRSzXhPj0BSDBCODcJKtNrcpmtG/3X/GyG6w/FSV/eXO9jZQ+RyC8BJZrTQqCs48kTALsyOYIZw6fec/vrseb9iZpP3yOyhXtJkihfN1LYLXiXPv0Ly+YhZ3BSdT6vT7qIvxPaTdXjLpDpWZUpF2fONAWRi4wOmJefH5oP5UTtQwMti0IyB4QiwiMBHWdY80Hs9vWB+EiFHqLyZWi2H4xQBhwoQ5S2cxrUS8yVVIV3ar2TUmgRrMJB8cYxE0cMSeowhOpRKoyMQcCQgBW1u/97ztkBPwXYowXJCIRpWKEY33t6X+hv40pPKbyLKpysm3cqcEKdHhtKLIqd/x8rHFt+SkovOQvTtKNIZ/ibQCEhLQDOCcTgjRgTLx2ShGvfux43ZVSUkQAAkpinkY84f5pc+pt+HfzD0QUUBi7kGSjwAN0Vj5rjyvaEU75CuAtgpw+kJo3KikcINlmoRTPoBZG3NaIFolQ/Luw4eC9srvCYViB6fjDdKGIXxOlb8FeKcqH7s15Z+uTeD7egkF25Wk7LBMmZ46tN+6asd+YiLaUXMz5C4g4Ifw4K6ttlX9rdToT5MfwrjuUeSzVHOVsrOZC5kRyIxAxtwoQwM1jwAvGAQBkpisl2MoQOZCfnPeX0A1350525QjAJ8BDzJF4R+/cft5u/1X5+wasSuf+dEZ+/o/tLch/aNY9kRqYqe1KQGbcAVfqRYQ/vW+M4rBrygzMln59VtkljBe+xAq05R4wPQQA35CYaE9unxZSAY2bfgItXnByS4+BpR3LQI239iOozUAGNdA+5TR/UP795M2Ya+tF6M1ZdiwcM2ZLBihlTIZ4f4xirQUdnV1ztcG32H4mbAYcD8QjvwdK0ebbcTIsbOMVsI1EJR9fu0aKxIzOUn97KddYYQHzwUBk4sp02GZEpFI7pwYXfIEtGtLWExFdBJz2z23U1i7CCAwuuyek2l4L74Uwh8zmRNnzdYf0ISqwVE9ZaqRezHuAfHWdkig2FMZ04sVRcsU+WvV/irbeeiEBCKFuD1Ftm6yDmMmpMy7ErgIGcu8dVDYULJ1k18AZrxbp0gzgIlQBwlfyzQ+m6VNwuSIXfxkSDWX1TQQUcBFtzn9FMicbcOeXUHIxJ8mHp0LDQYCC2XCZo3oBNoAhkhIWLNjhzJL7w1Cgp+PN+JtED1ptTQWOEUT/aoxgPag/W4atzf2HWQ/3bnZiBn04P7dAccJPXqHNeCMe2O0WVsdlXoAtcWUTt9/2bXNVpzQA0gwVInTbuwT5dJpbqGlNnwz1zIjcDmNQEaTcDnNVjPiykuGUK68oNjZnD17dkjD7i8ffwk2I0qZphIjAK8g/gbeUmZH7ezHsr+++y8V9hpJBR/73hn70nva2eih0dLW1AUToKYYvOq6pSFYI0fXL/7sjCKxVNn8o2b/e2u23XFDZPssVMU8NAUGUZ1Oi2TXHZuP02l5YJ4823FyyzDcoENCMZyTi8V09Urs1ib4sGrWLk91FovBwll0GLHtCXWagG3SQGxQXgRyIvSWQ2q64PiGIfEGEzezvsAvgP6mLJ/lirZDW1cUFNgo7UADPWO48DsymYkSyZ2WeQyMMXbzCA/HtXO+WYwnZkXsJmM6g1ADc7xD0XP2KuLO+CEDlHW5n60+IsxyqmyI8nIkEpdXjwfttDYIoVva6AAAQABJREFU4yik2ovkhyIkiB7LRINPr9mkhXJA2pM2uqbQ1BKUiDY1UAx5VwkD/N1ejC6alvYSFi7oei70cEJRsR0Qo40G5/r2Y8L8M86MHVDbXF6o5eK/uIc5pt3SgYNsjoS/LZobnJFhwDFFW6+Q1X1Ek56vgT56WwgsgySwbJXmDE0WNJnMBHvZVRJigeESgkNODD04XEAOFxp4cEFhsCIuvaVvvv1czHkH4f7HfTuDuc+VvfsG05+mFBR8rSAgnNCY/WX3VlslMz3Gqq/G9vYBQ4wcJ8lj08AuZ27LjMCrcgQyQsKrctrr7jQvEsKbklHxS1/6Uog3zF1oEVpDuNO6e/DKLgGPgqDA93tfjx282fslKFytV+Td3ztr99xeZTdNV6hNMUwuUOgd3ihAW3yoG3jyxXP2H787Z9nC5+S5tnbf69vau1+npE5qz3GMSjbd0YXXEcrhsU3mG9jd91akI3bM/Rqt87fvvJL4DPMbmLNwTaybM4owWW5SRzQYEmCt1Y7slSVRWExMgRaLce8jQdodSBuDGaHd6mlKTNhGRTJaqLaGC4/ShIDg2jxnBsEfbUrnMCkYe10MMLZoEIL/hPpNjgfCcXIuqqMq+DdUZJ2x/WeUV0RzO1CRjQDmurFo52KsGucXuKHRgt76dM6yPOG+R+ZSvbr0tZF9e0sjkxuch9vJHAYBqS6ARgDmE3OtSUVF9qTCoi7RHNTHMb7WdhKDmq9nbL4SmBF5CE0FGp8dYv4Jq3tlwjwoTldOy/g0bNQ8bhVdIiRU04wa9TKYIyEEkzgNARrAUb+xALphpEbIpOfv9cev92yTaUKWPXRgj+1T5KPrtIufmxjveB8utX3a9HVMb7adPG5/3bPDdmtNImL3b9fB3j6wIGSIbsx2LxXvzP2ZEbgcRyDaDrkcMc/g3CQj4EwHCdMQEG677Tb7yEc+EhgJNAoZAaFJhr1BlVYLCnpT3n1be5v99hxbeEKmN3qLfugXZ+2rPz1tW3ezc3iByYM3CZ96tBi9lKP7uA2mjDp3yHb9mw+ctg/IH6LyXJXtOq3wrBMP2PQp+4L5Ee1QrjkgMCxqkN3ZCQUFdkgOvWvEeAHOzMTxOKwdR7QDaAmqtQB0NAa+FgirWihtwyYxZQelfQBWqW7CXY6VmY6HonThI1ZFg/90RpVIRi9s3BicTicVF4cd7MD4aGAdP8q+7JPUMgKE40nSLsxtcMDFF2P6sBJ77YQrbFxhiUw2OtjzZ87bVPm5dMSGRJA0LNHJ1nZMINlJid9GCPd56kPvrn1siOzm8zR/hK9NFhBeNmYQrIBx5ROZj1nYzScXRbkiCq1O7MyrwCWNC/XTPjiNkJB6RFofhFYAR3p8IhAgksHnHKa/n/qFKRT+C5yHLgCvG6dofFVcCCYpW0wETa663r9h0B1GKSzqu/sPsQ6iKUVptgXKcvzTbRtt3dEoaaevDTBMTJXfmva330u71IeD8rP7dtv9O8pt77kzdlb9L+mYa+/KV+I5mYoxvt5u2o1kCmZGIDMCF41A3dsqFxXP/Hglj4C/XEiYti3BYP3nf/6nkXyNfAs46mWgdY0ATDi8gd6Z9ubr21l+nyz7t1+es46yLf/5gkp7YtVpu3tWtl03JTs4O1MuDgm+In7qor8pH26J3bf3oKLfLKiwHykE6w7xzNTRqX0b+8q7xCB0PmgLyg6EcI+D83qHF7UzNhdV3IQ/8nv1tlHaPV0px96BynDrJhswDY5L2e49YSfdIxrFrzlqlIWxwkwDU6My7drCwBXq3CrZhA+To/IgMdmNDY4L9uTPrVsXTIKmDB0WnFZr2hn1PtWER2DIEv12c6ShfeVk3adfcNRGcIgDPgmEhOkpZUL7nNikxwu1wr9DP4VXrgSEbmi4ZGZ3/LQO2tv2MfOxYLHQs9rGTZcjSAwBJl4k11smIQHTNOz7qTetOryuFN9oEAYrnC2aAYS5/RJERyjSFlqFmhhdP0cuj7kyVUKQRNsFqt5XzJe2y4wM4cYd7qHjpgCn16HKRfBuvSP+JNOj7fKL2Sufip/LiXiMcipc2TPP8jtdrPFwXHzu/Hf8O06B/vcZCQfrjh22eXKW3iGNBbGkiPY1s0cvm5U3QBmrifjUOHMTxyXzd2YEXo0jkOH6Xo2zXkOfednxsEcQ6KDIG8CcOXNChmdMGzICQg2D1kpOwchr6uB9bNrYHPuZIhzd/9BZu085FPYqIdY7ZQp0/dwKe8vUtjZtTNsQAalLp+iVyz3pwDHVs3XXeXtxZYXNfrHSHpVz6AiRiaw67H2T29p7bslRGNa2MlkpVlKx09r9XqcILu0CQ+WMSzrtXEoZaNjbGjlokO2QucWisjK7cVzXsGMr3jcwUiQ6W6dQqRdpEVI07IxVb0U6wvkTbQIJ1rpqjYzMHxgxZlofjWHnDQqOP+E4n1+3Nggy18rEqa5oTSnQD/gFwlABdlUJ5cruchycyePcuUoRkgaqg/hJImldbpAjnNuBt/qAqRvgu+eB1NMl+OjWMH7OlE/W2D2qfByLNm8KTt5EKPL5ShSv11dErzLfFFOLNmGe5vtpRZzqI1rDYRmAgU5eoi6YkJeju/IwECp1iGgTAYOy+DQQcaubfC7cIZ+6GhMYEyDgklh3CCb7Dx+xt0mgIonZE9rlZwqWHD9iK+VMPEpCwuiu3W2QvrvI9Mt3+ZP7FypOOpzTZB6UOVGZwq4ulXaCjM9tdSP39pZfyQ29+9lw1Q3E6TmcyBwyI5AZgQaPQEZIaPDQvTJvHDFihK2U/e3//d//2YwZM0InG4sBemWOWOvolfM+MEb9Fbby0+/pYDMniKGfc85yNlbZ8oNV9qTyKfR6tMLeWNTGppa0sUHKrZDfp411lx23+IsQNpXeUIdCxduR4+dt+74q2y6TpZcUf/7BTedt13HtMitB7GhFvZlVnGVvmZljV47L1gtf94jBJPnUVSXD7KlVq8Iu+KzRY0IMed+Rb+rRgvGASSCJ1dhBQ+zZ9WttrRimsQUF1UwJuRSwxUc7AJNTF1Ph10cqsteCso22X86ib7/yKjkOdwn3Ntb6cIYToXyBTIz2akf5NQq92V+71uDgTFVDxxA8O+gDUB/CA0yWM52cD3Skk9j4J/hATl82AFPKh46FvjQC5oFGVA85EabJT+BJ0fbyLVtsmubG6S0+hvVp0gUYtAm9OufaXNHrHdIK4GdQ15wTDWmotFmEwSXbt2vMyuT0TIjbqxSNi+R7Tr/1wauust5fwrLuksZig8IEbz24PziFI7hcpU9Bh1ybr93+NcqjcFK+PwslLCwSk99XTH2RIg/1b9/ReslnqFt2uygbOfSoD+sAh+czeggdlLB8QALBNpljlZ85aYfQaKtMe2lFSJI2UYLBJGkpOimKVyS2XEzPdfUjcz0zApkRqH0EMkJC7ePzqriKlgBzovHjx9vSpUvtk5/8pL3zne8MfW+KF8yrYlBbqJPwgDD5fE8bm23jhre129dW2NwllfaimPzFYvp/vPK8/Xi+CilQT4E+A6VVyNN3bjtYRjkfn62yfSfkcyD/hs0SCkx/WyezfJV53ZAsm1LcRgJIW7tipMJHygYcUMRNCRoRw4299JViUOauWSPhYoNdrTwbhPR0Jjjc0AwHnDuJQb9i+zYxUD2CbfqRkydC5Bh8DLBVTwdgPuglTDbJyGCMuivCDECfSOB0qRBnCJeJ6QuRjIYUKATrgKjqRmiDinw9O5OXjHc7tmdFOydkqXMOa53LBHwGzsg35hR4qw/Z9KWRgWRk45W4b4mEhN5d5bTO/GhunEbq25wzxQgbHcQswxxjFlYXqFgQggiHulL0XSYNF0IC/gmrd26XNqJrdd6OVHNdVxu1XYfudyncLuZ3O6WxI8JQJ5mu9fLkfLo+QGvkTfpslf/PSpkcbTp1wg4op8IemSGVB01AlnXSfQiunbRLAeMPmaPMIhHaSY3DaZn2ndR6w4Kso5K/9JJg0E+Cz4jcLjZKDtP4HgDN/WwJjWYOmRF4FYxARkh4FUxybV10AaG0tDQICFdffbV95jOfCeZFHt2ltvsz11rfCCAgwEQgLHSUjfZV43KUUyFH5kKy5S0/b6vLK618T5VtUCz5JQpZ+py0DLZP/eDtDOh+Mqj0krn6jQOzbJiSVBX0y7KRQ9rY8IK2NkTmTB4aE36G9tw0xRkSzB8mi2GZv2mjdd5cZpNlUw8j1Bwv88B4qfMw9cT/360kZDDe140dF2LLY46BPXc6+DAilANwWu0iTQlmJlvkMNpPgkfk3Hpp9s8w7g4bFMmIRFnDhR/aD8AZ+/DjEg8+P8nVgAG97C4TMqXZsJ3yTTgrhvtygxNnFNpWWrBuot9OCcfrxugDY+PzQIQp/AYWypStp0KA9hJDHuYwQSf1ac/XA6FqD506qWhM/Wy/fFF2a3ce+vLrL6szIsmguSuQg3P5gf02Rvdv33/ADisfxA2ji4P5keP8svsv4QS4rZJgckAaNfAjzwRdP6X8E520Nhw8/ClhUvkckrnQdkUi2iY898iX4JAEhsPSFqBlOKZvPa6qhS0Eb4ynukhDMLhdtvWQ1mSANA+D5Jg8UIJHR50HaB/wNRp+ZA6ZEciMQKONQEZIaLShvPwqgolCgzBEzm1rtOsLfP/73zcclzMCwuU3n3GMeWlrcy4ICrxHs/V3Ub6i2ehz/ZU5dvTYedsrAeGEtAWHj+ujb4XWD6B3snWTCRJmSLnSMvRR7PluXRQzP/a0QDjwNuLt8rczJiPzBxmRdJbLCZ7EYDDsvMz9evJ9jfkb2qadXgpRWiozoaVivBduVHZbMTiDZL5DVmYgwWulbLpKwkaW6toqoYDY9VcUFIaya8XMF8punHoaoz8w7+zMLijbZP2l4Zgk+/fmGqvQoYSU0FPznS+H5cVnquyI/FAAxihxOfxulYfERB5Xlu+V0oSNl1Ysr5ETwQXhUzRFRKKJhYRFXRHma9bo0TqX0yA6cPrbLib/2OnTNmPkKAmgMtGR033f7t1T0kCYE+ECTgUSyLcobOoSCS2ETi2StgPnfSCVUHgpc4jvwxkJBOBAng2S0lVKlSg9QDDzC3ULtyBA6weMPEw/u/58xigD8km9dw7LlOhEhbJc6+/jeqCck9bAy3aQ1iBXgkAnjXVXCSFdJSS00zmHjHDgI5H5zoxA045A7LXftA1lam99I4Ag0EO7Ve2kJubvxx57zEaNGtWgl13r610GI0ZA/G0ATa/mNfqNFqBX9zb6RNfSPXI/9eh9HwSQVPfBmDjjPL6gMJhALFQ4XaK1FMoEKFzXzc4gpaqnsc4Pl1Po7iOHg1NonoSGKbIrhwGH0ahtBzJc1wCelnkE4SQ7KQsvmZXRRKyTDfZGEl7JtMoFkoYwZD5Oh2SS8YISdnUQQ0QuBuzN/VpjjUM69aB5KpFZ2QKZmJUfSQgJmijmvtkmLB1EY2Xwn8AnBhS3KdM3QY0GyzyuW8cEhTUioTlt9xQdXVFYaM/K2Rj/BIS6+s6/0x8Md7kiZ3Xp0N7Gab1Ak2iTEBwwb6qLDjCb6yttxgsSgkkUd/WIkYk1JiGikSeNMSZk8E3jJ8hvZoOEk/1KWKbsCMI5yhIu9SOg3+FLBwQE7qMfAP2D+ecT7BjD2fQOGeEgvXHKlMqMQGONQIKFaKzqMvVcTiNAzoMBysS5QXbj9957r914440B/bpeSpdTHzO4RiOAsIBmAYDRr/5E7+3oQtLRhQIvy2XqcMEjqfhFP52ZYtcRBsqZmD2yXw6QYBguuqmRf4ADTAXMCw6eW7RTT66PPEWPqQsYFhcgMAHarfCXE4YUBOYdB9bhISTqXtsr4QOoZRjD9ZoOvs5OSQh5UQLCaTGL0+UMi/O3X6vpvqY811XM9RiyFstkZ4s0TfinAA3pX1PiGa/bSemEtB+bMJ0T7uN7keehEaWDRIPxGgk7OlI+CSu2bw9mbBRxRjiOX6q/vS6SnkFfJaoPmhuqb0LTrlWYXRzsXQhNrie+xnrL0Xm5hNa+El4u5P3wFpLvbPhv7x/rCrol+heatlPSCuCTgKM0kNwyv+kbH8KTcj8f6ktFW1zhenXZWB20kYHMCGRGoOlHICMkNP0Yt7oW/EE/TM6lqxSp40Mf+pDdddddAU+YKF5KGXhljoDe0YHJZ4rDR7/1Hq7xk1yW3/UBZ9IxNZo2rESOmdkK87hOZiwnop1OGm5icJRPyJSjn3ZAT1dU2k4JC4BfqwkFXyMHxLytFBNYKLvvIgkaDuRXaCvzB6K6wMQE5qce/aH+MD6SwBZu2ihNx1FFzhlWbQblO7HeXnN9t5ezb3EvEYeipC6Qz8pe7cwDtY1Vc+GWqh3Hbbc0H6sPC1+dGJHXxtolhGK/nur++p53uqbesRIc88Sgv6Q5JLSuM+511enzjxM8TsddtEbQGgD4vGAit13CwzZpGICaVorXAf0RcStPwuX5BAMebmrkjtMedA6skI/PRoU8JQ/DdaPHWG9F+sK8yBPWMQ6pAO2GCwyUoyT9S/5whevVZVNVmDmfGYHMCDTZCGS4wSYb2tZbMaZFBQUFtnbtWkNQ+OxnP2sdtTuayajceuesKTHTezjwpMnfjdGmM8+EdLxSggKmFc9LUCAPQLoMVUPxcCbquASEyJ+gQIxYr+DEzDnah8FKBmeGYOCIHFMpW+lxWi9xfNntHyltwiYxSq5NSK4n1W9apC5gWfnmatyK5KwMBLzDX813AB0fihF9lU9BvgkPSUBYq/C3QLjefOik3RI4+57GOuH6t2NVNlq4D1cfAO9T2hWmWRC6hnYQgCcWFYUd/wWbNoTIV3E6qau6/RJCt0poHaa5py6HYgmkPeSgu3bnjqBh8vb8Ot9OQ9vlL7Pz8GG7sqhYmcZP1Zse43Wm8zf5EJbJz6hUZnzFWgOdJdTMGFVqo+XQ3VBgtpI/Da0rc19mBDIj0HgjkBESGm8sL5uacnNzrby8POD7q1/9yvK1a5UREC6b6bv8EBVDBWNMvP+p8gfYI8boRZm4IazWh6FqaMc3K0zjEUWPmVBQFHbr9xw7autkygG4EHNR3XDEgq1kWFbitPHyQyAnQgD6kuA8MTdpL4fV9Tt3BoYx3b5EtZu0EDttiWzPR8rkb7TCagIwns78hRPNeHBxaZA0CTMV0Yqsxc8oGtYpj3LkBZoRp7qacpSOy9Ro3tbzdkzO9zcq6/hgtCFNDE47hB4dp/nbJmZ/lSJg1QUuvFKOxHzZCg1GNDDAaQuflLFiuncp/8EWJUsDnG7428sRkneZfCIIPTp9+AjRY7Zt3LWbIheVDycu4eA4owVcsGmTNAedDX8jdvuhWfDF0ToDmRHIjMArawSa/kn6yhqvy7o3znx4RuXZs2fbxIkTA7OWMTG6rKe2VSMfmJsYY32FTBQ2ifFZvLks4J0uc12fTjqzfULx2DfKnKOfnDvJlUA0otHaAV2l6DG7DkVmR/F6AzOkE5gnLZVJRT/5L4RY+Drn17x8pE0YYGUSJvZqJzcdcOZup/I3zFfCtHzhdIUi5WDbDc4wni0F3jIOv1cNamMD5YP6m51VtmZnpE1oKbxqa9dxBseHd0lkkC/sDIXq7ez+CF6gtkoa4dooMfQFiii0XEIfuTmgaYTg2uCwIhGVaVeezN9k1HZwGhmkHAgDu/XQ+G9XlLBI8+XX/FlOtuU9CseKH8MgmcT1E6OOM/FRmT4BLkR53Q35DnSv/pC/YZEEhNMKXTpFfkZoPrjmNOu4NaSNzD2ZEciMQOscgYyQ0DrnpUmwOqGXErB8+XL78pe/bG9+85vDb144/tIJJzKHzAg08ghAX85EjBlSYCNkpkCSs7Vi1h0ag6Hxupw3LBcThRZh5MCB1TROKNZcRSpaVr4lCuUYw83XAXhx3zgJNMmRhuJ9IVpTrpglQla6YJLKFdOvH5L9+PPr14fwkVPlh9AhEV3MmS3vQ3N/axiCQzvtTipoY1d1zVIs+yr70yqFp0yEvG3MObrU/iF3gvMZ4fjXNZW2RRqPO7rLVEpCAkDUI6eDS20r1f1OC8zdpOLi4HC8WKFIMWdj4yVZUGD8nMYw26lQ6NCiPn1D9c6Mhzp1JkdO/6WDBtlBMfybJegC3h5/kzhthTQXhPTNV9hqYLAEBeisXHUHYJAuERzf1TIxKleo1YnSyNWkNfByl9hc5vbMCGRGoBWNQEZIaEWT0ZSo8AIiHwJwxx132D/90z+Fv93kI/zIHDIj0IQjABPhjDIRjwbJTIOEVNv277uI+blUFLwNcjQQprRft67VceNZB0QnGi9BZaciE2HyA8SZL6LNrJQ5Ej4HAxPx5lPhhDaBSEfEqSfJVAQvZ03BCUbylBJKzVcko7PalcVHo5t2kMM1N6xP1VAznYfpBgb3bGO3FraxPnL+/b9t521+maQEQSPwnKGexjyA2y+EYy/h+oah0oD0iF5rL5+Fxmz1Ql1OO106dtIOe7EdkEnOcmmhfF5dOA53JAYQBn+DzOAGi8EnGdvLIFFugK6T92C16NG1A152vfwVjquekdKMIWgC/aQpQ/u1SWZMRMsKuPkNDfh23AnHumTrFiuRr0SJzOMArlF/BjIjkBmBV+4IZISEV+7cXtQzdrV2JOywv/nNb1oXhcrLRDK6aIgyP5phBGCUYZ6IgkLEoy4dO8jsZoPtk+21X7tUNJxtITIMu7AjBuRXJ3byugu0eztUydBIsnZA5hoADA8mFUvlr0OSqBHy1aEu8E1mhvjNeaBA9XSR82a1NiGcvXAIzCJ1y/xkocw18MmYJiGJjLowWvS7tQCoaHM7wA0j29q4LlnWVye/s6DC9inpHvkI6rCiaZauBC2BcNmrpIDfXVhpXYXjtG5ZNmt4FNIIHJtzWJ0+iFA0TqZHa8mjERdAE4Y/Xg6m+/jpM4qY1TeizSQaoxy0QcSgERICMPGJC7SHlVdjjeovkAYhX874AI72hBwmyd9RacF2qI0ACTqNfqR/dCGAbNAvyTSuhwRiHPjBKbO5lP44ZkpmRuByHoGMkHA5z149cT+g3c45c+YEjQIPefIkZCAzAs09AjDFMCCdtaM/vWS4mJuq4MgMM3KpgoIz9KfYqd29K+RncFMM8ZSB2acMjE6pmLkcfS9VhCEYLIDd2V3SMIyWgNBN0WVqY+K9H121g1yi6DREqcHXAOA+/3YhgLCR67V7fIW0GB7JqFk52YBR3QcNSRAEBijh3rtGK9u05met5Kj7XjinEJtRNCGY9JYChhZhpVLfP36hwtYflw+JmPD3jGmrbNVk2tY8t8CbzeecKD/4miwSXRG9KIBw0v8A5yqFs4QIcod45m+/lihy0RemPUMl1CIUHJSpGrBKpj/nNQkjZEaX7M8ysFdPJZLrGEKr+nqorf6LGkv8oC8uCCPYnlROBLJMo4ULQi9EkoHMCGRG4BU/ApmV/oqf4qiDJ7Wj+stf/tJmzJgRTviO1quk+5lutrIR8J3S3jKNIIHYAfnLLFCsebIZX4qggCAAbNMu6j4xVKPERLG7Ggdvu5e0aaPzB9nm/ftDBBnsyJdh4y0zKCIXpQPuf4Bmopu0CauVU6GaMUswWtTDLvBSmWuM7DfAxiTM/gIjlk4jzVQGfCKcxFImBvLvxubYJ4fmKD9ZlX1v03n7zQKFDxIEjUJ9Oc9G6EcQABK4gcsPyhTRSMzyu+WHMGskGXwjZtzpoBGaTLsKpyuS902WpojIPwvLNr7M72XXwUOizWPyRehT7e/igmS8MepzWiIvB1LGJgm+mMOVi2aL5NjsQgb3e/skNCuQRoMEbe5Qz7w2BFaJZssP7LOxit40UFqLQB9qKwOZEciMwKtjBNreI3h1dPXV2UteHHzIg1BaWhq0B5kH/auTFlpdr6FNIcWOPYnWlm9XTgIJCQN69gqCQn3pNOxwqs7T2vV8SbufmAAR9hStQbwu2oRlYl0QVeagQqJulZZt16EDcoKtDJFb8DU4r/wI7NLWBs6Y4dxcwQ6xfCB6KTxk0EIk2kC7QBK5/t2625XDhwehJY5PbfU35zV/ViAhaGjkP3FOUZ6OWd/OZ2U/387Oyy3hT4oiNFzh/If1VaZdlUGjwHdzAG0hnAAPLa+wjy+otIHZWTa9Z7Z9+rocmYhFplKKKNpyoMEARTImdxRNrNy+Q7+rRNM9A70x7yTPY6wnaGceszunxVRIU5ZIQuQWQTu2Q7TqggjtuCDh91MeeiyTXwJqFaIecS5d8HVElKb5whWhebIc7F2QqU9d6baZKZcZgcwItM4RaMnHaesckVcYVjzQeTEhJLTTC6U1MievsCHPdCfNEYBtgR6BEQPzbYKiDuEwvDoRa95pNxRI4+BMDPbee8X4E9EoJzvSIiQzNpSFGYJJg1kjIdo8RRwaLrOhC74C6T0eox5YyMjcFd8EaRMwX6INj2REBCR8MJIjJaXRrSYtAu7gigYH34xyMZYkeJu7aqXNWbXc/rxohfXvWmFfvl7MqIYjXxmZPyYTn7+KSQdco+BjEE428gESiQsIDy6rsA8JhyIJCJVZ5+36gp3WMTvyK2mT5bqdRkYizeriNI02qlQ0uFymQR6daO+RI7ZD4XILpQUgCRn073T7/9h7D+C4kvPet5kAkABzBAkCg0BkMOdN3F2tkl2Wqyzfe3VV5XLJvi5H2fX87CrZKku25fKTy7ae7Of0btlXLmdfWc/3SrKk1WqXG7hc5gSSAEgCDGDOOYDh/X895wMPhzMIJEAMBv2hMGfmnO4+3V/3mfl//aV0t2Ddsk4hTIsQgLdofhbIl4EEhan1bZ1zrUSCyVEBfUKtQtaO/5DhxQQEQgBvU1AB8oCsUG6TVEE7Q/VwOnAgcCDHOJDUz+bYoMJwHuWA/XBwNv7+0VLhU+DAs+cA69EE14Wy1Sci0ZaOdr9zWqFIKn1dr9YGGZ1blNyMCC8l0khAdi3T6CZNGO93XK8IGBUKuPWlTrwtQB73oG61gOGWw+3upPwTEDY2tLb4bLwv1NY5tBO99SXe7rN4D6glEg+7zkDRLmlSIJJyER2nfMY0N6VouiLwOPfnr451/+2Nu242gsIHEipuPHD/ZcVYl6/PkNcq6Ch2DAiBjekTgghN3pZc8o+bu9zv7rnniiWw5I0b7T637Ka7eeOw+87OU25dfZ3DhIw6Q8ln1qyB7SYJvuckfG3WjjxRjAh7Ok6qjoQlT1Nf+8outAaIvNdu35GAoTUrYqyp9W3sZG0mD8MxmSahMUst5xuIvVDPhOcdEkQuSLh4VdpnojZZm7Hi4W3gQODACOBAMDcaAZMchhg4kM0cMFDFbuVMAakLAlWtMtuZOXGSd5TsC0AxYeKIIhrtk/Px8vJyN1MJ1DyISoNak+AqaVZDllxsxGcoq3KXohvNk3kFO/4APWu3L/yjbKGiNR2XgHBRAOuEkrWd1M7xWvlcYPIB6AXSpelOX5of8DLGV7QpJ9RnPiMcEJ/fwCKhYicXJkEijsyrZo5ybxy57/IejHJvnrrvzp194CqmyWxrQnJcjM2iIz3pOBE2vOZAgoC1cfj8ffd/v93l/vvBB26qpIaJeaPcH0poea5qvJuQN0HmYmeVG+CsmyYwjHMtc2HjG3DG9aFB7s/6gbcT8wt8iFyibZ2Tn0yZ1oKFEe3r+qJcu5ze8Z+ZovExR+RESLfDb21ionRa/gsXFAmpVD4KmChlWtPwCmYjSLTq+SHq12L5ztRIwwdZm/5DeAkcCBwYMRwIQsKImeow0MCB7OUAIAQfgDyZN0wXWAe0HpXZ0Fztxqezu46PxMBgl0xmyEGAGQehGnFYtmvx8rx/gDmQwOZZgfiNCsFapV3XxaqDFmKUABN+EfQJ45UkdEpt4dHPyf4DssepvnPfb97jTY1erK0VIJwXFe6f0PHoHQbnE/xBA0K/O2WaAuiEbkqLQJbqejl2P8zGPspHD3p+7mhFabrvjt507vCVB+6dw/ddkerMVvK1gnGjkjv/QptisQf7Hn/qutiZlriOUMARqY4uoD2ALkpb8bqSuf3OhrtulxJk31aBtdNHud//0DjlsUhGMmKXfJaES9bMASUdw+TL75z7NTV0PPfrR4OaKA3SWPXl7Zb97uqtm+6VxkbP80yAPTny5CtlENgw/9motU1EJEKititJIOt8mp4V2Ma94sQ56nGxVZGUZsj8yJsnpSlr9WgDR+cNB1r9c0eiP+Y+0zNk9cIxcCBwIHc5kPxFyN3xhZEFDgQODBMOWChHwMzqBQtkXnLXbWxrlQPtHQ94AEzpyAASvghoBDD5KRiX9L/xQCmlEqAH8ENOBEJJUh8wTISiSkWcaZFz6MNQpimVe/hoMO2uPHzPSBtSMG6sK5fwAWH3b/3soYlndsmAH3zAbwIzGBK8kcsBYizE239E0NJJLlfOGu2+/LE89/PKSXBHaP6wgDzmR7/53S733ea77tTlZBuAfZyI+QevmobACw+RAME5rlk56jDLJ9XGf+xJtvmrm+66Y7rHXV37ZeVu+H3du3ImsfrpaTIi0yw5ha+TacwUmY4BxlujnDCmEaHkUBB8hnBcJtwuQsLtrqQ/R1Iqytwratr6RYtwQUna6hWal4zlE2Vu1KIdf0zCKGP3sdaYP4iIRDjwd2h+zU8mtaytBZ6zre2HvJZieUXlo3OfbC68Bg4EDowwDgRNwgib8DDcwIFs5gBAGtCCHfSEvHE+Nvz1m7d8wih2uTPtvgL4PzhwQHXy3OLycg90AFmZgDnn27XrvFOmRstUHnMMaGphkZx3z7jLChk8f/oM306me/oK0Yvt+GL/vUPJ2CYLxE2QmQlaEbMHz9SXeDvP4r31lXt1qr/vyW8C4WplRYUEm3E+3wNOrwDSMaMfOn4DPAH0mBMV5o9yyxNj3FIlMLuq0P07lWhtg7QK7x2/7w7p//SFBwLDSY2AFDouT34L1E33Tz+u33mghHoP3B7V/Y40B3+74577iwP33Xs6J/9k90NzRrvfWD3W/ejisYoaJIdl9SEpfCQbZc0Q+nOuTMXITNx8vNNJpnCzJTyYoDBU/Oe+mMFhajRBfbx9V1oaZUYmS3JPa8vAO47HHyiZ2XzmRDkYxuo5GCPhDA1BodrDRC/TWscsqUv3O6i1Xqx8C95Z2s+j+CaK19smvwkyhz9fXdPtvD9UPPOdCy+BA4EDQ86B4Lg85FMQOhA4EDiQjgNEh7murLRb5URZVJDvlin2vO2aGngxIAU4Z/d+jSKxYJ7EeduFjbdt5UnctvvYEZnPTHYLiEEv4hr27EsS5e7t1v0+t0GjHE9T7xlvj/cGuvGl2HTogAfan1i+wud92Cewyi4ytulWLrX+s/xsfcC0a5+0KDuOHNFOc757rXGhK5ZpF7vJpxTpCTMvTL+MX/E+As4NpK+uHOPqZH70w+333P9qvef+7vQD9z9O6f/sPbei9b6rlR3SvKJRrlymSNMmyCFavgR5/OoInd6Rj7R8cL0DNGZLnRI09kvg2HZbF3Vtap5zn5FJ0Y/UjHarK8a4SeOTwNbubX3iLOuBsWE69bycxLfIhIx1w077smhX3MZu9Qb7aLwjchShS+eJp1WKnrVRwiwRpNaqn5nWFnVt/bYpxwYO+Wi7zBysXFqvA/LbadU1/F0A/6njM1O5MkVSalbELQQVErPF75nkqPPZoffJ1G6x8iGUSYMUKHAgcCBwAA4EISGsg8CBwIGs4gCAzwBWUyIZ8YgwkoXama/V7nb8Ou8xkdkv04vpsk03jYDfIU0ZlbXJ6RaB9yvSUKypqvYAnmtGFQovSTI27glwni4H6kxkwOyGojJtEjDFlOSFmjoPxvBz2CihATMoH6kpUyPP6LwBT/q6XeEtyf5cLoC5UrbnFtUJAeulugavQempWwgK3lRIhSYLvH+kYaxbI4HhJ6QJeP/wPffmiQfu21cfuC2nVGCMeAsaVZ0S7YCPZ4tfUsINaQNUXA35j14wcBIMflgCxSvzRrs1CWXFlgAysSAJZZkiZol7pyPAL/OB0/mamlp/3C1wfEv5HlbJfM127g18p2tjIM/RV3p+Ug7sZyVArpaQi+CLlgrH4JmKwFUzL+mvYmVT74/PDH4ytcXFbpYEWogxYgbWNH++e2Nvs8KrnvImSB7863qSW3oTNTpF2rGE5rnj3BkfRpUoW5A9D+cVLniT8oqQJZos5JCta/8hvAQOBA6MWA4EIWHETn0YeOBA9nIgLggsr6xU2Mdb3aFRS7UzChmQ6Tx31p1RdlnMZYjoYucfH10SPgHayMfQIAfQYu3yG9k9sdPH8fnkrp0KD3rEvVivJIQ6Z6DKytt9MHXCVOPUlctunXaH2a2FyiVssNPbKpCHbTjOwaltWFuDebR7Mj7i9G+WMHNeEW+WliV89mcbG32gTDeIjD5n6hvOxeBQhAXeTxKYR7OwUrv+n5aA0HHuvjIDS2Nx/oE7Jk3B+dvSGsgc/7qEApzBZ+rXZ6n+ZygJ2nyZLdXLITkxfbRyCIx2MybKATp2Y/NdiJ+LXe5+64GyQDRjIgEY5lNoFDDxWSMzGjRFxo/uSoPwhnvQFzQ2HTJfK8zPc/NnzvB3wqcAoWG7+jVN/jdE4WItwXvI+se5vZ3HvBBr0ZCsXcqVyByuVA72LVpjPBM+gV+sHVvPHCukeWiTyRECa/2EpCDAefiCmR5mSUvLK7qjetH3QIEDgQOBA0FICGsgcCBwICs5YCCH0I0AvB8075ZttvwOJAjMkB02MAZnTED4ZIE/HI8zkQEvIiARA36yzDPqpJWADOz7DxE4ImrMYpkavY8tuHZqq2SSRH+M4mBtj/IMAMBWVlR2OyoDntnRxq7/Hdn8Hz933lXI1ESNWBPP5Gjj5mYHBSa3SIMAgH5JwozxK14m3qm+9JQyDInx8sJ7BAYiHc2eNMabCd2VUNB194EEPeeuyvcgSsUgR14nMxmFM5WQMFY+C2NTJABrk4mmzb6SrRuOAHLmYZOEuPXadX9OGoZp5FIQmIbic9rX9vtSjtbp8tnLV9wxRV1qnFfiNWHcF0C+UlqF7+3e6bZ1tHuHaxztbR1an8is3C4TIcL5og2Ik81Zo7QJ39m1yx2S6dFSrT8TkqwNq4MgMlf/+CagzYAn0M6ODm+m94LC9PJM0W4QEIxr4Rg4EDiQ8rUcGBI4EDgQOJA9HADsAFywuX5eAA87ayIe4ZwKHZMWgR38BQLgCA+ZQI6BJuy7Twq4LZTtte0qx0ERwI42IASDUmkatskR+erN5P24xn93ezJz2iHTkXppJRrVJuTrR21g/jRL5kqYQ7FrG2/fFx6kF99PtU0/yf2Ajf674ttUmWR9qLGpVwGhv91iXAgIRgw/YoEH/+PlizBT2oEKaQqqFR2J//IZyoshfwXCppqAEK9nbcaateZ7Pfp1kxRdfAhahKLr8rd4c1+zO3XxoueLL2Od7LXFvheA97amDiuqEPdBqxQnInghKBxXHoO9Wj8Qdfza0Xu0U3uOHvF5H0iKBsW1Df6EXmbLAZrsy/slKOMTk0rcG8I8iXZwnkaTBh2SnwQ5RepkysRaDxQ4EDgQOJDKgSAkpHIkfA4cCBzILg548OS8b8DaBTU+FCShGsnOTLx4IsZg85+JDHhdkonNLgGyCtln2y56ujoAKwAZzsYLpU3A8RSzI8hAF++PK68AttwIEksrK/w17kUZK+e1CbI7R5AhkhBk1/yHQXjp7oPavqywmW8pZ8Me2ebXCQgSJvRZ7KSDTfk3QuwCj2M2FP/nHNeMUuvZ+Sc5YtJkbZcqw/HL9fUeiL+1b687qh16iLmw9fEk90hXx+5JVCJCj1ZIUCTClafY/VizTdIw7JLvy2FlvI5Th3b8T8mErk7CJ/4i9NEED8rF+12rNriORi31Gp9ZyxAO9OSQOKp1eFbrcafW9Ew0ZtJUQLZu/IfwEjgQOBA4IA4EISEsg8CBwIGs5kASayaBDpFcMOshAs/3dm73x1qBX9MipAPgHlBphLukEaCtBplosLN6X6ZK6crDDMO3c3DmFMjHyZdcAv6agB65Bd5va1PEnQLv+Iu/QepOr4FPbMeJorRXQJ0oNZBd8x8G8CXeB+zPX9+929u/r5Xj7mqZbJlZS6ZxD2BXHmkKfiIAYDYU/+cc1waLaJuVA7/ZdV9X36g5G+/Wt+xzB2Kg2oD00/aDexmYR8tFro9KzMxEHoTrCO/tfk3KakzSui0SehEquIZj+R6F5p0r35ZEFGkoufp9M4+9TJf5VN3cuX6NkgwtlYy/PCNo3I5ISPjBnj3eVA+n9aFaE6n9DJ8DBwIHso8DQUjIvjkJPQocCBxI4QDgyYB1nUJBIhhsae9w57QjaiAspYr/aHUOa2e2Q6AZMEXiLc7joJyJ4kCOnVp2XLfJfhvQB9DfID8D/CFWKzoSjr6APgOH1qb1GW1CTfE87ywc38G2cgN1tD7Qr70CmT/Yu1fO0mPdqw2NimqTxv9ioG6c5e14kBwBcxyFX6qrl33+FPeeMgvv0W66AXsD7k81HK0DCKCP/f985W3A1j+VWCvcj9wOy+Qw3KW4rlsPHfR9wQzoqhz10SKwdnB+Tl1btBdfo1XyMxivsnuPH/Pt+rUX3dSX05qAELJ5ZnB2XpJI+IhJ/llQfwIFDgQOBA6kciDzr2RqyfA5cCBwIHBgCDkA2AEAQzNk509G4xsKtH8qze4pZQA/1AGw7ZJ9NyFS4yEnKdMTJYHcfa+lwEH0mtrZqR3fLXJmxrZ7lWzKiWRk90nXlu0Alyi6UbGA6d7jD7UJ6co/yTnub0DvusDlB/I9+ECAk7CXr0hAQBuCL4eVeZJ7DPc6QGAD5kXSJDwvQaFKju6bOw65rfLXwAfA5vtpxsp6gzBFuyQ/FgRYix5l16x9bw6luWMNkZ/gpCJPvSdTKISLEgkX86MoXpTLRHZlstY2AvBhaQksW/gjdaJ+kR8EM708adJI6BYocCBwIHCgJw6EjMs9cSdcCxwIHMgaDniQq91/c+rEZ4CMuscUBWZaYVH3jn4cjPF+t6IPEWEGR1Fi09uOe58GpvoAMaLL3Lpz231f9v0XZef/Qm2tHGIfOnvG7xlvl/Pcj4g2o9VSq3aJi6LoTDotISZeuv/v4Qn34P+MTLDeb231Y12eSLjlGi+5ASjDjTL1sf93Hb414vMxb/o0d1+hlvDXuCngPHvKZM1TMundk/DK5iLpKH5Q0Yzy3UJFV8K0DUpt0+ae8/iJ3Lh1031/7x5vA7yuoSltgrRUztt4OBYqKd4JrfOL8r0pl5nS6FHJPUD/3Og6JnKbJTyOVqKJycpojqkcz4NfG6kNh8+BA4EDgQPiQNAkhGUQOBA4MCw4YLvyJJg6KIflJiV++tDCRR6EbTzQ5i4IBNluMcAc4HRK0WNaTp6MnJWTmWQp01eiJG1B7L6elDMp7rBkvIXQbHCfnsiulmhnH/vz/crRcKvrDtjMm5f0VLenawZKKXNA5iNvyrwIbccrctBdmCj3O9jGB+tDT+2NlGu2RsaOHuNWLKh2K2Tuc0C79+/t3++uaafdrveXH7YOiJ50WgnKqhR1CHMhtDh2LbVNzrOG0DYUS3tAhnF2+klq11eiv6yFooLxrlaC68lLl92RM0nHbJt/BOvtHe2+7deaFrr50my16rnAKZ+1Yc9WX+8ZygUOBA6MDA4EIWFkzHMYZeDAsOaA7YYCeg5oN36CQBQJpHBCXasY7zcFujdJULih3X5AE/8Ao2ZFM+I9O7oQ7fSHuB/18SXADGSpzEImTSj04SNph2u9EUCQdtB8VCvc5GUB0fZTUTSbfvbH7mUCQte9u26zkmFtkBM1uSI+LABIJB/IeGZ1wvEhB5g3z0OdWphIuOe0ho7LbG29zH0uXLvq55Xr/VstSbDN+pwkwE4CPainKeYeCAg40Z9QaNJyrWlC8+5SLg9be5TpjawEwutMaSWaO4953xlbn/v0uUOmSIu0fgnLO19J2NCIoXnw1Id79NaHcD1wIHAg9zgQhITcm9MwosCBnOXAWZnUtCtqTK3A9iSZTEDswK7VjvBp7fLjL4C5B3RAO6VHBYIWKYwpNtsAqUw7ur5CyouBtPOKP08yLpK6/diqNbL1n+l2yzH4HFoFBAABvN7IRIn5qos2AcfRmxJoqN8XEGjtW1nqEd70zeZmt/dEp6uR4+oryn9A/H3K9Hes1v5IOsZ5XyMnYbJlX7l1S0nX9rrT0kBx3e+y9wFA27yck5YL07YKmfuwsw/RTiYycN8pkzm0GS+oD6sqF8gs7ZRrk8apr4QwwHrFvAxtwnlFSsIBGiL07nZF9qqVf0S1xgnNlanVZPXvkKJ2hbXiWRJeAgcCB9JwIAgJaZgSTgUOBA5kDwcAYAbo2gT8CxRu1PIiGDjjM5lpsfnfr11Twknul5PwbEWWifsO9HVUJiDg9LxJjq3s2K+RIEK8+waZORHrf8+xI95UhChJlO+J6D9l8E2oUWSmK7I/J0tuf8j4QB2A3+vKtHtOAswagco1NTVJ05aIV5lhaX/umPtlbV0x0jIB+5frGwSaHzifS0HCKBQv40+keaEMdFDrD7O0MgmDkA+z6989/mJrDJOfFiU1w4cBYYWwqPPkzLxDvjSENLW183gLj56xOScHyBytezRfJ2X6RFbnKdJOLE6Ue9M8zJsQYMpk/nZS7Z+NHP97W8OP3i18ChwIHBgJHBhRQgJf2Pe0y2jAYiRMcBhj4ECucOCsdu7bZfZTox1Rwo4a2fMMeF+o8Ki7ZWL0nR3bvEZhqezNcRz1u6VWoZejgTfMlQhLeUb3RVORjGREUjcloJLZRsfZc65dO7GQAbSemk7uSztvJjVHDqMHJCQQjag3EEjfTUCgb82K1PQDmcVg7/6KkqPVliTDm1qZnvoQrj3OAS8ERDwuViQocikU5Re49fJROCihFPJlMgiCtv4uKws40YVKZWaEI7LV82/SvNiaOar8G50C85gCMafci/wFHLfL7OiWMkWbpiBNM92nKM/6YL036Dm4Jq3I/9q62YftXVZR6YjqFF8jCBPUIeEbZP3pbjC8CRwIHBjxHBgxQgJfjuz4jdEXKF+M9sU+4ldAYEDgQIwDCNJ3tbPZFxOaWLVBe+vBvZ5XqE27rcT9L4+yKwOIeJbteea4TBF9Jubnue+37HfTJEgA+jxlAHjJiw9f/fdEdD+iIuEgjWPrwwzNSY0BZhtzZTa0W4D9isAh96Y/PRHN0j426HVK0IY2gcy6UCaA5r+nonGi1Xi/pcVtVhjWcsKbNjZ6UyvKxPnUUx/CtfQcgP82hwiBL8n5u3jyJPduW4sXyqhl19O34Pxc3tXzY07tXosQraXUOrZ2mdN9MitC42VrjPnEbGxlZaU7oV1+/Gog86NIbSv+mT5ChE+9J+3XXj0zCQkt5Efwa0nXzU+BcRJq9ahMnfq6huP3Cu8DBwIHcp8DI0JI4MuRL88uJUG6LJtR+5z70xtGyFz7H8fAil45AKhBkB4rIM4xm/h2Vgmg0CIsUMQYTH6gdMCaPo9VGMtZSn52QSZH5xRlpq8UB9rYg++S3wHZluuVIwGibb5HOOKEvLi8XJqAOz5xGef6A+KSWZineG3CNQkL6QCoAUmundH31psKv3pIu77LJbSsVQhWTEa6y/R1kKFcjxxI7tjfl/PwBPd8bb2rlBP4Jgll26RRunvfcik8FAZtTQD22zU3ZNZG4wQxb+mI2gbU0USRc4NIXaypOGFC1zivxDXLbO7wmcjRPV4gzXv6A+FTcavrrteIEPLUyHpk5Sr1PN2QpoLs3JBdt/LhGDgQODCyOfDw2yNH+WC7Oee1W/L7v//77sUXX3Rf+9rXsmanNEfZnhXDsh9CD8AEgANl5gC8QjC4JROFUzKDQaCGb8bDzDUH94qBltYTJzyI6t6lVX/jIMze449wUdGDfmz5ClcgjcK7MhkhgVSfxhIBLAATwLBUEWAQBKhrYDw+WpJRNcmso0V26PgIeMoADOP14KlpE4h0dFjaCsjGynvuZ0ASk5c39zb7CE4vKwmYj72v8J3xMtQJNDAcIL8AvxuEIV1TU+uB+k7t5m9SBCmybXtBIvo+MXHhmOb/qp6dCoFuH60oZX0+0rNonbF7T3K9ipkzYpGQHgqi1Fko/4RZkya6LYcOeT+bntaxrYfr6sdmOfDPksDykvqPWRxhg/06jvrNe4hEezOkteiQAM7YbK37i+ElcCBwYMRzIOeFBJvhbdu2uS984Qtu9+7d7jOf+Yw7cuSIvzTUIMj6F44DywHmlR88+zEEAAdKzwETpC/JtOHzn/+8K1bkoD/6oz9yN8yMZogELHs2iSIEiKmUY2m3rXdsKFaO0JV7JCSUCPiskE33ctlhXyUDsUKj+njwWg9WNlbdv7X1ckGOwO9H4URXVFXJvGncY2A8DqTI4DxDWgtsx29qRxbolekedk9bk4TInKe+tknIMEHm/oP7vj5AlD6TDRiTlykynfpQI+FNI4fYmBBh7YbjwHGA7wtAN47mfi1JWCTi0AaZsWHrz3UcgJknomm1a6cf8zYya0NxgS/eK4QKm/9WmQLd1hzXzZvvBQtbg75+tFaJVsQ67tK9trZLm6F7UT91jfHZCy867uho91q0FTJXQshhXeJQ7TUY6rfV5TP+C1XSWJzVuienSKDAgcCBwIE4B0YMciqMTBRs8AUFBfY2HHOMAwZ6MS37i7/4C/cLv/ALbsOGDTk2yoEbDvyC9mvXHeEA+tznPufa29v9e7vuPzzDlziYGitwwy4tZPNrXTHQtEthHkmQ1SjTDWieNAErBbBwCt0isG0gzECS1bfz3ua/rdWDw1ULFvgQq7Y7a2XtCCCj3gRFpMHh9KIEqn0yT4Ks31Y23dEDNu1Y18uc5FJMm0BWZupfUtbct6U92K1swHWKhvRyQ+PD8KYRIEzXbjg3cBywOea4KFHuntOaIKTuO/v3+flBYwCduHDenRHIxnQnT0KlraeeeoLgu1/asZrZxd3mSZnKz1JW8aVlCXdE2vC9adYYa8kIM7k2+bkslIncXK3/yRJc6uYWy7fmtDdBopyVN0EGf4VCad3QaNl6T31GrP1wDBwIHBhZHMh5IcF+sFeuXOm+973vuS996Utu8+bNfreUqbbrI2vac3e0/LiZ1mD9+vXu53/+592f//mfu+eff95hcgaFH8BH59+egYlRRBa7mvrZzj+Lo80ROQo6FIqSJFPTJ07ytx4VgTM+WLkO2XaTLKqenX05gQJ2oFqB8IWK/sMuMAmqIMZr9TjyGYdTkrERX36VnJ9nC5hxDYDYG82X3ToRl/bIdMR2Y639zHWT/SueNs0lBOb2a1cZ3wR1xoO1Hyj/AXkfAKarq1PCm/ahT5nvG670hwPxtVKjtbSurs5d1BohPwV+MhDO5wXjxrqyKIldT+17TZMKNAvs++R6ymkAsV7tOfQn9BK/d/W8ua5aO/47pAE/nvI9Zmv4tDSB2490eE2aJQ+krZq5JV54bpUAYdqP+PpE0K2cOdvndzgf+fCYIGF9CcfAgcCBkcmBESEk8IU4btw49+EPf9j95m/+pluxYsXInO0RPuqh2hHPdrYT8QtqVLSc9957z33lK19xW7dudWWyh4bsuv/wjF4MMBHRSHvrrlIgHPJgKuqDgSM0AIAnnxNBu+5GBoSWyNEXUyXsyg8oiZlRHJjtkA8CQsZSjbk80lgA2Hsi+mj9qZdvwkSFzdwm7QvmJ3GAl64NxgQQQwiplWBz626XD7fJTvG7rfv9+Q81NTmAKWRj9R/CyzPlQHwuiUD0Sn2Du6PIQRtaW912+QqgRajS+cJIO21rN7WTth6Py+cF87k6CQhEMYIyLTVbY/hJkOcAs7NNhw54kyeuGegnMd82rWG0G4RP9WF/9bsHES64UYM9dhYAAEAASURBVILyId3zpLI6x8mEgcTsWX49klkcMi1KvOxgv4c/9j/Y9wrtDw0HbH7tWRiaXoS79ocDY74o6k+F4VjWvuTjCzTTF/lwHF/o80MO+B9V7QpznCVgOEOqdHbEv/rVr7omgS4ozP1DfqW+K5XpzOrVq93caIdzKPhl4B0twtaODmU4nuE1Aql9sXncoTKEikQDMD3SIgByuM4zj2apWE7GOG+SYGq6gBnACYBEmRZpALYr3GmdfDEIoQpRz9r3JzK8UIb+4uQ6drTakhCSp/v1FuEmfg8i6ZzXrvT39uzxvglk631etuT4X/g+qnBf+pKhi+H0AHAA/hugnqh8A3OkaTpx6YIEuhbvJ/CyBOyCcXlpNQJ2e9rAp+B9mbTh67BcPgOYJ7F+etJY2Ror0EYXZkFt0ordlGBM9m6EAtYqfgjtEnJf0LrBGRnyfY7WcdH4AkUwSoY6LZNWzupZuYK8fHdZJm6dEiLKps9webqXXfNvBvnFnjf6HO/3IN82NP8MOZA6x8/w1uFWT8GBnNckxHkDWLB/Fmyg3OQAc8z8TpMpx6/92q+5r3/96+61117LzcEO8KjIkWD/A9x0n5uz/XucLXHkXRBpBwBTRvaejLJkWa4SsDanXkCGkQEOklStVVZigNYHBw44HJQBZkcUtnKrdv9LpkwTaOufgNB9j+hN5ZxiVzZthmuWHwFmG9zb+mll7RgHhoRpJcRp5+VLblrhBPdcbZ1PfEWZhyOxmuE4VBxgLvhHI4lJ2+LShAf9ZzR/J+SrALGm0s25/d4Q8vT0lavSIszzIWw535OA4BuN2uU9ggERtQ7JfwDhFuI5wdSNBH8JPQeQ3U+L0H8ulJYLbcIxCQHHZL4H+edE13mqKFUpc6ZrEj465WMB+WfHvxvcF/rKvYisdlTavtvqg7937Hkf3B6E1gebAzbH/LYcO3bMXZfJXqDhwYERISTYAr0iG9/Dcm4k63L4EhoeC/RJe2nzyw868x9MjXrnJHwiR4L98/lZkwfGAgxEKsIkg11NQjlCBqboF+8x69mjZGYF6nOjABLEtSQs8h/9i62FyRMKtUNf4+PC75B/AqYVaCEmEOqyutqNUzu+vtruD9E+/WZ3lpCV0C6ZP5kpSCofKWtjOSjNw+u7d7s89eEjMmNxMivBfAqi3UDZxwE2IaArcjhPyA9hSWmZ2yJBE3Mfm/O4oGBriihD+wTmZ0tDVDEn6YTfn9HZOmrS/eYqF8M+CaP7BLjIMD5Xmg0yjkN2P96zgqwv+EzMkXCzR3UId9pNWo/QTD1nZAI/JG0bkbU8RdeSHwb+le9l1jmgEX9BTBwJVX7t2jV/PnxvDzzPn3WLth4Jq/3Xf/3XDm01m3entc4gW9fPul/hfn3jQM4LCfYldFKxxn/913/dlZeXe0dWJNrwI9y3RTJcS/HlY5ojxhC+jDLPpH2RX9TOPFGObvY1t0DmJp/oioHndv2AIATURGZP6ebuoKLDYGZEIioEABtDuhvzrIN3Zsvs6EUlIjuhHdV/ev8977D8gnIPFMmEpKf66dqMn6Pf1GeHmR1bstge0g4vZKIW1/mnLCBt66GD7h3ZtU8rLHSvNS1yL0pIuKLdVEJjQkFE8GzIqhcD3AhyLZqnUgmxH12y1PsXYLKG8zsAmzlOBbgHtF4v37zl6rQ+zMyoP79ByTVMssAxbtWCar8+/uemD3Sfe/q8wKEtS7eGbW0STrVOTsznZVbUESVn82tMfYVwpCZCE5oRnKCh/vTPV+jni/GoRZnEf+/3fs8tXbrU/fZv/7bbt2+fb8mu97PZUDwLOYCW6Gd/9me9byhRB99++23fS1vXWdjl0CVxIOeFBJvl7du3u7/6q79ya9ascZ/97GdDngRjTI4ePRjTjh+7F2iQEBbCl1H6yTZB+qx21n/pl37J1dfX+x/qqzLJgWfP6oca0yLoonYR22VOUaaY84R/hAysWF8JEUoiqmLtqFZFgoSV8RXSvAii+7OEhiTUaIvuUSTgNFPAfiCJiEqztFvcrB3byzeue8DIDjP945/xvaswmrv0o9kkwLhOwgF27vSjQvbiB2RzTj3IBIyB7F9o68k5AOCGMC+6rGhU5TLvITrQMoXaXZEo9z4p5FIgoRnfOZbX4LJ2yjGLK5k6pTsKUm/rNV0vrQ5Zx4modER+EWjCpilXB5Rpvdj5Evn3lEhQbu489lBjpXom/MyVieYkZfI+JLMovkN7atNffMoXGw+moRC/05B9tuv+ZHgZ1hyYLE3V2rVr3euvv+7HMU8BG4zCPBsnsu84YoSEOVF0lI0bNzoW61CGd8y+ZZBbPTIgSchTVNif+MQnfPjbdLtsuTXyJxuNCQGt2tX+h3/4B1elJGJf/vKXvWkeLdr1J2u9b7W8UCdTG4hdzpsS7mpktw11gxV24QW8+IypxY2uO25JIiGH4YcJonyFNC/J9pMAz4dClZPxR6RBIDszJhvQ0/5QUZ/7YLa0VBGVrmq3mX4CwDBFgo6eO+uzJ5+UD8KLMn1aXrXAscMLmCSCzQL5NdyTsNSmXWco2WP/NrwMMQdsHXYpstFBgWiS6AGqIdblYs352qpqn8/gXQkKCLLs+kNoh25pvTaUlHqhkbaeZG6tD4ckSF65ddutraiQsHLLteszJDE0raCQ1Gw88NoCnqvrt+88EunL+lIkAYFww0fll4DJ32CTRU4rLy93W7Zs8QEmNm3a5L+DuDd8DTS8OWDfqwQR+drXvub+5E/+xL355ptu1apVfmC2pof3KHO392Nzd2jJkdkCXbJkiU+otWvXLrdu3Tof+YYSdj3X+TBSxscXjv2wvPXWW+53fud3/NDXr1/vzmjneKZ+AP0PdLQjOFL40tM47RmYHYX+PHjwoA8Z/Cx389izBKiwg04EooS0CJkiBB1TFBcivJAwKlXTkGmcNkacPQmXih15g2xjMQ/ZpEy2hdoNLtOu8NOuDbsPEWYatFO2WwLIfGku2MHdLT+InQpxOklOpB9uWtg9Pu5pQsRs1UvIhOWAQOgCRVuaUlj01H3KxJNwvp8ciL4zzly67E7KyXxNZdLEh1YQBAHitdIM5WuHf4Oc48ml8Epjk/dTaNN8luMTEIs81M+7d98D8L5F/g+YqX1k0SIlCjzoNvN5YlH3etEP22PN26mSGdNdqYQbkrmVK3Qrkb4gG0OpnKO51qHvS3KTPN7SY00/1Ql75pYvX+74N7Lz9jkchz8HFsgsjn+jMMfGiew95ryYzo82CxHgiKrr537u51ydEuIEyl0OMN9QapZtEx5yd+RPNjLbzePLe7ecaP/pn/7J7VE4TtTB8NKuP1nrvdfyz2eEYMj6el0Ont1ahKg6ZXiWcf7cLWflyTLPwbYbsvmOij52sOtEddmkuPaVEhQb5SBJ2NJl2omdqR3h9yUsECLVvi8ea6QfJ+x+5E4gd8Nm+R78YPcuCQjHfKKr1xYtfkRA4J78ew2Y7kM0JwBb6/FImxDxph9dCEUHmAN+/alNjgdkNkROjBIJspCBa5v3ckUJellaqi6ZmL3ZvMet39ss5/pxygQ+35e3cv5DH1+ogxDSdfeefFmSDtLkTcDMaHEi4QWR3nJ0+DUmLRUaq1ppE/D5sQhJfg1GfZkuU7n5EiKIoITZFGTmSlGRAT1wb8ZnfLH3nA+UOxyweWVE9j7McfbP74jLk2ALNCzO7F+cT9JDm1eOxPpHjV2kuPh/8zd/063CtjJP0n6u10GbQFI1VMPQs+IV97l684b7QIAam2l2+R/eOykg0J/9sqVmV/a5BTVyEk5GPXpYjhKPEj9GXCfnwtvyA5iohFeEGEVzgInPeMWHn6b1gRlQp+zMS7TrjwMowK+ndh+9y+OfqIvZ0U2BrP9v+1Z39cZNn/sAh9P8WBSlR+6hOsCiIvXximzYDyvp1rxpU30fn7Y/j/cwnOkXB6K5YR1t6Wj3OTXQPBkxj/zbemN3Hn+ZfVqvb8j0aImc6xulvTJ6ZN7tZIajtcllTOXapGlbpRwLhDvlGk73+WPGul0SQvO1GYZzvu+Lyj8Gs6Nx4ANzVVq7dvkhzZV2A78KBAH+EUb4Q5s1Uedn8pw95fOgZnsk4x+F4u97rBQuDisOxOc1/n5YDWIEdjbnNQk2pyxKdpLtyJdroNzkAHPM/KJJ+Omf/mn3j//4jyHLdh+mGp4RHtj++1DlqYvwFDJfkNciyI6/Zt7cJMgBmHAhelTPywGdcI/V2qmdL22Av9TDc2zA+vrtW+791hbfzGppSwBIXLOstEQkWi3wfl333qhEV0Qe8jbcPbTtb57mBR7aeMju3KJdZ8JTFhbkezBm7VqZeBOMlX5B1drpxZHbfBOolwsEf9CYcBxOZNzHoXfcmNHKyZEUEGyN2ViYV5tDnIuny1xsloRQfFBa5J8CUaY/4zdOkdODHBzVEuRxjofsGqZpJAPcLlO64/LFSl60q8mPvMbXmLXRcjwZTSu+xjCLmiUtBeFQLYP4w1YG9p3xgrCnR9R/jpCdH9i7hdaGggM2l+TAYI4vRdGzhqIv4Z7948CIERJgC+Edsbe28I79Y1UoPZw4YD/EBnifhfPtcOJPur7CM0yL7N++2NOVHbBzEVi8ph13shVjj29+BtwDmEO/iA60SyEmAfYNMtsA0NA/rqUjgBpl0BZsln34xRs33Co5ZNM29QwQ2TqZL83JCpkeHb900W2TNsPqG+BLd4/4Odq0/hACc8vBA269dpBny6b7P69e68pk540duYXHpGw6sn6RG6JcdcgVcU7CEWTRn9LVGw7njD+2WZOJB9k2FpspNF3JqFszfDZs+plu9dkckjjtvNbdJ1es8qFFNxxsc9u1BlhTrLu+rC1bh0RHwpwIM7t4VnDu5ctoA2xhWcJNlQZjk9YeZkK2tlP5af1DOF4ggeOw1thJhQT2FK1jwqESuYlwqSejRHGDMV/exE5jADT+4i/+okskEt4k+ILu6Xmk5z7Q8OaAPfcky/vKV77i55hgIggL0GCsq+HNsezqfc4LCQYOj2u35DOf+Yx3mvmDP/gDn9Uxu6Yi9GYwOGCAF2ASvowyc9h4Q4KbHTt2eIE6E8jI3Er/r3AP6LAiGhFxpVomYjjx2g+LtXhY/TqsHVKyzVq4x/QQLfmjY0Bop0xDDsvReanAB06akN3T2rbPNdqdXSSzkBY5Re+RQALRjvHGn0jzYqCPdi4JzGGDvkc7vovU19WKYFQuIFYjP4NT2k1GuwDZPdM0130//DKIdERGXQhbcgOs6epl87n4fLKbCMGD3nibDWNKrlCibp2Rn8E9D545h9CWOo82Hnxn9us3Z4pA+6JEuVtTU+tqFbkKp/lNbW3yLYhyKWQQFhk3bbH+EHRJ+oevDvkQ8KWJ85MyrEE0ZPjY3FA5ErtZGQv9G+el9RNtAoJ3qxyV+a3ke5K2oBIJ7IUyx2s/E0VO0n0Gmuz3mc27v/3bv/V5Ev7+7//eHZBgD9n1gb5vaO/Zc6BT34mf+9zn3Mc//nH3zjvv+EAy9GK4fA88e45lxx1zXkgwNm/bts39+7//u/voRz/qvvjFL/r071yzL0srF465wwG+fAAklwXOoNQf9NwZ6dONhB9ieIOA8BM/8RP+h/o3fuM3PN84P1g/1PbsYQ7UIpBSSkSjKC8CIwKqAEvYFd0h0E6W2SqZVEBJYO7fPvJiwIiTmHfsUTSjeoFtswe3ez5SSR/sPM6gmHMA5g4qAaMndcKup9aDNyaQEHXpjT273VnZrT9fXeNWyoSpYFyer1JZPMfnQNglp2sLLZmpTVun7PRWyKwFbcLZK8k1/ED3G27EOBkTOUsw/WOzBkDIs8n5THzIhnGaUHZLwBvTG0zHZmkdQkkPkkd7aXNHSFJ24RfJtwahlzC9q7Umlsphfr8ExQ2tLT5PgQH8R1tJrjdra7/W8aFzZ9zy8nI3R/4GkF2zemKjJ4B9kzRth2SaZOZN6SRLq4/vRJ0E8yMSwI8r7CnENeYEoaNMGrbjFy/FtFnGEV/0qV+sHxai3PIk2Ge7/tQ3Cg0MOQfwc/vUpz7l/uM//sP3pUYbKJB9P/gP4SXrODBihIREIuGZ/93vftfH550eRabIuhkJHXpqDhioPSHgyc7Fyy+/7P7t3/6tG+xmMyh56sE/QQPGL/IkkOjmueeec3/5l3/pDh8+7Fuz60/QdI9VDAB0CHxdu3Pb5whgV7N7Zz6qvUfAmrwJRIcxp2ID5vEbxOELkYy2drQr1ON0t1S7q1BPP0YGjNhJJXdBscx9CI1K0qx0YJD22EmmPKZQzerjm/v2+jj0H1LYSzQiyTKywRfgGjt6jPpf6rUBO+V8amP0hdK82O4vUWjQJhAXHxqOGjFM/iB2iz/96U97QeEnf/InfWZvztt13mcdRbvqCIBXfPK02X4u082ffa9ckVkSycownZsb/c6wRhAWllRUutWVVV67RUK9KzJHYi1TN75+jQ8AdwTkGvnh4KcC2X2sDEfWqJ2v1zqbP3Wa23H0sM+czNqmv6lkZ4imVZif5wV1M4ez8jhHQ/gLQZEs4t8PxItFTitRpLI2aVi+853v+HVRJmEKYr0HGt4csO/5KRKu//AP/9ALCTt37vSbUcN7ZCOj9zn/BNoCbWpqcuRI+Nd//Vf3z//8zyGjY46ub34o7Yfl3Xff9TaQmM988pOfdOf0Qx/ocQ7YM1KqXU9ow4YNPl75YO7mGUC5KeEAX4T5U6a5Yoshrz4Y4AEkkROB3X12SaGMQEVzz1jOX73iPpC5wiTthBJNiChDtGfj9I2keeE65QoU3WiNdn0xtXhfjsxkSLZrVKPvfp3J/Adfio3aFd7c3u4S2il7VQKC5XdIlhF8i9pFM0DuBHZtD0VaCsqkIxNMpikc5YJZc3w4SkK0QulrpGslnHsaDsBn5g5zH5KnTZtQ6OZFoD/dGqQs1CozozuqU4cpj4RDADcCggHvegm7L8j8CI3TegmW+Jz4uipna4vP1ySUbJZghR8CJkvWht3H3yz2wnnuMU6C9jJFP+LeW2V2hOlTOo2FjYHIRo3z5rtjEog7FVELMiGcyEZo8I7oPP2xe8RuO2BvCcGMpr+2tra7zUxj7S4Q3gwrDhBx8GMf+5hbpPwezC3ff2GOs3sKR4SQYAtx4cKF7sd//MddIpHI7lkJvXsqDhjwStUWjRP4C/Q4B9jNg2c8F+z2futb33Lf+MY3HOFQOW+7fY/XfIozahdqR4ugzLFVMscxLQLn+eFgVxNnZcKVAqwgQFC6HxV7xn0kI+1IUm5tdbUPJ2rXfAO9vNgPF2YYayRgYIP+flvSNIRr/v5qg/en5eSM/wGmHZiCPF+r0KoKX8r94vc0MMat8XuYI+C1U5oHdpztfum6FbHIayWAj/gmwDXbeU5XJxvP2fqp1nxg8vlTP/VT7l/+5V9cQ0OD765dz7a+M4fQSQW8OCNAX6FddQTI+Nxan60sgB9zoiqV7U6cFhWKz1vlnDluXX2DB/BvSVA4IWGYtcBasXVGPoRrMslaLu0Dpj/cw8C73Tf1aPeYWlikehXqtyKC6RmC7Jr/EL1Yv/GbmaEoTJg2kRmaPqD9gCp17aqE4c5zUdSkqO5AHuiHBZngaP0ayHuEtoaeA2ilbZ6ZY9ZZoOzmwIjKk8BUsCjD4szuRfk0vbMvHY4kA1uxYoVbvHix++pXv+psp9zKPM19cq2u8YQsy4C5yTK3gez8QI7Xnj92ODceaPPgZFFZolsDZPe1nAjLExVursyGAOjpQJK1x47vRplMnRJQe172rtThmgaRWfuQbmD8bqka8eeLJKDsP3HSXROgny9NBru5UNuJ4xIeEEbuy/+g1puCGAiDZ6l84zP9RxDCtIOEXF1ddx3ZbbkGHH3s51InOIej6m3xqlW72fNkk44gAqXew5/Mwhc/PuZOvGOXmJ1ENmxMOM3GcTAfttZ2dLR7R+PlMhPKizYaUvtsnzcfPCDg3+VWVi3wuQcARabZZGqMFxwRRGdLYOyUgICmgrU2VUAd2qvM3PjTLEskJEAnTdc4b/fhfSayMrR1R2Z6+2R2OUkheM3h365T396zLvPGjPX3nFwwXjlIJnWPf4LW2wlpv67cvOnKFHrYhHmrm6kf/T0Pn+x/oNvub19C+YHnAN/FNr8cwxwPPI8Ho8URISTAOBYk/wYoBoOZoc3s4IDN81iZmeAc9fzzz7uZUVz97Ohh9vbCng87DlZPmaMDAi845S5NlDuyvAKiIcAZzr0fCHABopbLdILyenkMSLPD7q+pHhFdyEuwSjuv2Fkb2XX73NvR7kI9dmTH6kh8+lHq3vRJE9127fBulb8G2ZRfqK3v3jHujWfWj4njJ3jQT1K4qXpPPP10dREQ7DzaFBxn2YUjXCtt2bXexpMN162/9CUuHBhPsqGP8T7gIE7fzsjEa6ec2NlNZ7c9Hc/tHKY627Uu6rU5gaaA5TxqtK2mh617XvBRBRD4iiX4YUq2V4InmZzRoJEBvFQCO4IJgCqTgPyw1UffWZ9mao2ekiYEUyLug2kRbcX5bmURii9IY0JSwYS+LzHT84It9xc/EFJnKaTvZAk3PKnxNh69e/8+2f0xB8UkeKK+CwoijdxA3aN/PQqlB5oDNsfkwMD8F60+SU4DZT8Hct7cKHUKwpdOKkdy8zPzzBcT/5Adc3O0Azcqez7sOHAtJ1uyHwuixbQJ0AO0SwR6o6teQKDMXmWPvXP3nlscaRh8vTSdMQiG1mG3/ptkzlMnx03I7pWmWq+nbP1QkMhIS+RIuV0Ox3/39nrvH1Av29p1DY1+55f7QH3hmZVtUpuTtGO7WzvGN2RSgmBkQpJvLOVlioSVmjlz3UGFijXfhJQiw+Kj8SjO32zrOLMJMIcIzYsgWiHH4XRkYPmuQHSz1uwkgdvqSED1Amy6SjqHAAgPmHOExBfr672j8zvKrfEvGzfIn6bArZA2wnbtTauRobnHTht/cfQnbOrtu10Ko5rUiKSuNSuLL0O9nh8ctA/p2YTsvmi8CsaOU06FM/654ryt5cdu3o8TCB/c/6w2C4h8s3btWn/kM+cRigMNbw7Y9zACwhe+8AW3evVq7/NmYW4HYh0Nbw5ld+9HnJCQ3dMRejeQHOBHhn/IjgPZfmir/xxIwulktJRLiuwCoAKc+N3NSE9AZtlDiqbSqB3ZmT2YPdmPy1FFMsJxuFzmQIvLK3wrvr1o7vvfy8drsHvaefG82yZfgjkSbAhnaZGW+rO2KEu/x2tHFw3KOWlMWmRWAqUDXlae6+xO5wuotR4/0b2TazzgejYT/WQsgMLzMl2xz9nY/wcyIYMu37juoxARIQtNF5Q619b/Du2ykwejVsIjO/KsPwPYvmKGF8pg+18kgXGVzPzuSYuwU47PaK3MrCxD1V5PW19xPl5RXqk8I+fcPgnSULq1xvliaS8qJBA0a00SecmIvlTKz+Ko5q47hK9dfIoj6wEisdYbb7zhlixZ4ohAeEjaOsj46z+El2HNgVMKQPHHf/zH3tyQnAlbtmzx44l/xw3rAeZo54OQkKMTG4YVOJBtHOAHH3CCY+QBgaqZAl6lpkWIQCS76nu0I0vm2LrIWdkEi/h4TAjAURS/hmkqz84rmWL7CtDi7cXfcz9rHwCH4+dGmT4tKU24FxfUuMvaacUM5UnJwFuZQBcZb7EZxyQESjdWuw87zjVKyEXM/DPKUOtJ/Mx2Yt4ZMxlX/+zP/swtW7bM/emf/qm7IRDKeQOK2TIO004R9vSm1mqVeA6lAlZbz0ToInEajr+VUdm+zgrzbcLEcTkGjxcYf01+G1f0HLwjh+Z4ZKKe1obvYJoX6/MCCS8kc8Nh/riAfir5edA84XNDEr+792ReJPOnOJGMkHC8R8UXKJOgEa/T23t7FgiByrrAFKVeWpX50bNv13trJ1zPfg7M0vfdz/zMz/gwt/S2sbHRd9q+H7J/BCOzh0FIGJnzHkYdOPDMOWAg56hMCS4o0RRZiM3u2cw7cAhmd31JotwnIhNuecwPAVAJQCH86AcSEKDV2oUlAsxTCwjcUP+0TxK391tblG+hw8ed/8jiJe5j2um8JYdjIh5ZjPsnAbkG3haWJuQwOsaRC+KOTELSAS8DcIwTu/hCJWjbr51e+NlXMErdoSIzGSEO/mc/+1lvWvLLv/zLbu/evb5LT8K/wRqLCYcIq+3SZhGJykLaZgKsJN27IK1Dg4Au2qX+gB60FrR75vIlacMOKZngZPdjq9fKvC3hOqQh87kU5DRv64I57w/Z2qH+okRCwneh23zoYHc4U1uHtGlrabZCEaM1aJXJET4KRoTjLVX+BfjCszEQZP4phFv++te/7r797W+7b37zmz7oBH3L1shXAzH2kdIGa5C5nCQN7O/+7u/6OW5ubvbBC0YKD4bzOIOQMJxnL/Q9cGCYcMDAu9ciSO08TbviREqJE7vzmDlUy/4b51xP2F3EyLej3c4umWVs0e7+hevX3WppEDCp4IcIMPSkZACRHzXCm761t9m1S6BZIROm5+vqfZQhfAOInHRVYVuJZHNL0WPMsbQ/9+UeEBFulgi8Hb14QRmekwnT/I9qSmNWHm1ClQAVceu7tQ8a93CgQvUdQoMATdDYIRub/zDEL7Z6Tmo+yJiMOZxFtIp3zdYKJkn41hB1Cs0Q1NfxJJ+J0dIW3JbTfbs3uyPcKYIGIX9fVNSsM9KUvb1vn3J/XE2ubc11HNjH+5TpPc8E98KkaZnWMmFVt+t+NgarR78R2OAB4yZL9N7IPIkytIPJGz4LJBmE+jpWXzjDi7WR0HPw8Y9/3FVEyQ/tfIZq4fQw4gBzybpFm8AcW/hjzoV5zu6JDEJCds9P6F3gQE5wwMAXsdaJOU8m4W4tgn5ACF/Kbvo4JYBqkOOx/aiY6QdMMCEASEzW4g6ZPSwX6Cmb2T9wlo6hScCW7CXajDe1y42pySsyfWiS07JPZBXZT5PUbXVVlY8Ys127v5gkAaD6C96sPNoB7MB3afxm763GHukmPSPcKlSh8hOU6A1nbUpl+4+s7QYD/t566y33xS9+0dud19XV+fGYFsl/GMIXAyxdWotEkiJ52lzZ6EM2V/behNED0iIAupuibNrxcr5ihhfK+TWjGdwje/xTVy67lYriRdhS06xUFhe7lyScXlf7JF1DcGGu/bPRo2Ha4ze1549kcIuUNPGgtAEtsguH4n0eFTlsEwK1UuZFRB8zYZSysyUMzSya6EO2wicoXt+feIIX2mDc9j8QbT5BN0KVQeQA69bmlyNznO3fXYPIjmHTdBAShs1UhY4GDgxPDtiO5W3tupMfIKlFSAJ7A1sdAmWHBfoXKeoPu+We9KNiFP9BaRE43qN/HJstydrTgArq0g9CT26W+dIGZWumj681LZJGI6nt8GUEoOw+hFjFJGS//AmaBe4hD97UVl/JypMZd6EEEWruFmA0ftm9rL3RyvDMuckCr/gyHBNoJAkXlFrW6mTD0cbJcd26dT7CyUc+8hGvgaHfnM8mwt/juP4XyIafXX0o3keb4bMC9mgRANPdidP6MJa4YNcurVqz/BmaSua7hNqBEJpsPtGovRIlnVsvjQLRliCEZyvjT/TyQv9ZV1C97lUmYWH7kQ5pzC49sm6ZCSuHNoHkcWgT7Bw+P1XS9CHUYCLlqQ9jThbM/Er/GLf9x/mduVa4Mtw4YPPLMczx8Ji9ICQMj3kKvQwcGLYcMAh4XID2pEyK6qVFAGwYyLmqJE3b5Rw8n8gqMmeAPFCORuyhTQREiGS0RaYSCYH3JRWVvsSTAk1CVEL8WF1UeL63mvf4WPX1AkcvNzZ15y+It09Z6zcahlrt9m5TbHzs0q2tZKv+Y59fpiv+/EKZmJC9uV1O3dZWagPWNiE50SYQGSnev9Ty2fLZ+Ga8o1/Z1G/rC8f2M6dcoRLYmVN9ap+9BkDliDLFOm0Q6Lbx+De9vURgHROizYriM2/KFEdI3HgbcX7NmjxFgkKjmyin5nfkI2PRsKxMb7ez6/QbbRRhVZdKA5evZ3CL/BMIRxxvy8Y3WYJytQSlTgmjOHEboY0o1NpDwIF4vu1Z8ifCS+BA4EDOcCAICTkzlWEggQPZxwEDX+zStwlIs0NfGvkiAEwgduKJ447JRtroRAJVlDx39YrPcjxVbaySHwKhU61931A/Xnw936pzRwXMv79ntxymr7m1C6p9KEoTYuij9dOa5zPgEBOkZTIRmS9HT6If2a5+JHtY8R6P1haF0E5g275djtLXJDhBcYDKZwNw+DKgTei8qF3vKFqN7fZSLlspzsv4+2zpL+ZemLFVaVefUKaZCNOfA9rVb5hb0p0lWQslU/Hu87ZeeR62HDrg1xbJAtM5PMMf/qmDGRJ5OYrl2Mxa23m43bdp17tv0Msb00bRHv4JrPkdMt2D0rVFVKQiJXhDMMEPCCJAQIVM/A5r3SFcJ6n3sUcFwyFwIHBgGHEgCAnDaLJCVwMHhisHcHQ8IdMGstEaIGIsANwW7Uiye0+MdigONwxUXb9NpKFWD5LXCMgTt92u+Up9fKGO1cMudre0AG/t3+fNKl5VSD7CP0JWJlOzyV3ZBz4C00olqyKJ1nvqH6AJrEj9vpK1BV8Wyl78tsDYLmlWIIBbJqqSFmOCdrxb5EPBDrEJEJnKD+V54+cd7VqflmkZR6g/fBqs/jNTxmfM3uBj2ayHZmZ2zcaA/8xe2fNPVK4LQDTkr/l3Pb9YW7sEzE9cuux9atAi+dWSYa6pgwBYpDX2Yl2DqxRA3374iNsk07h79+/5vvdHQLQ+oI2qU/9bJbybJsx6TxnGRKbvOj0TaACPyD/BqHRmMrBAR7f5k10Jx8CBwIFc4kAQEnJpNsNYAgeyiAMGqnBwJOY6WgSz8QeEsJtKFuOpE8a7WoWPhAA7BmLi9T9Q+MxLCgVJJCOcKrmmgv0arbVH+4RwfE/Zbbfq/uUyXXpV5kVztIvv21Wr1oeebmDgHh+B1RIU6PsGmYMQPpP6/QJu0Y3mKnEXJkwHBFYJFQtZn6Iivm3OEa2mWuZZ2M93RtqE1LJWZyiPCGPw46a0I1/+8pcd4S6/9KUvuasyt/F80vUhJdaSCLM3HHoT02e6aXLOTSVbE5i8HZXpXKPMjADunvqwFm1uEESaJWQ0SGDGOdmT+tDTara1hiD5XG2d/HFK3F75MmxoaXH4+tj1ZGO9v1pfFifKfb4StAmEO31kPqIxVRXPcWjvWk+e8Gub1uEP5oEkPWS9BwocCBzITQ4EISE35zWMKnBgyDlgoOqktAgAWbLRjtfOtwEUoqsQZjIJth7NcUAZq79DEYTI9EooUjNVYnA9garUwceFDxxTfyD/AzLQ0iagC81EvExq/UyfAWf0lagvRDwiJCs7vAhG/QFuHpxFYBXHUpLJ7ZQ2gWRaXDOepfaDRF9oE4iyc1dgG4fATGVT6z6rzwgJUKs0Lb/1W7/l46MTLz1b8iTYOiPTN1qc8tmzkmA5tgaNp4Tw3XP0qCtWyN2EykFc620t2tq6qPW+uf2gz4eAszr17JpvrIcXW0+YuaG9WlFe7kP0vrN/r897YNeTIk8PDemSrSmEjpVat3e0XhEUENxZQ75PKsfY8pTlG8fqMzL3M8EVv4YyCdc3FL61U88RZDzyH8JL4EDgQE5wIAgJOTGNYRCBA9nFAQMqd2UOgTmM90WIIgUBUHDa3KfzZdo5rxDQhQxo+brRLua+Y0f9jmmjNA11MQdRA3Z9GTWABwAFHdBu6BsSELru3XXrFF6yO7xprExf2kxXhug0yxLlPkoTgg3EffsKngzkIbAslCPrReUTYPzpyIM8XaAsJiOdythsvgnG+3T1huKczdUUOehCu3fv9sdpZl4WzY0/OUQvychbp7wTMY7CkK1H/z7q4yHlsrigeanXeixQUjsvIPTSf8owt6y5LQcPegCOP8B4Of8iQNna9Dft5cXWCMWaFF3rOZnenbp8xa1XyF5M3Xxbul9f1pzNCzlGCCV8RII4YXUh2omPDeG8WHxp0fNzRRo9aM7UKcoyTTjU015Atfb8xfASOBA4kBMcCEJCTkxjGETgQHZxwABWUotw0UdJmSD7ZghgRE4EwDtRXQz4GMjw4ETljsiUAXOgMoWBXCwQ4+uqjpXzJ3p5MQEBEEjytXe1mz1TmWMxLyqNhBYr00tTGS/THwNlDfIpwIxkrwSgvRHAj1/P2Eh0wYM8vfe5EwTMWqQhsPj4tiOf2ga25UXiLQKQaTCsP6llh+IzO9NQIpFwmzZtcl/5ylfce++95xZoNxyy6/7DM36xqDzshl+WuVG5kj3hEM+asHVmQhfmSM3Hj/nwoeTK6AtR19ohHwIatSWlCZ/FmTl6krEbgOf++ES8JE3YVfnsvLWv2Z1SEkDu19c1Z+ukWu3UyAxsp7Qkphmw8TEGNAeNir51UcnjeC4hhByezXMS+E9LSIWsPf8hvAQOBA4Mew4EIWHYT2EYQOBAdnIAULtfdtNTxk94xEwIZ0dyIhAK1fwLDBwbYD8rR8lNhw76uhbJyK71ZbQGVmiXiDVvKxnVbu2SNmkH+CVFiSFzMmX4t3v3pd1MZeKgbGlFpYDkDLdNUYosrj31DGxmasPOW98XaqcYcIZ5S9wMxMqZIIbwhTbhmIBad4QlK5QFxzhvVq5c6X7lV37FPffcc91AlutDReQbIBkekbemy+4en5BUst4R4efO3XvebI55wVm8t77bXAKs8UNYICGkpiTpHJ96n/58jvOUXf5X6hv8WiaXAmZTULxMpratDEf8E6bIP2iLwrIiENk1Neyrwxv8NcgNYlGNEJbIpXCoh7C9me4dzgcOBA5kPweCkJD9cxR6GDgwrDhgwOiEwkQmk1Jppzty8Lx2S7uxx45586O6yFnZBmdCAADlA+3683ltTU13JKO+gnnuD8CBAGdvNjd7e+oXq2vdCjk+9xTe1PryJEcDVQDI1TIDwcTqA5mXWMIqA1u9tW3tTJZfwmJpJjAlQksAMaq4sGG8Lpc2YbJ43CoAhzbB2vCVsuDF+mP95Rifp6HoovWFjMLY26NFMJ8ZW2tW5ryutypxWoUAuQkSCBg9kUWcuiQ/lW0d7W6SQociQFJvIMYe5yk+MS83NPn8Du/ImZms4ZCV6amfVgbTtRXqH1qJHeovzx/XIPoLTzCzIhO5CQUkPsSBmTWK4zNEvUCBA4EDucGBICTkxjyGUQQOZA0HDHSgRQC4mrMx0IEEVBdksrBUu5YWCpXyJiCwY75VGgQcmp+rrnYzCA8ZAyu9DdLKosUgzOTbimAEaP9w08JHw1VG4Ke39vp73cbO7v5zNbUeWH0gR+YrsmO3a31qM+ofuRNKBcL2SLCy6DOM0Yg2IcAtAA6wdiKKdGRlsuVIX40H9n4o+2a8Oyjwj/N3fJ1av6xM89FjbowyXtdK+wWxvuyalY0fk+t5tCNc6g7yXigCEJG5WBe2RuPln/S974P4SpvTlPvgZYXxnSVzuveVNZzwvhBl4mvGn8zwggC0RCaARNcisAAUH+ds+ZVUSyDFN+HclSv+OqZxaGMOmwbDnw0vgQOBA7nAgSAk5MIshjEEDmQJBwyMkF35uOyjKwUgJsncCMJuGWdlQEaJbJkhAzDsUgJ9AfbtCv25Sjua8XCpvnAPL3Zf2iO86TvKfUAWZ2ymP7xwkTNnVO4RBz09NPnEl2xMJKx6XoLCFfUHQeGW/CLsWm+Ne42BgB8260vkj4F2oFk+DoAxz6uYoGBjL1P8fLQXCGckvurrvXrry0BfH2z+96W/ttsN0MVMC/Mw1im8NC2ClcFGn0hYC2SzPz0Kv9uTL0G8DRyB2wWel5eXy9F3qu/aQI+ftWJzTVhczOkSWvf482zWumPN2PVMvOG6jbdWAQLKpTHZpoRtRAIzsnVWLUEJbQgBCSBCB88RX47IhPCGtBDxtqxuOAYOBA4MTw4EIWF4zlvodeBAVnLAwAhmL0VybEzIhAPCcRiQmzd2jHdW5hygg3/qQPu1W47fwEI5SMYjGfmLPbzE28C05w1lTz6msKtEGnpBEYxs95YmknfqobEBu5S801xpAdYoxCQC0zZpSGwH2gBXj7eL+DJdO8OL2d2VL4c5jYppD6tG7702QU7Txy8r0pGENMh4+7BweOf5ErGhXbb0cLJCwixkOhrmB2GB6Fz7tKOOpsES7fmCfXhhDnbIQZ/M2ABvqE/z3oe20xWxZw8fgee17uvlp9Icy6XAdRME0tVnvFzHcXtJotyNV/QmzP5uWRjeqBLrkVweRDXCVAuqlACF47fl64iKhkPgQODAMOdAEBKG+QSG7gcOZAsHDIAkfRGkRZCAQKIx6LB8AwixuETOuJNka59KxF/f0tHus8laJKM4+E8tb5/jZQ5IMPl+824fjpGILzj+2q77swbLwlvdgLBKJkNL1ZcWmbXsVoQbyACdjSPdEfBqoJLoM3MVgnKHtCPeqTR2jXLGe7Qvs2SiRUZgtAmQteE/hBfPK/iPCdgRaQhKtMM/Q2FAIdMimLBw+PSZZKZw7Z5PlE9BfL2lY6VdvybAjAPwxPwC+SFUPLN1aOtqrDRQq6prJCgnvCbjXWnW0LDZ85BpTZiggBZsaXm5D8OLuZTxBq0EVKmwxWRj3tt51H+eL03MFD3Xh/UcZ2OELd/J8BI4EDjQbw4EIaHfLAsVAgcCB1I5AOgwAEJirwIlYKrQ7iKE4+Yu7aiWTZ+u0J7JcwZSADWYfLwvs4gZAiYrKqseC0GZei8+U59/6qOl2Cwb7HfaWmT2MNm9InOLbvvyqEy6Ngb7HH0z8N4oTUCdhIUdRw/LqTTphNyX+xvow39jsQAftu2PhFaNGjHeo02o1X1OY0Yj8w+INgI95IBxg8zJN+50ORLSQbYmmTP4SSI7y/FRZZmRe+ClrUcclgHWVyQorNR6xgTIrj3sxeC9szXDOBclyr0m66Siha1XhK9L8vWx9WDjTe2JXSe0bt3cYu+wfTDuOC/+4LBcI74du3DRJ1gbN3as3xQ4deVyt4mSntDUpsPnwIHAgWHGgSAkDLMJC90NHMhGDhjgOCnzg06Z+pgWgfP7ZEKEQzI5ETBl4BzwATBCtKMNba2OLLKEOrXMx4C0TASIoy7/hGIkvOkexa9fVFLqzYvYBaUMfwZ4MrU12OcZB31hfOwos2tNaFfs3Okb1/pKxVOnuUaZE+2XENYZCQBiZnd1ezdf9uizZSO+z4fsTGoTuguN8De2dhAAOqTdmj1p4mO+ArbyMEU6q/C5TTJ/63ay74F/ttZw+MU0DK3ZPAnGQ0H0xZ7Jmnkl7gV8YyS0vKWkaxZtK14m3kfGb3UXlZW7WVpL2+UETQJEfDFMm8AmANqDZj3fPGs4MI8bPUa+CWf1Ca1M9mX/jo8zvA8cCBzonQNBSOidR6FE4EDgQA8cAFAAHjgekkkN0YRs55XdbEJHkmCMyCgQgALwTAbaTdIAYD6zWjuuqTkT0t3SwkpyDROlHyh78lmBl5dq6txy2f4D5qwMzpXZQF5QkJkGGXpXVVW7SYr4tFHj9qCrD4JCXJioFeAjnj9Opam24tyHOSiQNqFau7xnJUAdjSLOGOjLBn5kQx/IJ3FeGq4F4hMCnPHHhAhMkVqk8Zknp9xSOYRDJgSk67/Vx0Z/mwA1oVJroxC/1ma6eoN5Li4E4Bu0rr7e3ZOWY/3+vdIynfW3jpeJ98XWHM/TispK75tBWFSEfZ5vBAXCGtdIw3JGWqt2ZaJGY0KggKMyK7wo4QoywdWO8XuE94EDgQPZz4EgJGT/HIUeBg5kNQcMIJ2+fMkdEfgyLQJmQDtlQz+9sMgREQUCXLDDCG2TzfZRlV8m2+f5AlW9AQnAFnVpg/CO62VnTc6D15qauoUSK+NvkEUvCFH0DX+MNQrtikPsRmlQrkV24lzriUwjgaalaX6pu3j9hsyOjvkqcVHIWoGfhMLcJ8dVgJ0Hgz3dYARcY50mhdN7rl1ahMnyMbDMyQaWuQ4RFvWq5qZJeSriQkQ6NtEu9W/IFGyTHH0L8/O846/P3OzXe3yG0rUweOdsXPQRTdTL9Y3eIZnQwN25NyLhMrUXJnTOlAnfskSFntULbl+URdz4hEkSZoLN0lrd1Vhr5DtzU89957nIcV6NsraHjgOpowqfAwcCB/rDgSAk9IdboWzgQODAIxzwwIudWJ09dOqUB2HVsomH9hHbX7u1jTLX8GZEACaVhZrlo7BPO7UN2hm3SEbazk27W0vbBvAA1RsEcAjvSJjHDyn/QXd4U9U38OJvkmUvBrro7xppFMgFsUWgEgdjrvUmKBjQYle4Sv/7TnR60xGGCX8ga4cIN2gT4P9hRaHxFJVJfhh5ryZAnZUwe0LRpghpyk55KpE4jazCRCUCWHuKhIfUsrQJEIe2tR/yEX4A1JOl7WE+bb37AkP0Yv1jjRCZ6GX57MwoIpdCm7J5H/G9MmHisS5GY6uWJpDQxbv0TKOFoDzCOvyr0wbABa3lg+LZdDnNz5PG8JDMrRCaKMeapKyt0cfuEU4EDgQOZC0HgpCQtVMTOhY4kP0ciAOvDpn/VM2a7QESzsh7tbtIvPVynTMCTh0WgMDGOSF7bez0IQCEgRl/Inrx5/Wea6cE7N6UedFhmTCtkPaBMI8W3jQO1uL1s+29jRGgv0L5D9oFuDDjgEyIyNRn6vpdWR0btcONc/gOCUsk7OKagTATJsp0j5kChfsVzx6tTrxMpnvk6nl4Y/xtl9CUL96RVwJi7dj6wxSuRdoXjpYR3NagL5z6onYh/BAOal1jVgffIZtr/2GIX+iLzT9RmtY1NChJ33S3pb3dC6q2rmwNWXdZSzZ+nlW0L1tV5+rNG17DQrmEhCkCBvC831I2ZjYFLur6SWVc5/NOOXHvlkYxm/hh4wvHwIHAgZ45EISEnvkTrgYOBA5k4ADgAeAFoUUALtUIJEE7BV7HjhktwFDqwQFAll3VM9rFxXEXh8fVCtE4Vo6OHoRE7fjK0Uv8fKuA2w+am73pzDoJB01yCjXQ5wFQvGKWv2dcUL1406T4+ZhqPBKxKLqebhg25iky4cLs6KT42aL6cYIfgD5MsWqk1bko+/qOSJuQvHO89Mh6f0F+GiRGQxMDWPYU4zc+BW1yWG6YW6IMxhN7ZI4BaxyBSdw3V/4LCxPlUZPZaWJjggL+MeQQqZNPwR4JOO+37n9olhbjB4OxOgjkqyqrfHJAojehHYAwx2rQOiZpIALYNGkTCuS38M1tW933du6U9uGoF2R94fASOBA4MKw4EISEYTVdobOBA9nHAbQGB2XjjXkGeREOKvoO9suYEmHeAJjA2REHZRyVwSDPKdqKaQEAIXEyEM157Ok/kO3+BplGYGP/qvwPsiG8aby//X1voIt6S6VNqNCO9lZpE9CweNK4+wLmF8j+u0TmMM0CeThB0y5O25Bx1LQJbadO+JCeJmT4QiPkJS5skq8DcG/arfhaY502Hz3mcxuY470JAqms4jy8JEoSZka8J9ypRe9KXdOp9Yfys60/nsnVeg6XlClRn/JBkEvBTITgS7o1WKzkgOReaJMw0BZlXGYsPJNlukam8/+54T1l/e6UcHrdCwf5ElYxf4OM3/5DeAkcCBzIeg4EISHrpyh0MHAg+zgQB15oEQBN9dpNBDSRE2GWQksSehFipxGwv+XQQb+r/Zw0CAgP8TZshHFQdlF2zj9QcrT9itHepEgxL8pEYqp20CkDZTMQs/FkOsaB2sqqBW6mdq2JeHRGu9Ie4EdjTFff6sJXcifgMIqPx/37ANdkpB4rA2itk3bnghydTQhJB/7S3SfXzpHgDFv58ukztdv9UEtg64hoWcdkItOgtWZaBrsW5wXrFqEAwozmtHwYVioCEKF3063peN1seW/rg1EskaC6Wv0/Li3K+n3N7rLAvR+3xsl4ICvPeyJsVUko2CTh6LRMACE2Co5KACMLM1nTEVPzx4z112gDjWGgwIHAgeHHgSAkDL85Cz0OHBgwDoABhC0FMIk8lPznPecifNDjvS5oBxvzDMwWiNyzV2CVqDBLFF8dcxcImLGzQzvl8iVYJTBCHH8oFYDZ7izXAGyv796t5E833PMSKlYISGNHHi9DueFMBrzQqKzRGOEXOSMuyzzIrmUaX/K6c0SeQYDqEG87NA9xMv6WkoVZse4PSJhjpxiAa4JWvHyuvjc+EI73hoTYCmm8uvmbxPreZ2O3zGLIL5GIfGjgUXS5mzWsZSPC/eLg3CjQTJQfyO5lZbL52M0DdZLgAeRSuHSDXArN7qySr3E9Xob38AQNxMJEwk1WyNPtMjvaKO3BV7/zbXdA4XYXKxdKsRzz2RRAp2VCE3UyETyl3fg/9eK8zlQ3nA8cCBwYXA4EIWFw+RtaDxzIKg7ot9fJPcD/IwxAo4WEtCmtHf/kP+85B3nhISpPXSMAA3RAQIkfdHYXARZ7BZrIxBpPIrVf4KtZPgWL5NBo2gXqGPEOgAB4JTToHu3OvqkEaYWK9/9qY6NbEEVLsjJWLxeOBsLYhV6zYIHCR97x5lU4fNq1jOOM5giAhyYCkItDqYE56sFnAFq9tAnkBTgS5U2IqmZsOlcu2DrDcbtNa3WuIu/MmjI5NrwkJwh5elH8IVIPWaszrjXxE/5i3oWJ2JzJk5XVOOHbs3vFGs/6t/E1RjI0/H3uarfgLT1/JPyD4mXgFuPEXwMH5UsSaLcdOeI1BVwboy+OSkWNmqb1jKAAjdY5/JOM4O09/XOkLerx7Mf/uSfnKWPlhyN/bczhGDgwXDnw8MkdriMI/Q4cCBzolQNeSyCwr99ex6Ye/wgDfObajdsP3LWbyX/e39U5rnnhISrvy3qBIQnwMQdqkf9BvYBVft44t0vgvmDcWDkVl3b354hMELYITFXK7t6cOvnRBwRA/odfnwEIZF9+v6XFbVZ5HEtfloBAuFDK8E+ZXCXGN1fRZlZWVLpTVy4r4sxBgaP7nk+eR2kGDje4hgZiaXm5HEdvuv3yT4DgFdeMzyXSJhQL0LZpvq5L08N55iHXycZP8rQLMqOpFBAeJzMY4yk8xAyJ7NRkwzZ/l3QrzfiJwIEfAuwj0VieNFx2bTjyEx7Rf/7nyq9gXX2DtHZj3dv79/vkiIwpuV6S65H3hIk9ceGiD4FaoWe1QQLDVIV9JeQu1wmDjACF0ItKYAxfOCJWHGtzjP45Uhbq0m7ELe1e8H9bGwV3o7VJGSuf7EMkXPha4SVwIHBgsDmQtAcY7LuE9gMHAgeGhAP67dUPMTt8ydvzI332wn138ux9d+TUfXfp8gN37uoDmfU4dzu58SeA4OSA7JQBeZSbMnmUK5092s2dNdrNnDraCxdq0TfWelzZlSVFVMyZ7TrPnvPhPF/RTiSZV6Ez0iwQi52Y7MurKr1TJ8CUH30oDqyIKrNFwAuQsUpAGf8GS0AGOEjW8NVy7oXxwQuoSuDq+q3b2p09rKRc+QoRW+mBFFfT8iDiJQ6lDRLW0NgA9CxJmG9UL8xTvbQ9b8iU5IhMueoF6piHjO1axRw44pCMcERSP3gDMW5bhzjZ3uq667VhaF3uq3xqfgPPp4jX+H90ar2+KPMc8gJwzT9kHIcp2RpkHZL5nFwKG1pb3Hsyf7sloahBkbTwd4EwKUTwRzgtzMv3GgP4RkhZ1ixtnZOmBRMszNxaZQY3jt0GETy/IQ3D+Tu33Jnbt9ylO7fdNWVevyHhoEv35o8y+bpXodqcKAFsuu4xI3+8m6ajtUNb8e8SPgcKHAgcGHgOBCFh4HkaWgwcGHIORJjTawLozNmLylLcds9t2X9PjsX33dFLznVKc3D0pi5KkEgaEFNSBBrlN13/JQXOzR8vQWGKcwtLR7vltaPdsvo8Ny7/iuuzi1zeAABAAElEQVQ4f0wJuxTiVH/bFPK0XLvVZs9NJKP3BTAwM1gtM5rC/IJHftTjAgIhPMmbgJPtq9rFLIl8FkYSCDCQxhF772sCUISOBHR5Ey0mVNdSiTPGyzoBuU5FldohXs4gDKXMZrzwoXqUwwSM3fJWOYKXyfGUBHdWN7XdXPhsYyNE6UkJrMvLy2VKlK8xPxwdO+L4apCYr0T8gUZFgPZhqeQjwWecv0koRj6ESvnheFKDzNtwJ78GNQj4hn/ROgkKGyUobFJm9Fvy5VhWWSXtwXkJCB3Kqo5GZoxrl/kaTsloHnheEQoI7btJmwPHxfeXtGmAFvG6tAOHritJ3ZVL7pg0XhfvdrlbEsZuS1t2T/OBcMDXEAQnk/+j3DjxNV/mShN0j1kK25oYr+ztWttzxxd2C3k2z75yeAkcCBwYUA4EIWFA2RkaCxwYWg4YADLMclTagjc2dbn/vVUCwllpDaQtuIPGQL/IDVNGuf+kvE+zpC2YXKQf4vxk32/KQuCStAtnrzxw+xW8ZOOFB26jjv/72D03fuM992rxfbew4p5LlM1182cqu+rp4wK1d7w9MzuKFrYUB+aX6uqSu63qmO3c2o865bZLe7Bfu7zYiq+Sc/IUmSxAlLHyyV7l/mtcUFhRVSWe3vY7tjg2z5cAZnxL5YTVQ6BYnCj3/hwIXosVtcauIWAQDQltwuskpJMZWIMSssFjMPPwh7ipXNGYoocAf4MJEpjMYR4zLngB7ZN5FuOvE1+gdIKp8f2StFwfyAxsjoDwQoUNhWfpyvuGhumLXwesCT1/+Ga8IKE9T8I+DtpXJPijVUAr5U3cKipdmdZlc6cyqyv/BBqby3J8RjhFwGhXnfMSCM6PeuDev3DGnZDWADOie+I4PgkFAv7TpSkokvkX//lql/VImZvSLFy71+Wu6nglen9egkWbfG7evaQ8FxISlk2e5hZMnNw9z7m6jofpUgrdzhEOBCEhRyYyDCNwQL+tYEFPF67cd998p8v9v2/JEVhgf4owEUqDH5k3SpmKx7jFVaNdsUyIZk8b7SZIWwCginCTd1amrZvyTTh9PmmatPvQfcVRv+fePvHArT95z209LUDaVu4unu1yU2fddKur5sshVP4DusfWQwddp0IjrtbOI5F1IAOrHPm/KFDxgXYbTyl0YoPi/ROGcZx2Iw2QUWYkkvEJO/e11TXujT27PTBlBxwzkN5AKRqCGjmOstuNj8Ms2YVDxlfMksq0Y04WZrI+o03QxYcLJ0eYbuPFwfjo+fPSeBX7HB7x4R3X+Y5zZxWZa67nLWs3VTC1dkgGuPngAc//ZQLHzEdvcxG/13B7b+sQbQGZzcdKUDgkwRJBlP+jcmquEk9ZTzz38BJhgdwItyXcFqjMFe06rD930p3suu3G6nkmYlqR2kvIHLFyQpGbnT/BTaU9CQjw3XjvjY5UltC+V+7ecRfUXqeEg4M3r7njMlO6ofN7rl91zTeuurrLRe6l6bPdfLXHN4bN13Djd+hv4EC2cmCUHiq+GwMFDgQODGMO6HezG+Rv2nPX/dE37rjvdj5wZXk6P2aU+6G60e6jK8e4xgVj3TT5GjwJXZR2Ye/Bu+71zffcv+/VTl+Xc4WyHU5Mv+d+9UfHuXXL8pU5uEOJzw67JaUlPmwp97GvGAP+RNj5QDkBAFnLystdtWzprZyV8SdG8IuBHSJGvaGd/4kC8+zOFumYCZzaeXa8v79nl+qMdx9qWuijG8XnAED3evNutyJR4Rq1I56LZPzbImDfJnOi18QHBCZ2u9EiAPrXyz+DiE8fX7zE50WwOun4gcYL8y8EX6JJ9VQ2Xf3heA5gwDcFuU82SkhgXaEphNASNir07qJEuf/MCzw9qbV1QyaGu29fd5suX/BmQpgRzZap0JJJU1yNdv5nyr/gSQjn5uM3r2vT46Lbe+2quyYTJgQKBJCXpsxwz0lYyFf//FrXuSf7lnuSnoU6gQO5y4ExXxTl7vDCyAIHcp8DJiDcuvPA/cN/3HGf/LsuN75rlBsv4eDjEg4+98k8918/kufK541x4/P106lf/3geBP2epiW2D+yfAtQtLR7jXlw61q0pH+1G3XjgmuUAffPWKPe9XaPcras3Xdfo47JXLpLDbY0HY/4HW3UB/wC0PQqXuFHAbYpsnp+X4yfOjtBIAF1+oH188Tu5KstO/6TxBd7c47rMPUqkHfDOtZqYVIHK19F5zESIHrNP5h7jFW1qJtqEaJIpQ5uXBfiOaDcYzQOmI7nEfxsLfjE4wxdrpxvHW08R3w5LUN0jU6PFMrnCDMkD4ohHNkUIXfDrqMpuak9G3DJHcsqk8t/q5cLRBAQiOb29X+FQlWSOqFA4dSNkEer01p0uN19aKS84iFc4e596cM9949wJ+R3c8OZDU6URe3XaTPex2SWusmiSK9RnCN5yD9Zlhq8frqqM/qLOjNGGxBRpcBA0FsgJfbTMxs6rf5RpkwajU5qG+QUTXOG45D2o31PbXA8UOBA40DMHgpDQM3/C1cCBrOYA4UuJXIQPwR/+4233+TfvuWXyLyjSZt1vfGKs+6lP5LsyAXtMibTR50m/tR4zgolScNEjY7XrdkQY4Z/NxOKZo90Li8e6mqkCo3KEvnX3no7j3BWp/39k9WxltM3TzuIDDyYAU9e084gz415F31mgMJQkD7MMtR4o9NSRR3o1cj4YwMFPgx1SQO19TSIRejDNMDCcyhH4TZ1LClHbLhOREpVHcDACzOUJ8LHDTrtzpkzVFNjdrNTwPjKeg/J1OSZHW8LDTp5QqPV/z4fiZGec7N84265aUO1BburoLcIR2Yc3tLbKXyffPSehNk8A1DQ2w5tDvfVeApL+usQzTI6min+sNz7jlwBwx0eBDOg8xzzD75w96f71dKcbS019XlY02X2ieL73GyAqkQkGXOv+76Ub9MGX1RFZwQtuOhZJM1EtYWGeAiKcl5M/jtGX7t51+65ddnPzCtxUCROIGNQPFDgQOPDkHAhCwpPzLtQMHBhSDuj32gN2/A9++3/cdl/fc9+VFSg6jvwOfvcn893aReNk5y9HQIQD/VYiTOj3+YmJuggbAASEkzy1vaB0jFtdM9odl6/C4UuyIb6a5450jnZLqke5SYUqLDot/4T3lP/gtOL/r5DvwZKKCh9f3cDWU3TpiccyXCqaIEBmZQQEBAWAPaYzgKdok7V7OJzzu70qU1SQ7zokJFwXiEJj0F1eZdAmXJE24TDaBPmN5Av8prbV3egwemP8AsiSywAzLUxiEIw82NTYDyq6E/k9Vsk5HL6mkl+XKm9+COflP4PWa/rEiSNEQODrIrm2EBBInFasqFjzpMWaI60MAsN45UXpUujS2xK4cKpfLwHhuxfOuolyRkaL9cMzi926WXOlzUxGPWJtIdgyB09K1LQ2cHzmPWFR6ySM3JFTM/4KaEh3X00KCtOjiGpPc88n7WuoFziQKxwIQkKuzGQYx4jigNcgaEf/qkx+viQB4Vv777sJAu0/1Djaff4nC1yJchv4nX/9aI5Vuaf4bX6Mr7SFsEAfQJbTJ492a5rGumvKv7Dh2F2388x9d+GEEk3VO3fy0gllb23zAsoLAlpVChvJj7sJCI81Hk48wgEAjt891RHB4LqixeyT0/Fk+Rv4HVyBpVQQxGfAMvkq2D1vVXSfIgGmaQK5gDX+MRkBAB48fdrbdBdPnZYTe66MjfHj98K4F5WWeXMrTN0QFDBB+kDmbjPFCyJBcc7XibgO31if0F75IKD5WibBlizC8WtR8Zw+wAXGbDzFrAiNCsLSXK0XghJgNvjuxbPube9/MNoVqMx/KS51dZOmet4A5hEaUtfo0zKOOaJfPBsIzWgVxun9QfksSBx0zdIolJJbIQgKT8vqUH+EcyAICSN8AYThDz8OeJMfgXSyIv8//3Lb/eWW+26KzHA/uWSM+/WfyNcOvuz/pT0AyPM/WCSzZE/0Z4I0GCsbxriuS7IPPvnAHbkwyp0+fceNGd+uZGoF7vlasicnd22DgNC/GQFgJcN2jvE73+cUEeqAElTNVLSjiePHeyCXDoRxDkHipDQ5JxSzHn+Ggpi5TJHqXtYu+WE5m5ZOn5HUJghopWurfz0emtIG4u/K9GSnYvmzH768otKbExnw39d5zEc7Wiszo8kyyaJO6nj5jHP3RoU7LZe/AokArYwdh2aEz/6ujJd/ALkJDPSCc0Qja79z0337/BlXoM8TBNY/PbfMRxriGacOAsJgES0zr6ZVKFWEo0LNecuNa+qfc23Xr7rqwomuSH4QVmaw+hLaDRzIVQ4MIoR4Mpb5LyK+YGL/T9ZSdteKj8/eZ3ePQ++ygQN6LPTDmOzJN9ffcZ9/554rkfntR5Xk7Fc/na+dvqSAoN9r/0M52H3mx5h7IZQU5I1yv/Sf890nmsbo3g/cP+0a4zqPVrt1TQ2ykZ/gd/1Y6wbYBrtvudQ+2W4BXuzkrhbAzRfwwVYem3kP4lgYMbJzmBEtKSv30WjYGYfQIviddU3eAoX/xM78gExwhjslYakyfUsgQiiqku9Ld0I5De6CIuLsi3xi5sh8JpXgL3y7Jm3DVpkqFebnKYFYpdartA3RtdQ6I+WzAXKeXRSI0GHx899OyfxNF4kwhAaBJGfGx2f1nCOIcE9o5fRZ7jX9K4aDz7HwTfXvtoTGeBlfMLwEDgQO9IkDgyIk9BX0pivHl3Tqf7qRWF079qWMlU09pqubeq4vdVLLZPpM26lj5HOgwIHeOIDNLXYh+9rvuf/rW3fdQu3gV0wf7f7P/6p443rvtQwC7c+aTFAgAtL/8ak81zBHSdqk3fjGB+Nda3sy2oiCkfh1/6z7liv38wBNYAjtAFmssbt/X4ICR74/+L6Jk32nkGm5VmZerXJUPqa8AJB92+AEXar/AzI7IuJRunbibWbre8YOmIfww8CUqlx5ICDjw375c8ChWmVLtnHatWR9np/7boeyh19UXP5VlQu8yRbXrJxvcAS/AMYB3CQ7+75yILBD3yWm/uisea5EO/kmINj6elas4tmw9f/CjDlu1cQpEmZkfqQoSxvOnfbd8GWeVYfCfQIHcoQDgyIk8IXaly/V1HJ3FZ3gqpLfXJMK/Lp+sDje1K6OPfzwnPf2pW31Odr5+LzEr/f0Pl4n9b3dO7X+097vxo0bj4yTcXfpxz7QQw5oqrvn1fjNuWym9H0emE57AUBPLEnO/v57Xe7yzQdOQY3cb35qnJulpGgIEINpXtQb372gIEEAH4XPfSrf3VCFUzfvuf/+rdvuuvo6RiFZvR9Dbw2F6xk5YGAIJ9KV2uU+LdOjzYoahWbAvgfjle37q0m2+UXSQuw+etTHvccWH8dciDwVd/S+bRhrE+wJO3/1ig/tWqHQuhPHT+hmxamLF12bBCESp/3/7V0HYFXl9T/ZO5AQSNgZQNhDQAUUcdRdZ23t0Nqltmprd/vvXrbW7tYuR+1wdWitrVUrLhREQWSvQICwMgghIXv9f7/vvvO4PBMgk5fkHHjvvtz73W/87nfvPec7a0hKanA/f/BcYkfaDH8P+jLMHpstFK6MjiBAnDj/SG8gg/KO+lqXHXnR4CEyeZCnmXHvSVei97/88/8dmRBaEOWIDM4y+EvsQqQvkt4P7g/7MgQMgeMi0CNCgr/VE7kp6VxHWrdunaTCznbWrFmSjNWyFDhIXX/99U5g4HGWcw+hwIOKQgU/JN1/Iu25E07gi3WxXqUGRHLgShOpK+3VIRzkzTff7MbHcZ5yyilu3G+++aarW/FwfwzgL0KvOB/Zdh8gjqHvYHWeEND+SW33+cgcav/MYx9huzoVX1vTJI+ubZYSTP0vXYDsyfle4nQ9fuyaevYoIyixr1PzouQrF0fLjgaRf29pkZff9ARgmkrxuFEXEAhcaJoKzQTzX4CV89VY/SbxPvE/A/k3iWZKTFy3HxGmtoARJtERlWUZuYZZmJlRl5mweY6ab7iCYf7FMSjzuqu0FMJPi3M01m7zmb12105JAQbjoVEh6Yq3+yMwIRmF643C7ZIHAWMiEqaRQt8BbucA/dJ5VQLn+deR0IywjYVj8IKMTIcIb+uuP+m6Bq7O/wTM7QsRYYlajxqYGy2Hc7X6JfSlud01NOxsQ6DrCHjcRdfrCT5Mi4qK5OGHH5bBCJV2xRVXyDCofPmQdlEk8FTRl9ayZcvkP//5jyxatEjOPvts1wNdSec5t9xyi3C1fTge6lFcogTpdtWqVbJkyRInVLDeyZMny2mnnSZz5swJliHD/dRTT0kGHM9Yr7bLeviwiw4kEOLvd73rXZIJ+1Uy59qG9pmCwauvvirs75YtW2QIXqZs74wzzpD8/HxXL8/717/+JQVwdCPTT8HF3x7rikcoPmpHRiFL5XnnnSeXXXaZZGdnSxaiZvzzn/+UrchA2x+FA75I9OVCTPC/TWpxdjQqFBwp0t6Lh3WybvdW0i1P428S28FvtnfUtXAdOrKf9QSaxhxtu3OsspWFcFiZEb5oWBX/bm9M7AbPbbtWHj1xYj3sXmV1qzyxtElK6kUuz4mUS84ImPKwe93R0Il36bgl2bd3vwmzhB0t8q9lzXLatBZke6Y9PB0aj3u6FWgHAUJH+3vMPIT3zEaI03pkAy6CDX285MOUhhOB81rnPecp5wYT103IPIAwqkVOMBg2aHCwHE1wmFytAKvoc8eND87zdroQVrv1HmPkIgo6Y/CMHpKaEuzjTggOu6FJoOYlFdF4jsbGw6mmoR5Rj/D8RkjNWYhmRHMl3uN6vwcrG6A/vOePd9Ouwcp8Od6pxGYRshwzzKleg3CAR+d9DpK3nQqzo5fR301ItFZYXSnjEC7VG0U49NT6YAiEPwLdJiToUMkkL168WJ599lnhivltt90WFBD04bwTWVfnz5/vTnnnO98ZZMyVQT/zzDPl9ttv1yqDW57/wAMPyIc//GG3jwz2ftjZKt19993y0Y9+VGKROGjbtm3yta99TQ8dc3vttdcedVwFhEOHDsn3vvc9ueuuu9xxrvjraj93PP3003LBBRc4IYhCAvt2POK4KJToh+XZzv/+9z+H0/HO70vHlTnRhzb7rvv84+B19TPoiv+bW0rkqdd2SixWp2sbEYO/tgmRRtLlvedPcgxQkCn2P/Xb+40Ggy99Xxn2TeuhoOLvh/aXLFnofsc8BOphvfzJupZv2CePvrQdzAayG+PTjDonjR4kV5+T74bc1vjdgeN8qfyyrqBJHt/UgrB/ItcuRLSbNIATZkQ8Oc7BKRFy3TnR8pd7G+SlHa3y1qZmOefUSCfsdBaHMBvqSesOBQR9ns5FvH8yuW8UbnMaA80grIybdz08Zng6NA906l2DZ/BZk5NdhBrWkwmBIQchLZl8LS8zy4VL1fvwpA3yBBr2M6+MSFQFgWkeHLuJD4kZg9fCYZshT3OxEERy5wS2+mxahYzKh7AoddakSS4RXfBZ4c6wL51rTFy2Hsx2I+bMKYgcNC7EdCtckNK5PzstQ9YiylE58iisr6yQ3KRUJ9yokB0u/bV+GALhikC3CQl82PKlkgbV9S9/+UtZuHChfOpTn5J58+bJ3Llz3QvN2cFilf2+++5zeDz66KNOA6APIH1gc+Wfn5gYZLdEnTxOAeL55593AkJ2drb84Q9/cGZJPPbaa6/JN7/5Tad9mISHPDUTXK3nyr5qDFi3tsPGf/rTn8rPf/5zeeSRR5x2wK9FYD9JbIMCwoc+9CH5zGc+I2PHjnU+Ek8++aQTRi688ELZsWOH23/HHXfI17/+dcfoazvsO8dQgZcyNSMvv/yyXHfddY6ZpIaCx9gv1aC4RvvJl2Kwc98hKSgql8GpCTJj/DCYOBwdKUTLrd9eJvvLqmRU1iDJH5PuUNhTdli+9pftIuMT5JrhibL+YL2MTItzL/lNO8qktLxG4sEtqxbCg+6IuUUDYoQmJ8TIjAmZrl0y9nx5bC06KPtKKqX0UB3CIMbKiKHJMm7MEESMabtvYP+ltKJWtu46IPsO1DgmNzMtQcaORIKhjGT30mnG8jht7g/XNsrT2w7JlNQY2V3TJK+9eUg+c/mooJDgsSgeA3OilxpT3AkyjTAvWrK6WXbBvPb6SZEyd4p3+2KaYd6daG29W24OwqLeMC5SHkAeh6XrmpHgLRrXjM8Kb0y925v+1Zo+02KhFWXEo+fXr3M5ABIRlYd297y33MThsDH3SQz7OQvPsSVbNss2hFGdOHKU28+vifBNKIRjM/czp0Ko9jdYMJx+BMZIYYBhYYcjzO4waLGVtkEzchARoBaMz4fQHndkoYAFAudu2rPb+SvMGD3aaVt4qGN3KM/ov8RnpmpUtoPh3o93VzweODPhhxANZ3EeD1e8suITZRoEgxcqymQL5kEp/CgysS+sO91/p5KNrA8i0G1CAseuTP6ECRPkBz/4gWOuub3//vtlUCBG+iuvvCLf+c535H3ve5+ce+65DjIyyVz9dy+1EBDJaJPRpwPzX//6V3f0N7/5jSxatChYksz6PmTQXL58ubzwwgtOQKGwwk9bdBCqZwoopNmzZx9VRIWFXXDw+/SnPy0zZ86UL3/5yzIe0URI9JP4wAc+4DQV3//+92Xt2rVOSKBZVHt0ACtcFBCuvvrqYD0qiLR3Tl/fry+OusZmOe/H8LWIj5RXPneqLJg20jH1ZKh15X5XcaVMvWuZSAWypH5rQXDoqYmxIkNj5L4Lc+SGS6dCmGqW2BhPKPjVvzfLr2/bKvLuZJwHnxZlksF8Cq3TchJEttXK568aI1PHUTihqU6D/OXZjXLL/3aKbKoWyUD9aFNGxMlXzhwhN79zsowahoRT7DzeIjqfl67dKz98YqM88UqZ2+8YrqZWmX9qmnztsgly4Wk5EBC8l+XZs0bLm1NHgBGOlpWbimVOyTIkHkKM0m6g/WXNsngDBoixnDMtUjIR1YgU4P+6oYXur4LmRRecEiUPoN+vbG2R9yLRWt5ohkjt/rYGYo0qKDBfwvwJ+fL8urWyDGaRi6ZMRWSeePdMZRnCrQJ5DjQFu/FMWrVzBzLoprmVc2I3FM9o2uMXlBRj1T3LJc3S+zhcsdV7dN/BcilF8IezJk50pkLsL82PmHhuOLQk2RrpKDAQ5p1gNKSSQxXyJhZ6RkGwmAotC8m0CAGQghtvFjTiXbwNQkItsJsanyTMS+DIL4wGzzm5P9x85zMc/ybC7GhlVYWUNjXITjgwU0hw9w26aI+hk3udrPXwR6DbhQRlsmlG9P73v18efPBBufTSS53AQGaZZjakW2+99W0r+H649OFPIYG0B/Gtf//737vfNEciUbjgi48CRnZ2tttHc6B6qJwTYXsa6hvAvrEsTXtopkTTn9zcXHeeMu0qqND/gEQhggIC96uTdBwd4AJCw26E1SOx7raI9dJHg3TllVc6IYNjomZEx6jbts7vq/vcqj0wo1bgsVumy1U/XiX3PLNV8semSwa0CnQupFaBV/fepzYiNW+tPHjLNDkFq/7eqjwzBuPldID+JN5KVlysN13JGt966US59owxEgeTHtUk8FUWDbyr65vkd2jrkZpmufTU0UgSFYXEY62IsrNePvfHLXLJaenylY/PltEQCMoO1cqfniuQ7/1jB+yW6+QXH5+HZGQUWD3k39paIgt+vJyBwOX+T06V+ZMzscIaIa9tKJbrH90sF/12tbyGZGGnTRkuLU6bgKyjEBBIMWhXDjXB5MGbw16NHf/m+ElbdrXI//a2yoKhETJ9PCUhMDSoGkMOO2KfiSG37OvsIU3yTDESre08IiTo8bDrfF/rEEDm84nJ1Whq89KmDbJ86xZZOGly0JyIzxh+yADT3p7RjvZDoHgLDs9nTZ4SfBZRm7AN2Yq5As/Munofh+MzimNmvxjZaSue50OgJWHmaCU6aNfUN8jpCGVKJ21l/r1tpIvytAJmqcwbwXwI1MhoGa3DtkTAewAdhEkbIxpF4+88CAhJ0Z4/lLvJwxAofb5kIXfDKPjrvAUBZycyMp+CA8zrYGQIGALHR6BbhQQ2R+aXDDMdfD/+8Y87IYE+BKeffrpQi0BB4cc//rEzQ2J5VWnzd1ukzDu1Ag899JBzRKYAQFJzJP6mYECiYzA1DyTd8jcZcwoILEchgXTJJZe49lWw4T71i6BpETUgjLSkxPZUiKBTNUk1JOyn/0WqddKR+84773RliQGJdei4/ee4g/3w68LTc+Xmc/fLb1/cL2dPKZQPXjQZzIc30BdX7pLvPFMk1y0YJpedOc7t5MOd5DZgzpuavR2ewBgB7CJkUjbDE7YdonB36WF5pKBKrs0fJBPGeNqkTYVl8rnFu2Ta5BT52UfnyriRnknCqMxUGT40BT4PzfLbZ/bJDecWyyJoA3hdquua5O5/b4I02iIv3X6qLJw52vWLX+NhnhQLAeXan6+WZ1YUyexJWU7ooQ8ChZYYmC41NkFwhMakO95HRGAzGGzGFZ05IkLGDPckgwBUwX6F0w/2jZd55LBIWZQbIStfRNzy3c1g6mLAmIVTT/t2X4ixzoMxQ4fK3Po8WVqwVVYiIdjp0C5wLuu1UNaIWoOpcFZegVX00QgNmgf/LtIQCBoToEVg3oS8rOFOUHAHwvErcGOVwqeLjslzc3KcTwa7WoZQqFtgfsSoTaMQvIKkAo+azqzB2ItRbmH+RElPpgYRz+XuuFlda/3nS+dMMQSEg7DtT8E7fhQYb5IKauE4Wn23JoEfGA3twXpkYt6FMRxubJDBMD0zMgQMgeMj0COvar05FyxY4Bx/2Q06FN94442SnZ3tTI24T1f6lfHmvlBSpp1Cx3vf+155xzveEWTGyYiT2eZ29erV7lRqGSgMhJJqJDZt2iT33nuvizZER2SSCiL8rX2npoC+CDQ30geh9resrMw5ZrO8aiLaGwP9JUj0acjDahVpoAgIjjnBi5cOvLdcOkkkLUa+8myhrIJDMjHYX14td/5rM6S9SLn98kkwj4hxWgQKAUFyL27vL55z1LFgIe9lpX+++OYucNTVctGMLMlM915mJdAYSEOLLBgN/4OAgEBtBi6uZKYlytw8rEDWtUh5hSf8sa6Kylq597n98vHTM+XUKSNc9U3wc6AgQDolH46Qg2JkZ3mdVNU0uH38oikVyfUV9XeF9HTmGVhViP7CiioPAkJqsnfr+pDqSjM9em5KUgQwR3+x8Lhhd6tUMLmDUbcioPcaK52IhZLpsK9fj5X0tTApIuk8YTmulpMmQEjIglDA5GHVCDKhNAGhVVmmIJA3wV+3lgmHrY6JEZkSY2NkFN4RJPZ9MzTP1EhOGT3G7Qt9PnNsG/btkSnQnFAYInGcRu0jwNCnh7HYloHFsiHQppPC+U7m1dTrPjwuARavUc6BmRoRI0PAEDgxBHpESCAzR8adRC0CfQ+WLl3q/qbTMqMS8bh/pd8d7MCXMu48hSZGX/rSl9zZDE1K0oeD/lZhg+FMSVzdT0emUX897kAbX+7Fioej9peaCEYzovnQ9OnT3Rn+F4yaE9GPgmFeSdRakDhuf1m3s19/eS/eqbkZ8sC7Jsietyrl0RcLpAqr9P9dVijPLimTX12V58yMCENkF5eYK8Gs3/fKbgTqR/6J/GFB5igt2XupbS2rlYrD3ksiisIIGIN6MP5FZRAOMGVTU+KDVyN9UIKs/uU5SFY2S+JpOgSKhobAnYffNXBSlqomSU+MhtmTp71yo+2BN2d1DZi2ElQMRjtveARMRpx8w+6HLWnXCPPYLDxqoABcu68V/kU9AFDYotB7HXPPqYAAMDM7R8bBv2AlVstpOkTSZyJXy2mTHx8TK9OhMa3ByuqagDDBcnRazsczejNW4g8gWVs4ko6FeR0KsWjDyEx0yibtLy+X7Qh7OgFjyIAQRFJsuGXCNeKSCefumQh3StL63B/2FURA79QmzKsyzBNSWnSsJKupUbBkeP7Q/g/CwuEgaEBq8B4vCwgJ+nwKz55brwyB8ECgR4QEDk0ZYeYpoCOzEs2BSF19KJMRpzBCn4BvfOMbrs6//e1vzonY/eH7Yln2pxgqdOYkIJ1zzjlueyL98Jd5/fXXg5oQtpsAh0Ee1/GyUtVabNy4Uf74xz/KmDFjgmZL7PNAIsAeXLm8dEGuXLBoqNy5olR+8JcV8uPFO2XWaWny3vPyHSQOxy6CwyhJL75VIZ+bkSG5AY0Bqxw/Ol0+OC1dFm+tkl//c60UH6xxwkEVGP1/LSmQb760R84/O0NmwMmZxL4kwLdgOoSbkRlJ+NvtDn6VV9XLI88XIDYrIvZMHIqVTM83oj1NR/DETv4oOdgKp8FWBnqSQane6419Ir7hSt6193qXmRYhIyF/FR6GJuEwNCJGPYKAJwDA5hoM0VxoQ4eBSWb8f2Yc5jNKtQh02iWNGoLnc8C8qKisNNincQjEQP+ezX5tQhitG+vzdjsEGf6mmRWdVBsQPY99pt/FpFGeeSBvXY6b2DAK0srt26ENRN4O+G/QDyH0+R0EwX4EEWBG7nI4/sYBw1QICNFYlSfhzz5BKehzKvI51IIXqIbJlFHnEeD9Qh5H+ZzO19TzZ2pfuTXqHALe8mfnzm33LP8F+fe//y2MRqT029/+Vn74wx+6VXlOss4wzVyNp2aA/g2MlPTf//5XGIL08ssvd82wfX2JcIf+ZiQiagGYF0EFl+O1z7r4Ybn169e70Kqs8x//+IfMmDGDP48illWNA30wSJ///OddpKXQfh11Yj/+g/hz7ENS4+UbV0+SZ363Sv62tlS2NrbKqx+aiZXLI1FYOguDXuNnVkCLEBMhC6dmwj4ZjogwDeLjgaFQv/+huZIUs1K+8tJu+faKYrlsRJLsrmyQZcU1cuW4VPkpfBWGDj4i9PE8JlEjg0Ena0Zh+u/SQqlraJKXCirk8d3V8uBnZwZ9KYJqi84O4hjnVUGTUASLqbMyIiQ5sY+8mTkegojuxiLsaQ7Mjl450Crlld4Du68wGMe4LGF5SAWFRNhd05GZoVGXIuTpOVOneTkAAs9dfR7RiXkvsg2vRu4ErrwzVGgabPQnZA530YFofuRW5APX8mQPWvtNEykmTxsFf7WhqYNct5grYceBMvgn5AkjPjni8zsw2dYX7ZIiREI6K39S0N9Cnx0ne1zh3H4TNE/VeO/C8w4+CdHBYHLu5g7njgf6Fgd+geZGfHJWNzf1gR73bBd5D7XH5JPXae+e0HvPf9xfF/e3x1P5yx2rjRMZOfuufeGW1Fad7I/2VcufSP1W5ggCPbKsTSaeF4xJ02iSQyJTzRwGzE/ARGskvbjujxP8UgGhEmrw7373uy7i0Ve/+lX55Cc/GXRk1knBKlUQYV4CZdoZfrUtv4W2usA+cizMiHzNNddIFcLs/elPf5KrrrrKFQ+deHrjMSTrE0884cp0RGvRVh/6+j4+mHUFc0rOUPlobqocgjPyu8emyvTAyn1XXjZa967iKvnW8v1yxsQUmYmcDCR3/QIMQk1tg2cqhPClsxCStQbagES8/MBBuHL7kZeBpPOH/aZmgFtSBcrf/EiB3P7Qdnl88yEZHhcpg2DG5D2iujICr/5jfTdCoBJo+5Nj4ZYAhpuk7R7rvHA5BpNxGRyH3mARr+6I+0a4dK/f9UMFhTQkt6SgUIsV9NcQ8agWz0E+z/ic4jzn/ZGEUKkzx2RLGUx3aMtP4gzLQfIxrrQzj4DbF7iP3B9h8LUTUZjqMK5saBEYoagGQSk2wQ8jPTFJxgUcsTk+pR0QKJiZeuqIUTDZ8xy1/ce1nG3fjgBxanBzhtGsPbaByOqz8e1nhNceCjcx6HcU5nAdxqHvjPDqZe/0hteS9z4XWtv68Bj5rNB7Q89jL5msdsWKFVIO0z5/XXy2hJ7H8nqutqfPHh7rCLEe5S9ZF9vz1+nvN39v2IBIbwiNT36xs212pH/9sWy3Cwl8+XAlnU6+DyL8KYlbMtVqFkRNAs2EeHF5IXnxToRYlucwshDzL/zsZz+Tb37zm/LFL35RkmCPyuOcNH7SCbsDNqjf+ta33CF1WNZjOvF4vp+0Pgo79K2g+dBf/vIXlxCN5fRF6z9Hx0KtBZO/MXma32HZX3ag/OZ7mi9x0vINe+Xe9eUyCLb9fy2slKVrPaakSyxvgA9Yvn4vQqnWyTunDZXRmSmuPfciw/TatqdCxt35ivzy5f3y68vz5JHbF8jDX1okD31uofzzuqmyvLROTv/CK/LKGq8/nBN0bOZHrykjJRX85FxZ89Oz5b+3zJI56fFy6beWy++eWOstmGMe65xyjXfjF24rTDgXLAlajUDFgXF3YzM9VhUvv3PrwBjoL27U8whQUOB8HAHfq9ORlXk/ogCt3FaAcMCeBpeMks7tHDDVOWC2N+7dK/uhVSDRN2E8BAXa9zOfAKmn5rer/AS+2D77TLOibTAfZSblkemew/Iu9HMfxjgNzsrxvuAVLF9RXS2vY+yZ0JRMzx4LltHDRsd/Ak0P6CJ81ChjTUbbEa5FXyF22bmgocPN6Hff6Xn3I+zuHywWHMK9wkXPatwb/g9bJJ/FcrroyX36m0FixuF5wiS5XHwlMWEsGXEN7hL6nND7jO2xXZ6n+1wFJ/Cl9z77xiiVJRD6t8N0kOHx2TaJx7Sf/P3GG2+4yJpcnG6vbyfQ9IAucjRH3UUo9CKyGq7af+UrX5H3vOc9ctlll7mamS+BTPNLL73kkpmxPC9kKHPu74ZONpZhWU4uahCYyOz//u//XMKzZKyWaQhUf11aP+tbtWqVq5ZmSSNGjAg2oX1m3fwoaXvUCLz73e9246F/ASMs8Rz2g1t/e5ycFFLYFyZPI/Fc5lVg2YFK+kjei5X68/+0Ti4dlSQfmzdScrAS/66H1yOLcbX3QOoERsSVq/01yI3wxAoICYNj5Iyp3iphIxySXYZnAP/3l+A/sLtGfnZNrnz8iulwpE2VlKQ4GYbIRpefkSe/uQbRlzKi5e6nNsNu2RNceS4/rJ/txMM5OQ9+DtPgp8AEand+8BSEiEmWW5/bKesRYpWkL1L3Rzd+8QVHHT+jwQaZ7MC7uhub6bGqKOS4dBEYQxd903usj/2y4gBDxwg+s7OzXWbhtVgwIakQwbnNqTRzbLa7D9djtZ0r9NzHJGTxiGazUTUMyiCygpNA+hTdDZOiciwW5cA5OwaLUlW1NbIeGo/RMD0aDWGHpEJQE94db0BAYD6F2Tm5wczLHWVSTsJww6ZJzgU12SKT7egkz4WOgMMuMygde85xcDwDkZSB5uo6Izcy4uTZZ5/tokbSXJv5q2gSrvySagaUH6LmgPwXicFoGISGi7ZcsGU4+Mcee8wd8wsYyvusXLlSUiGk00T8MLSWJO2P++MYX+4ZFZhvZPzJW2ZiAYMLsPRzveGGG1zIegor5OMoEJDIf7IsF5M19P0xmrFDbSDQI0ICE5V9/etfd80xWzGZeE4yrvZ/4QtfcPs/97nPybJly47qUlsPbZ1seuEpHPDzu9/9zoVX5aQjkREPZfR1cjLDskYZYqQlfzv8Ten26aefdgnWWJfeEKVYmaIGgc7KzzzzjFx//fVOCOA5NFdqrz1Kt9/73vdYlajWwv0xAL/4cOZDmQ/oh55DuNNVlXLLBXnyqXfNlGunZUjVjmr54zObHDIe09IxkDSR2kYw6Q9uqJCrJ6TK1DyPSdCa6GS8cR8yLMdFuYzP3M8cBjy3Hv4FpDkThsmCEYnySFG1HKyqc/t27K2QnXsOBoUGMh08h6EVSUwM939wkJbSetmH3AwkNwb3q3u/YmLxWoOp0WEs3NTU8VXXd1T97Ct4TjlEWGNgrsCxGPUKAkRan4PMKDwZCySrdu08YlYUePGyM4wONBPRjnbCrr8QDsGkIYgAlAtGfCeYctUwaH2uQC9+sV3eX2T2t0OLkIJn/thAJuUCLOZUwUdhMpyV6bSsZdm9tdAE74YfwiwIQZnIrMxj/ndALw6hzzbl3nlYAOPznOY6JDe3+siIYMGORQqEr8YAEjAOzqOBTFx534HFApoMMdx7Tk6OswB54IEHXH4r8i00qybx2uv9QuuIv//9784qY968ee4481add9557jeZ8nXr1rnf/NJ7jdqDT33qU24/hZITjSypFWn7DDxz6qmnulxbTMz7q1/9Sr797W/L448/Lh/5yEec/ycFBVqzMNluPEwp6YNKuvjii4W8IOtiv4xODIFuExLcQ5k2BSDa4i9ZssQx8urcqxd56tSpLk8ByzFfAS8ok5S1R7o6z+O/+MUvnER40UUXSX5+vpuMlIgpofJDCZOqMJUitU0y7X/+85+dY7NmSvZLsMydwDqZ/I2aAzL/7BcFGgoPt912m0sOx7r97fF3ASKHkDh+nkeiqRGJJlHDESVkYJN3M762bo98/o8F8tkPjJV500dKLHIJvP/ccTI+N1m+/MwueTVgduS/LsfDjTVrNKGX1kCLUNEol80aLqmJzJjsaRhYB3+7VwKW4QNT1L0keK6eT21Ho1tq8sqy7jv+tlayP/+8bCnyzC9a3PneOawT/yWJ2ZWR2bkj/WafOkopcFYeBT/MvQgfynCofYYC7+KG+lbZgehMWRB00j253uHXZ8bRhzuqL0VuT8nNcwnGlmNlfTdCh5L0OH8zqtFomCethTbhABZPSEy0FofoMJtOsjZBNZLFeDbvhflTDgSEBCzWlB+ugoP1XhmHv4ej7yTenySaIK3ZvUvGD8t0eSHcTnwNbBZRUTjxbTSiYSXh/UZm+zAcfz0xgef3jWcRozPVIaIVe5sEx+uBTmSeSZ/+9KedCTUTx9JvlEy0agM++MEPOn6H5ahRYHRIliPRP5OklhQMPU8NBOmee+5x2gXVQnAfI08y/Dx5IvJaJPdePgFhTd+t9AtVH1fW9/DDD8stt9wiX/va16SwsNDxd+QpH3nkEVc/2ydNnjw5qP0wbYKDpENf3SYkKEP+4osvys033+zs1dS5lxeZF0wvNi80V/T/8Ic/uI8y9XqcI/CYMDJ1niMMzYQ++9nPusExmtGiRYtk2rRpzt5szpw5wg8lTKrQaF9HYp9YNycUif1h5mYlHuckZwQmEqVhMvVUhTFpG6Vq0i9/+UtXP+tm1mRtj785Vn+/eSMxcRyJErO+gBUfdyDwpS8y3fqP9Yff+hA4UFknn34Yqwtj4uX6d0zAimWcW8mfkpMhXz8/xyU5++ETm7CCXw9BCzk2AitVHgbtv85bsKJPXGmu9M/VCN84DNFcpnlCGXkEZ6KDSpgjYQz8B6jOWLIawgSI7ZBiAgb+r28slteL6+SSrERnhsRWz8yHrfO2Onll9R5XljkSSGyTnzIkXntiwwGR4fFIbuY9dNlu+z12p3fqaxhCiOYhOtBWRDg6FEhGhi6ENaPtvwbFCOFaBE1CbnIEnL31saNsX6cgsZM6gADnKzVhdEQ+ddx4SUtKlFcQ8agsYMvLqni/MrTlzOxshAduQuK7Incv0vk5DyY8u8oPyF6YG5B6yqzOVd7GF/umYVsLS4pdP/MQupW0AQINKR/J4VTTwPdGJcwgXt9eIIMTEmUWzIx4TE2Q3An29TYE3s7ye3tiISCkR8dKA65DJUKI0q+FhD/7BLHPVXjXU4uQBIF3oJPyLPouoyUGLT0GQ9NG/uxHP/qRg4gWFEr0ySTvResQf3RIrYtm5eTruJj73HPPudN4HzIq5Mc+9jFnHkThgvvIlylvx3v7WB+WIzE3FYlWKuTlqC3geaRsPLOoUSDdddddTqDhoi1Nv3n+BRdc4I5RkOE+jlvPdQfsq10Eul2kZmZkXkwy8MyRQOIF8W+paqK0uWXLFkmB41kd1MQ0SdJyvKh+7QIv6llnneUcgTkxdFJqeVc5vnjReS5zFyhRCOCkJ8M+e/Zst5vl9Fyq3Di5KBRcffXV7jiToNGkSSMg6WTSc/x109yJ+/UYJyZVX+wntSbtkZbncdVAtFe2r+7XMT4MM6PXVx6U+z45TaYHTIFU3XvFWePl/auL5cFVZfK3F7fIje+c5kUgwqC9WXP8t9BbyOC8pPCwfPrMLPgMeEKgaghoGkSB4OJTx8i3X90nt/9nBxKfRcmVC8fJIGgc6uB/8OKqIvnmk1tFyhvlYx/JdqFTifnZs8fImDN2yCee2O7quPzMPKel4LHdpVXymyc3yOvrKuTmc0fINL+Jk9dxFus2SkpA1uKhEfJSMfIlICEZrKWcAzPf1YHbq9va6q6KeOUIBZ/jO/ajo8hXN30K4qxrtuiQjut9xgH1AITdNaw+Ww/vOWLM0KCnI+LRC3h5v7p5k5w7bTqyncd7DDRGx3CiM+D8+8aO7TIyLV1yoUkYDzOlAjgKbkb0oOHpaY7h9j9HexoUbYvajV0wh8rGuyUVZg40gWK/pkJAYL9ZjkESuNCwYvs2RHNqlPlT8l0EJwoI+tzp6f721fpD7zu9E6MxdzKQfI/39EHkSzgMpjsdoXLDnXQ8h5AI7hA0IImYG0MC/dbnU7iPoSf7p7wUt3xfk3kn7zV//nzXrN93gNYaJJoZ+XkWnsf7jgusTGq7ePFit6rP4DQjcV/SB4H061//WnJzcx3/pucrj+AKHOOLpkO0FCFxsZZ8Hnk7btl3bqkxoN8rF33pzEyfBSXmqlqwYIG88MILTuswceJE1+cTbV/rGYjbbhcSKBzwQ9IHu14I3XJ/Tk6O+2g5bvU4JypzIJDR5j4y4rzAnSFKyKeddlrwVO2T7nj00UfdT/pIaCbooVg1Uxs7LXciW9ZNwYjStFJoe9zPfbz59IakEETS8bs/+viXvpBffmu33Paj9XLFJZlyxcI8Nypl3Juxsp8cHy2fvXIyhIQlctODW2RqdrrMnzbSleNDHKAAL/dnkIkhTvQNIPNfXdcoj766EzZetXLxp0eBCaAzFIVF7/XAhwfptCnD5T8fmS43/m2TfPx+fB7fJqcNT5DlB2HkXwz8s+Lk3psmyyXzc115XqNRQ5PlsRtnyw33vyk3/XGT3PR4gcwfmSgVDS2yoRDaKlR9IwSEz18DJgt5GNhuBNrl+CJhTuX1W19TrtoOf2GojigkzMpBg2+0QEhokUokJUsfhDY6XGPvn8AcD5t3Q6pBeKPBKbUIU7lbMtNSJD0p1TFvGvnKP/+Jv5J/v+6zbecQIJbElgz16dAovLRpoyyDRmHRlCm4PNGOueb1mAChYDc0B6t27pBhWF0chLCijHS0HkLC3gPlMhKLQazH1YeudG2WH3ssnAl6H9N8iKYjzN1AWgN/gyQ84ynEkPjcYfQd5kPYAXOqudAgMLoT+2oCgoOoza9GvHN3lZVKHBjEQRC+OBdi8duPWRY0MkmYG6Vg2Mrr65yQ0JPXvc2OdmAn540+O/bX1TpzoyzmAOkDwk0Hhtmlovqc1a3iRWdkkgoRNEOiPwKJoexJev/ztwoZCxcudOY/FAxoDkSeijwWNQmXXHIJi3r3IuYRz/dHRHIHQ75YL60/2C/ySyQ1lfK3z998RpB3I9HEnH4V5CFJw2CKSDMnmjxt3rxZKCQYnRgC3S4k8KLqxdMHe2hXeMH95ViekqWG06KnPD8kOgvffffdTtNAabK9Ov1tqJSq+9Rujueybe0fmXPG+6V5EDUVJL1J9Byto70ty2uftG6OjaTt6bncz31sl7aA9913n5vEOvl1/Fq+L2/15bIPK+7fvylPLpyX7ZKmKXPPsUUFGPlZyGnwr0/MkHXbyuRARS1U2TR78K4T3vrAzENC6+RfnqEKohohY/Jp2YPklK+myOyJnvmBXkOWw+XB9fa2F8/LlaWITLRs7V7ZuueQ7KtslIvGR0t2ZrKcCiFiUjbMi0AsjzP4JbPzM+WZLyyUJdA2bN59SHZX1Et6QrTcclqWTMwZIvOmjoRddMBRMjAeRkQiufGh/93ByXMc+WNRL5Rkb+1plV37myEkQIh2LYXnl/ZtT0mLPFnQIqemRcmoYQ2wJy+Rjfv3IG55lAyBBpFZgYchMsbgpGRoceIcY+K/hhwd71leFtYZeozHjTqAAEAklsxSPAfPote2bZUV8K06PX9icBWeIUSnj812idjWwdH59An5kj9ipBTAnHILMhrT9p/PMq7Yq5DXgR50qKg+rw9Dw1tYViIjIbQwuRvzJOyBf8Kc7GwnxGhfmFBtza5dkoMFmylYQXTEG8jobQgotryWRXRYh2CVBiGBZmmp0C4xhwY1T4PjEyQO9yC1CcUN9bK7tlrGpQzy3qeoNRzR1bHVgLksqquRevR/TFyCpED4MfIQUIsN5Zk4D2jZoYFedDWe4UafeuoptwBMs6RQ4nnkY2h98YEPfMBZijCJrBKdlrlgS75Kn98UPLgYq5GUtGzolkw9zZuoDSBRACBRAFA+jf2nBcgOWIaQ/CbnynfpWOiDykhO7LPR8RHodiHhRIH3l1OmmlIg/Q7oLc/j1CYwxJWWVc3C8Yd1dAm9AXSvTlJOWtrP8abgbz5UtK3Qc/Tc421Z9/HOZRv0Z+ANRQmXxLHSDIuk/XN/9PGv97zDW3XgMDx8236dvPPMccIPiSvxfO045iOJ8Zq9m1mZRJbhMf49FCFMP/6uWdzlyJUJaUIFBbJGYzJT3YflahqaEd4RoW995fXFEqjOaQdGDEmS95w30YUfrUU0pDj4McT4TvJrLngew5TyMBS49JJzYVS1vs5sMS2BAaKtjomUc0dEyOKSVllb0Cwz85H5FNDo8c7U3VPn+Pu0dmuzbKuAudTIZjl3ZprkjjkFq9FVzuG0BDbxmxEsYM3uIknAyzsjOUUyITBkIKoOzUkScF/y8vCe4JbEa8TrR/Lv9/bY9/EQIJLEkJNqEsIH1mBVmEnGyBBSMFBhfBS0BROxYr9h3x4ZNSQDnyEyAaFU1+4pEjLio8GEq4AQet8crw8dOa7XfQ80GwdrauX0vPFYO2iRtRAE0uFbQWdrEvtCQWJl4Xbn0Dwnb5wbS0/2rSPjCKeyR91DAezG49oWVx5y91kthMdDWE3m/cVEfEMSE2QOTNRy4xOlqL5WtkFImAumMIkrtf6bPYwGyWcmaT8EhCLMcfojjE1IEjphk3ReuT8G2Je7/zFmhjSlAMAFWH7IXDN6EfMKkDR8vS5kcnVehYTQ+4p8D3k5MvT0aaCwQLr//vtlCjSVPMYyythzbnFxdiwiqtFaRAUI1qt8GDUN5M1INAlnv5588klnPk7zIj+vRTN3mhORtL/8rWNV/qosELBBj7EfRu0j0O1CQvtNtX9EJwTt1egLQNILx61OBN3Xfk0dO8LJwwnPj0qbHauhY6V1nBQOPoJwXTfccIOrgP3gR1VjWq5jtYdnacfMcXzonjIfbfXUmeq4exUsTOCmrUXuA3Lc/1y5T4rh1HyoulFm56XLu86ecFQVDj/s4el67lEF3H7u8UyBWIbmSEnQAJDYNusg7qHnsxzNolg3NQPJjGYEYnnnBIkjLKOCwhubiuXvrxTipRojReXwMq5pQgz3RndOV7+GD42ScydFyuK9zfL8mha5YF6LDEv3whKG63PuYGWrPLsKpkYAcP64SMkeGYvIVoL4+wkuBn8jVpaqYQpwEOZ3pXghUGh4CyvXXBVOjot3ybIoNKRBeKDQwJj9vEZuqgQA5XXABfH2hysQXb343Xw+MeQc5nYmTHIOgylcFTDdYU4FXZWnELEXdv9vgvHOwgr+hJEjnMnRNoRIHQUhoQGMBf0UxmQMhSbo7SuMXe22mi3Wox0mT8uED9sICCvMDM0M0QvAuCYEzEf4DH8L5lEHwdyeN2WqWwHXMXa1H/3hfGLB57A+J/33UD18DJixmo7rLBUNZo73Wh0EgUHQJMybkO+u7+jmRkmuOiQ7cc8W1RyWiamD+dANO3i8cXr92nz4kFTCHyETWpCxVHYBbAAAL7NJREFU0FaSBvq84PhJXCRlvqlQYrhQ7mcUST8xJwEXcdsi1qm8iyY3YzmGPyXxGMsoP0czop/85CdunyvQxpd71gfmF02ZGJKeQgctMaidoB8EhQvm3lKTcYbgV16K5/O5QKJ/BEn74/6wr+MiEBZCgr+Xqv7y7+up3zqB/BO3p9oKrZdt60QOPdav/nbPIjDSx3mPkNEOPLeCw08Bo33+zHQ8VESeQhShJYca5duxPhUhT3APEAoW3ssveHI7P+jHQOI1d+3hPLZ9rLPVLMpjRr2iZFN1P+tTqqyulx+uK5fZiVEyAmZJ75iaJhlpsBHqArkh4vwY3K1nzoiSkcub5anCFrlmQ7NcfAaTvTkeORzf1bJyY5Pct6VF8pEAe8E0MB6xkPvw0CZ+xJ0x7WlmxE8OotUwky4TY5WDASzGy6W0qhImEKWYP5GSmhAvw6BhoKnJEAgNyWBeaBbhhM8ASO66BrA+llDahcvRb051zz/cBFyBZ8QjMomvw/wyEUw3zYn48qWpybTRo2UJVP5roMo/BZrdU3Pz5NUtmyR6w3oXe54mKsMHewEDPOas+yDSxwYdlPdiPpw3eQqckRtc4rQszINsn3PiFoRB3QIGYU5OjvOZYC84xoFMej+4JxywUDT4LKPWhY7gzKa9F2Zb1TAjikfkn9ZW73ldhfkwCBqEBTBDS4U/AikvOVUyDx2QPTi2uvKgMzmiU3N3X/fuumbFEGbWHK50z4hxCTBthLmR0ZH7gk7Is2bNcvc6V+xH417nYi39DsjEc/747yEy+CoIhOLIsqTXXntNPvGJTzgrCQaRIUPPoDFnnnmma0f5HjLv1FwoEx9an3s+oQyD2vAcLuYykRutLxhK9dlnnz3qFObOosMyA9Go9kH7xIL+cYSO66iK7I+jEAgrIYEXzn9RtaftTUo93pVtT9Z9rH61dWNwEvsn8rHO7yvHOvKODpYN/Jg7KUsegp8AMSFDzrmh9v4cv2IVPK8DoHhYd+AEFPWY0bbP8QQNkYUzRsnBgG8E+0stRExAMOGZ2ue2a2l/L10bKMtMgw/FVROa5A/rW+TRl5vktKmw6x/sE5zar6LXjvBdwWtyCM7Vf3keK3jo3lnwp5g50dPcgAXxBBv0SO93ZWLI9DOBFz/jYepSB4awEsxMGcwgSvBhUqwtWFGOBmNL2+mhAaEhHS+SJAgRXAlVRogDZv3KwHQW+14D7iQ0xDlNhpH5BuZjtfi5dWtlWcFWOQfmARTciB+FN9qrb0Xo0aGDUhGquFI2giGvrquXkRAmksFcKLZ+7Ls6HLbNeilUFoD55/UeMSTdaREOQZCcmzvNCZlsh7kTVhRud34ITKhG0vPdHwPoS+c8ry3x02tCrd0hMGWluI+KK/DBdaxF1B8KBllwZJ8Om2+aGBXC/KQBmNNfiHOCZmiqWcqAdm9yUoqU4L5cV10lM6FVyKc2IcxIx/xmBTJzQ0uSjOfCVPSTmAzUeeG/RHq/MsgKcw0QE5Lu5283jwL3oPJJDPFO2381OWI5EhcUKEDQz4Ah40mMMsTwpx/60Idcclk6MlPwoO8lrSlo6kRnYiZ0OxbRh0A1GtQc0Cmapkz0TWDCWwoNND3Kzs522gTWRWGHxDFo3/fimUXSiJTuD/s6LgJhJSS4Bxpu4oFAOnEHwlg7OkadAXHwF+CnL1EMcikMRjzx7iaHCZ7jg5Bn4PL50fLvrQ3yL2gTznu1Sa67JBYPdzwQ0ahi193td6a+/77aKA9ta5ExgOOyeRBmBh1tGsW+hr6UtB3dTwdafujYTO8W2kpXKKODleWC0mLYzO+FCRPiuIOpGQpzlKFYYSaDy7Ce7pmilWLb1svQd3hA/lTGiRmXF8C8YDEypr6GxEVnYdWewgOv02xoDx585WW554XFYAgQgAH7KKhRqKP2R3HtiTnIXA7UVpwJW+ea+gYkTtsj2QEfCV4wzonlEGwSYmPkFJhO0VRGzZR4fCCQ4q/vUH0OUOtSDm1BMbQF1MyV494hw5+Ce2MszLaGg2mj/w99fzgPDgQEwCzcbwsmTnImR6yb2ibFdMagdFmN1fmDMAF7qbwEJjwpEg/Me+Lad+basb/EYQeEmOWVyL6L3/mJ0FRCC0IKl352ZmzdfY7yIfq8dfgAP8VQ96uJEHMlMDIjhQQ95uYHrj+JDs8PPfSQMxufO3euiyL0m9/8RphvgUnOmLBW66J2gD4JdEgO9UlgGdZbhbmrAgmFCvpNMIIkfRz48RNNnNSXglGVSKxDx0i/TxLD9CvpGPRv274dgbASEt7ePdszkBHA/Y0HOh74ARD04R7ON3ZP9ZlCAN7tTpswb0a0XDOlSf4FbcKdTzfJjAmRMh0aBrbNcieTwD+CoRDZWNgsd/ynSSbA5+zsvEhZONuLKEKNiE+xclRXQ68rH/AecUXUE4AY/YgfhrUk00KnW5pM0J+BTNAmOEGvRXzuRDCMaYlJiJwEJ2gIDUwI5hjeEICOtHBUVwbeHwFcsmA2NG+8Fxr19a1b5EwICmQeV+B3NQI8pGAlmaZgFBAYNrMJK4gkT19ztJCq2DqujIU4N3Wn/zePkQJzVw/pfNi6fx/ajZMsMLQFuL7MfTAVjAWPc46sggaBzO/ZkyYjUWOSxxiEXGevgf71TSgDkB1h2LCvCtqAMjD7+7CqSx+fKlw3amDTcT9MHTkK4YcHI5lesgt3GopIIq7vFNhuT0AkK/okEF+9DrrNhPPy3NQ0+R8EhEKY8yw9UCznDBsR7Etonb35t/a3DvPymdJ90gQH9wRoEU5Py3DCggo6vdmncG6LGgCSWjbwGutH9/PvQRAaGWzl5ZdfdpoEd1LgSzHfsGGDXHfddY6pZ7ZmEvNgMVIl8y7QBInmTcxzwHaZuI1mQzz/WKQm6H/+85/l9ttvd47VzGnlP499pF8CiZoL+k6QKCDwGIkO2iQNf8oxqwDhDthXmwiYkNAmLLYzHBDgvX1EWX7khRgOfWuvDz3ZZzzvnKCQGB8h110QI89BmxCBZ/wdDzfIrz4ZKRkwO3KCBJd5TwKpgHAQGaF/gD7FkImHjdSHL46RlEQ6jUNA6IBiSB/uOhR9lShjROY1GaEZ+Rk7dJhbIaU/g2dnXQnH1ioXNYkvg8S42GDkJJoyDYbpCuPAa13aBrfBlw/qb+u4v2x/+c1x6ss+F+ZFtFdfhehBMZs3yQ6YGb0IzcLEYZkIgzoCWZcPuBwEzMpM4nXS97xuvf3u8NE3rh9Q/+9AUW5Yh1scQL3UGm3Dy30GzAcoHGyEkDARJgfM80CiH8JGCBGzxoyVsYFIce5AP/py8z4ArP+eUPgoqBEn51sAwYAO3XREpm/JUPjuTAbTPxRMHnNdUCMQSv77ioIBHdlJ3B/anjLZp6YPlc1Yqd8DIf2Fg2UyAoIDnZj1uKugl790zrDZxSV7ZBeiMHEMp0OgobaD5B+P2zFAvxQHXdXXv3UbCgtX72kaRH8DmvlkZ2c7LJXRZoRIJksjMZkszYL0eULBgAFpmKmZTscUDOj8TEFB/RNC2/P/rW3MmDHD7WbWZP4eN25csNjatWvl1ltvdX9fe+21wXCrWoARjTQLtJou6THbHhsBExKOjY8dNQTCCgHwTY6mjouWL13SIu//a6M0Y4HkJ2DKv/bhOJgN0Ia7/dX6nhqMCgD1ja3ys0fq5c09LbIOOer+fFW0zJqIxwze1m3wJx3qjjJFoSfpy4gMkDpBM0IPzWAqsarqhAbYYR8A87QLDC5Zf9rRu/wMAU0DnaDpRE3yvygdA6WcL8Bvrw+hfeqLf3PcyuRNz86Rapj2bAEDXgeH1rFYxa+AAEYfkdGIZMSkW8SzDup/+uP4IDpq6I2Yi9V1rTivVQ4i2FdlvZctnIUQSVhSMV/p1x8fS4EPwRzAw3KOK9IF+xCpBCvBwwYNlkJEVCL+jLhEKoXmiH4IY5AVeiqEBJL23/3Rh7+CgirG4OYjQfERr0M5hOB9BytkH5y6KzDPOVcZiSgH14eRqIakwrkfArSfdD7757i/5vb2ax0UzJtxsRORbO2CocPlj3t24FCrPA6m/IOYEyMQYpTXgPX469Xze2rrv+5Ly4plKZyqsYYsY+GofEaGZ3riL9NT/egr9aoG4Xi5mXQ+cDWf5kMkZj4+55xz3G9diX/iiSdcPitGRGIUIpLOYdZxww03yJ133un8FSg0vPe973VmRyoA6DNct3q+m0eBuU9txBe/+EVXz3hoO+n7QN8D5lHgfhL9FTSZLfum49yFBQ8mg2NSXjpmk3Rs7g/7ahcBExLahcYOGALhhwCfl6otuOKcWPkWmPFfLmuWJ9YhEs3DSNL3vjjHcJFpJ1MeeL722EDIHLI/5K8bmlrl7r/Wyz/eapYqtP+N06Lk3ecfMTPqqpDQ3iD8D3v/i4n28jQ14icfq6m0z6bQQBt3mmPsB5O5DQm5yM7QKdZL6jbY+TbQWZNCh2N0fCCyfjJa3O9vt72+9bX9ZAJJDElb21iPqDYJsFlHdmysSDPCkBMKYLqSilXpTDDuxGlHWTnOwCQIUCWEgt3lrbIFSfS2HYCwiN/bqxCvHpGAtzCJiONUURhN5UdHSBamSA4iU05Lj5DcIcj2PCxCsjPogF4ruw7skVzkz6lDfhI6rM+EmRFXxBkSlX4IFOxOyc1zvhHMncAoWH2VjjW3yOAehmnPAczdvdAW7IOPQTV8MZgZOQOmdHQ6pmkdzeoowPnJf0+Ezmd/uRP9zYzWrDMbq/MXZ2TKP0r24Vq1yMN7d8kHRo4VmiOxv7zMOp9OtO7OlKPQwj6RVpSXytMwf4rF33EQLt+ZNcr5S/jLdKaN/naOahDoQHws4jOOjDbLM+LRCGgSv/SlL8n73ve+oHPwToRO5uo9/QBoZsTIQnqO1s1jzL/A5Gl33HGHM13KycnRw8Fnqf+Zqr+55XxjX6mNoCnRXXfdJbfddlvwfEZPYkjUa665xvVV5zw1Ffy9ePFiV/bmm292GZu5T+sPVmI/2kQgAmDpI7vNArbTEDAEwg8B1RYwgtDX762TZxBmNAYruu+eFSmffE+cc3Am886buz0fgK6Oin3gq5nMf2V1q/zmH/Xy0BvNTmhYkBMp378xXtJST45mg2Pjo00fbqHMCo8x5GdFTbVP01Dtor3EgvEaAtt2Ml2M5jMYTGkimOG26tD6iUN/eelQGHgB9sVNiC2fGliJ5tga8fdIrNrHIRrOmt27ZDBCSp43bSocYw9ITAzMB1rT5LXCJnm1qEWeL22V1TVAB8KicCkKQmQutlkQChLwm1SLY/tgsVQI4dKVYzoRlJmGaJuXZEVJzqBaiY/cI6flpEjxwVIk+qqTS06Z7UzHliEEK8OdnjEhX6g16qurxDpH25o/9PlgtCFqTJirgv4F9bgGyTAjYu6QLAhpFIAZppbO2krHqlPLdHXLec8+k54r3iP/g8lRMh4ESejHNVljZDR8Hkg9yZyzD7zuKiAsg3BAAYHiJUXW60aMQcjWQX12bhC/7ibODd7LdAhmJCKGF9UkY+21pefw+D333CM33nij0OTnpptucqcw70AFoovRwZhOwazff47WS8GB0ZG4pT8C/RU6Qqp14Dmsh47IbJv+EkzEyw9JyzGhGoUERkeigEOiXwLLtdU/V8C+3oaACQlvg8R2GAJ9AwFqC8gblFW0yDfur4ePQoukxkTI6TkRcvs1sZI3ymMcmlCOjDxkiG4hvGecSRPNRUg7kNztF39vkFe2tUotGL55CHf67Y/A0RSrwqr18Eqe3G8yFHg7uJdYKEPPiC8UGriCTi1DCV4+TMpFu/tErGAxHCQZsyF4sXElOwE+DqEGFceq/+SOvGOtU9uyF5FEaMZCxpTjoq06McqF3T9X7rftL5Gisr1IbjhOqhuT5bFVdfJsUYQ8ieR5LWD2o7CYfUlKhExLi5DRg2H2MSgCWgms7mK/zptGzEu4GSDEbavsPNQqRRWtsuZgq/wHPi2sIy8+Us5Ki5TJQ+owr3fKBZPSZMzQEUjetk+Wbd0sk7GqeSqSqZH8TGvHRtv7pcmgKJMSOg91DmruAjpks2waGLDhEAoyBw9yWp3EeGYiP3JDH6vOnhqhjoH1P7N/t7xQcUCS8KCJwedimPhMH+xFkXH3BcqECtld6ReFD9ZHBGohOL0IJ+XXYGJEAYFz4T1Zo0+6j0RXxteT5/qv24m2o5oBmu1QG7AVPkoFBQWSl5f3tiraqv9E972tspAdKgCE7HZ/sg1+1MyI2g8KCtQ60AzqsccekyuvvLKtU23fMRAwIeEY4NghQyDcEVCNQnlli/NL+O3KZpmYRIZM5JOXxMjZp0aDMfOYCQoVeK86gaEz43KaCbyBKZiQGrEK/OKKRvnVfxrBXItsx8rx+6dHyefeFytDwdyFk4Dg9fjIt3uhBP4ko3aE3fJ20hmU5h0HD8Mh1OVoQMhHaB3IgdCfgWFWmaMhHUIDTXIYptVPx6vfXzZcf9Okh6vYuw6UQWCokBr4JgyGzfkFM2fBvCcKie7q5Ik1zfL0jhjZAI3WRgiI0+FjcPmICJk3hmZDkZIJTVIi9h1PQGXUq2r4KxRDyNha3CJLd7XIP/a2yEb4tcyPj5K0uCa5aXqszBpdLSu3rcY8TpQLZkx3pjXEOpTZDjdMdT5wnvn7SsGLTuJlDFMKjPcjZGclnEBj6IeBucUQpQz/S8G0LTMiMsShdfbm2CkAKPP/IsyOnj1YIvEw+WK/5qQMlgVDMmVw4N7oqrDAOl17HDMfZCCGOX2+bL/shJMyG03Aw+kamBhRg+DpEd9+b7sTB/gXmW1+iKOaHh0PEmXQadtPu3+u4BcWFgZzH7AeMuh6bULr4z1AYYPEcvx0hrQetsMP/yZp2/xb+8Cwq/R/YDbm7yIRG02h/Mc70/5AO8eEhIF2xW28/Q4BZcZrwGQ9/N8GufmpJpkDJ1BYAMk7p0TKuxZFy/QJ0UGzIz5TA89VPEw9waEtUNorR4Zu7dYmeezFJnl8XYtAJpHlWA2++/xol7MhGSvG2qe26g3HfXxx8FXTHsNFJ2hl5rjKWwKm7jCYOTJIFBKYn4Hx5qlp0EzQ/nEer35/2ZP9m30l6YuWjFkFNCw7kLhoJ6KEnDNlvFQ2pMkvlkB7VApNFryTmwDcTbmRchES5k3IipSEgGCqY3FzKfiH/mAjirlvH37WwNF5C4SFpzY2y92FLTIMOMdHRciklAZZNGqvXDkrE2Y24W1KEoqjjpBzyeX6gAC2H3OJAkItohElxcQ6bdUICAaM3sR5FBqNKBznkV9QWA1twr+xql/X0uwch4dgTPMGw7EcuRUSYManpAKDY/R0Z8jWm4VcHdY5wrvTo1JEVVoBE7Q3kcytEb4o9Xgo5cI0jj4IWfCJ8M71ztNzbNs1BFRIIKNP52UKCMyiTB8Bzkt9XnStla6frX1hf9ch5wsTrjGrNM2q9FjXWxk4NZiQMHCutY20HyPgZ8pffatRfvRYozy/r1VGY4GbDNvFEBbOnxslUxAVaTASsnWG6HewYVuz/O+NJnkSwsFhCCU7G0TOzoqQz18Z43IhsGZ/XzrTzsk+hy8SpfZefHXIVEuznNJDME2CpqEUkWbqYDtDpo5O0BQW1JGUNuNtMXtso736tf2TuVUc/H2sb6yV5zc3y69WxUJz1AwGLULOzYiQj82JhlNxlItOpH2mMKmSlxNG9UDI1hXzlfVrHZpgXL5qZ7P8ZkWTPF3WKpPiosBMt8pXz4iWU+H3QnJMZOemdEhPuv5nW5ixVpoRManZfmgLijFfDtKMCPsZjWg47LOHIz8FtVLMARJKWif3+69FaLmT+bdfUNiPKFjPlCI0LTRvcEFxwsJw+FHMhGZhQgpM9pCLoTPEnAd7Uee6qgpZh2RuVWBWW4AiwwsshGnTGXCipiCi4n6YTInODDVsz+FcDNc5eDzQ+nLfjze2njxuQkJPomt1GwK9iACZMmWw6KfwxEuN8tsXmmUtTEGG0UQIPNXCEZEyfyKSr42LlOFDI2VYeqQzB4GFAB7+XmfJdPFTiyg1JQdbZH9pi6zd1iKvbmqRVxBNqQEa41J8JiL3wScWRckVi2IkE/WQ+rqA4CFw9PfxmDQye8z6q/4MjJrEleI6rBjHwXGOORmGQctAJ2hGn2FEoLaMIFgPKdyYG48B9Hq2GHPg9iVNkh7ZIvuaIRxOjpT3QEBIheaK5OYOtvxL5xP3d4TaqoMRkx6GcPqdDc0yHpxnAebffWdEyfmTvdVpntPZ9jrSt7bK8rqFXjNixqRmpRAIaKpF347DWP1mNCI6xY+AA3gmhAP6GsRgjoRScM5hUKF1h5YNl7/987cJDwJqFV6GQ/N+RMmirwD/p2L82Vjxz0MG5GEIT5oG4SEJ42dUKh0n6+H4m/CphDB+EGZueyB4FNQednkZ6lG3wxwnTIT521kwadI8CA63PoRZuFy7jvSDGPclQUHvpb7U545cj54ua0JCTyNs9RsCvYgAnt+OlGEqhFPxs681yT9XNMsyrMRWY2WWjsyk2XAonZQuMG1ARk1oF5hjgVQHDcEhaA1K4Uy6CdEt34BDKSkWggZXBhcMiZArZkfJBfOig87Roe26E/rpVwBiNzplbPxD5UuJpkiMY09NQykcoRnHvgErnwlwACZjmAV7XkamYV4HZoJui9yKaPB6ttVSW2d17z42ry3/d12TXAwBYRFyGlRi/w/mRck7Akw6BVSW03nXXb3gvGIfVPh9dkOTfGYphBTsWwmfmMcXRjtBoTfmH/uhagvFhLuUGP2JPiz0LaDTN/NINOKaJ9GHBVoC+hfQjGgQhMa2GBZXPyprq25toy9sOW9VtDkMM6o1FeXyJpyK90FY8CLgwjEdA4mH1m1QZLSkwJY9GRGz4vA3zfcoYNTCXOkwhOxK4FfZgszeuMBchqAowXJ5MCmaC+3BeGgmNLoR8evr2PWF66t97GvCgvbbth1DwISEjuFlpQ2BPoEAmSb3wgy8NYsRr/4tmIksx0rsW3AK3VmBuPUQBvbWYTh8u+qHo+M5gU8WLAOGQ3gYO1iQ9TZSTpsUJTNhdz48w9McsLhrK9AO/x6o5Fas2ljFbALDU1VTC6HhsDNNYnI3JibjanMibLbJQNI5lUJDakLi2xxUFU9dEePfbTGZWq47t6oZehVL91cvbpRJkBIbcK1/fk60zMn2PNj9GqzubNtfl7+N1wub5dYXEHUKc7YAXOdfz42R+XlRPaLFOh7mNCPi9WTY2L0QDipxXXnz0OTMhSmFtiAdWiQKCn7SenvrOvrb7q3ffmGhDsx+YXWlbIGZUBEDAjQ3Oj+CBpgQ8dqyLB9BSt7jB8n1cD8x50ECHLmH4l7JgQN3fnKqjIQmQh85/nb0fNsaAoZA9yBgQkL34Gi1GAJhiQCZPLxjgyu8fCGXQGDYCxOiwn0tchBaggOIKHMQvA2TofFFHQdGcDBi1WcghGUaw1cOj5SRiFRD0yTNuUDBgB8s6hm1gYAygTwUyggyalAVItocgIaBTqul+FRB80D0U2GKxKhJTFTmnKDxd3vmKLxWjpniBe4B0shZBUiK9kFEsIrBXEIQK/ndedEyeyyYcnTAa78HGm+jSjfnsJ9ahTcgKNy4uEkQWVXAP8o9iOSVB/M57XMbp5/wLl679rDVaESlMB+itoCOxzVI0kezMgp7vG4U+KghYjI/P+mcCJ0P/jL97Tdx5Lg1AhLHR+3CAZheleBTDlOiw9DA1ECIaHS4e3kPYmF+xJwLKdAwZMAkaShMk+jLEOt74Pj9IPobbjYeQyBcEDAhIVyuhPXDEOhBBCgs8IWtTL6/KZof1SGaDMuQ+B6Og0lJjLdQ7O0MfJMJI2Poe1cfddz+eDsCyijxCM0wQnn6WjBKldA0cEWaNuwUGqrBeJKxSodpEv0ZHOOZnOT8GaLJFftImVru8ph2fh+beM6xmFVltqugbfoSBISVyJpcBqng9zDvOWditJsrfuHz2K1131EPS09QeG5jk9y8pFlg/Sbzh0bIdy6KQXjaziXvUwzbwq8eTO2h6kBSs4PlzkmdZkQpEOAyU5G7IKAFCnVQP1ad3YdI36iJYhemnJv7aork73kDHj7MfcB/PM7EkNF0lAohCgYkzt3jz/KQk+1PQ8AQ6DACJiR0GDI7wRDouwjwHavCgDJ53LZFLKsfHqdg0F7Zts63fW0j4JhHAOsYnRBAyQTRCfpQIBN0MZygD1QfllpEToqLiXZCQybs2hludTAEiASYsbQVOYlt8GL5V3BDe+OxWygWcsCdyn048ODrjfLdt5qdLfmXp0XJh+YjGxooUL373dtf/rbvW9ood61tllaM9dun0In6xPsXZDgxAL/ARFyqodmhI3oxNAXUGJRDSKAGIx0aAkYjosZgMIW2kEg9nmDgMbr+Onsbo3Buj7gTY8479wm5B/x9V0GL5SkyGKZ+dOy3IdDzCJiQ0PMYWwuGQNgiQIaLL2B+uS1+8sXNL+8Fzj+MegoBZYJYf1sMk5cJus6Lqw8TF2aCPoDISfRzSICNdgb9GeDLMCQZmaADQoO7fr4Ot8UMM1lcNMw5SOyDn/lSLQKTmt36dKPsh9/KGUNFfnhprCRBw0QzI3Uk9jXTqz+1DwzDS03HktJWGQUTuV9c6JkdURBuS9uleJMv9a9FEw+agDHbNh2Pi4F1Fcxh4hCNh/iOQIhSRqdKhU18W2ZEugLux7FXAenDjfG5w+viJzeHcZFC57K/jP02BAyBnkfgaKPJnm/PWjAEDIEwQsBjltAhexuflKtCptIPfZCJ5SXBMWoJUuDMzM/ojKGITMVM0EdWuRlaczdMYEjJtN2G0EAHaPoz0AmamaDb0iZs2F0k8Yi0NGHESNeOCgpkvmmSxu3TSGRWiNCj0ZAIbkTm7nAREDhWCinsI82LPjonSpY82yTrkBD7WfT5JvgmUEAg38n5rQyow9qHN31DKqCloeDF/AVl0Bw0wD4+GdoBRp+alZbtNDZMahaKYeh1OvoqsodGJ4oA578JVyeKlpUzBHoXARMSehdva80QMAQMgXYR8AsN4HE9TjdQmse4+k8zI35yMjPhbO5lgqYjLf0ZSrASvuPAAXcGE3UNQV4GJnVjoq6UBDh+whGUDC7L74UZDdvI9wkKsNtxAmMBtAj/QRQsJNaWn0xCXo1RntbhZGsQAlC4DZlL0rTRUXJDbot8HgLCEzta5PxJLc6JWQUfPwNKAYsO405bAOHgIKIRkcFnLosJWcMlKw3RiKCVaSssrQobbNN/nfi3kSFgCBgC/REBExL641W1MRkChkCfR8AxwVwKD1Aok8rdNH2hAMBP/siR4q2OV0sZhABm9mVYzoKSEmgDIhE5Cdl9wQTTTKkWjtHcrtqxQ2rAOM/KzfMY3wiKDRGyfEezvIwkfHOQJO2iyS4VVnBlPtCdk77xtATQfACi8/Mj5bGdLfIMInUtR+QjRjqKhERDcy1mxqa2gL4FjCbFaESx0VGSAWEgD4LWMPoXQOhS8yv/wIKYUwPhuxb+MvbbEDAEDIH+ioAJCf31ytq4DAFDoF8h0BaT6rQNGKWKEnEwIWImX36mYD/j+NMBl5qDEggN20qK4bje6kyNKDjws2nfPpcdek7uOIRbjYLZTYss3QMHamgRrhoX4RjucAXSE2lExmVGyoUjIuSVza3y6m4IN6MPSVNTuewoPYicFNVIatbiwsvS6TgLHyY1YzSiUEwVT46XmIYeD1ccrF+GgCFgCPQEAiYk9ASqVqchYAgYAr2AgAoH/qZ09ZsMbiKiH/EzcsgQV+QQVtVX7yiEwFDpYvvTqTkRfgvboW04XFsnCydPkKIDcfJ0WYskIVDQfORDCIbCbasxf8Mn4bdqE5jb4/QxcETY1ixbKyPhm1AqGfFFEAwGSX7WCCcYpKcwu/Wxk5qF4RBPAqrWpCFgCBgCHgImJNhMMAQMAUOgHyHgX/1WgYHRdyIRd56r5zTBqYcvAxnsRibJwA86MVfV1cianUWyrmSM7GiMkHelYYV+mMc200k4nPwR9HKxd+wbxzIeCf+uQXa1v1W0yFXRWfKOaRmIRpQMIefo15xiQpz8WGmdtjUEDAFDwBDwEDj66WmoGAKGgCFgCPQbBIJMcMCOpoRx/2Gfz0RgSdAwJGNLB+dkREIakpIE4SFKntyM+KGNrXIK7PqHIOt2X6GhqREyZUik/A3ZxItr4mQwNAd0tw4NARvEpK8MzPppCBgChsBJQsCEhJMEvDVrCBgChkBvIaCMcSLMbeaNH++SgsXHxcLkyEs+pv2obhDZVImv6FYZmwYNA8x4SOEsKlCLQEqIgf8E+iwY0orSZjlYFYkQppHoOzUGXhn7NgQMAUPAEDhxBExIOHGsrKQhYAgYAn0agVSE+uTHTzS/ockO8yNU1rTIFjgup+DNMAamOyTNN+A/J5x+UwBQc6gR0HxkQH2wtz5CKuvwuw9pQsIJU+uLIWAIGAJEAK8FI0PAEDAEDIGBgoAnFFAwgKcCPtQyRDmHgwgprxUpQlSjPKzKJyP8KSlgqRTe8AQ6mZQQIeOQFfpNmEuVVfeJnoc3rtY7Q8AQGNAImJAwoC+/Dd4QMAQGGgIUCphBmB81Q1IMqpBhuRy+zJmxyMEAQaGvURKCF6VTPw5Bpw5WU0aGgCFgCBgCnUfAhITOY2dnGgKGgCHQrxBohIAg8FtOwJshGPq0D4xQdQaxyKwWz7caxtBEGyQjQ8AQMAQMgU4jYEJCp6GzEw0BQ8AQ6IcI9D0FQj+8CDYkQ8AQMAROPgImJJz8a2A9MAQMAUMgLBCIwUo8QxnVMgoqtQp9hFSuaWhulTr0nd520eGY2KGP4GndNAQMAUOACJiQYPPAEDAEDAFDwCGQApv+NEQHKmkUaYDzb1+j6nqRg/BHEPglxMOvwsgQMAQMAUOg8wiYkNB57OxMQ8AQMAT6BQIMc0oakhQhY8Fgb21olcNwYibpKr37I1y/Ap2srm2VAvT9FOR34FiMDAFDwBAwBDqPgAkJncfOzjQEDAFDoF8hkBiHhGRgrg/D1GjXoYCQAF5bhYhwHCz7ppZF+6paBXnUZFQCohwlmpAQjtfL+mQIGAJ9BwETEvrOtbKeGgKGgCHQowikgLmezqzFMDfadRD2/U2eoOB992jTna5cBZhamEcVoM8MfzojPUISYDrlyGSFTmNrJxoChsDARsCEhIF9/W30hoAhYAgEEUhEboQ8MNj0Vlt9oFUOYGW+r1BpZatsoZCA/5OGIhQqTI5IJiP0lSto/TQEDIFwQ8CEhHC7ItYfQ8AQMAR6GQHkVQuaFOVnRsoEZC7+d0WrbCv1hASa84SjuMA+se+kgpIWeRWCwoh4kYkYAykc++w6Zl+GgCFgCPQBBExI6AMXybpoCBgChkBPI6AMdXZGpJydLnIYJkdLdzYfCYWqBXq6Ix2on6ZGFBLqYRb1WlGL7ESW5YszIoRjcBSGfe7A8KyoIWAIGAInFQETEk4q/Na4IWAIGALhgUBgQV4ykiNk/qhImOuIPLarVbaXMvFAeJL2eRu0CE/vocQgcvaYSEkzp+XwvGDWK0PAEOhTCJiQ0Kcul3XWEDAEDIGeQYAr8i0BeeD07Cg5C8LCGwiD+vRGL6saj4fTwrxqEVrQqWc3t8jSmlY5PyVCTkPfSXq8Z9CyWg0BQ8AQ6P8ImJDQ/6+xjdAQMAQMgRNDILA0Pw42/RePjpTx0Cb8vqBF1uz2BAWNJHRilfVsKRVY2LcHtrXISLzNLs+JlJxh9lrrWeStdkPAEBgoCNjTdKBcaRunIWAIGALHQYAOys3QJnB74eQoyY6PkGj8fc8bTVKDJGXcz5X7k03sA/tyuL5V7lvRLC2QYaYgv8MFE6MYmMlpRKj5MDIEDAFDwBDoPAImJHQeOzvTEDAEDIF+hwCZb9IEaBOunxgpDREwOSoR+etKJCAA8aVxMjUKbFv7+Df06X8lrVKPPl8/KVLyAloEExDcpbIvQ8AQMAS6hIAJCV2Cz042BAwBQ6B/IUAGm9oE0uUzomXRkAjJgJn/HWub5YXNEBRwnIz6yRAUqMTgh/T8pia5Y12LDMJb7MJhEXLJNNhGgdh3ExIcFPZlCBgChkCXEDAhoUvw2cmGgCFgCPQ/BKLwZiCznQJzo8+cEePUByOjIuSLrzTLmwiLGonjvS0oaHvUIqzY0Syff7VZRkJ4SUD3bpsf7frKPrPvRoaAIWAIGAJdR8Aep13H0GowBAwBQ6DfIUBmm7b/42F2dNeZ0bK+sVWSMMpPPd8kKwOCAlfse8NHgW2wLRUQbkUfUtCXrciP8L0zomUczIwYmckEhH43DW1AhoAhcBIRMCHhJIJvTRsChoAhEM4IqNnOGeOj5AEw46/CeTkGzPhNzzXJYpj7kMi4k4lXM6DuHA/rZN3qg/Dcxib5GNqOw75lEFruQ58WjItyWg3ta3e2b3UZAoaAITCQETAhYSBffRu7IWAIGALHQAD8f9D34OKp0fIENAqbsHrPVfybX26We19tlCpEGCITr2XVLOgY1R7zkJ7PLetk3ZXI1/D7VxrlYy97GoQC9OFf6MuFUzw/BFZoQsIxYbWDhoAhYAh0GIGIVlCHz7ITDAFDwBAwBAYMAo5hJ8cOWrqtWb4MZr0OioQKLPOfnREhH5sTLTPHRAncFoJEDYASGXjfId3ttizmfwup1oAH6WOwalez/H5Fk7x0oFVScTAZPgh3QECYlxdImoZy7dXNOowMAUPAEDAEOoeACQmdw83OMgQMAUNgQCGgK/vkyLeVtMgvlzYhNGqLxLZGuBCkH8mNkIuQp4A+DPExR7PtPDcoM+iPQBFuQrUAtTAl2rq/Rf67qVnuL2yReNdGq1yMum9dEC25GZGeYIGTj25pQF0SG6whYAgYAj2KgAkJPQqvVW4IGAKGQP9BwDH7YPIZ3egw/BOeWtMkf97YIuurW6UQCc1mxEXIFSMjZN4YZGuGM/Gw1AhJwr7jMfKUG6phtlRS2Spbiltk2a4W+efeVlmDfXmwKGKitOsmRclF06IkKTbCS5aGPhyv3v6DvI3EEDAEDIHeR8CEhN7H3Fo0BAwBQ6BPI+APNVpY1iL/29gs/9nZIk+ByW9iKgUw9pdBQJieFiGjB0fI2EERMighQmJgKhQTsElqbG6VxkaRQ7WtsvNQqxRVtMrqcvgaVEFkQB1xqONC1HFpdqScBw1FNrQHJH/bfRpE67whYAgYAmGOgAkJYX6BrHuGgCFgCIQjAo5Z51J+YDmfwsIKCApLi1rkhTIw/DUesy8QDATuA3nREZKF3wmBcBm18DfYB7Oi7QySBC2EQGAQCAYzEiPkHPg5zB8dIXPGHhEOqMWgn4OFOQVORoaAIWAI9AICJiT0AsjWhCFgCBgC/RGBthh3agaKyltkSwkEgAMtsg7agW2HPYEAPs9HnBMgXIyDVmE4BIfcZJFp6RGSOyRSJsBMaRR+U/OgRIGEDs2hvgt63LaGgCFgCBgC3Y+ACQndj6nVaAgYAobAgEJAIxn5IxMRgEYIBVUIX1oP/4XyWvyGjwH3kWKgXUiFv0JaIkyL4OjM7M7c5yfWS1HBhAM/KvbbEDAEDIHeQcCEhN7B2VoxBAwBQ6DfI0DNglJnGfvuqEP7YFtDwBAwBAyBziMAC1AjQ8AQMAQMAUOg6wj4BQMnL/iEBvVdYCvUDgQPBX94B/x1sKyRIWAIGAKGwMlBwDQJJwd3a9UQMAQMAUPAEDAEDAFDwBAIWwQCcSbCtn/WMUPAEDAEDAFDwBAwBAwBQ8AQ6GUETEjoZcCtOUPAEDAEDAFDwBAwBAwBQyDcETAhIdyvkPXPEDAEDAFDwBAwBAwBQ8AQ6GUETEjoZcCtOUPAEDAEDAFDwBAwBAwBQyDcETAhIdyvkPXPEDAEDAFDwBAwBAwBQ8AQ6GUETEjoZcCtOUPAEDAEDAFDwBAwBAwBQyDcETAhIdyvkPXPEDAEDAFDwBAwBAwBQ8AQ6GUETEjoZcCtOUPAEDAEDAFDwBAwBAwBQyDcETAhIdyvkPXPEDAEDAFDwBAwBAwBQ8AQ6GUETEjoZcCtOUPAEDAEDAFDwBAwBAwBQyDcETAhIdyvkPXPEDAEDAFDwBAwBAwBQ8AQ6GUETEjoZcCtOUPAEDAEDAFDwBAwBAwBQyDcETAhIdyvkPXPEDAEDAFDwBAwBAwBQ8AQ6GUETEjoZcCtOUPAEDAEDAFDwBAwBAwBQyDcETAhIdyvkPXPEDAEDAFDwBAwBAwBQ8AQ6GUETEjoZcCtOUPAEDAEDAFDwBAwBAwBQyDcEfh/4C4ygqzLBNgAAAAASUVORK5CYII=)"
   ]
  },
  {
   "cell_type": "markdown",
   "metadata": {
    "id": "ICEnehd5v528"
   },
   "source": [
    "### The Dataset: \n",
    "\n",
    "We will be using your familiar MNIST dataset for this first attempt. We can pull in and pre-process this pretty easily by just using TF/Keras's provided dataset library. \n",
    "\n",
    "For loading and pre-processing, we need to: \n",
    " - Pull in the dataset and split it into testing/training.\n",
    " - Normalize the input-likes into [0,1]. As we saw in Lab 2, not doing this can heavily distort optimization in specific contexts.\n",
    " - One-Hot Encode the labels. This converts a single-element categorical variable into a set of boolean indicators. Each indicator corresponds to a single category instance, and shows whether the specific category is present. \n",
    "  - For example, let's say we have a column with values 1 through 5. \n",
    "  The one-hot vector encoding of 4 would be <0,0,0,1,0>, where the 4th column indicates that this category instance is present. \n",
    "  - The reason for this is to remove ordering assumptions. For example, we do not want to treat this as a regression problem since we do not know if transitioning from one category to another makes sense. "
   ]
  },
  {
   "cell_type": "code",
   "execution_count": 12,
   "metadata": {
    "colab": {
     "base_uri": "https://localhost:8080/"
    },
    "id": "mS7uL_nnv3u9",
    "outputId": "ba7a4264-e118-4ebf-c43f-c7e0d3d90448"
   },
   "outputs": [
    {
     "name": "stdout",
     "output_type": "stream",
     "text": [
      "Downloading data from https://storage.googleapis.com/tensorflow/tf-keras-datasets/mnist.npz\n",
      "11493376/11490434 [==============================] - 0s 0us/step\n",
      "11501568/11490434 [==============================] - 0s 0us/step\n",
      "(60000, 28, 28)\n",
      "(10000, 28, 28)\n",
      "(60000,)\n",
      "(10000,)\n",
      "[[  0   0   0   0   0   0   0   0   0   0   0   0   0   0   0   0   0   0\n",
      "    0   0   0   0   0   0   0   0   0   0]\n",
      " [  0   0   0   0   0   0   0   0   0   0   0   0   0   0   0   0   0   0\n",
      "    0   0   0   0   0   0   0   0   0   0]\n",
      " [  0   0   0   0   0   0   0   0   0   0   0   0   0   0   0   0   0   0\n",
      "    0   0   0   0   0   0   0   0   0   0]\n",
      " [  0   0   0   0   0   0   0   0   0   0   0   0   0   0   0   0   0   0\n",
      "    0   0   0   0   0   0   0   0   0   0]\n",
      " [  0   0   0   0   0   0   0   0   0   0   0   0   0   0   0   0   0   0\n",
      "    0   0   0   0   0   0   0   0   0   0]\n",
      " [  0   0   0   0   0   0   0   0   0   0   0   0   3  18  18  18 126 136\n",
      "  175  26 166 255 247 127   0   0   0   0]\n",
      " [  0   0   0   0   0   0   0   0  30  36  94 154 170 253 253 253 253 253\n",
      "  225 172 253 242 195  64   0   0   0   0]\n",
      " [  0   0   0   0   0   0   0  49 238 253 253 253 253 253 253 253 253 251\n",
      "   93  82  82  56  39   0   0   0   0   0]\n",
      " [  0   0   0   0   0   0   0  18 219 253 253 253 253 253 198 182 247 241\n",
      "    0   0   0   0   0   0   0   0   0   0]\n",
      " [  0   0   0   0   0   0   0   0  80 156 107 253 253 205  11   0  43 154\n",
      "    0   0   0   0   0   0   0   0   0   0]\n",
      " [  0   0   0   0   0   0   0   0   0  14   1 154 253  90   0   0   0   0\n",
      "    0   0   0   0   0   0   0   0   0   0]\n",
      " [  0   0   0   0   0   0   0   0   0   0   0 139 253 190   2   0   0   0\n",
      "    0   0   0   0   0   0   0   0   0   0]\n",
      " [  0   0   0   0   0   0   0   0   0   0   0  11 190 253  70   0   0   0\n",
      "    0   0   0   0   0   0   0   0   0   0]\n",
      " [  0   0   0   0   0   0   0   0   0   0   0   0  35 241 225 160 108   1\n",
      "    0   0   0   0   0   0   0   0   0   0]\n",
      " [  0   0   0   0   0   0   0   0   0   0   0   0   0  81 240 253 253 119\n",
      "   25   0   0   0   0   0   0   0   0   0]\n",
      " [  0   0   0   0   0   0   0   0   0   0   0   0   0   0  45 186 253 253\n",
      "  150  27   0   0   0   0   0   0   0   0]\n",
      " [  0   0   0   0   0   0   0   0   0   0   0   0   0   0   0  16  93 252\n",
      "  253 187   0   0   0   0   0   0   0   0]\n",
      " [  0   0   0   0   0   0   0   0   0   0   0   0   0   0   0   0   0 249\n",
      "  253 249  64   0   0   0   0   0   0   0]\n",
      " [  0   0   0   0   0   0   0   0   0   0   0   0   0   0  46 130 183 253\n",
      "  253 207   2   0   0   0   0   0   0   0]\n",
      " [  0   0   0   0   0   0   0   0   0   0   0   0  39 148 229 253 253 253\n",
      "  250 182   0   0   0   0   0   0   0   0]\n",
      " [  0   0   0   0   0   0   0   0   0   0  24 114 221 253 253 253 253 201\n",
      "   78   0   0   0   0   0   0   0   0   0]\n",
      " [  0   0   0   0   0   0   0   0  23  66 213 253 253 253 253 198  81   2\n",
      "    0   0   0   0   0   0   0   0   0   0]\n",
      " [  0   0   0   0   0   0  18 171 219 253 253 253 253 195  80   9   0   0\n",
      "    0   0   0   0   0   0   0   0   0   0]\n",
      " [  0   0   0   0  55 172 226 253 253 253 253 244 133  11   0   0   0   0\n",
      "    0   0   0   0   0   0   0   0   0   0]\n",
      " [  0   0   0   0 136 253 253 253 212 135 132  16   0   0   0   0   0   0\n",
      "    0   0   0   0   0   0   0   0   0   0]\n",
      " [  0   0   0   0   0   0   0   0   0   0   0   0   0   0   0   0   0   0\n",
      "    0   0   0   0   0   0   0   0   0   0]\n",
      " [  0   0   0   0   0   0   0   0   0   0   0   0   0   0   0   0   0   0\n",
      "    0   0   0   0   0   0   0   0   0   0]\n",
      " [  0   0   0   0   0   0   0   0   0   0   0   0   0   0   0   0   0   0\n",
      "    0   0   0   0   0   0   0   0   0   0]]\n",
      "\n",
      "(60000, 28, 28)\n",
      "(10000, 28, 28)\n",
      "(60000, 10)\n",
      "(10000, 10)\n",
      "[[0.         0.         0.         0.         0.         0.\n",
      "  0.         0.         0.         0.         0.         0.\n",
      "  0.         0.         0.         0.         0.         0.\n",
      "  0.         0.         0.         0.         0.         0.\n",
      "  0.         0.         0.         0.        ]\n",
      " [0.         0.         0.         0.         0.         0.\n",
      "  0.         0.         0.         0.         0.         0.\n",
      "  0.         0.         0.         0.         0.         0.\n",
      "  0.         0.         0.         0.         0.         0.\n",
      "  0.         0.         0.         0.        ]\n",
      " [0.         0.         0.         0.         0.         0.\n",
      "  0.         0.         0.         0.         0.         0.\n",
      "  0.         0.         0.         0.         0.         0.\n",
      "  0.         0.         0.         0.         0.         0.\n",
      "  0.         0.         0.         0.        ]\n",
      " [0.         0.         0.         0.         0.         0.\n",
      "  0.         0.         0.         0.         0.         0.\n",
      "  0.         0.         0.         0.         0.         0.\n",
      "  0.         0.         0.         0.         0.         0.\n",
      "  0.         0.         0.         0.        ]\n",
      " [0.         0.         0.         0.         0.         0.\n",
      "  0.         0.         0.         0.         0.         0.\n",
      "  0.         0.         0.         0.         0.         0.\n",
      "  0.         0.         0.         0.         0.         0.\n",
      "  0.         0.         0.         0.        ]\n",
      " [0.         0.         0.         0.         0.         0.\n",
      "  0.         0.         0.         0.         0.         0.\n",
      "  0.01176471 0.07058824 0.07058824 0.07058824 0.49411765 0.53333336\n",
      "  0.6862745  0.10196079 0.6509804  1.         0.96862745 0.49803922\n",
      "  0.         0.         0.         0.        ]\n",
      " [0.         0.         0.         0.         0.         0.\n",
      "  0.         0.         0.11764706 0.14117648 0.36862746 0.6039216\n",
      "  0.6666667  0.99215686 0.99215686 0.99215686 0.99215686 0.99215686\n",
      "  0.88235295 0.6745098  0.99215686 0.9490196  0.7647059  0.2509804\n",
      "  0.         0.         0.         0.        ]\n",
      " [0.         0.         0.         0.         0.         0.\n",
      "  0.         0.19215687 0.93333334 0.99215686 0.99215686 0.99215686\n",
      "  0.99215686 0.99215686 0.99215686 0.99215686 0.99215686 0.9843137\n",
      "  0.3647059  0.32156864 0.32156864 0.21960784 0.15294118 0.\n",
      "  0.         0.         0.         0.        ]\n",
      " [0.         0.         0.         0.         0.         0.\n",
      "  0.         0.07058824 0.85882354 0.99215686 0.99215686 0.99215686\n",
      "  0.99215686 0.99215686 0.7764706  0.7137255  0.96862745 0.94509804\n",
      "  0.         0.         0.         0.         0.         0.\n",
      "  0.         0.         0.         0.        ]\n",
      " [0.         0.         0.         0.         0.         0.\n",
      "  0.         0.         0.3137255  0.6117647  0.41960785 0.99215686\n",
      "  0.99215686 0.8039216  0.04313726 0.         0.16862746 0.6039216\n",
      "  0.         0.         0.         0.         0.         0.\n",
      "  0.         0.         0.         0.        ]\n",
      " [0.         0.         0.         0.         0.         0.\n",
      "  0.         0.         0.         0.05490196 0.00392157 0.6039216\n",
      "  0.99215686 0.3529412  0.         0.         0.         0.\n",
      "  0.         0.         0.         0.         0.         0.\n",
      "  0.         0.         0.         0.        ]\n",
      " [0.         0.         0.         0.         0.         0.\n",
      "  0.         0.         0.         0.         0.         0.54509807\n",
      "  0.99215686 0.74509805 0.00784314 0.         0.         0.\n",
      "  0.         0.         0.         0.         0.         0.\n",
      "  0.         0.         0.         0.        ]\n",
      " [0.         0.         0.         0.         0.         0.\n",
      "  0.         0.         0.         0.         0.         0.04313726\n",
      "  0.74509805 0.99215686 0.27450982 0.         0.         0.\n",
      "  0.         0.         0.         0.         0.         0.\n",
      "  0.         0.         0.         0.        ]\n",
      " [0.         0.         0.         0.         0.         0.\n",
      "  0.         0.         0.         0.         0.         0.\n",
      "  0.13725491 0.94509804 0.88235295 0.627451   0.42352942 0.00392157\n",
      "  0.         0.         0.         0.         0.         0.\n",
      "  0.         0.         0.         0.        ]\n",
      " [0.         0.         0.         0.         0.         0.\n",
      "  0.         0.         0.         0.         0.         0.\n",
      "  0.         0.31764707 0.9411765  0.99215686 0.99215686 0.46666667\n",
      "  0.09803922 0.         0.         0.         0.         0.\n",
      "  0.         0.         0.         0.        ]\n",
      " [0.         0.         0.         0.         0.         0.\n",
      "  0.         0.         0.         0.         0.         0.\n",
      "  0.         0.         0.1764706  0.7294118  0.99215686 0.99215686\n",
      "  0.5882353  0.10588235 0.         0.         0.         0.\n",
      "  0.         0.         0.         0.        ]\n",
      " [0.         0.         0.         0.         0.         0.\n",
      "  0.         0.         0.         0.         0.         0.\n",
      "  0.         0.         0.         0.0627451  0.3647059  0.9882353\n",
      "  0.99215686 0.73333335 0.         0.         0.         0.\n",
      "  0.         0.         0.         0.        ]\n",
      " [0.         0.         0.         0.         0.         0.\n",
      "  0.         0.         0.         0.         0.         0.\n",
      "  0.         0.         0.         0.         0.         0.9764706\n",
      "  0.99215686 0.9764706  0.2509804  0.         0.         0.\n",
      "  0.         0.         0.         0.        ]\n",
      " [0.         0.         0.         0.         0.         0.\n",
      "  0.         0.         0.         0.         0.         0.\n",
      "  0.         0.         0.18039216 0.50980395 0.7176471  0.99215686\n",
      "  0.99215686 0.8117647  0.00784314 0.         0.         0.\n",
      "  0.         0.         0.         0.        ]\n",
      " [0.         0.         0.         0.         0.         0.\n",
      "  0.         0.         0.         0.         0.         0.\n",
      "  0.15294118 0.5803922  0.8980392  0.99215686 0.99215686 0.99215686\n",
      "  0.98039216 0.7137255  0.         0.         0.         0.\n",
      "  0.         0.         0.         0.        ]\n",
      " [0.         0.         0.         0.         0.         0.\n",
      "  0.         0.         0.         0.         0.09411765 0.44705883\n",
      "  0.8666667  0.99215686 0.99215686 0.99215686 0.99215686 0.7882353\n",
      "  0.30588236 0.         0.         0.         0.         0.\n",
      "  0.         0.         0.         0.        ]\n",
      " [0.         0.         0.         0.         0.         0.\n",
      "  0.         0.         0.09019608 0.25882354 0.8352941  0.99215686\n",
      "  0.99215686 0.99215686 0.99215686 0.7764706  0.31764707 0.00784314\n",
      "  0.         0.         0.         0.         0.         0.\n",
      "  0.         0.         0.         0.        ]\n",
      " [0.         0.         0.         0.         0.         0.\n",
      "  0.07058824 0.67058825 0.85882354 0.99215686 0.99215686 0.99215686\n",
      "  0.99215686 0.7647059  0.3137255  0.03529412 0.         0.\n",
      "  0.         0.         0.         0.         0.         0.\n",
      "  0.         0.         0.         0.        ]\n",
      " [0.         0.         0.         0.         0.21568628 0.6745098\n",
      "  0.8862745  0.99215686 0.99215686 0.99215686 0.99215686 0.95686275\n",
      "  0.52156866 0.04313726 0.         0.         0.         0.\n",
      "  0.         0.         0.         0.         0.         0.\n",
      "  0.         0.         0.         0.        ]\n",
      " [0.         0.         0.         0.         0.53333336 0.99215686\n",
      "  0.99215686 0.99215686 0.83137256 0.5294118  0.5176471  0.0627451\n",
      "  0.         0.         0.         0.         0.         0.\n",
      "  0.         0.         0.         0.         0.         0.\n",
      "  0.         0.         0.         0.        ]\n",
      " [0.         0.         0.         0.         0.         0.\n",
      "  0.         0.         0.         0.         0.         0.\n",
      "  0.         0.         0.         0.         0.         0.\n",
      "  0.         0.         0.         0.         0.         0.\n",
      "  0.         0.         0.         0.        ]\n",
      " [0.         0.         0.         0.         0.         0.\n",
      "  0.         0.         0.         0.         0.         0.\n",
      "  0.         0.         0.         0.         0.         0.\n",
      "  0.         0.         0.         0.         0.         0.\n",
      "  0.         0.         0.         0.        ]\n",
      " [0.         0.         0.         0.         0.         0.\n",
      "  0.         0.         0.         0.         0.         0.\n",
      "  0.         0.         0.         0.         0.         0.\n",
      "  0.         0.         0.         0.         0.         0.\n",
      "  0.         0.         0.         0.        ]]\n"
     ]
    }
   ],
   "source": [
    "# Loading in dataset; split into training (X0,Y0) and testing (X1,Y1)\n",
    "mnist = tf.keras.datasets.mnist\n",
    "(X0, Y0), (X1, Y1) = mnist.load_data()\n",
    "\n",
    "print(X0.shape)\n",
    "print(X1.shape)\n",
    "print(Y0.shape)\n",
    "print(Y1.shape)\n",
    "print(X0[0])\n",
    "print()\n",
    "# Normalize inputs and make sure they're float32\n",
    "X0 = (X0 / 255.).astype(np.float32)\n",
    "X1 = (X1 / 255.).astype(np.float32)\n",
    "\n",
    "# Make labels one hot vectors\n",
    "Y0 = tf.one_hot(Y0, 10)\n",
    "Y1 = tf.one_hot(Y1, 10)\n",
    "\n",
    "print(X0.shape)\n",
    "print(X1.shape)\n",
    "print(Y0.shape)\n",
    "print(Y1.shape)\n",
    "print(X0[0])"
   ]
  },
  {
   "cell_type": "markdown",
   "metadata": {
    "id": "M8lW85kjcEuL"
   },
   "source": [
    "Finally, we're ready to define and train a network to fit this dataset. \n",
    "\n",
    "We should encapsulate our code in a class so that our code is reusable and well-organized. A very convenient class that we've been given by TensorFlow to inherit from is `tf.keras.Model`. The example that follows is a possible way to inherit from `tf.keras.Model`. It is not necessarily the best way, since the accuracy/loss computations can also be modularized, but we'll get to that. \n",
    "\n",
    "Some useful base `tf.nn` methods (aka the basic math neural network ones)include: \n",
    " - `tf.nn.softmax`\n",
    " - `tf.nn.relu` \n",
    "\n",
    "**Fill in the question marks below to complete the network:**"
   ]
  },
  {
   "cell_type": "code",
   "execution_count": 13,
   "metadata": {
    "colab": {
     "base_uri": "https://localhost:8080/"
    },
    "id": "DM_Fqz95v8Ww",
    "outputId": "a290f4a4-3ada-40d6-f6c1-d6606b1ece1b"
   },
   "outputs": [
    {
     "name": "stdout",
     "output_type": "stream",
     "text": [
      "Accuracy on training set after 0 training steps: 0.07235000282526016\n",
      "Accuracy on training set after 500 training steps: 0.7790666818618774\n",
      "Accuracy on training set after 1000 training steps: 0.8441833257675171\n",
      "Accuracy on training set after 1500 training steps: 0.8575000166893005\n",
      "Accuracy on training set after 2000 training steps: 0.8612333536148071\n",
      "Accuracy on training set after 2500 training steps: 0.8529333472251892\n",
      "Accuracy on training set after 3000 training steps: 0.886983335018158\n",
      "Accuracy on training set after 3500 training steps: 0.9038500189781189\n",
      "Accuracy on training set after 4000 training steps: 0.9071000218391418\n",
      "Accuracy on training set after 4500 training steps: 0.9020666480064392\n"
     ]
    }
   ],
   "source": [
    "from numpy.core.fromnumeric import shape\n",
    "class Model(tf.keras.Model):\n",
    "\n",
    "  def __init__(self, **kwargs):\n",
    "    # Putting *args and/or **kwargs as the last items in your function definition’s argument list \n",
    "    # allows that function to accept an arbitrary number of arguments and/or keyword arguments.\n",
    "\n",
    "\n",
    "    \"\"\"\n",
    "    The model class inherits from tf.keras.Model.\n",
    "    It stores the trainable weights as attributes.\n",
    "    \"\"\"\n",
    "    super(Model, self).__init__(**kwargs) # look up Model's parent class, which is tf.keras.Model, and apply it to self, self is an instance of tf.keras.Model \n",
    "    \n",
    "  \n",
    "    # Initialize your variables (weights) here:\n",
    "    # Think about using the gaussian_initialization example for these variables\n",
    "    # Remember that the input size is 784 and the output size (number of classes) is 10 \n",
    "    \n",
    "    def create_variable(dims):  ## Easy initialization function for you :)\n",
    "      return tf.Variable(tf.random.normal(dims, stddev=.1, dtype=tf.float32))\n",
    "\n",
    "    self.W1 = create_variable([784,200])  # there is a two layer neural network  # using create_variable \n",
    "    self.b1 = create_variable([200])\n",
    "    self.W2 = create_variable([200,10])\n",
    "    self.b2 = create_variable([10])\n",
    "  \n",
    "  def call(self, inputs):\n",
    "    \"\"\"\n",
    "    Forward pass, predicts labels given an input image using fully connected layers\n",
    "    :return: the probabilites of each label\n",
    "    \"\"\"\n",
    "    l1_out = tf.nn.relu(tf.matmul(inputs, self.W1) + self.b1) \n",
    "    # inputs is size: (batch_size x 784) and self.W1 is size (784 x 200)\n",
    "    # use relu function and matrix multiplication \n",
    "    # remember to use a relu activation\n",
    "    l2_out = tf.matmul(l1_out, self.W2) + self.b2\n",
    "    # (batch_size x 200) and (200 x 10)\n",
    "    prbs = tf.nn.softmax(l2_out)\n",
    "    # apply softmax function in the end\n",
    "    # print(f'the shape after the softmax is: {prbs.shape}')  \n",
    "    # (1, 10)\n",
    "    return prbs\n",
    "  \n",
    "  def loss(self, predictions, labels): # each entry of the predictions, the summation of the ten components is equal to 1 \n",
    "    \"\"\"\n",
    "    Calculates the model loss\n",
    "    :return: the loss of the model as a tensor\n",
    "    \"\"\"\n",
    "    # this is the formula for cross entropy loss: L = -log(pa) where pa is the probability for the true class\n",
    "    nll_comps = -labels * tf.math.log(tf.clip_by_value(predictions,1e-10,1.0)) \n",
    "    # labels[0] is a one hot encoding vector, with nine 0s and one 1 where 1 is the true class\n",
    "    # something like this: [0. 0. 0. 0. 0. 1. 0. 0. 0. 0.]\n",
    "\n",
    "    # tf.clip_by_valueL: everything in the predictions is between 1e-10 (the minimum) and 1.0 (the maximum)\n",
    "    # tf.math.log: applying the log function to the predictions \n",
    "\n",
    "\n",
    "    # print(f'the shape for the labels is: {labels.shape}') \n",
    "    # (1, 10)\n",
    "\n",
    "    # print(f'the shape for the predictions is: {predictions.shape}') \n",
    "    # (1, 10)\n",
    "\n",
    "  \n",
    "    # print(tf.math.log(tf.clip_by_value(predictions[0],1e-10,1.0)).numpy())\n",
    "    # after applying log to the predictions[0]: [ -4.5568843   -8.981787    -4.8770185   -7.731712    -7.689494    -5.255968    -0.02821522   -10.69127     -5.6934137   -9.466492  ]\n",
    "    # predictions[0] contains the soft max probability \n",
    "\n",
    "    \"\"\"\n",
    "    total_prob = 0\n",
    "    for i in range(10):\n",
    "      total_prob += predictions[0][i]\n",
    "    print(f'total probability is equal to {total_prob}')\n",
    "    # total probability is equal to 0.9999999403953552\n",
    "    \"\"\"\n",
    "\n",
    "\n",
    "    # print(labels)\n",
    "    # an example of the labels: [[0. 0. 0. 0. 0. 1. 0. 0. 0. 0.]]\n",
    "\n",
    "\n",
    "\n",
    "    # print(predictions.numpy())\n",
    "    # an example of the predictions: [[0.02547424 0.09850796 0.0381446  0.21012509 0.20506997 0.05833828 0.14307038 0.04689172 0.0695704  0.10480734]]\n",
    "\n",
    "\n",
    "    # print(nll_comps.numpy())\n",
    "    # [[0.        0.        0.        0.        0.        1.6162685     0.      0.        0.        0.       ]]\n",
    "\n",
    "    \n",
    "    \"\"\"\n",
    "    print(f\"this is the original: {nll_comps}\")\n",
    "    print(f'this is the reduce_sum: {tf.reduce_sum(nll_comps, axis=[1])}')\n",
    "    print(f'this is the reduce_mean: {tf.reduce_mean(tf.reduce_sum(nll_comps, axis=[1]))}')\n",
    "    \n",
    "    this is the original: [[0.         0.         0.         0.         0.         0.00661398         0.         0.         0.         0.        ]]\n",
    "    this is the reduce_sum: [0.00661398]\n",
    "    this is the reduce_mean: 0.006613978650420904\n",
    "    \"\"\"\n",
    "\n",
    "    \"\"\"\n",
    "    print(f'this is the reduce_sum with axis = 0: {tf.reduce_sum(nll_comps, axis = 0)}')\n",
    "    this is the reduce_sum with axis = 0: [0.        0.        0.        0.        0.        1.4940116     0.       0.        0.        0.       ]\n",
    "    \"\"\"\n",
    "    \n",
    "    #  “axis 0” represents rows and “axis 1” represents columns\n",
    "\n",
    "    return tf.reduce_mean(tf.reduce_sum(nll_comps, axis=[1])) \n",
    "    # axis = 0 doesn't work, the output is still a vector with nine 0s and one number \n",
    "    # reduce_mean remove the []\n",
    "\n",
    "  \n",
    "  def accuracy(self, predictions, labels):\n",
    "    \"\"\"\n",
    "    Calculates the model accuracy\n",
    "    :return: the accuracy of the model as a tensor\n",
    "    \"\"\"\n",
    "    pred_classes = tf.argmax(predictions, 1)  # return the index of the maximum number in the array []\n",
    "    true_classes = tf.argmax(labels, 1)\n",
    "    correct_prediction = tf.equal(pred_classes, true_classes)\n",
    "\n",
    "    \"\"\"\n",
    "    print(f'this is the shape of predictions: {predictions.shape}')\n",
    "    # this is the shape of predictions: (60000, 10)\n",
    "\n",
    "    print(f'this is the shape of labels: {labels.shape}')\n",
    "    # this is the shape of labels: (60000, 10)\n",
    "    \"\"\"\n",
    "\n",
    "    \"\"\"\n",
    "    print(f\"this is the correct_prediction: {correct_prediction}\")\n",
    "    print(f\"this is the shape of correct_prediction: {correct_prediction.shape}\")\n",
    "\n",
    "    this is the correct_prediction: [ True  True  True ...  True  True  True]\n",
    "    this is the shape of correct_prediction: (60000,)\n",
    "    \"\"\"\n",
    "\n",
    "    \"\"\"\n",
    "    print('this is tf.cast: ')\n",
    "    print(tf.cast(correct_prediction, tf.float32))\n",
    "    tf.Tensor([1. 1. 1. ... 1. 1. 1.], shape=(60000,), dtype=float32)\n",
    "    \"\"\"\n",
    "\n",
    "\n",
    "    \"\"\"\n",
    "    print('this is tf.reduce_mean for tf.cast')\n",
    "    print(tf.reduce_mean(tf.cast(correct_prediction, tf.float32)).numpy())\n",
    "    0.08991667  # returns the accuracy score \n",
    "    \"\"\"\n",
    "\n",
    "\n",
    "    return tf.reduce_mean(tf.cast(correct_prediction, tf.float32))\n",
    "    # tf.cast convert boolean values in correct_prediction to float32 values\n",
    "\n",
    "## END TODO\n",
    "################################################################################\n",
    "\n",
    "# Instantiate our model\n",
    "model = Model()\n",
    "\n",
    "# Choosing our optimizer\n",
    "optimizer = tf.keras.optimizers.Adam(learning_rate=0.001)\n",
    "\n",
    "# Loop through training steps\n",
    "train_steps = 2000                 ## Uncomment for quick run\n",
    "train_steps = 5000               ## Uncomment for full run when ready\n",
    "# train_steps = 10000              ## If you need this, maybe your architecture is a bit off?\n",
    "for i in range(train_steps):     \n",
    "  image = np.reshape(X0[i], (1,-1)) # reshape every image in train_steps into a row vector\n",
    "  label = np.reshape(Y0[i], (1,-1))  # reshape every image in train_steps into a row vector\n",
    "\n",
    "  \"\"\"\n",
    "  print(image.shape)\n",
    "  print(label.shape)\n",
    "\n",
    "  (1, 784)\n",
    "  (1, 10)\n",
    "  \"\"\"\n",
    "\n",
    "  # Implement backprop:\n",
    "  with tf.GradientTape() as tape:\n",
    "    y_pred = model.call(image)  # y_pred = model(image)  # this calls the call function conveniently\n",
    "                                # model(image) is calling the call function defined in Model \n",
    "\n",
    "\n",
    "  # print(f'this is y_pred: {y_pred}')\n",
    "  # this is y_pred: [[0.08879853 0.36401084 0.05961353 0.00773835 0.06351144 0.20420793  0.00821736 0.1093735  0.03336838 0.06116017]]\n",
    "  \n",
    "\n",
    "    loss = model.loss(y_pred, label)\n",
    "\n",
    "    # print(loss.numpy())\n",
    "      \n",
    "    if i % 500 == 0:\n",
    "      train_acc = model.accuracy(model.call(X0.reshape(-1,784)), Y0)\n",
    "    # train_acc = model.accuracy(model(X0.reshape(-1,784)), Y0)  another way to write above code \n",
    "\n",
    "      print(f\"Accuracy on training set after {i} training steps: {train_acc}\")\n",
    "\n",
    "\n",
    "      \n",
    "  # The keras Model class has the computed property trainable_variables to conveniently\n",
    "  # return all the trainable variables you'd want to adjust based on the gradients\n",
    "\n",
    "  gradients = tape.gradient(loss, model.trainable_variables)\n",
    "  optimizer.apply_gradients(zip(gradients, model.trainable_variables))"
   ]
  },
  {
   "cell_type": "code",
   "execution_count": 14,
   "metadata": {
    "colab": {
     "base_uri": "https://localhost:8080/"
    },
    "id": "4YDiPuVt5wcj",
    "outputId": "91b4f289-e2cb-4917-9bb3-c5eca52706e7"
   },
   "outputs": [
    {
     "name": "stdout",
     "output_type": "stream",
     "text": [
      "original shape for X0[0]: (28, 28)\n",
      "shape after applying .reshape(): (1, 784)\n"
     ]
    }
   ],
   "source": [
    "print(f'original shape for X0[0]: {X0[0].shape}')\n",
    "print(f'shape after applying .reshape(): {X0[0].reshape(-1, 784).shape}')  # convert everything to a row vector "
   ]
  },
  {
   "cell_type": "code",
   "execution_count": 15,
   "metadata": {
    "colab": {
     "base_uri": "https://localhost:8080/"
    },
    "id": "gabL43YsmeRM",
    "outputId": "d7a836d7-fdaf-415d-d0f0-e6ce6e63872c"
   },
   "outputs": [
    {
     "name": "stdout",
     "output_type": "stream",
     "text": [
      "[[1 2 3]\n",
      " [4 5 6]]\n",
      "[[1 2 3 4 5 6]]\n"
     ]
    }
   ],
   "source": [
    "a = np.array([[1, 2, 3], [4, 5, 6]])\n",
    "b = np.reshape(a, (1, -1))\n",
    "print(a)\n",
    "print(b)"
   ]
  },
  {
   "cell_type": "code",
   "execution_count": 16,
   "metadata": {
    "colab": {
     "base_uri": "https://localhost:8080/"
    },
    "id": "p5c1MwGLfIKl",
    "outputId": "8a96705f-6872-42fb-9524-c045e5e531ce"
   },
   "outputs": [
    {
     "name": "stdout",
     "output_type": "stream",
     "text": [
      "tf.Tensor([[1 2 3 4 1]], shape=(1, 5), dtype=int32)\n"
     ]
    },
    {
     "data": {
      "text/plain": [
       "array([3])"
      ]
     },
     "execution_count": 16,
     "metadata": {},
     "output_type": "execute_result"
    }
   ],
   "source": [
    "x = tf.constant([[1, 2, 3, 4, 1]])\n",
    "print(x)\n",
    "y = tf.argmax(x, 1)\n",
    "y.numpy()"
   ]
  },
  {
   "cell_type": "code",
   "execution_count": 17,
   "metadata": {
    "colab": {
     "base_uri": "https://localhost:8080/"
    },
    "id": "x4xn3rxwbhD5",
    "outputId": "c60cd14b-8c10-4206-8ae2-647291a17595"
   },
   "outputs": [
    {
     "name": "stdout",
     "output_type": "stream",
     "text": [
      "tf.Tensor(\n",
      "[[1 2 3]\n",
      " [4 5 6]], shape=(2, 3), dtype=int32)\n",
      "tf.Tensor([2 3 4], shape=(3,), dtype=int32)\n",
      "tf.Tensor([2 5], shape=(2,), dtype=int32)\n"
     ]
    }
   ],
   "source": [
    "x = tf.constant([[1, 2, 3], [4, 5, 6]])\n",
    "a = tf.reduce_mean(x, axis = 0)\n",
    "b = tf.reduce_mean(x, axis = 1)\n",
    "print(x)\n",
    "print(a)\n",
    "print(b)"
   ]
  },
  {
   "cell_type": "code",
   "execution_count": 18,
   "metadata": {
    "colab": {
     "base_uri": "https://localhost:8080/"
    },
    "id": "pIik3AT3bPs1",
    "outputId": "fcde69b7-6fe7-4775-a196-23492be60693"
   },
   "outputs": [
    {
     "name": "stdout",
     "output_type": "stream",
     "text": [
      "tf.Tensor(\n",
      "[[-1. -1.  0.]\n",
      " [ 0.  1.  1.]], shape=(2, 3), dtype=float32)\n",
      "[[-1. -1.  0.]\n",
      " [ 0.  1.  1.]]\n"
     ]
    },
    {
     "data": {
      "text/plain": [
       "(2, 3)"
      ]
     },
     "execution_count": 18,
     "metadata": {},
     "output_type": "execute_result"
    }
   ],
   "source": [
    "t1 = tf.constant([[-10., -1.33, 0.], [0.0000, 2.678, 10.]])\n",
    "t2 = tf.clip_by_value(t1, clip_value_min=-1, clip_value_max=1)\n",
    "print(t2)\n",
    "t3 = t2.numpy()\n",
    "print(t3)\n",
    "t3.shape"
   ]
  },
  {
   "cell_type": "code",
   "execution_count": 19,
   "metadata": {
    "colab": {
     "base_uri": "https://localhost:8080/"
    },
    "id": "QNKnCYSeOAWq",
    "outputId": "eac100f8-ca1c-4a6e-e46f-3676b57742b6"
   },
   "outputs": [
    {
     "name": "stdout",
     "output_type": "stream",
     "text": [
      "tf.Tensor([1. 2. 3. 4. 5. 6. 7.], shape=(7,), dtype=float64)\n"
     ]
    },
    {
     "data": {
      "text/plain": [
       "<tf.Tensor: shape=(7,), dtype=float64, numpy=array([2., 2., 3., 4., 5., 5., 5.])>"
      ]
     },
     "execution_count": 19,
     "metadata": {},
     "output_type": "execute_result"
    }
   ],
   "source": [
    "t = tf.constant([1, 2, 3, 4, 5, 6, 7], dtype = tf.float64)\n",
    "clip_value_min = 2\n",
    "clip_value_max = 5\n",
    "clip1 = tf.clip_by_value(t, clip_value_min, clip_value_max)\n",
    "print(t)\n",
    "clip1"
   ]
  },
  {
   "cell_type": "markdown",
   "metadata": {
    "id": "MDDiOD8gKsTN"
   },
   "source": [
    "**Note about model.trainable_variables:**\n",
    "In the last 2 lines of the training loop above, we used `model.trainable_variables` to a get a list of all learnable variables in our model (`W1, b1, W2, b2` in this case). This feature was only available because our model subclasses `tf.Keras.Model`. Nevertheless, you can still optimize gradients and do backprop without subclassing `tf.Keras.Model` by passing in a list or array of the model's trainable variables manually like so:\n",
    "\n",
    "```\n",
    "gradients = tape.gradient(loss, [model.W1, model.b1, model.W2, model.b2]))\n",
    "optimizer.apply_gradients(zip(gradients, [model.W1, model.b1, model.W2, model.b2]))\n",
    "```\n",
    "\n",
    "### **[Check-Off]** Training accuracy near 90% after (AT MOST) 10K steps\n",
    "Have your lab TA check you off if your training accuracy is at or near 90%. It should converge after around 5K, but we'll give you up to 10K...\n"
   ]
  },
  {
   "cell_type": "markdown",
   "metadata": {
    "id": "3mNQHX619vNC"
   },
   "source": [
    "gradients = tape.gradient(loss, model.trainable_variables)\n",
    "\n",
    "optimizer.apply_gradients(zip(gradients, model.trainable_variables))"
   ]
  },
  {
   "cell_type": "markdown",
   "metadata": {
    "id": "ViQ2EaPTCeeS"
   },
   "source": [
    "# Keras\n",
    "\n",
    "**Note that you will not be allowed to use keras layer or loss shortcuts in your models until the language modeling assignments.**\n",
    "\n",
    "\n",
    "Keras is a high-level API that is integrated with TensorFlow. Using calls to Keras, you can create networks more quickly and more readably. For example, you won't have to declare variables like `W1, b1, W2, b2` in your model constructor! \n",
    "\n",
    "**Functional API:** One really nice feature about Keras is its modular approach to model creation. You can specify a lot of small components to build up your network and switch out options as needed. \n",
    "\n",
    "With Tensorflow alone, you can do the following kinds of things: \n",
    "\n",
    "- `tf.nn` library: The \"neural network\" sub-library of tensorflow. It keeps normal tensor functions that operate... like regular functions. Give it an input and it will give you an output. Some common examples include: \n",
    "   - Activation functions: `softmax`, `relu`, etc.\n",
    "   - Loss functions: `l2_loss`, `softmax_cross_entropy_with_logits`, etc.\n",
    "   - Utility functions: `dropout`, `batch_normalize`, etc.\n",
    "   - Much more that we haven't learned about yet.\n",
    "\n",
    "- `tf.math` library: The \"math\" sub-library of tensorflow. Much more conceptual. You'll have to look at them later.\n",
    "\n",
    "- **Many more options**\n",
    "\n",
    "It seems like there are so many great options, but actually using these for specifying loss and optimizers would actually be doing it *the hard way*. The *easy way* is to use the higher-level Keras options: \n",
    "\n",
    "- [Keras Feedforward Layers](https://keras.io/api/layers/preprocessing_layers/)\n",
    "   - `tf.keras.layers.Dense` class **!!!!!**\n",
    "- [Keras Pre-Processing](https://keras.io/api/layers/preprocessing_layers/)\n",
    "   - `tf.keras.layers.Normalization` class\n",
    "   - `tf.keras.layers.CategoryEncoding` class\n",
    "- [Keras Losses](https://keras.io/api/losses/)\n",
    "   - `tf.keras.losses.BinaryCrossentropy` class\n",
    "   - `tf.keras.losses.MeanSquaredError` class\n",
    "   - `tf.keras.losses.categorical_crossentropy` function\n",
    "- [Keras Metrics](https://keras.io/api/metrics/)\n",
    "   - `tf.keras.metrics.Accuracy` class\n",
    "   - `tf.keras.metrics.AUC` class\n",
    "   - `tf.keras.metrics.MeanSquaredError` class\n",
    "- [Keras Optimizers](https://keras.io/api/optimizers/)\n",
    "   - `tf.keras.optimizers.RMSprop` class\n",
    "   - `tf.keras.optimizers.SGD` class\n",
    "   - `tf.keras.optimizers.Adam` class\n",
    "- [So Many More](https://keras.io/api/layers/)\n",
    "\n",
    "**NOTICE**: You might notice that most of these are \"Classes\". That means that they return an object which can then be called upon like a function. This is to allow the objects to have a sense of state, which may be important in some instances. \n",
    "\n",
    " Below is the network you implemented above written in Keras. \n",
    "\n"
   ]
  },
  {
   "cell_type": "code",
   "execution_count": 20,
   "metadata": {
    "id": "6qg4MEhX7scE"
   },
   "outputs": [],
   "source": [
    "class ModelWithKeras(Model):  ## Taking the previous loss/accuracy script\n",
    "# inherit from the class Model we defined above \n",
    "\n",
    "  def __init__(self, **kwargs):\n",
    "    \"\"\"\n",
    "    The model class inherits from tf.keras.Model.\n",
    "    It stores the trainable weights as attributes.\n",
    "    \"\"\"\n",
    "    super(Model, self).__init__(**kwargs)\n",
    "    \n",
    "    self.dense1 = tf.keras.layers.Dense(100, activation='relu')     ## [?] -> 100 columns  # applying relu function \n",
    "    self.dense2 = tf.keras.layers.Dense(10,  activation='softmax')  ## 100 ->  10 columns  # applying softmax function \n",
    "  \n",
    "  def call(self, inputs):\n",
    "    \"\"\"\n",
    "    Forward pass, predicts labels given an input image using fully connected layers\n",
    "    :return: the probabilites of each label\n",
    "    \"\"\"\n",
    "    x = inputs               ## shape = [R,   C] for some R, C (could also be [B, R, C] with batches)   # rows, columns \n",
    "    x = self.dense1(x)       ## shape = [R, 100], already applied relu\n",
    "    x = self.dense2(x)       ## shape = [R,  10], already applied softmax\n",
    "    return x\n"
   ]
  },
  {
   "cell_type": "markdown",
   "metadata": {
    "id": "7PL2vlEq9XJP"
   },
   "source": [
    "You may thing \"wow, that's neat\" and you would be right! However, the keras class is actually way more powerful than that!"
   ]
  },
  {
   "cell_type": "markdown",
   "metadata": {
    "id": "8YIYkjHh9-_W"
   },
   "source": [
    "## Practical Skills: Using model.fit()\n",
    "\n",
    "In the previous example, we had you using a `tf.keras.Model` subclass with manual accuracy/loss and an external optimization loop, but the model actually has a lot of that modularized for you if you so choose. \n",
    "\n",
    "One of the most powerful quality-of-life improvements offered by `tf.keras.Model` is the ability to use (and tweak) a default training loop! The following methods will be useful for this: \n",
    "\n",
    "- `model.compile()`: Takes in the model optimizer, loss function, and a list of metrics. These should be some of the Keras components specified earlier. These will be used for training/evaluation perposes automatically!\n",
    "- `model.fit()`: Takes in train specifications and runs through the training loop. This already implements epochs, validation, batching, etc and relies on the `train_step` function. \n",
    "- `model.train_step()`: Takes in a set of data (by default, a single batch at a time) and optimizes for it. \n",
    "    - By Keras standards, this is the only method you should actually override regularly. \n",
    "- `model.evaluate()`: Evaluates model on a set using compiled metrics.\n",
    "- `model.predict()`: Forward passes on a set of inputs. \n",
    "- `model()`: Alias for `model.predict()`\n",
    "\n",
    "## Practical Skills: Using `keras.Sequential()`\n",
    "\n",
    "Another common way to specify a model is to use the `Sequential` class. This one is quite simple; you just specify the layers to pass your inputs through, and the model just infers that the call function will just need to go through them one at a time! \n",
    "\n",
    "This version will be very useful in real-world scenarios as a model component; a lot of complicated models might have a lot of components, and having a sequential layer allows you to specify chaining components in easy-to-train variables. \n",
    "\n",
    "****\n",
    "\n",
    "**PLEASE CHECK OUT THE ADJACENT EXAMPLES NOTEBOOK!** \n",
    "\n",
    "It shows a lot more examples of how to specify keras models!\n",
    "\n",
    "****"
   ]
  },
  {
   "cell_type": "markdown",
   "metadata": {
    "id": "GFNzbtwvdnjE"
   },
   "source": [
    "![Screen Shot 2021-11-12 at 8.29.27 PM.png](data:image/png;base64,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)"
   ]
  },
  {
   "cell_type": "markdown",
   "metadata": {
    "id": "7HuKOaRLccli"
   },
   "source": [
    "## EXERCISE: Iris Flower Dataset\n",
    "\n",
    "In this example, you're going to play around with this and make a new model that is modularized up to the Keras standard. **Remember don't do this on your assignments until HW4!**\n",
    "\n",
    "In your HW1, you worked on trying to classify hand-written digits. Now, let's learn to classify some flowers!\n",
    "\n",
    "The [Iris Dataset](https://archive.ics.uci.edu/ml/datasets/iris) contains 150 entries with the following information: \n",
    "1. Sepal length in cm \n",
    "2. Sepal width in cm \n",
    "3. Setal length in cm \n",
    "4. Setal width in cm \n",
    "5. Class: 50 of each. \n",
    "    - Iris Setosa \n",
    "    - Iris Versicolour \n",
    "    - Iris Virginica"
   ]
  },
  {
   "cell_type": "code",
   "execution_count": 21,
   "metadata": {
    "colab": {
     "base_uri": "https://localhost:8080/",
     "height": 368,
     "referenced_widgets": [
      "1025504d71324d29bc22230328855994",
      "57b1843a77c54e66b81c9f7ac48cf408",
      "4c33980c444d4ae5948f35902b9eadf9",
      "9aeaf2353881447eaf931f4955ff6c55",
      "a68127162ae34e7b8073a08035f5bf21",
      "24bc9180cfd4427ab1afaf1953970c68",
      "1195796b91614cf487b423d0810b88a5",
      "4a327b8a8e98471985656cfc0972362b",
      "59b9e495e1e84b1e8571d46ab29e027a",
      "d0520f3a1c3f466d93a14cae4a0fc6ee",
      "7f6690a637af4d7daf2e0149f1deb1bd",
      "1b0cc43f4e2c43de93322d6efb639315",
      "d06df7bed1fc4852bdd1ac162abb06cd",
      "c0dc0f335f92419bbfd3c764acdb6a4f",
      "4d5bd14e3aee4c20b46c2346c934b39d",
      "cb33219eefc8419eb4bdfb13072846db",
      "917afe2eb2604c6cad7b1242330fe6c8",
      "6ba7fb3b303745f1b1aab365b3f67e80",
      "6a9a3fb3d1864b62bc9be01024ff3602",
      "f635d98883d445ec94e76f73c4945f17",
      "a6f286f8b98c407d959e05dd9614b037",
      "c7c7b497f37c413584466515abf8256a",
      "ff2fef020c4440c9ae08b596717ffdb5",
      "bea853a7a7e543b0a1edd2fcffac9be8",
      "fb0c73045edc496bb49d2459c5259a0d",
      "46a54e98714b44f9aa148157743d2f14",
      "9eda2deaf4ce46398605403010be8d1d",
      "e5dd0cc39b7b4a05955fdcb97b485bdc",
      "5400c3877fea4454a05654faf49758de",
      "ee78befcc0f14f3db92c16d5e7399259",
      "020c166ec875452aa23ecc0151435440",
      "e2dca32a1a844240bcfb43359edbde05",
      "2c42c2b804e54b00beb78d314ee5544d",
      "d61f42455d9a4c57be0b70f51a3ee939",
      "b5b128cad172443695f31d90a7e9c6cd",
      "4729bea47d57447998eeb5d3cc3c2b31",
      "92dd70ad6bd14dbfa2b7daf1a640152b",
      "5e5ef201f2c04f6e985d0c949c30ab35",
      "acdf8274ac3545f881961a0fbd629078",
      "64c2987626e84347bfc77a7df27af0ea",
      "a5a59e4762fa4bfa93a4df89164a6ad3",
      "fecfc277936d4032af4ce278c8fb3058",
      "963a8d12ef0048e2b1eeed3a40aaebd2",
      "d275a96685cd414a890da335b5a381a7"
     ]
    },
    "id": "Kqv40uscAIP5",
    "outputId": "6265436d-c24d-46d8-ad1a-89c156f6709a"
   },
   "outputs": [
    {
     "name": "stdout",
     "output_type": "stream",
     "text": [
      "\u001b[1mDownloading and preparing dataset iris/2.0.0 (download: 4.44 KiB, generated: Unknown size, total: 4.44 KiB) to /root/tensorflow_datasets/iris/2.0.0...\u001b[0m\n"
     ]
    },
    {
     "data": {
      "application/vnd.jupyter.widget-view+json": {
       "model_id": "1025504d71324d29bc22230328855994",
       "version_major": 2,
       "version_minor": 0
      },
      "text/plain": [
       "Dl Completed...: 0 url [00:00, ? url/s]"
      ]
     },
     "metadata": {},
     "output_type": "display_data"
    },
    {
     "data": {
      "application/vnd.jupyter.widget-view+json": {
       "model_id": "1b0cc43f4e2c43de93322d6efb639315",
       "version_major": 2,
       "version_minor": 0
      },
      "text/plain": [
       "Dl Size...: 0 MiB [00:00, ? MiB/s]"
      ]
     },
     "metadata": {},
     "output_type": "display_data"
    },
    {
     "name": "stdout",
     "output_type": "stream",
     "text": [
      "\n",
      "\n"
     ]
    },
    {
     "data": {
      "application/vnd.jupyter.widget-view+json": {
       "model_id": "ff2fef020c4440c9ae08b596717ffdb5",
       "version_major": 2,
       "version_minor": 0
      },
      "text/plain": [
       "0 examples [00:00, ? examples/s]"
      ]
     },
     "metadata": {},
     "output_type": "display_data"
    },
    {
     "name": "stdout",
     "output_type": "stream",
     "text": [
      "Shuffling and writing examples to /root/tensorflow_datasets/iris/2.0.0.incompleteWNUDXK/iris-train.tfrecord\n"
     ]
    },
    {
     "data": {
      "application/vnd.jupyter.widget-view+json": {
       "model_id": "d61f42455d9a4c57be0b70f51a3ee939",
       "version_major": 2,
       "version_minor": 0
      },
      "text/plain": [
       "  0%|          | 0/150 [00:00<?, ? examples/s]"
      ]
     },
     "metadata": {},
     "output_type": "display_data"
    },
    {
     "name": "stdout",
     "output_type": "stream",
     "text": [
      "\u001b[1mDataset iris downloaded and prepared to /root/tensorflow_datasets/iris/2.0.0. Subsequent calls will reuse this data.\u001b[0m\n",
      "Row 0 : [5.1 3.4 1.5 0.2] -> 0 (Setosa)\n",
      "Row 1 : [7.7 3.  6.1 2.3] -> 2 (Virginica)\n",
      "Row 2 : [5.7 2.8 4.5 1.3] -> 1 (Versicolour)\n",
      "Row 3 : [6.8 3.2 5.9 2.3] -> 2 (Virginica)\n",
      "Row 4 : [5.2 3.4 1.4 0.2] -> 0 (Setosa)\n",
      "Row 5 : [5.6 2.9 3.6 1.3] -> 1 (Versicolour)\n",
      "...\n",
      "    Training Subset: (100, 4) -> (100, 1)\n",
      "    Testing Subset:  (50, 4)  -> (50, 1)\n",
      "\n"
     ]
    }
   ],
   "source": [
    "import tensorflow_datasets as tfds\n",
    "import numpy as np\n",
    "\n",
    "## Load in the dataset, do a 100-50 split; This is special tfds syntax\n",
    "iris_train, iris_test = tfds.load('iris', split=['train[:100]', 'train[100:]'])\n",
    "\n",
    "\n",
    "label_names = ['Setosa', 'Versicolour', 'Virginica']\n",
    "feature_names = ['sepal length', 'sepal width', 'petal length', 'petal width']\n",
    "\n",
    "for i, row in enumerate(iris_train):\n",
    "    if i > 5: break\n",
    "    # print(f'i is: {i}')\n",
    "    # print(f'row is: {row}')\n",
    "    print(f\"Row {i} : {row['features']} -> {row['label']} ({label_names[row['label']]})\")\n",
    "\n",
    "## Pull data from iterable-only dataset. NOT IMPORTANT\n",
    "X0_iris = np.array([row['features']  for row in iris_train])\n",
    "X1_iris = np.array([row['features']  for row in iris_test])\n",
    "Y0_iris = np.array([row['label']     for row in iris_train]).reshape(-1, 1)\n",
    "Y1_iris = np.array([row['label']     for row in iris_test ]).reshape(-1, 1)\n",
    "\n",
    "print(f'''...\n",
    "    Training Subset: {X0_iris.shape } -> {Y0_iris.shape}\n",
    "    Testing Subset:  {X1_iris.shape}  -> {Y1_iris.shape}\n",
    "''')"
   ]
  },
  {
   "cell_type": "markdown",
   "metadata": {
    "id": "GseVqWSaAzfF"
   },
   "source": [
    "### **[Exercise]** Implementing A Flower Classifier\n",
    "\n",
    "For this, **implement a basic 2-layer perceptron in TF/Keras to classify the flowers!** \n",
    "\n",
    "Specifically, you'll implement it in two ways: \n",
    "\n",
    "- Using `Keras.Model` subclassing with the `.fit` method.\n",
    "- Using `Sequential([])` to define your model by only providing a list of layers in the order you want your inputs to pass through!\n",
    "\n",
    "Remember the following as you implement: \n",
    "- Implement it using the keras `Dense` layers. Pick however many nodes you think is ok per layer, and remember that biases are included by default for these.\n",
    "    - Use Leaky ReLU as your non-output activation functions. They are generally pretty good for latent-space outputs. \n",
    "- This is a classification problem! You'll have to find a suitable loss function and metric...\n",
    "    - For loss, you should use `tf.keras.losses.CategoricalCrossentropy`.\n",
    "    - For metric, you should use `tf.keras.metrics.CategoricalAccuracy`\n",
    "\n",
    "- You will need to normalize your inputs! Consider using [`tf.keras.layers.Normalization()`](https://www.tensorflow.org/api_docs/python/tf/keras/layers/Normalization). \n",
    "    - After you create your normalization layer which we'll call `norm`, you'll have to calibrate it to your data (remember, it's stateful). Feel free to use the built-in `adapt(X)` method. \n",
    "    - You will want to adapt it to the set containing both the training and testing inputs (i.e. `tf.concat`). This is because there might be anomolous examples in the testing features that would make the normalization ineffective across the entire dataset.\n",
    "- You'll have to One-Hot Encode your outputs just like in the assignment. Consider using [`tf.keras.layers.CategoryEncoding()`](https://www.tensorflow.org/api_docs/python/tf/keras/layers/CategoryEncoding)."
   ]
  },
  {
   "cell_type": "code",
   "execution_count": 22,
   "metadata": {
    "colab": {
     "base_uri": "https://localhost:8080/"
    },
    "id": "ZqCt4qft-aiz",
    "outputId": "c1801ad3-6a09-4c38-b9aa-344f1bdb6507"
   },
   "outputs": [
    {
     "name": "stdout",
     "output_type": "stream",
     "text": [
      "EVALUATING IrisModel1\n",
      "Training for 5 epochs: \n",
      "Epoch 1/5\n",
      "4/4 [==============================] - 1s 79ms/step - loss: 1.0152 - categorical_accuracy: 0.5000 - val_loss: 0.6257 - val_categorical_accuracy: 0.8000\n",
      "Epoch 2/5\n",
      "4/4 [==============================] - 0s 14ms/step - loss: 0.5599 - categorical_accuracy: 0.8300 - val_loss: 0.3953 - val_categorical_accuracy: 0.8600\n",
      "Epoch 3/5\n",
      "4/4 [==============================] - 0s 14ms/step - loss: 0.4205 - categorical_accuracy: 0.8200 - val_loss: 0.3171 - val_categorical_accuracy: 0.8600\n",
      "Epoch 4/5\n",
      "4/4 [==============================] - 0s 13ms/step - loss: 0.3548 - categorical_accuracy: 0.8400 - val_loss: 0.2734 - val_categorical_accuracy: 0.8600\n",
      "Epoch 5/5\n",
      "4/4 [==============================] - 0s 14ms/step - loss: 0.3098 - categorical_accuracy: 0.8700 - val_loss: 0.2478 - val_categorical_accuracy: 0.9000\n",
      "EVALUATING IrisModel2\n",
      "Training for 5 epochs: \n",
      "Epoch 1/5\n",
      "4/4 [==============================] - 1s 66ms/step - loss: 0.9129 - categorical_accuracy: 0.7933 - val_loss: 0.5704 - val_categorical_accuracy: 0.8200\n",
      "Epoch 2/5\n",
      "4/4 [==============================] - 0s 15ms/step - loss: 0.5488 - categorical_accuracy: 0.8200 - val_loss: 0.3652 - val_categorical_accuracy: 0.8400\n",
      "Epoch 3/5\n",
      "4/4 [==============================] - 0s 20ms/step - loss: 0.4197 - categorical_accuracy: 0.8200 - val_loss: 0.2967 - val_categorical_accuracy: 0.8400\n",
      "Epoch 4/5\n",
      "4/4 [==============================] - 0s 17ms/step - loss: 0.3666 - categorical_accuracy: 0.8200 - val_loss: 0.2850 - val_categorical_accuracy: 0.8400\n",
      "Epoch 5/5\n",
      "4/4 [==============================] - 0s 13ms/step - loss: 0.3306 - categorical_accuracy: 0.8300 - val_loss: 0.2511 - val_categorical_accuracy: 0.8400\n",
      "Checking IrisModel1's results on eval set\n",
      "\n",
      "this is true_sample: [[2]\n",
      " [2]\n",
      " [0]\n",
      " [2]\n",
      " [1]\n",
      " [2]\n",
      " [1]\n",
      " [0]\n",
      " [1]\n",
      " [0]]\n",
      "\n",
      "this is pred_sample: [[3.1964122e-03 6.0616188e-02 9.3618739e-01]\n",
      " [2.8701590e-03 2.4500753e-01 7.5212228e-01]\n",
      " [9.9878019e-01 1.1742541e-03 4.5614328e-05]\n",
      " [6.7345885e-04 3.4079470e-02 9.6524709e-01]\n",
      " [4.4675143e-03 9.7752416e-01 1.8008335e-02]\n",
      " [6.7319046e-04 3.2747656e-02 9.6657914e-01]\n",
      " [3.9321195e-02 3.4765780e-01 6.1302102e-01]\n",
      " [9.9554318e-01 4.3307296e-03 1.2616243e-04]\n",
      " [4.7953155e-02 4.5165581e-01 5.0039101e-01]\n",
      " [9.9767929e-01 2.2297341e-03 9.0928996e-05]]\n",
      "\n",
      "this is y_true: [2] and this is y_pred: [0.00319641 0.06061619 0.9361874 ]\n",
      "this is y_pred[y_true]: [0.9361874]\n",
      " - Correctly predicted [2] with output [0.   0.06 0.94]\n",
      "this is y_true: [2] and this is y_pred: [0.00287016 0.24500753 0.7521223 ]\n",
      "this is y_pred[y_true]: [0.7521223]\n",
      " - Correctly predicted [2] with output [0.   0.25 0.75]\n",
      "this is y_true: [0] and this is y_pred: [9.9878019e-01 1.1742541e-03 4.5614328e-05]\n",
      "this is y_pred[y_true]: [0.9987802]\n",
      " - Correctly predicted [0] with output [1. 0. 0.]\n",
      "this is y_true: [2] and this is y_pred: [6.7345885e-04 3.4079470e-02 9.6524709e-01]\n",
      "this is y_pred[y_true]: [0.9652471]\n",
      " - Correctly predicted [2] with output [0.   0.03 0.97]\n",
      "this is y_true: [1] and this is y_pred: [0.00446751 0.97752416 0.01800833]\n",
      "this is y_pred[y_true]: [0.97752416]\n",
      " - Correctly predicted [1] with output [0.   0.98 0.02]\n",
      "this is y_true: [2] and this is y_pred: [6.7319046e-04 3.2747656e-02 9.6657914e-01]\n",
      "this is y_pred[y_true]: [0.96657914]\n",
      " - Correctly predicted [2] with output [0.   0.03 0.97]\n",
      "this is y_true: [1] and this is y_pred: [0.0393212 0.3476578 0.613021 ]\n",
      "this is y_pred[y_true]: [0.3476578]\n",
      " - Failed to predict [1] with output [0.04 0.35 0.61]\n",
      "this is y_true: [0] and this is y_pred: [9.9554318e-01 4.3307296e-03 1.2616243e-04]\n",
      "this is y_pred[y_true]: [0.9955432]\n",
      " - Correctly predicted [0] with output [1. 0. 0.]\n",
      "this is y_true: [1] and this is y_pred: [0.04795315 0.4516558  0.500391  ]\n",
      "this is y_pred[y_true]: [0.4516558]\n",
      " - Failed to predict [1] with output [0.05 0.45 0.5 ]\n",
      "this is y_true: [0] and this is y_pred: [9.9767929e-01 2.2297341e-03 9.0928996e-05]\n",
      "this is y_pred[y_true]: [0.9976793]\n",
      " - Correctly predicted [0] with output [1. 0. 0.]\n"
     ]
    }
   ],
   "source": [
    "################################################################################\n",
    "## TODO : Implement Components\n",
    "\n",
    "class IrisModel1(tf.keras.Model):\n",
    "\n",
    "    ############################################################################\n",
    "    ## TODO : Implement IrisModel1 Components\n",
    "\n",
    "    def __init__(self, **kwargs):\n",
    "        '''Phase at which you should specify the variables needed to do passes'''\n",
    "        super().__init__(**kwargs)  ## If there are other key-word arguments, pass them up\n",
    "        self.dense1 = tf.keras.layers.Dense(100, activation='leaky_relu')  # [?] --> 100 columns    \n",
    "        self.dense2 = tf.keras.layers.Dense(3,  activation='softmax') # 100 columns --> 3 columns \n",
    "\n",
    "    def call(self, inputs):\n",
    "        '''Phase at which you specify forward propagation'''\n",
    "        x = inputs   ## shape = [R,   C] for some R, C (could also be [B, R, C] with batches)\n",
    "        x = self.dense1(x)      ## shape = [R, 100], already applied leaky_relu\n",
    "        x = self.dense2(x)      ## shape = [R,  3], already applied softmax\n",
    "        return x\n",
    "\n",
    "    ## END TODO\n",
    "    ############################################################################\n",
    "\n",
    "    ## FEEL FREE TO COMMENT train_step OUT. This is the default implementation\n",
    "    def train_step(self, data):\n",
    "\n",
    "        '''\n",
    "        Optional Train_Step Specification; This happens for every training batch\n",
    "        Uncomment this if you want to customize something\n",
    "        https://www.tensorflow.org/guide/keras/customizing_what_happens_in_fit\n",
    "        '''\n",
    "\n",
    "\n",
    "        x, y = data\n",
    "        # x is in input features\n",
    "        # y is the true label \n",
    "        \n",
    "        \"\"\"\n",
    "        print()\n",
    "        print('this is data: ')\n",
    "        print(data)\n",
    "        print()\n",
    "        print('this is x: ')\n",
    "        print(x)\n",
    "        print()\n",
    "        print('this is y: ')\n",
    "        print(y)\n",
    "        print()\n",
    "        \"\"\"\n",
    "\n",
    "        with tf.GradientTape() as tape:\n",
    "            y_pred = self(x, training=True)  # Forward pass\n",
    "            # get the prediction using x \n",
    "            # y_pred should looks like this: [[0.08879853 0.36401084 0.05961353]]\n",
    "            # self(x, training = True) is just like running the model using the call(self, inputs) function we defined in example class Model(tf.keras.Model):\n",
    "\n",
    "\n",
    "\n",
    "\n",
    "\n",
    "            # Compute the loss value (the loss function is configured in `compile()`)\n",
    "            loss = self.compiled_loss(y, y_pred, regularization_losses=self.losses)\n",
    "            # compute the loss using the true label and the prediction\n",
    "\n",
    "        # Compute gradients\n",
    "        gradients = tape.gradient(loss, self.trainable_variables)\n",
    "        # Update weights\n",
    "        self.optimizer.apply_gradients(zip(gradients, self.trainable_variables))\n",
    "\n",
    "        # Update metrics (includes the metric that tracks the loss)\n",
    "        # get the accuracy score by comparing y and y_pred\n",
    "        self.compiled_metrics.update_state(y, y_pred)\n",
    "\n",
    "        # Return a dict mapping metric names to current value\n",
    "        return {m.name: m.result() for m in self.metrics}\n",
    "\n",
    "\n",
    "iris_model1 = IrisModel1(name='IrisModel1') \n",
    "\n",
    "\n",
    "iris_model2 = tf.keras.Sequential([    ## TODO: Implement This!\n",
    "tf.keras.layers.Dense(units = 100, activation = \"leaky_relu\"),\n",
    "tf.keras.layers.Dense(units = 3, activation='softmax')\n",
    "\n",
    "], name='IrisModel2')\n",
    "\n",
    "norm = tf.keras.layers.Normalization()                 ## TODO: Normalizer for Features\n",
    "oher = tf.keras.layers.CategoryEncoding(num_tokens=3, output_mode=\"one_hot\")           ## TODO: One-Hot Encoder For Labels\n",
    "\n",
    "optimizer = tf.keras.optimizers.Adam(learning_rate = 0.01)                                       ## TODO: Pick an optimizer\n",
    "loss     = tf.keras.losses.CategoricalCrossentropy()                                      ## TODO: Pick a loss\n",
    "metrics  = tf.keras.metrics.CategoricalAccuracy()      ## TODO: Pick a metric\n",
    "\n",
    "models_to_test = [         ## You'll iterate over the models and train each one.\n",
    "    iris_model1,         ## Uncomment when ready to test subclass model \n",
    "    iris_model2          ## Uncomment when ready to test sequential model \n",
    "]\n",
    "\n",
    "## END TODO\n",
    "################################################################################\n",
    "\n",
    "X0_iris = np.array([row['features']  for row in iris_train ])\n",
    "Y0_iris = np.array([row['label']     for row in iris_train ]).reshape(-1, 1)\n",
    "X1_iris = np.array([row['features']  for row in iris_test  ])\n",
    "Y1_iris = np.array([row['label']     for row in iris_test  ]).reshape(-1, 1)\n",
    "\n",
    "if hasattr(norm, 'adapt'): ## For normalization to fit to the data\n",
    "    norm.adapt(tf.concat([X0_iris, X1_iris], axis=0))\n",
    "\n",
    "for iris_model in models_to_test:\n",
    "\n",
    "    print(f\"EVALUATING {iris_model.name}\")\n",
    "    ## Compile out model with all of the required components\n",
    "    iris_model.compile(optimizer=optimizer, loss=loss, metrics=metrics)\n",
    "\n",
    "    print(\"Training for 5 epochs: \")\n",
    "    ## Go ahead and run the model\n",
    "    iris_model.fit(\n",
    "        norm(X0_iris),               ## Normalize input before passing in\n",
    "        oher(Y0_iris),               ## One-Hot Encode Labels before passing in\n",
    "        epochs = 5, \n",
    "        validation_data = (norm(X1_iris), oher(Y1_iris) ) \n",
    "    )\n",
    "    \n",
    "\n",
    "## Evaluate the results!\n",
    "eval_model = models_to_test[0]\n",
    "print(f\"Checking {eval_model.name}'s results on eval set\")\n",
    "\n",
    "sample_size = 10\n",
    "true_sample = Y1_iris[:sample_size]\n",
    "pred_sample = eval_model.predict(norm(X1_iris[:sample_size]))\n",
    "# first normalize inputs X1_iris[:10]\n",
    "# then use the .predict function \n",
    "\n",
    "print()\n",
    "print(f'this is true_sample: {true_sample}')\n",
    "print()\n",
    "print(f'this is pred_sample: {pred_sample}')\n",
    "print()\n",
    "\n",
    "\n",
    "for y_true, y_pred in zip(true_sample, pred_sample):\n",
    "    print(f'this is y_true: {y_true} and this is y_pred: {y_pred}')\n",
    "    print(f'this is y_pred[y_true]: {y_pred[y_true]}')\n",
    "\n",
    "    status = \"Correctly predicted\" if y_pred[y_true] > 0.5 else \"Failed to predict\"\n",
    "    print(f\" - {status} {y_true} with output {np.round(y_pred, 2)}\")"
   ]
  },
  {
   "cell_type": "markdown",
   "metadata": {
    "id": "9rkhB-4jDoVc"
   },
   "source": [
    "### **[Check-Off]** Validation Accuracy > 90%"
   ]
  },
  {
   "cell_type": "markdown",
   "metadata": {
    "id": "KUMDI5jux5_F"
   },
   "source": [
    "# TensorFlow Debugging\n",
    "\n",
    "Try debugging these code snippets to learn how to resolve common problems with writing TensorFlow code. See a TA if you're having trouble!"
   ]
  },
  {
   "cell_type": "markdown",
   "metadata": {
    "id": "PA-cyEhMA752"
   },
   "source": [
    "## Incorrect Gradients\n",
    "\n",
    "Sometimes issues may arise due to incorrect or empty gradients which could be due to code that should fall within the scope of a `with tf.GradientTape() as tape`. \n",
    "\n",
    "Be sure to have run the code cell from earlier that defines `Model` since we will be using that network in this exercise."
   ]
  },
  {
   "cell_type": "code",
   "execution_count": 23,
   "metadata": {
    "colab": {
     "base_uri": "https://localhost:8080/"
    },
    "id": "nK0ooC5IBe5U",
    "outputId": "15602307-0da9-4a10-aa2a-af58c22e639b"
   },
   "outputs": [
    {
     "name": "stdout",
     "output_type": "stream",
     "text": [
      "Accuracy on training set after 1000 training steps: 0.8536166548728943\n"
     ]
    }
   ],
   "source": [
    "network = Model()\n",
    "\n",
    "optimizer = tf.keras.optimizers.Adam(learning_rate=0.001)\n",
    "\n",
    "for i in range(1000):\n",
    "    image = np.reshape(X0[i], (1,-1))  # row vector \n",
    "    label = np.reshape(Y0[i], (1, -1))\n",
    "\n",
    "    # predictions = network(image)  ## should be inside the tape!!!\n",
    "    with tf.GradientTape() as tape:   \n",
    "        predictions = network(image)  # predictions is a probability vector\n",
    "        loss = network.loss(predictions, label)\n",
    "\n",
    "    gradients = tape.gradient(loss, network.trainable_variables)\n",
    "    optimizer.apply_gradients(zip(gradients, network.trainable_variables))\n",
    "\n",
    "train_acc = network.accuracy(network(X0.reshape(-1,784)), Y0)  # predictions and labels \n",
    "# print(X0.reshape(-1,784).shape)\n",
    "# (60000, 784)       # 60000 images\n",
    "# print(Y0.shape)\n",
    "# (60000, 10)\n",
    "\n",
    "\n",
    "print(f\"Accuracy on training set after 1000 training steps: {train_acc}\")"
   ]
  },
  {
   "cell_type": "markdown",
   "metadata": {
    "id": "i8oohik2FkwZ"
   },
   "source": [
    "### **[Check-Off]** Show a TA your training run and final accuracy."
   ]
  },
  {
   "cell_type": "markdown",
   "metadata": {
    "id": "UGNCH7nCGHQ8"
   },
   "source": [
    "## Learning Rate\n",
    "\n",
    "We'll discuss more later in the course about tuning hyperparameters like the learning rate, but sometimes having too large a learning rate will cause the loss to become unstable and go to `Inf/NaN` or oscillate around a value and not decrease. If this is the case, a general guideline is to lower your learning rate. \n",
    "\n",
    "Try to find a good learning learning rate in this exercise to train the network."
   ]
  },
  {
   "cell_type": "code",
   "execution_count": 24,
   "metadata": {
    "colab": {
     "base_uri": "https://localhost:8080/"
    },
    "id": "Xiph6mshGgxk",
    "outputId": "d2ae66a8-376f-4239-e858-a6f615fa97ed"
   },
   "outputs": [
    {
     "name": "stdout",
     "output_type": "stream",
     "text": [
      "0 Training Steps \t| Loss: 4.125801086425781 \t| Accuracy: 0.07204999774694443\n",
      "500 Training Steps \t| Loss: 4.761238098144531 \t| Accuracy: 0.6711999773979187\n",
      "1000 Training Steps \t| Loss: 0.23778215050697327 \t| Accuracy: 0.699999988079071\n",
      "1500 Training Steps \t| Loss: 0.5172430872917175 \t| Accuracy: 0.8113666772842407\n",
      "2000 Training Steps \t| Loss: 0.7044655084609985 \t| Accuracy: 0.8053833246231079\n",
      "2500 Training Steps \t| Loss: 1.8239186829305254e-05 \t| Accuracy: 0.7857000231742859\n",
      "3000 Training Steps \t| Loss: 1.6001545190811157 \t| Accuracy: 0.8348666429519653\n",
      "3500 Training Steps \t| Loss: 0.3580927848815918 \t| Accuracy: 0.837149977684021\n",
      "4000 Training Steps \t| Loss: 5.841272468387615e-06 \t| Accuracy: 0.8310666680335999\n",
      "4500 Training Steps \t| Loss: 3.1572866439819336 \t| Accuracy: 0.7739666700363159\n"
     ]
    }
   ],
   "source": [
    "network = Model()\n",
    "\n",
    "optimizer = tf.keras.optimizers.SGD(learning_rate=0.05)\n",
    "\n",
    "for i in range(5000):       ## MAX 10000 if you want\n",
    "    image = np.reshape(X0[i], (1, -1))\n",
    "    label = np.reshape(Y0[i], (1, -1))\n",
    "    \n",
    "    with tf.GradientTape() as tape:\n",
    "        predictions = network(image)\n",
    "        loss = network.loss(predictions, label)\n",
    "\n",
    "    if i % 500 == 0:\n",
    "      train_acc = network.accuracy(network(X0.reshape(-1,784)), Y0)\n",
    "      print(f\"{i} Training Steps \\t| Loss: {loss} \\t| Accuracy: {train_acc}\")\n",
    "\n",
    "    gradients = tape.gradient(loss, network.trainable_variables)\n",
    "    optimizer.apply_gradients(zip(gradients, network.trainable_variables))"
   ]
  },
  {
   "cell_type": "markdown",
   "metadata": {
    "id": "9IsRQEqSHg9Z"
   },
   "source": [
    "### **[Check-Off]** Show a TA your train run and final accuracy / loss."
   ]
  },
  {
   "cell_type": "markdown",
   "metadata": {
    "id": "lOsIep4tIQb5"
   },
   "source": [
    "# TensorBoard \n",
    "### **[Please don't use safari for this part! Chrome/FireFox work fine]**\n",
    "\n",
    "TensorBoard is a visualization toolkit that is a part of TensorFlow that provides tools and a dashboard for visualizing and tracking metrics during training (among other features).\n",
    "\n",
    "You may find incorporating TensorBoard into your assignments and other projects extremely useful to understand how your model is training, which directions your loss / accuracy are going, and more. We'll be setting up TensorBoard with Google Colab here, but follow [these steps](https://www.tensorflow.org/tensorboard/get_started) to use it locally. "
   ]
  },
  {
   "cell_type": "markdown",
   "metadata": {
    "id": "zixz6r1fJ-v9"
   },
   "source": [
    "Run the following code block to load TensorBoard"
   ]
  },
  {
   "cell_type": "code",
   "execution_count": 25,
   "metadata": {
    "id": "jCZqpCkDI4ZL"
   },
   "outputs": [],
   "source": [
    "# Load the TensorBoard notebook extension\n",
    "%load_ext tensorboard\n",
    "\n",
    "import tensorflow as tf\n",
    "import datetime, os"
   ]
  },
  {
   "cell_type": "markdown",
   "metadata": {
    "id": "a5JF-blYKBOS"
   },
   "source": [
    "Run the next code block to train the model and log metrics. Note that when working locally, this will create physical files on your filesystem."
   ]
  },
  {
   "cell_type": "code",
   "execution_count": null,
   "metadata": {
    "colab": {
     "base_uri": "https://localhost:8080/"
    },
    "id": "9VSuUgbXJQUk",
    "outputId": "b6f4724a-fd95-468b-cf68-4cb8af55b7d0"
   },
   "outputs": [
    {
     "name": "stdout",
     "output_type": "stream",
     "text": [
      "0 Training Steps \t| Loss: 0.007284405175596476 \t| Accuracy: 0.9122333526611328\n",
      "500 Training Steps \t| Loss: 4.728928565979004 \t| Accuracy: 0.8443166613578796\n",
      "1000 Training Steps \t| Loss: 0.013300382532179356 \t| Accuracy: 0.8072166442871094\n",
      "1500 Training Steps \t| Loss: 0.005088618025183678 \t| Accuracy: 0.8964999914169312\n",
      "2000 Training Steps \t| Loss: 0.8188195824623108 \t| Accuracy: 0.8952000141143799\n",
      "2500 Training Steps \t| Loss: 4.529963462118758e-06 \t| Accuracy: 0.8418333530426025\n",
      "3000 Training Steps \t| Loss: 0.3230663537979126 \t| Accuracy: 0.8898000121116638\n"
     ]
    }
   ],
   "source": [
    "# Here we set up our TensorFlow metrics writer in `train_summary_writer`\n",
    "# to log to the `logs/gradient_tape` directory, storing a new entry with the\n",
    "# current time. Logging using the current time as a folder name will be useful\n",
    "# when training multiple times to stores metrics associated with an individual run.\n",
    "\n",
    "current_time = datetime.datetime.now().strftime(\"%Y%m%d-%H%M%S\")\n",
    "train_log_dir = 'logs/gradient_tape/' + current_time + '/train'\n",
    "train_summary_writer = tf.summary.create_file_writer(train_log_dir)\n",
    "\n",
    "for i in range(10000):\n",
    "  image = np.reshape(X0[i], (1,-1))\n",
    "  label = np.reshape(Y0[i], (1, -1))\n",
    "  \n",
    "  with tf.GradientTape() as tape:\n",
    "    predictions = model(image) # this calls the call function conveniently\n",
    "    loss = model.loss(predictions, label)\n",
    "  \n",
    "    if i % 500 == 0:\n",
    "      train_acc = model.accuracy(model(X0.reshape(-1,784)), Y0)\n",
    "      print(f\"{i} Training Steps \\t| Loss: {loss} \\t| Accuracy: {train_acc}\")\n",
    "\n",
    "      with train_summary_writer.as_default():\n",
    "          tf.summary.scalar('loss', loss, step=i)\n",
    "          tf.summary.scalar('accuracy', train_acc, step=i)\n",
    "      \n",
    "  gradients = tape.gradient(loss, model.trainable_variables)\n",
    "  optimizer.apply_gradients(zip(gradients, model.trainable_variables))\n",
    "\n",
    "## SEE SUPPLEMENTARY NOTEBOOK TO SEE HOW TO DO THIS USING CALLBACKS!!"
   ]
  },
  {
   "cell_type": "markdown",
   "metadata": {
    "id": "UMZpz-XgMXMe"
   },
   "source": [
    "Now start TensorBoard to view the graphs by running the below cell.\n",
    "\n",
    "Note that when working locally, you would run the command `tensorboard --logdir logs` in a terminal from the root directory of your project. This will allow you to watch the graphs update in real time."
   ]
  },
  {
   "cell_type": "code",
   "execution_count": null,
   "metadata": {
    "id": "eh8PCtuWMajS"
   },
   "outputs": [],
   "source": [
    "%tensorboard --logdir logs"
   ]
  },
  {
   "cell_type": "markdown",
   "metadata": {
    "id": "E0vrsJaKM3y8"
   },
   "source": [
    "TensorBoard has a lot of cool features you can explore including selecting specific runs to graphs (based on the folder name of the logs), adding optional smoothening, and adjusting scales of graphs. "
   ]
  },
  {
   "cell_type": "markdown",
   "metadata": {
    "id": "09qGViDSNdhI"
   },
   "source": [
    "### **[Check-Off]** Show a TA your TensorBoard graph."
   ]
  },
  {
   "cell_type": "markdown",
   "metadata": {
    "id": "YLiV8M15aBcG"
   },
   "source": [
    "# Under the hood: The computation graph##\n",
    "\n",
    "Back in TensorFlow 1, the only way to write code was by creating a computation graph that defines the \"flow\" of Tensors (thus the name TensorFlow) which would be run later. This is the opposite of the eager execution that is now default in TensorFlow 2.0. A computation graph may still be used, but you will not be ever required to use it in this class, since using eager execution is considered standard now. However, it might be helpful for your understanding of deep learning to try to visualize this computation graph:\n",
    "  + This graph consists of nodes and edges. Nodes are **Tensors**, or matrices of varying dimensions (i.e 3D, 4D, etc.). The edges are **Operations** that take one or more tensors, and produce a new, resulting Tensor after applying a given transformation (i.e. addition, subtraction, matrix multiplication, etc.)\n",
    "  + All of these Tensors and Operations exist in this separate, high performing process. That means you can't print/peek into the Tensors like you would in TensorFlow 2.\n",
    "  + The operations in the graph would be done with special variables called **placeholders**. Placeholders would provide a point of input that could be filled in later when the computation is actually formed. This allows for the same graph to be used for many train/test iterations.\n",
    "  + Each of these iterations would be done by calling the run function of a **Session** object with a feed dictionary of all the values of the placeholders to use for this iteration.\n",
    "\n",
    "This scheme is called *lazy execution* where the autodiff code constructs the computation graph but does not produce the output values until explicitly invoking a function to run the graph given a set of inputs.\n",
    "\n",
    "\n",
    "<img src=\"https://drive.google.com/uc?export=view&id=1mz4GDV9NS8nGZbAaFMOkTOJcT6PEUyIG\" alt=\"gif.jpg\" width=\"400\" align=\"center\">\n"
   ]
  },
  {
   "cell_type": "markdown",
   "metadata": {
    "id": "MKzFrudNa1Zk"
   },
   "source": [
    "##Getting checked off##\n",
    "Once you're satisfied with how everything's running, call over a TA to get checked off and you're all set. Let us know if you have any other questions about TensorFlow!"
   ]
  },
  {
   "cell_type": "markdown",
   "metadata": {
    "id": "LtpAEa9hS9yt"
   },
   "source": [
    "## Acknowledgements & Sources ##\n",
    "\n",
    "This lab is written by Tim Ossowski and Rohin Bhushan, with edits by James Okun. \n",
    "The IRIS/fit method was added by Vadim Kudlay. \n",
    "Various other people worked on this lab including past HTAs, David Lee, and John Fay."
   ]
  }
 ],
 "metadata": {
  "accelerator": "GPU",
  "colab": {
   "collapsed_sections": [],
   "name": "Copy of tensorflow_intro.ipynb",
   "provenance": []
  },
  "kernelspec": {
   "display_name": "Python 3.9.13 ('cs1430')",
   "language": "python",
   "name": "python3"
  },
  "language_info": {
   "codemirror_mode": {
    "name": "ipython",
    "version": 3
   },
   "file_extension": ".py",
   "mimetype": "text/x-python",
   "name": "python",
   "nbconvert_exporter": "python",
   "pygments_lexer": "ipython3",
   "version": "3.9.13"
  },
  "vscode": {
   "interpreter": {
    "hash": "9dbb62b98e67a939a94a70763584309c1c038f850ab93252c3df48ff27585dc0"
   }
  },
  "widgets": {
   "application/vnd.jupyter.widget-state+json": {
    "020c166ec875452aa23ecc0151435440": {
     "model_module": "@jupyter-widgets/base",
     "model_module_version": "1.2.0",
     "model_name": "LayoutModel",
     "state": {
      "_model_module": "@jupyter-widgets/base",
      "_model_module_version": "1.2.0",
      "_model_name": "LayoutModel",
      "_view_count": null,
      "_view_module": "@jupyter-widgets/base",
      "_view_module_version": "1.2.0",
      "_view_name": "LayoutView",
      "align_content": null,
      "align_items": null,
      "align_self": null,
      "border": null,
      "bottom": null,
      "display": null,
      "flex": null,
      "flex_flow": null,
      "grid_area": null,
      "grid_auto_columns": null,
      "grid_auto_flow": null,
      "grid_auto_rows": null,
      "grid_column": null,
      "grid_gap": null,
      "grid_row": null,
      "grid_template_areas": null,
      "grid_template_columns": null,
      "grid_template_rows": null,
      "height": null,
      "justify_content": null,
      "justify_items": null,
      "left": null,
      "margin": null,
      "max_height": null,
      "max_width": null,
      "min_height": null,
      "min_width": null,
      "object_fit": null,
      "object_position": null,
      "order": null,
      "overflow": null,
      "overflow_x": null,
      "overflow_y": null,
      "padding": null,
      "right": null,
      "top": null,
      "visibility": null,
      "width": "20px"
     }
    },
    "1025504d71324d29bc22230328855994": {
     "model_module": "@jupyter-widgets/controls",
     "model_module_version": "1.5.0",
     "model_name": "HBoxModel",
     "state": {
      "_dom_classes": [],
      "_model_module": "@jupyter-widgets/controls",
      "_model_module_version": "1.5.0",
      "_model_name": "HBoxModel",
      "_view_count": null,
      "_view_module": "@jupyter-widgets/controls",
      "_view_module_version": "1.5.0",
      "_view_name": "HBoxView",
      "box_style": "",
      "children": [
       "IPY_MODEL_4c33980c444d4ae5948f35902b9eadf9",
       "IPY_MODEL_9aeaf2353881447eaf931f4955ff6c55",
       "IPY_MODEL_a68127162ae34e7b8073a08035f5bf21"
      ],
      "layout": "IPY_MODEL_57b1843a77c54e66b81c9f7ac48cf408"
     }
    },
    "1195796b91614cf487b423d0810b88a5": {
     "model_module": "@jupyter-widgets/base",
     "model_module_version": "1.2.0",
     "model_name": "LayoutModel",
     "state": {
      "_model_module": "@jupyter-widgets/base",
      "_model_module_version": "1.2.0",
      "_model_name": "LayoutModel",
      "_view_count": null,
      "_view_module": "@jupyter-widgets/base",
      "_view_module_version": "1.2.0",
      "_view_name": "LayoutView",
      "align_content": null,
      "align_items": null,
      "align_self": null,
      "border": null,
      "bottom": null,
      "display": null,
      "flex": null,
      "flex_flow": null,
      "grid_area": null,
      "grid_auto_columns": null,
      "grid_auto_flow": null,
      "grid_auto_rows": null,
      "grid_column": null,
      "grid_gap": null,
      "grid_row": null,
      "grid_template_areas": null,
      "grid_template_columns": null,
      "grid_template_rows": null,
      "height": null,
      "justify_content": null,
      "justify_items": null,
      "left": null,
      "margin": null,
      "max_height": null,
      "max_width": null,
      "min_height": null,
      "min_width": null,
      "object_fit": null,
      "object_position": null,
      "order": null,
      "overflow": null,
      "overflow_x": null,
      "overflow_y": null,
      "padding": null,
      "right": null,
      "top": null,
      "visibility": null,
      "width": null
     }
    },
    "1b0cc43f4e2c43de93322d6efb639315": {
     "model_module": "@jupyter-widgets/controls",
     "model_module_version": "1.5.0",
     "model_name": "HBoxModel",
     "state": {
      "_dom_classes": [],
      "_model_module": "@jupyter-widgets/controls",
      "_model_module_version": "1.5.0",
      "_model_name": "HBoxModel",
      "_view_count": null,
      "_view_module": "@jupyter-widgets/controls",
      "_view_module_version": "1.5.0",
      "_view_name": "HBoxView",
      "box_style": "",
      "children": [
       "IPY_MODEL_c0dc0f335f92419bbfd3c764acdb6a4f",
       "IPY_MODEL_4d5bd14e3aee4c20b46c2346c934b39d",
       "IPY_MODEL_cb33219eefc8419eb4bdfb13072846db"
      ],
      "layout": "IPY_MODEL_d06df7bed1fc4852bdd1ac162abb06cd"
     }
    },
    "24bc9180cfd4427ab1afaf1953970c68": {
     "model_module": "@jupyter-widgets/controls",
     "model_module_version": "1.5.0",
     "model_name": "DescriptionStyleModel",
     "state": {
      "_model_module": "@jupyter-widgets/controls",
      "_model_module_version": "1.5.0",
      "_model_name": "DescriptionStyleModel",
      "_view_count": null,
      "_view_module": "@jupyter-widgets/base",
      "_view_module_version": "1.2.0",
      "_view_name": "StyleView",
      "description_width": ""
     }
    },
    "2c42c2b804e54b00beb78d314ee5544d": {
     "model_module": "@jupyter-widgets/base",
     "model_module_version": "1.2.0",
     "model_name": "LayoutModel",
     "state": {
      "_model_module": "@jupyter-widgets/base",
      "_model_module_version": "1.2.0",
      "_model_name": "LayoutModel",
      "_view_count": null,
      "_view_module": "@jupyter-widgets/base",
      "_view_module_version": "1.2.0",
      "_view_name": "LayoutView",
      "align_content": null,
      "align_items": null,
      "align_self": null,
      "border": null,
      "bottom": null,
      "display": null,
      "flex": null,
      "flex_flow": null,
      "grid_area": null,
      "grid_auto_columns": null,
      "grid_auto_flow": null,
      "grid_auto_rows": null,
      "grid_column": null,
      "grid_gap": null,
      "grid_row": null,
      "grid_template_areas": null,
      "grid_template_columns": null,
      "grid_template_rows": null,
      "height": null,
      "justify_content": null,
      "justify_items": null,
      "left": null,
      "margin": null,
      "max_height": null,
      "max_width": null,
      "min_height": null,
      "min_width": null,
      "object_fit": null,
      "object_position": null,
      "order": null,
      "overflow": null,
      "overflow_x": null,
      "overflow_y": null,
      "padding": null,
      "right": null,
      "top": null,
      "visibility": null,
      "width": null
     }
    },
    "46a54e98714b44f9aa148157743d2f14": {
     "model_module": "@jupyter-widgets/controls",
     "model_module_version": "1.5.0",
     "model_name": "FloatProgressModel",
     "state": {
      "_dom_classes": [],
      "_model_module": "@jupyter-widgets/controls",
      "_model_module_version": "1.5.0",
      "_model_name": "FloatProgressModel",
      "_view_count": null,
      "_view_module": "@jupyter-widgets/controls",
      "_view_module_version": "1.5.0",
      "_view_name": "ProgressView",
      "bar_style": "info",
      "description": "",
      "description_tooltip": null,
      "layout": "IPY_MODEL_020c166ec875452aa23ecc0151435440",
      "max": 1,
      "min": 0,
      "orientation": "horizontal",
      "style": "IPY_MODEL_ee78befcc0f14f3db92c16d5e7399259",
      "value": 1
     }
    },
    "4729bea47d57447998eeb5d3cc3c2b31": {
     "model_module": "@jupyter-widgets/controls",
     "model_module_version": "1.5.0",
     "model_name": "HTMLModel",
     "state": {
      "_dom_classes": [],
      "_model_module": "@jupyter-widgets/controls",
      "_model_module_version": "1.5.0",
      "_model_name": "HTMLModel",
      "_view_count": null,
      "_view_module": "@jupyter-widgets/controls",
      "_view_module_version": "1.5.0",
      "_view_name": "HTMLView",
      "description": "",
      "description_tooltip": null,
      "layout": "IPY_MODEL_64c2987626e84347bfc77a7df27af0ea",
      "placeholder": "​",
      "style": "IPY_MODEL_acdf8274ac3545f881961a0fbd629078",
      "value": " 99%"
     }
    },
    "4a327b8a8e98471985656cfc0972362b": {
     "model_module": "@jupyter-widgets/controls",
     "model_module_version": "1.5.0",
     "model_name": "ProgressStyleModel",
     "state": {
      "_model_module": "@jupyter-widgets/controls",
      "_model_module_version": "1.5.0",
      "_model_name": "ProgressStyleModel",
      "_view_count": null,
      "_view_module": "@jupyter-widgets/base",
      "_view_module_version": "1.2.0",
      "_view_name": "StyleView",
      "bar_color": null,
      "description_width": ""
     }
    },
    "4c33980c444d4ae5948f35902b9eadf9": {
     "model_module": "@jupyter-widgets/controls",
     "model_module_version": "1.5.0",
     "model_name": "HTMLModel",
     "state": {
      "_dom_classes": [],
      "_model_module": "@jupyter-widgets/controls",
      "_model_module_version": "1.5.0",
      "_model_name": "HTMLModel",
      "_view_count": null,
      "_view_module": "@jupyter-widgets/controls",
      "_view_module_version": "1.5.0",
      "_view_name": "HTMLView",
      "description": "",
      "description_tooltip": null,
      "layout": "IPY_MODEL_1195796b91614cf487b423d0810b88a5",
      "placeholder": "​",
      "style": "IPY_MODEL_24bc9180cfd4427ab1afaf1953970c68",
      "value": "Dl Completed...: 100%"
     }
    },
    "4d5bd14e3aee4c20b46c2346c934b39d": {
     "model_module": "@jupyter-widgets/controls",
     "model_module_version": "1.5.0",
     "model_name": "FloatProgressModel",
     "state": {
      "_dom_classes": [],
      "_model_module": "@jupyter-widgets/controls",
      "_model_module_version": "1.5.0",
      "_model_name": "FloatProgressModel",
      "_view_count": null,
      "_view_module": "@jupyter-widgets/controls",
      "_view_module_version": "1.5.0",
      "_view_name": "ProgressView",
      "bar_style": "success",
      "description": "",
      "description_tooltip": null,
      "layout": "IPY_MODEL_f635d98883d445ec94e76f73c4945f17",
      "max": 1,
      "min": 0,
      "orientation": "horizontal",
      "style": "IPY_MODEL_6a9a3fb3d1864b62bc9be01024ff3602",
      "value": 0
     }
    },
    "5400c3877fea4454a05654faf49758de": {
     "model_module": "@jupyter-widgets/base",
     "model_module_version": "1.2.0",
     "model_name": "LayoutModel",
     "state": {
      "_model_module": "@jupyter-widgets/base",
      "_model_module_version": "1.2.0",
      "_model_name": "LayoutModel",
      "_view_count": null,
      "_view_module": "@jupyter-widgets/base",
      "_view_module_version": "1.2.0",
      "_view_name": "LayoutView",
      "align_content": null,
      "align_items": null,
      "align_self": null,
      "border": null,
      "bottom": null,
      "display": null,
      "flex": null,
      "flex_flow": null,
      "grid_area": null,
      "grid_auto_columns": null,
      "grid_auto_flow": null,
      "grid_auto_rows": null,
      "grid_column": null,
      "grid_gap": null,
      "grid_row": null,
      "grid_template_areas": null,
      "grid_template_columns": null,
      "grid_template_rows": null,
      "height": null,
      "justify_content": null,
      "justify_items": null,
      "left": null,
      "margin": null,
      "max_height": null,
      "max_width": null,
      "min_height": null,
      "min_width": null,
      "object_fit": null,
      "object_position": null,
      "order": null,
      "overflow": null,
      "overflow_x": null,
      "overflow_y": null,
      "padding": null,
      "right": null,
      "top": null,
      "visibility": null,
      "width": null
     }
    },
    "57b1843a77c54e66b81c9f7ac48cf408": {
     "model_module": "@jupyter-widgets/base",
     "model_module_version": "1.2.0",
     "model_name": "LayoutModel",
     "state": {
      "_model_module": "@jupyter-widgets/base",
      "_model_module_version": "1.2.0",
      "_model_name": "LayoutModel",
      "_view_count": null,
      "_view_module": "@jupyter-widgets/base",
      "_view_module_version": "1.2.0",
      "_view_name": "LayoutView",
      "align_content": null,
      "align_items": null,
      "align_self": null,
      "border": null,
      "bottom": null,
      "display": null,
      "flex": null,
      "flex_flow": null,
      "grid_area": null,
      "grid_auto_columns": null,
      "grid_auto_flow": null,
      "grid_auto_rows": null,
      "grid_column": null,
      "grid_gap": null,
      "grid_row": null,
      "grid_template_areas": null,
      "grid_template_columns": null,
      "grid_template_rows": null,
      "height": null,
      "justify_content": null,
      "justify_items": null,
      "left": null,
      "margin": null,
      "max_height": null,
      "max_width": null,
      "min_height": null,
      "min_width": null,
      "object_fit": null,
      "object_position": null,
      "order": null,
      "overflow": null,
      "overflow_x": null,
      "overflow_y": null,
      "padding": null,
      "right": null,
      "top": null,
      "visibility": null,
      "width": null
     }
    },
    "59b9e495e1e84b1e8571d46ab29e027a": {
     "model_module": "@jupyter-widgets/base",
     "model_module_version": "1.2.0",
     "model_name": "LayoutModel",
     "state": {
      "_model_module": "@jupyter-widgets/base",
      "_model_module_version": "1.2.0",
      "_model_name": "LayoutModel",
      "_view_count": null,
      "_view_module": "@jupyter-widgets/base",
      "_view_module_version": "1.2.0",
      "_view_name": "LayoutView",
      "align_content": null,
      "align_items": null,
      "align_self": null,
      "border": null,
      "bottom": null,
      "display": null,
      "flex": null,
      "flex_flow": null,
      "grid_area": null,
      "grid_auto_columns": null,
      "grid_auto_flow": null,
      "grid_auto_rows": null,
      "grid_column": null,
      "grid_gap": null,
      "grid_row": null,
      "grid_template_areas": null,
      "grid_template_columns": null,
      "grid_template_rows": null,
      "height": null,
      "justify_content": null,
      "justify_items": null,
      "left": null,
      "margin": null,
      "max_height": null,
      "max_width": null,
      "min_height": null,
      "min_width": null,
      "object_fit": null,
      "object_position": null,
      "order": null,
      "overflow": null,
      "overflow_x": null,
      "overflow_y": null,
      "padding": null,
      "right": null,
      "top": null,
      "visibility": null,
      "width": "20px"
     }
    },
    "5e5ef201f2c04f6e985d0c949c30ab35": {
     "model_module": "@jupyter-widgets/controls",
     "model_module_version": "1.5.0",
     "model_name": "HTMLModel",
     "state": {
      "_dom_classes": [],
      "_model_module": "@jupyter-widgets/controls",
      "_model_module_version": "1.5.0",
      "_model_name": "HTMLModel",
      "_view_count": null,
      "_view_module": "@jupyter-widgets/controls",
      "_view_module_version": "1.5.0",
      "_view_name": "HTMLView",
      "description": "",
      "description_tooltip": null,
      "layout": "IPY_MODEL_d275a96685cd414a890da335b5a381a7",
      "placeholder": "​",
      "style": "IPY_MODEL_963a8d12ef0048e2b1eeed3a40aaebd2",
      "value": " 149/150 [00:00&lt;00:00, 3661.62 examples/s]"
     }
    },
    "64c2987626e84347bfc77a7df27af0ea": {
     "model_module": "@jupyter-widgets/base",
     "model_module_version": "1.2.0",
     "model_name": "LayoutModel",
     "state": {
      "_model_module": "@jupyter-widgets/base",
      "_model_module_version": "1.2.0",
      "_model_name": "LayoutModel",
      "_view_count": null,
      "_view_module": "@jupyter-widgets/base",
      "_view_module_version": "1.2.0",
      "_view_name": "LayoutView",
      "align_content": null,
      "align_items": null,
      "align_self": null,
      "border": null,
      "bottom": null,
      "display": null,
      "flex": null,
      "flex_flow": null,
      "grid_area": null,
      "grid_auto_columns": null,
      "grid_auto_flow": null,
      "grid_auto_rows": null,
      "grid_column": null,
      "grid_gap": null,
      "grid_row": null,
      "grid_template_areas": null,
      "grid_template_columns": null,
      "grid_template_rows": null,
      "height": null,
      "justify_content": null,
      "justify_items": null,
      "left": null,
      "margin": null,
      "max_height": null,
      "max_width": null,
      "min_height": null,
      "min_width": null,
      "object_fit": null,
      "object_position": null,
      "order": null,
      "overflow": null,
      "overflow_x": null,
      "overflow_y": null,
      "padding": null,
      "right": null,
      "top": null,
      "visibility": null,
      "width": null
     }
    },
    "6a9a3fb3d1864b62bc9be01024ff3602": {
     "model_module": "@jupyter-widgets/controls",
     "model_module_version": "1.5.0",
     "model_name": "ProgressStyleModel",
     "state": {
      "_model_module": "@jupyter-widgets/controls",
      "_model_module_version": "1.5.0",
      "_model_name": "ProgressStyleModel",
      "_view_count": null,
      "_view_module": "@jupyter-widgets/base",
      "_view_module_version": "1.2.0",
      "_view_name": "StyleView",
      "bar_color": null,
      "description_width": ""
     }
    },
    "6ba7fb3b303745f1b1aab365b3f67e80": {
     "model_module": "@jupyter-widgets/base",
     "model_module_version": "1.2.0",
     "model_name": "LayoutModel",
     "state": {
      "_model_module": "@jupyter-widgets/base",
      "_model_module_version": "1.2.0",
      "_model_name": "LayoutModel",
      "_view_count": null,
      "_view_module": "@jupyter-widgets/base",
      "_view_module_version": "1.2.0",
      "_view_name": "LayoutView",
      "align_content": null,
      "align_items": null,
      "align_self": null,
      "border": null,
      "bottom": null,
      "display": null,
      "flex": null,
      "flex_flow": null,
      "grid_area": null,
      "grid_auto_columns": null,
      "grid_auto_flow": null,
      "grid_auto_rows": null,
      "grid_column": null,
      "grid_gap": null,
      "grid_row": null,
      "grid_template_areas": null,
      "grid_template_columns": null,
      "grid_template_rows": null,
      "height": null,
      "justify_content": null,
      "justify_items": null,
      "left": null,
      "margin": null,
      "max_height": null,
      "max_width": null,
      "min_height": null,
      "min_width": null,
      "object_fit": null,
      "object_position": null,
      "order": null,
      "overflow": null,
      "overflow_x": null,
      "overflow_y": null,
      "padding": null,
      "right": null,
      "top": null,
      "visibility": null,
      "width": null
     }
    },
    "7f6690a637af4d7daf2e0149f1deb1bd": {
     "model_module": "@jupyter-widgets/base",
     "model_module_version": "1.2.0",
     "model_name": "LayoutModel",
     "state": {
      "_model_module": "@jupyter-widgets/base",
      "_model_module_version": "1.2.0",
      "_model_name": "LayoutModel",
      "_view_count": null,
      "_view_module": "@jupyter-widgets/base",
      "_view_module_version": "1.2.0",
      "_view_name": "LayoutView",
      "align_content": null,
      "align_items": null,
      "align_self": null,
      "border": null,
      "bottom": null,
      "display": null,
      "flex": null,
      "flex_flow": null,
      "grid_area": null,
      "grid_auto_columns": null,
      "grid_auto_flow": null,
      "grid_auto_rows": null,
      "grid_column": null,
      "grid_gap": null,
      "grid_row": null,
      "grid_template_areas": null,
      "grid_template_columns": null,
      "grid_template_rows": null,
      "height": null,
      "justify_content": null,
      "justify_items": null,
      "left": null,
      "margin": null,
      "max_height": null,
      "max_width": null,
      "min_height": null,
      "min_width": null,
      "object_fit": null,
      "object_position": null,
      "order": null,
      "overflow": null,
      "overflow_x": null,
      "overflow_y": null,
      "padding": null,
      "right": null,
      "top": null,
      "visibility": null,
      "width": null
     }
    },
    "917afe2eb2604c6cad7b1242330fe6c8": {
     "model_module": "@jupyter-widgets/controls",
     "model_module_version": "1.5.0",
     "model_name": "DescriptionStyleModel",
     "state": {
      "_model_module": "@jupyter-widgets/controls",
      "_model_module_version": "1.5.0",
      "_model_name": "DescriptionStyleModel",
      "_view_count": null,
      "_view_module": "@jupyter-widgets/base",
      "_view_module_version": "1.2.0",
      "_view_name": "StyleView",
      "description_width": ""
     }
    },
    "92dd70ad6bd14dbfa2b7daf1a640152b": {
     "model_module": "@jupyter-widgets/controls",
     "model_module_version": "1.5.0",
     "model_name": "FloatProgressModel",
     "state": {
      "_dom_classes": [],
      "_model_module": "@jupyter-widgets/controls",
      "_model_module_version": "1.5.0",
      "_model_name": "FloatProgressModel",
      "_view_count": null,
      "_view_module": "@jupyter-widgets/controls",
      "_view_module_version": "1.5.0",
      "_view_name": "ProgressView",
      "bar_style": "danger",
      "description": "",
      "description_tooltip": null,
      "layout": "IPY_MODEL_fecfc277936d4032af4ce278c8fb3058",
      "max": 150,
      "min": 0,
      "orientation": "horizontal",
      "style": "IPY_MODEL_a5a59e4762fa4bfa93a4df89164a6ad3",
      "value": 149
     }
    },
    "963a8d12ef0048e2b1eeed3a40aaebd2": {
     "model_module": "@jupyter-widgets/controls",
     "model_module_version": "1.5.0",
     "model_name": "DescriptionStyleModel",
     "state": {
      "_model_module": "@jupyter-widgets/controls",
      "_model_module_version": "1.5.0",
      "_model_name": "DescriptionStyleModel",
      "_view_count": null,
      "_view_module": "@jupyter-widgets/base",
      "_view_module_version": "1.2.0",
      "_view_name": "StyleView",
      "description_width": ""
     }
    },
    "9aeaf2353881447eaf931f4955ff6c55": {
     "model_module": "@jupyter-widgets/controls",
     "model_module_version": "1.5.0",
     "model_name": "FloatProgressModel",
     "state": {
      "_dom_classes": [],
      "_model_module": "@jupyter-widgets/controls",
      "_model_module_version": "1.5.0",
      "_model_name": "FloatProgressModel",
      "_view_count": null,
      "_view_module": "@jupyter-widgets/controls",
      "_view_module_version": "1.5.0",
      "_view_name": "ProgressView",
      "bar_style": "success",
      "description": "",
      "description_tooltip": null,
      "layout": "IPY_MODEL_59b9e495e1e84b1e8571d46ab29e027a",
      "max": 1,
      "min": 0,
      "orientation": "horizontal",
      "style": "IPY_MODEL_4a327b8a8e98471985656cfc0972362b",
      "value": 1
     }
    },
    "9eda2deaf4ce46398605403010be8d1d": {
     "model_module": "@jupyter-widgets/controls",
     "model_module_version": "1.5.0",
     "model_name": "HTMLModel",
     "state": {
      "_dom_classes": [],
      "_model_module": "@jupyter-widgets/controls",
      "_model_module_version": "1.5.0",
      "_model_name": "HTMLModel",
      "_view_count": null,
      "_view_module": "@jupyter-widgets/controls",
      "_view_module_version": "1.5.0",
      "_view_name": "HTMLView",
      "description": "",
      "description_tooltip": null,
      "layout": "IPY_MODEL_2c42c2b804e54b00beb78d314ee5544d",
      "placeholder": "​",
      "style": "IPY_MODEL_e2dca32a1a844240bcfb43359edbde05",
      "value": " 119/0 [00:00&lt;00:00, 1189.13 examples/s]"
     }
    },
    "a5a59e4762fa4bfa93a4df89164a6ad3": {
     "model_module": "@jupyter-widgets/controls",
     "model_module_version": "1.5.0",
     "model_name": "ProgressStyleModel",
     "state": {
      "_model_module": "@jupyter-widgets/controls",
      "_model_module_version": "1.5.0",
      "_model_name": "ProgressStyleModel",
      "_view_count": null,
      "_view_module": "@jupyter-widgets/base",
      "_view_module_version": "1.2.0",
      "_view_name": "StyleView",
      "bar_color": null,
      "description_width": ""
     }
    },
    "a68127162ae34e7b8073a08035f5bf21": {
     "model_module": "@jupyter-widgets/controls",
     "model_module_version": "1.5.0",
     "model_name": "HTMLModel",
     "state": {
      "_dom_classes": [],
      "_model_module": "@jupyter-widgets/controls",
      "_model_module_version": "1.5.0",
      "_model_name": "HTMLModel",
      "_view_count": null,
      "_view_module": "@jupyter-widgets/controls",
      "_view_module_version": "1.5.0",
      "_view_name": "HTMLView",
      "description": "",
      "description_tooltip": null,
      "layout": "IPY_MODEL_7f6690a637af4d7daf2e0149f1deb1bd",
      "placeholder": "​",
      "style": "IPY_MODEL_d0520f3a1c3f466d93a14cae4a0fc6ee",
      "value": " 1/1 [00:00&lt;00:00,  2.53 url/s]"
     }
    },
    "a6f286f8b98c407d959e05dd9614b037": {
     "model_module": "@jupyter-widgets/controls",
     "model_module_version": "1.5.0",
     "model_name": "DescriptionStyleModel",
     "state": {
      "_model_module": "@jupyter-widgets/controls",
      "_model_module_version": "1.5.0",
      "_model_name": "DescriptionStyleModel",
      "_view_count": null,
      "_view_module": "@jupyter-widgets/base",
      "_view_module_version": "1.2.0",
      "_view_name": "StyleView",
      "description_width": ""
     }
    },
    "acdf8274ac3545f881961a0fbd629078": {
     "model_module": "@jupyter-widgets/controls",
     "model_module_version": "1.5.0",
     "model_name": "DescriptionStyleModel",
     "state": {
      "_model_module": "@jupyter-widgets/controls",
      "_model_module_version": "1.5.0",
      "_model_name": "DescriptionStyleModel",
      "_view_count": null,
      "_view_module": "@jupyter-widgets/base",
      "_view_module_version": "1.2.0",
      "_view_name": "StyleView",
      "description_width": ""
     }
    },
    "b5b128cad172443695f31d90a7e9c6cd": {
     "model_module": "@jupyter-widgets/base",
     "model_module_version": "1.2.0",
     "model_name": "LayoutModel",
     "state": {
      "_model_module": "@jupyter-widgets/base",
      "_model_module_version": "1.2.0",
      "_model_name": "LayoutModel",
      "_view_count": null,
      "_view_module": "@jupyter-widgets/base",
      "_view_module_version": "1.2.0",
      "_view_name": "LayoutView",
      "align_content": null,
      "align_items": null,
      "align_self": null,
      "border": null,
      "bottom": null,
      "display": null,
      "flex": null,
      "flex_flow": null,
      "grid_area": null,
      "grid_auto_columns": null,
      "grid_auto_flow": null,
      "grid_auto_rows": null,
      "grid_column": null,
      "grid_gap": null,
      "grid_row": null,
      "grid_template_areas": null,
      "grid_template_columns": null,
      "grid_template_rows": null,
      "height": null,
      "justify_content": null,
      "justify_items": null,
      "left": null,
      "margin": null,
      "max_height": null,
      "max_width": null,
      "min_height": null,
      "min_width": null,
      "object_fit": null,
      "object_position": null,
      "order": null,
      "overflow": null,
      "overflow_x": null,
      "overflow_y": null,
      "padding": null,
      "right": null,
      "top": null,
      "visibility": null,
      "width": null
     }
    },
    "bea853a7a7e543b0a1edd2fcffac9be8": {
     "model_module": "@jupyter-widgets/base",
     "model_module_version": "1.2.0",
     "model_name": "LayoutModel",
     "state": {
      "_model_module": "@jupyter-widgets/base",
      "_model_module_version": "1.2.0",
      "_model_name": "LayoutModel",
      "_view_count": null,
      "_view_module": "@jupyter-widgets/base",
      "_view_module_version": "1.2.0",
      "_view_name": "LayoutView",
      "align_content": null,
      "align_items": null,
      "align_self": null,
      "border": null,
      "bottom": null,
      "display": null,
      "flex": null,
      "flex_flow": null,
      "grid_area": null,
      "grid_auto_columns": null,
      "grid_auto_flow": null,
      "grid_auto_rows": null,
      "grid_column": null,
      "grid_gap": null,
      "grid_row": null,
      "grid_template_areas": null,
      "grid_template_columns": null,
      "grid_template_rows": null,
      "height": null,
      "justify_content": null,
      "justify_items": null,
      "left": null,
      "margin": null,
      "max_height": null,
      "max_width": null,
      "min_height": null,
      "min_width": null,
      "object_fit": null,
      "object_position": null,
      "order": null,
      "overflow": null,
      "overflow_x": null,
      "overflow_y": null,
      "padding": null,
      "right": null,
      "top": null,
      "visibility": null,
      "width": null
     }
    },
    "c0dc0f335f92419bbfd3c764acdb6a4f": {
     "model_module": "@jupyter-widgets/controls",
     "model_module_version": "1.5.0",
     "model_name": "HTMLModel",
     "state": {
      "_dom_classes": [],
      "_model_module": "@jupyter-widgets/controls",
      "_model_module_version": "1.5.0",
      "_model_name": "HTMLModel",
      "_view_count": null,
      "_view_module": "@jupyter-widgets/controls",
      "_view_module_version": "1.5.0",
      "_view_name": "HTMLView",
      "description": "",
      "description_tooltip": null,
      "layout": "IPY_MODEL_6ba7fb3b303745f1b1aab365b3f67e80",
      "placeholder": "​",
      "style": "IPY_MODEL_917afe2eb2604c6cad7b1242330fe6c8",
      "value": "Dl Size...: "
     }
    },
    "c7c7b497f37c413584466515abf8256a": {
     "model_module": "@jupyter-widgets/base",
     "model_module_version": "1.2.0",
     "model_name": "LayoutModel",
     "state": {
      "_model_module": "@jupyter-widgets/base",
      "_model_module_version": "1.2.0",
      "_model_name": "LayoutModel",
      "_view_count": null,
      "_view_module": "@jupyter-widgets/base",
      "_view_module_version": "1.2.0",
      "_view_name": "LayoutView",
      "align_content": null,
      "align_items": null,
      "align_self": null,
      "border": null,
      "bottom": null,
      "display": null,
      "flex": null,
      "flex_flow": null,
      "grid_area": null,
      "grid_auto_columns": null,
      "grid_auto_flow": null,
      "grid_auto_rows": null,
      "grid_column": null,
      "grid_gap": null,
      "grid_row": null,
      "grid_template_areas": null,
      "grid_template_columns": null,
      "grid_template_rows": null,
      "height": null,
      "justify_content": null,
      "justify_items": null,
      "left": null,
      "margin": null,
      "max_height": null,
      "max_width": null,
      "min_height": null,
      "min_width": null,
      "object_fit": null,
      "object_position": null,
      "order": null,
      "overflow": null,
      "overflow_x": null,
      "overflow_y": null,
      "padding": null,
      "right": null,
      "top": null,
      "visibility": null,
      "width": null
     }
    },
    "cb33219eefc8419eb4bdfb13072846db": {
     "model_module": "@jupyter-widgets/controls",
     "model_module_version": "1.5.0",
     "model_name": "HTMLModel",
     "state": {
      "_dom_classes": [],
      "_model_module": "@jupyter-widgets/controls",
      "_model_module_version": "1.5.0",
      "_model_name": "HTMLModel",
      "_view_count": null,
      "_view_module": "@jupyter-widgets/controls",
      "_view_module_version": "1.5.0",
      "_view_name": "HTMLView",
      "description": "",
      "description_tooltip": null,
      "layout": "IPY_MODEL_c7c7b497f37c413584466515abf8256a",
      "placeholder": "​",
      "style": "IPY_MODEL_a6f286f8b98c407d959e05dd9614b037",
      "value": " 0/0 [00:00&lt;?, ? MiB/s]"
     }
    },
    "d0520f3a1c3f466d93a14cae4a0fc6ee": {
     "model_module": "@jupyter-widgets/controls",
     "model_module_version": "1.5.0",
     "model_name": "DescriptionStyleModel",
     "state": {
      "_model_module": "@jupyter-widgets/controls",
      "_model_module_version": "1.5.0",
      "_model_name": "DescriptionStyleModel",
      "_view_count": null,
      "_view_module": "@jupyter-widgets/base",
      "_view_module_version": "1.2.0",
      "_view_name": "StyleView",
      "description_width": ""
     }
    },
    "d06df7bed1fc4852bdd1ac162abb06cd": {
     "model_module": "@jupyter-widgets/base",
     "model_module_version": "1.2.0",
     "model_name": "LayoutModel",
     "state": {
      "_model_module": "@jupyter-widgets/base",
      "_model_module_version": "1.2.0",
      "_model_name": "LayoutModel",
      "_view_count": null,
      "_view_module": "@jupyter-widgets/base",
      "_view_module_version": "1.2.0",
      "_view_name": "LayoutView",
      "align_content": null,
      "align_items": null,
      "align_self": null,
      "border": null,
      "bottom": null,
      "display": null,
      "flex": null,
      "flex_flow": null,
      "grid_area": null,
      "grid_auto_columns": null,
      "grid_auto_flow": null,
      "grid_auto_rows": null,
      "grid_column": null,
      "grid_gap": null,
      "grid_row": null,
      "grid_template_areas": null,
      "grid_template_columns": null,
      "grid_template_rows": null,
      "height": null,
      "justify_content": null,
      "justify_items": null,
      "left": null,
      "margin": null,
      "max_height": null,
      "max_width": null,
      "min_height": null,
      "min_width": null,
      "object_fit": null,
      "object_position": null,
      "order": null,
      "overflow": null,
      "overflow_x": null,
      "overflow_y": null,
      "padding": null,
      "right": null,
      "top": null,
      "visibility": null,
      "width": null
     }
    },
    "d275a96685cd414a890da335b5a381a7": {
     "model_module": "@jupyter-widgets/base",
     "model_module_version": "1.2.0",
     "model_name": "LayoutModel",
     "state": {
      "_model_module": "@jupyter-widgets/base",
      "_model_module_version": "1.2.0",
      "_model_name": "LayoutModel",
      "_view_count": null,
      "_view_module": "@jupyter-widgets/base",
      "_view_module_version": "1.2.0",
      "_view_name": "LayoutView",
      "align_content": null,
      "align_items": null,
      "align_self": null,
      "border": null,
      "bottom": null,
      "display": null,
      "flex": null,
      "flex_flow": null,
      "grid_area": null,
      "grid_auto_columns": null,
      "grid_auto_flow": null,
      "grid_auto_rows": null,
      "grid_column": null,
      "grid_gap": null,
      "grid_row": null,
      "grid_template_areas": null,
      "grid_template_columns": null,
      "grid_template_rows": null,
      "height": null,
      "justify_content": null,
      "justify_items": null,
      "left": null,
      "margin": null,
      "max_height": null,
      "max_width": null,
      "min_height": null,
      "min_width": null,
      "object_fit": null,
      "object_position": null,
      "order": null,
      "overflow": null,
      "overflow_x": null,
      "overflow_y": null,
      "padding": null,
      "right": null,
      "top": null,
      "visibility": null,
      "width": null
     }
    },
    "d61f42455d9a4c57be0b70f51a3ee939": {
     "model_module": "@jupyter-widgets/controls",
     "model_module_version": "1.5.0",
     "model_name": "HBoxModel",
     "state": {
      "_dom_classes": [],
      "_model_module": "@jupyter-widgets/controls",
      "_model_module_version": "1.5.0",
      "_model_name": "HBoxModel",
      "_view_count": null,
      "_view_module": "@jupyter-widgets/controls",
      "_view_module_version": "1.5.0",
      "_view_name": "HBoxView",
      "box_style": "",
      "children": [
       "IPY_MODEL_4729bea47d57447998eeb5d3cc3c2b31",
       "IPY_MODEL_92dd70ad6bd14dbfa2b7daf1a640152b",
       "IPY_MODEL_5e5ef201f2c04f6e985d0c949c30ab35"
      ],
      "layout": "IPY_MODEL_b5b128cad172443695f31d90a7e9c6cd"
     }
    },
    "e2dca32a1a844240bcfb43359edbde05": {
     "model_module": "@jupyter-widgets/controls",
     "model_module_version": "1.5.0",
     "model_name": "DescriptionStyleModel",
     "state": {
      "_model_module": "@jupyter-widgets/controls",
      "_model_module_version": "1.5.0",
      "_model_name": "DescriptionStyleModel",
      "_view_count": null,
      "_view_module": "@jupyter-widgets/base",
      "_view_module_version": "1.2.0",
      "_view_name": "StyleView",
      "description_width": ""
     }
    },
    "e5dd0cc39b7b4a05955fdcb97b485bdc": {
     "model_module": "@jupyter-widgets/controls",
     "model_module_version": "1.5.0",
     "model_name": "DescriptionStyleModel",
     "state": {
      "_model_module": "@jupyter-widgets/controls",
      "_model_module_version": "1.5.0",
      "_model_name": "DescriptionStyleModel",
      "_view_count": null,
      "_view_module": "@jupyter-widgets/base",
      "_view_module_version": "1.2.0",
      "_view_name": "StyleView",
      "description_width": ""
     }
    },
    "ee78befcc0f14f3db92c16d5e7399259": {
     "model_module": "@jupyter-widgets/controls",
     "model_module_version": "1.5.0",
     "model_name": "ProgressStyleModel",
     "state": {
      "_model_module": "@jupyter-widgets/controls",
      "_model_module_version": "1.5.0",
      "_model_name": "ProgressStyleModel",
      "_view_count": null,
      "_view_module": "@jupyter-widgets/base",
      "_view_module_version": "1.2.0",
      "_view_name": "StyleView",
      "bar_color": null,
      "description_width": ""
     }
    },
    "f635d98883d445ec94e76f73c4945f17": {
     "model_module": "@jupyter-widgets/base",
     "model_module_version": "1.2.0",
     "model_name": "LayoutModel",
     "state": {
      "_model_module": "@jupyter-widgets/base",
      "_model_module_version": "1.2.0",
      "_model_name": "LayoutModel",
      "_view_count": null,
      "_view_module": "@jupyter-widgets/base",
      "_view_module_version": "1.2.0",
      "_view_name": "LayoutView",
      "align_content": null,
      "align_items": null,
      "align_self": null,
      "border": null,
      "bottom": null,
      "display": null,
      "flex": null,
      "flex_flow": null,
      "grid_area": null,
      "grid_auto_columns": null,
      "grid_auto_flow": null,
      "grid_auto_rows": null,
      "grid_column": null,
      "grid_gap": null,
      "grid_row": null,
      "grid_template_areas": null,
      "grid_template_columns": null,
      "grid_template_rows": null,
      "height": null,
      "justify_content": null,
      "justify_items": null,
      "left": null,
      "margin": null,
      "max_height": null,
      "max_width": null,
      "min_height": null,
      "min_width": null,
      "object_fit": null,
      "object_position": null,
      "order": null,
      "overflow": null,
      "overflow_x": null,
      "overflow_y": null,
      "padding": null,
      "right": null,
      "top": null,
      "visibility": null,
      "width": "20px"
     }
    },
    "fb0c73045edc496bb49d2459c5259a0d": {
     "model_module": "@jupyter-widgets/controls",
     "model_module_version": "1.5.0",
     "model_name": "HTMLModel",
     "state": {
      "_dom_classes": [],
      "_model_module": "@jupyter-widgets/controls",
      "_model_module_version": "1.5.0",
      "_model_name": "HTMLModel",
      "_view_count": null,
      "_view_module": "@jupyter-widgets/controls",
      "_view_module_version": "1.5.0",
      "_view_name": "HTMLView",
      "description": "",
      "description_tooltip": null,
      "layout": "IPY_MODEL_5400c3877fea4454a05654faf49758de",
      "placeholder": "​",
      "style": "IPY_MODEL_e5dd0cc39b7b4a05955fdcb97b485bdc",
      "value": ""
     }
    },
    "fecfc277936d4032af4ce278c8fb3058": {
     "model_module": "@jupyter-widgets/base",
     "model_module_version": "1.2.0",
     "model_name": "LayoutModel",
     "state": {
      "_model_module": "@jupyter-widgets/base",
      "_model_module_version": "1.2.0",
      "_model_name": "LayoutModel",
      "_view_count": null,
      "_view_module": "@jupyter-widgets/base",
      "_view_module_version": "1.2.0",
      "_view_name": "LayoutView",
      "align_content": null,
      "align_items": null,
      "align_self": null,
      "border": null,
      "bottom": null,
      "display": null,
      "flex": null,
      "flex_flow": null,
      "grid_area": null,
      "grid_auto_columns": null,
      "grid_auto_flow": null,
      "grid_auto_rows": null,
      "grid_column": null,
      "grid_gap": null,
      "grid_row": null,
      "grid_template_areas": null,
      "grid_template_columns": null,
      "grid_template_rows": null,
      "height": null,
      "justify_content": null,
      "justify_items": null,
      "left": null,
      "margin": null,
      "max_height": null,
      "max_width": null,
      "min_height": null,
      "min_width": null,
      "object_fit": null,
      "object_position": null,
      "order": null,
      "overflow": null,
      "overflow_x": null,
      "overflow_y": null,
      "padding": null,
      "right": null,
      "top": null,
      "visibility": null,
      "width": null
     }
    },
    "ff2fef020c4440c9ae08b596717ffdb5": {
     "model_module": "@jupyter-widgets/controls",
     "model_module_version": "1.5.0",
     "model_name": "HBoxModel",
     "state": {
      "_dom_classes": [],
      "_model_module": "@jupyter-widgets/controls",
      "_model_module_version": "1.5.0",
      "_model_name": "HBoxModel",
      "_view_count": null,
      "_view_module": "@jupyter-widgets/controls",
      "_view_module_version": "1.5.0",
      "_view_name": "HBoxView",
      "box_style": "",
      "children": [
       "IPY_MODEL_fb0c73045edc496bb49d2459c5259a0d",
       "IPY_MODEL_46a54e98714b44f9aa148157743d2f14",
       "IPY_MODEL_9eda2deaf4ce46398605403010be8d1d"
      ],
      "layout": "IPY_MODEL_bea853a7a7e543b0a1edd2fcffac9be8"
     }
    }
   }
  }
 },
 "nbformat": 4,
 "nbformat_minor": 1
}
